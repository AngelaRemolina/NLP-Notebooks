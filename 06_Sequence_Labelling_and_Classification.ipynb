{
  "cells": [
    {
      "cell_type": "markdown",
      "metadata": {
        "id": "view-in-github",
        "colab_type": "text"
      },
      "source": [
        "<a href=\"https://colab.research.google.com/github/AngelaRemolina/NLP-Notebooks/blob/main/06_Sequence_Labelling_and_Classification.ipynb\" target=\"_parent\"><img src=\"https://colab.research.google.com/assets/colab-badge.svg\" alt=\"Open In Colab\"/></a>"
      ]
    },
    {
      "cell_type": "markdown",
      "metadata": {
        "id": "giKsby3Lpdlp"
      },
      "source": [
        "# Sequence Labelling and Classification\n",
        "\n",
        "In this session we will train a Text classifier that makes use of a Bidirectional LSTM (Long Short-term Memory) model.\n",
        "\n",
        "In the second part of the tutorial we will first investigate Part-of-Speech (POS) tagging and Named-entity recognition (NER).\n",
        "- For this we will make use of the spaCy natural langauge processing API: https://spacy.io/\n",
        "- spaCy is an opensource API that provides state-of-the-art performance on sequence labeling tasks such as POS tagging and NER.\n",
        "- Parts of this tutorial are based on code from: https://towardsdatascience.com/named-entity-recognition-with-nltk-and-spacy-8c4a7d88e7da\n"
      ]
    },
    {
      "cell_type": "markdown",
      "metadata": {
        "id": "j-e-NrYniXXe"
      },
      "source": [
        "**Optional for Colab users**\n",
        "\n",
        "Before starting, we can set up the connection with the Google Dive storage, to keep there our documents.\n",
        "Just execute the following passages:"
      ]
    },
    {
      "cell_type": "code",
      "execution_count": 1,
      "metadata": {
        "colab": {
          "base_uri": "https://localhost:8080/"
        },
        "id": "wBP28rJ0iXXf",
        "outputId": "dfa728fb-9fdc-402d-acdd-59c77b922aee"
      },
      "outputs": [
        {
          "output_type": "stream",
          "name": "stdout",
          "text": [
            "Mounted at /content/drive\n"
          ]
        }
      ],
      "source": [
        "from google.colab import drive\n",
        "drive.mount('/content/drive')"
      ]
    },
    {
      "cell_type": "markdown",
      "metadata": {
        "id": "tgBRWjnPiXXh"
      },
      "source": [
        "Make sure that the variable path contains the correct sequence of folders separate by a `'/'` to get to your lecture files"
      ]
    },
    {
      "cell_type": "code",
      "execution_count": 2,
      "metadata": {
        "colab": {
          "base_uri": "https://localhost:8080/",
          "height": 35
        },
        "id": "AJ2TAJjtiXXi",
        "outputId": "65f974a0-c702-43c2-b0d4-99aadbb37ae5"
      },
      "outputs": [
        {
          "output_type": "execute_result",
          "data": {
            "text/plain": [
              "'/content/drive/MyDrive/Colab Notebooks/NLP/Practical_06'"
            ],
            "application/vnd.google.colaboratory.intrinsic+json": {
              "type": "string"
            }
          },
          "metadata": {},
          "execution_count": 2
        }
      ],
      "source": [
        "import os\n",
        "\n",
        "path = 'Colab Notebooks/NLP/Practical_06'\n",
        "\n",
        "os.chdir(f'/content/drive/MyDrive/{path}')\n",
        "os.getcwd()"
      ]
    },
    {
      "cell_type": "markdown",
      "metadata": {
        "id": "EbvCOIq0iXXi"
      },
      "source": [
        "## Sequence labelling with embeddings and a Recurrent Neural Network\n",
        "\n",
        "In this section of the notebook I will run through an example of using LSTM (Long Short-term Memory) network for text sequence labelling.\n",
        "We can train our own model for POS-tagging or NER.\n",
        "Moreover, we can use pre-trained embedding models to encode the input text.\n",
        "\n",
        "- We are going to use PyTorch (https://pytorch.org) to build and train our model. Pytorch is a state-of-the-art framework for deep leaning."
      ]
    },
    {
      "cell_type": "markdown",
      "metadata": {
        "id": "Dyh38QJ5iXXi"
      },
      "source": [
        "### Data preparation\n",
        "\n",
        "As usula we start from data preparation.\n",
        "We can use the [CoNLL 2003](https://www.clips.uantwerpen.be/conll2003/ner/) corpus, which provides corpora for POS-tagging, Chunking and NER in English and German.\n",
        "Today we are going to focus on NER in English.\n",
        "\n",
        "You can find a copy the English split in the `docs/` directory.\n",
        "Usually the corpus should require preprocessing the data, here I am providing you with a version from Kaggle where documents have already been tagged (source: https://www.kaggle.com/datasets/alaakhaled/conll003-englishversion?resource=download)\n",
        "\n",
        "Let's start by loading the three files (train/validation/test) in memory and reading all of them."
      ]
    },
    {
      "cell_type": "code",
      "execution_count": 3,
      "metadata": {
        "colab": {
          "base_uri": "https://localhost:8080/"
        },
        "id": "Ygj3w81LiXXj",
        "outputId": "8078b8b5-ead3-4e6b-82e3-b27d8789ba7e"
      },
      "outputs": [
        {
          "output_type": "stream",
          "name": "stdout",
          "text": [
            "-DOCSTART- -X- -X- O\n",
            "\n",
            "EU NNP B-NP B-ORG\n",
            "rejects VBZ B-VP O\n",
            "German JJ B-NP B-MISC\n",
            "call NN I-NP O\n",
            "to TO B-VP O\n",
            "boycott VB I-VP O\n",
            "British JJ B-NP B-MISC\n",
            "lamb NN I-NP O\n",
            ". . O O\n",
            "\n",
            "Peter NNP B-NP B-PER\n",
            "Blackburn NNP I-NP I-PER\n",
            "\n",
            "BRUSSELS NNP B-NP B-LOC\n",
            "1996-08-22 CD I-NP O\n",
            "\n",
            "The DT B-NP O\n",
            "European NNP I-NP B-ORG\n",
            "Commission NNP I-NP I-ORG\n",
            "said VBD B-VP O\n",
            "on IN B-PP O\n",
            "Thursday NNP B-NP O\n",
            "it PRP B-NP O\n",
            "disagreed VBD B-VP O\n",
            "with IN B-PP O\n",
            "German JJ B-NP B-MISC\n",
            "advice NN I-NP O\n",
            "to TO B-PP O\n",
            "consumers NNS B-NP\n"
          ]
        }
      ],
      "source": [
        "raw_data = dict()\n",
        "\n",
        "for split in ['train', 'valid', 'test']:\n",
        "    with open(f'docs/CoNLL - 2003/{split}.txt') as f:\n",
        "        raw_data[split] = f.read().strip()\n",
        "\n",
        "print(raw_data['train'][:500])"
      ]
    },
    {
      "cell_type": "markdown",
      "metadata": {
        "id": "1GJogcIJiXXk"
      },
      "source": [
        "Now we can parse the data.\n",
        "Documents inside each split are separated by the sequence `-DOCSTART- -X- -X- O`.\n",
        "Sentences inside each document are separated by the sequence`\\n\\n` (two new-line characters).\n",
        "Each line inside a sentence represnets a token followed by the POS tag, the CHUNK tag and the NER tag, all separaated by spaces.\n",
        "\n",
        "Here NER tags are written using a system called BIO-tagging.\n",
        "The 'B' stands for \"begin\" and introduces (starts) a new named entity, the tags are written as \"B-PER\" to indicate a person or \"B-LOC\" to indicate a location and so on.\n",
        "The 'I' stands for \"inside\" and continues a started named entity, the tags are written as \"I-PER\" to indicate a person or \"I-LOC\" to indicate a location and so on.\n",
        "The 'O' stands for outside, it means that the token is outside any named entity.\n",
        "There are other tagging systems.  "
      ]
    },
    {
      "cell_type": "code",
      "execution_count": 4,
      "metadata": {
        "id": "-bQDnO1diXXl"
      },
      "outputs": [],
      "source": [
        "keys = ['text', 'pos_tag', 'chunk_tag', 'ner_tag']\n",
        "\n",
        "data = dict()\n",
        "\n",
        "for split in raw_data:\n",
        "    data[split] = list()\n",
        "    for doc in raw_data[split].split('-DOCSTART- -X- -X- O')[1:]:\n",
        "        for sentence in doc.strip().split('\\n\\n'):\n",
        "            data[split].append(list())\n",
        "            for elem in sentence.split('\\n'):\n",
        "                data[split][-1].append(dict(zip(keys, elem.split())))"
      ]
    },
    {
      "cell_type": "code",
      "execution_count": 5,
      "metadata": {
        "colab": {
          "base_uri": "https://localhost:8080/"
        },
        "id": "nMD2IrmaiXXl",
        "outputId": "01d31f96-ea94-4f6d-d2fd-e5eba4d55523"
      },
      "outputs": [
        {
          "output_type": "execute_result",
          "data": {
            "text/plain": [
              "[{'text': 'EU', 'pos_tag': 'NNP', 'chunk_tag': 'B-NP', 'ner_tag': 'B-ORG'},\n",
              " {'text': 'rejects', 'pos_tag': 'VBZ', 'chunk_tag': 'B-VP', 'ner_tag': 'O'},\n",
              " {'text': 'German', 'pos_tag': 'JJ', 'chunk_tag': 'B-NP', 'ner_tag': 'B-MISC'},\n",
              " {'text': 'call', 'pos_tag': 'NN', 'chunk_tag': 'I-NP', 'ner_tag': 'O'},\n",
              " {'text': 'to', 'pos_tag': 'TO', 'chunk_tag': 'B-VP', 'ner_tag': 'O'},\n",
              " {'text': 'boycott', 'pos_tag': 'VB', 'chunk_tag': 'I-VP', 'ner_tag': 'O'},\n",
              " {'text': 'British',\n",
              "  'pos_tag': 'JJ',\n",
              "  'chunk_tag': 'B-NP',\n",
              "  'ner_tag': 'B-MISC'},\n",
              " {'text': 'lamb', 'pos_tag': 'NN', 'chunk_tag': 'I-NP', 'ner_tag': 'O'},\n",
              " {'text': '.', 'pos_tag': '.', 'chunk_tag': 'O', 'ner_tag': 'O'}]"
            ]
          },
          "metadata": {},
          "execution_count": 5
        }
      ],
      "source": [
        "data['train'][0]"
      ]
    },
    {
      "cell_type": "markdown",
      "metadata": {
        "id": "ArD_N4wOiXXm"
      },
      "source": [
        "Now all the labels are properly organised"
      ]
    },
    {
      "cell_type": "markdown",
      "metadata": {
        "id": "SjfmLnhNiXXn"
      },
      "source": [
        "At this point we need a system ti encode and decode the labels into categorical entities.\n",
        "We can use the label encoder from Scikit-Learn for that (https://scikit-learn.org/stable/modules/generated/sklearn.preprocessing.LabelEncoder.html)."
      ]
    },
    {
      "cell_type": "code",
      "execution_count": 6,
      "metadata": {
        "id": "RVnlwmaviXXn"
      },
      "outputs": [],
      "source": [
        "from sklearn.preprocessing import LabelEncoder\n",
        "\n",
        "pos_le = LabelEncoder().fit([token['pos_tag'] for split in data.values() for sentence in split for token in sentence])\n",
        "chunk_le = LabelEncoder().fit([token['chunk_tag'] for split in data.values() for sentence in split for token in sentence])\n",
        "ner_le = LabelEncoder().fit([token['ner_tag'] for split in data.values() for sentence in split for token in sentence])"
      ]
    },
    {
      "cell_type": "markdown",
      "metadata": {
        "id": "3FMgeeuPiXXo"
      },
      "source": [
        "Now we have a module mapping from tags to IDs and vice-versa"
      ]
    },
    {
      "cell_type": "code",
      "execution_count": 33,
      "metadata": {
        "colab": {
          "base_uri": "https://localhost:8080/"
        },
        "id": "zyBlslaiiXXp",
        "outputId": "a358ad21-911d-4159-fa6c-efc0d9802828"
      },
      "outputs": [
        {
          "output_type": "execute_result",
          "data": {
            "text/plain": [
              "array([7])"
            ]
          },
          "metadata": {},
          "execution_count": 33
        }
      ],
      "source": [
        "ner_tag = ['I-PER']\n",
        "# ner_tag = ['I-LOC']\n",
        "# ner_tag = ['B-PER']\n",
        "# ner_tag = ['O']\n",
        "\n",
        "ner_le.transform(ner_tag)"
      ]
    },
    {
      "cell_type": "code",
      "execution_count": 35,
      "metadata": {
        "colab": {
          "base_uri": "https://localhost:8080/"
        },
        "id": "bnEhkyACiXXp",
        "outputId": "2e00ef5b-be37-473e-e2e1-3acfd7a62e8f"
      },
      "outputs": [
        {
          "output_type": "execute_result",
          "data": {
            "text/plain": [
              "array(['I-PER'], dtype='<U6')"
            ]
          },
          "metadata": {},
          "execution_count": 35
        }
      ],
      "source": [
        "ner_tag_id = [7]\n",
        "\n",
        "ner_le.inverse_transform(ner_tag_id)"
      ]
    },
    {
      "cell_type": "markdown",
      "metadata": {
        "id": "Z3b_OcGZiXXq"
      },
      "source": [
        "How many NER tags do we have?"
      ]
    },
    {
      "cell_type": "code",
      "execution_count": 9,
      "metadata": {
        "colab": {
          "base_uri": "https://localhost:8080/"
        },
        "id": "PMH1CWC1iXXq",
        "outputId": "15c0ed73-962b-4ba4-e406-caab55707fc7"
      },
      "outputs": [
        {
          "output_type": "execute_result",
          "data": {
            "text/plain": [
              "9"
            ]
          },
          "metadata": {},
          "execution_count": 9
        }
      ],
      "source": [
        "len(ner_le.classes_)"
      ]
    },
    {
      "cell_type": "markdown",
      "metadata": {
        "id": "MG4kQ0_fiXXr"
      },
      "source": [
        "Which are those tags?"
      ]
    },
    {
      "cell_type": "code",
      "execution_count": 10,
      "metadata": {
        "colab": {
          "base_uri": "https://localhost:8080/"
        },
        "id": "cP8PolL_iXXr",
        "outputId": "78182520-1da0-4916-897c-1ae8fc3c589e"
      },
      "outputs": [
        {
          "output_type": "execute_result",
          "data": {
            "text/plain": [
              "array(['B-LOC', 'B-MISC', 'B-ORG', 'B-PER', 'I-LOC', 'I-MISC', 'I-ORG',\n",
              "       'I-PER', 'O'], dtype='<U6')"
            ]
          },
          "metadata": {},
          "execution_count": 10
        }
      ],
      "source": [
        "ner_le.classes_"
      ]
    },
    {
      "cell_type": "markdown",
      "metadata": {
        "id": "K9M9yFKviXXr"
      },
      "source": [
        "Collect the same info for POS tags"
      ]
    },
    {
      "cell_type": "code",
      "execution_count": 11,
      "metadata": {
        "colab": {
          "base_uri": "https://localhost:8080/"
        },
        "id": "maQ6PBwniXXs",
        "outputId": "eee6778c-741c-4734-e6b0-e16252d672bb"
      },
      "outputs": [
        {
          "output_type": "execute_result",
          "data": {
            "text/plain": [
              "array(['\"', '$', \"''\", '(', ')', ',', '.', ':', 'CC', 'CD', 'DT', 'EX',\n",
              "       'FW', 'IN', 'JJ', 'JJR', 'JJS', 'LS', 'MD', 'NN', 'NNP', 'NNPS',\n",
              "       'NNS', 'NN|SYM', 'PDT', 'POS', 'PRP', 'PRP$', 'RB', 'RBR', 'RBS',\n",
              "       'RP', 'SYM', 'TO', 'UH', 'VB', 'VBD', 'VBG', 'VBN', 'VBP', 'VBZ',\n",
              "       'WDT', 'WP', 'WP$', 'WRB'], dtype='<U6')"
            ]
          },
          "metadata": {},
          "execution_count": 11
        }
      ],
      "source": [
        "pos_le.classes_"
      ]
    },
    {
      "cell_type": "code",
      "source": [
        "chunk_le.classes_"
      ],
      "metadata": {
        "colab": {
          "base_uri": "https://localhost:8080/"
        },
        "id": "JbCJ6lcgrkKd",
        "outputId": "31cfc818-5d61-49fd-d86c-5050d94b55e9"
      },
      "execution_count": 12,
      "outputs": [
        {
          "output_type": "execute_result",
          "data": {
            "text/plain": [
              "array(['B-ADJP', 'B-ADVP', 'B-CONJP', 'B-INTJ', 'B-LST', 'B-NP', 'B-PP',\n",
              "       'B-PRT', 'B-SBAR', 'B-VP', 'I-ADJP', 'I-ADVP', 'I-CONJP', 'I-INTJ',\n",
              "       'I-LST', 'I-NP', 'I-PP', 'I-PRT', 'I-SBAR', 'I-VP', 'O'],\n",
              "      dtype='<U7')"
            ]
          },
          "metadata": {},
          "execution_count": 12
        }
      ]
    },
    {
      "cell_type": "markdown",
      "metadata": {
        "id": "LSevZ8PNiXX7"
      },
      "source": [
        "Finally we separate our train-validation-test splits"
      ]
    },
    {
      "cell_type": "code",
      "execution_count": 13,
      "metadata": {
        "id": "bBua7PzWiXX8"
      },
      "outputs": [],
      "source": [
        "train_data, valid_data, test_data = data.values()"
      ]
    },
    {
      "cell_type": "markdown",
      "metadata": {
        "id": "LMT4pJbqiXX8"
      },
      "source": [
        "### Defining and training the RNN model for NER"
      ]
    },
    {
      "cell_type": "markdown",
      "metadata": {
        "id": "ItWqpvybiXX8"
      },
      "source": [
        "We start by installing PyTorch and importing the required modules"
      ]
    },
    {
      "cell_type": "code",
      "execution_count": 14,
      "metadata": {
        "scrolled": true,
        "colab": {
          "base_uri": "https://localhost:8080/"
        },
        "id": "kgeMMwEsiXX9",
        "outputId": "a1a499ea-fa18-44f6-cc04-e5cbb64cd5b8"
      },
      "outputs": [
        {
          "output_type": "stream",
          "name": "stdout",
          "text": [
            "Requirement already satisfied: torch in /usr/local/lib/python3.10/dist-packages (2.2.1+cu121)\n",
            "Requirement already satisfied: gensim in /usr/local/lib/python3.10/dist-packages (4.3.2)\n",
            "Requirement already satisfied: filelock in /usr/local/lib/python3.10/dist-packages (from torch) (3.13.4)\n",
            "Requirement already satisfied: typing-extensions>=4.8.0 in /usr/local/lib/python3.10/dist-packages (from torch) (4.11.0)\n",
            "Requirement already satisfied: sympy in /usr/local/lib/python3.10/dist-packages (from torch) (1.12)\n",
            "Requirement already satisfied: networkx in /usr/local/lib/python3.10/dist-packages (from torch) (3.3)\n",
            "Requirement already satisfied: jinja2 in /usr/local/lib/python3.10/dist-packages (from torch) (3.1.3)\n",
            "Requirement already satisfied: fsspec in /usr/local/lib/python3.10/dist-packages (from torch) (2023.6.0)\n",
            "Collecting nvidia-cuda-nvrtc-cu12==12.1.105 (from torch)\n",
            "  Using cached nvidia_cuda_nvrtc_cu12-12.1.105-py3-none-manylinux1_x86_64.whl (23.7 MB)\n",
            "Collecting nvidia-cuda-runtime-cu12==12.1.105 (from torch)\n",
            "  Using cached nvidia_cuda_runtime_cu12-12.1.105-py3-none-manylinux1_x86_64.whl (823 kB)\n",
            "Collecting nvidia-cuda-cupti-cu12==12.1.105 (from torch)\n",
            "  Using cached nvidia_cuda_cupti_cu12-12.1.105-py3-none-manylinux1_x86_64.whl (14.1 MB)\n",
            "Collecting nvidia-cudnn-cu12==8.9.2.26 (from torch)\n",
            "  Using cached nvidia_cudnn_cu12-8.9.2.26-py3-none-manylinux1_x86_64.whl (731.7 MB)\n",
            "Collecting nvidia-cublas-cu12==12.1.3.1 (from torch)\n",
            "  Using cached nvidia_cublas_cu12-12.1.3.1-py3-none-manylinux1_x86_64.whl (410.6 MB)\n",
            "Collecting nvidia-cufft-cu12==11.0.2.54 (from torch)\n",
            "  Using cached nvidia_cufft_cu12-11.0.2.54-py3-none-manylinux1_x86_64.whl (121.6 MB)\n",
            "Collecting nvidia-curand-cu12==10.3.2.106 (from torch)\n",
            "  Using cached nvidia_curand_cu12-10.3.2.106-py3-none-manylinux1_x86_64.whl (56.5 MB)\n",
            "Collecting nvidia-cusolver-cu12==11.4.5.107 (from torch)\n",
            "  Using cached nvidia_cusolver_cu12-11.4.5.107-py3-none-manylinux1_x86_64.whl (124.2 MB)\n",
            "Collecting nvidia-cusparse-cu12==12.1.0.106 (from torch)\n",
            "  Using cached nvidia_cusparse_cu12-12.1.0.106-py3-none-manylinux1_x86_64.whl (196.0 MB)\n",
            "Collecting nvidia-nccl-cu12==2.19.3 (from torch)\n",
            "  Using cached nvidia_nccl_cu12-2.19.3-py3-none-manylinux1_x86_64.whl (166.0 MB)\n",
            "Collecting nvidia-nvtx-cu12==12.1.105 (from torch)\n",
            "  Using cached nvidia_nvtx_cu12-12.1.105-py3-none-manylinux1_x86_64.whl (99 kB)\n",
            "Requirement already satisfied: triton==2.2.0 in /usr/local/lib/python3.10/dist-packages (from torch) (2.2.0)\n",
            "Collecting nvidia-nvjitlink-cu12 (from nvidia-cusolver-cu12==11.4.5.107->torch)\n",
            "  Using cached nvidia_nvjitlink_cu12-12.4.127-py3-none-manylinux2014_x86_64.whl (21.1 MB)\n",
            "Requirement already satisfied: numpy>=1.18.5 in /usr/local/lib/python3.10/dist-packages (from gensim) (1.25.2)\n",
            "Requirement already satisfied: scipy>=1.7.0 in /usr/local/lib/python3.10/dist-packages (from gensim) (1.11.4)\n",
            "Requirement already satisfied: smart-open>=1.8.1 in /usr/local/lib/python3.10/dist-packages (from gensim) (6.4.0)\n",
            "Requirement already satisfied: MarkupSafe>=2.0 in /usr/local/lib/python3.10/dist-packages (from jinja2->torch) (2.1.5)\n",
            "Requirement already satisfied: mpmath>=0.19 in /usr/local/lib/python3.10/dist-packages (from sympy->torch) (1.3.0)\n",
            "Installing collected packages: nvidia-nvtx-cu12, nvidia-nvjitlink-cu12, nvidia-nccl-cu12, nvidia-curand-cu12, nvidia-cufft-cu12, nvidia-cuda-runtime-cu12, nvidia-cuda-nvrtc-cu12, nvidia-cuda-cupti-cu12, nvidia-cublas-cu12, nvidia-cusparse-cu12, nvidia-cudnn-cu12, nvidia-cusolver-cu12\n",
            "Successfully installed nvidia-cublas-cu12-12.1.3.1 nvidia-cuda-cupti-cu12-12.1.105 nvidia-cuda-nvrtc-cu12-12.1.105 nvidia-cuda-runtime-cu12-12.1.105 nvidia-cudnn-cu12-8.9.2.26 nvidia-cufft-cu12-11.0.2.54 nvidia-curand-cu12-10.3.2.106 nvidia-cusolver-cu12-11.4.5.107 nvidia-cusparse-cu12-12.1.0.106 nvidia-nccl-cu12-2.19.3 nvidia-nvjitlink-cu12-12.4.127 nvidia-nvtx-cu12-12.1.105\n"
          ]
        }
      ],
      "source": [
        "!pip install torch gensim"
      ]
    },
    {
      "cell_type": "code",
      "execution_count": 15,
      "metadata": {
        "id": "cRj3jJiHiXX9"
      },
      "outputs": [],
      "source": [
        "import torch\n",
        "import torch.nn as nn\n",
        "import torch.nn.functional as F"
      ]
    },
    {
      "cell_type": "markdown",
      "metadata": {
        "id": "3sTSzbaZiXX9"
      },
      "source": [
        "The we load the Word Embedding model we want to use. We can re-use the 50 dimensional GloVe emebddings from last time"
      ]
    },
    {
      "cell_type": "code",
      "execution_count": 16,
      "metadata": {
        "colab": {
          "base_uri": "https://localhost:8080/"
        },
        "id": "u9vQ38R2iXX-",
        "outputId": "60dca480-ec56-427b-9738-80dd3ceb5e26"
      },
      "outputs": [
        {
          "output_type": "stream",
          "name": "stdout",
          "text": [
            "[==================================================] 100.0% 376.1/376.1MB downloaded\n"
          ]
        }
      ],
      "source": [
        "import gensim.downloader as api\n",
        "\n",
        "we_model = api.load(\"glove-wiki-gigaword-300\")"
      ]
    },
    {
      "cell_type": "markdown",
      "metadata": {
        "id": "9qRpSbRsiXX-"
      },
      "source": [
        "Before creating the LSTM we decide where to train our model, either cpu or gpu, depending on which is avaialble."
      ]
    },
    {
      "cell_type": "code",
      "execution_count": 17,
      "metadata": {
        "colab": {
          "base_uri": "https://localhost:8080/"
        },
        "id": "UoiMLI3tiXX_",
        "outputId": "674577c6-22ce-420d-800a-6f1af8494b09"
      },
      "outputs": [
        {
          "output_type": "stream",
          "name": "stdout",
          "text": [
            "cuda\n"
          ]
        }
      ],
      "source": [
        "device = torch.device('cuda' if torch.cuda.is_available() else 'cpu')\n",
        "print(device)"
      ]
    },
    {
      "cell_type": "markdown",
      "metadata": {
        "id": "OrNxMr9wiXX_"
      },
      "source": [
        "Now we can create our RNN module.\n",
        "Here are the available modules for PyTorch: https://pytorch.org/docs/stable/nn.html#recurrent-layers\n",
        "\n",
        "We define a custom LSTM using PyTorch API.\n",
        "In our model we stack one or more LSTM layers (we can make it variable) and we put a linear layer (a.k.a. dense layer or fully connected layer on top of it).\n",
        "\n",
        "When you define a neural network in PyTorch you need it to extend the `torch.nn.Module` class and implement the forward method (the one that computes the output)."
      ]
    },
    {
      "cell_type": "code",
      "execution_count": 18,
      "metadata": {
        "id": "C8NaNOKkiXYA"
      },
      "outputs": [],
      "source": [
        "class CustomLSTM(nn.Module):\n",
        "    def __init__(self, input_size, hidden_size, output_size, n_lstm=1):\n",
        "        super().__init__()\n",
        "        # List of LSTM layers\n",
        "        self.lstm = nn.ModuleList([\n",
        "            nn.LSTM(\n",
        "                input_size=input_size if i == 0 else hidden_size,\n",
        "                hidden_size=hidden_size,\n",
        "                batch_first=True,\n",
        "                bidirectional=True,\n",
        "                dropout=0.2\n",
        "            )\n",
        "            for i in range(n_lstm)\n",
        "        ])\n",
        "        # Lat linear projection\n",
        "        self.cls_head = nn.Linear(hidden_size, output_size)\n",
        "\n",
        "    def forward(self, x):\n",
        "        # Run though all the LSTM layers\n",
        "        for lstm_layer in self.lstm:\n",
        "            # Compute new hidden representation\n",
        "            x, _ = lstm_layer(x)\n",
        "            # Average the hidden output from the two directions of the LSTM\n",
        "            x = (x[..., :x.size(-1) // 2] + x[..., x.size(-1) // 2:]) / 2\n",
        "        # Apply last lineat projection\n",
        "        y = self.cls_head(x)\n",
        "\n",
        "        return y"
      ]
    },
    {
      "cell_type": "markdown",
      "metadata": {
        "id": "dr69h-8YiXYA"
      },
      "source": [
        "Let's create an instance of our LSTM"
      ]
    },
    {
      "cell_type": "code",
      "execution_count": 19,
      "metadata": {
        "colab": {
          "base_uri": "https://localhost:8080/"
        },
        "id": "RWxk3k3diXYB",
        "outputId": "d69c468a-fc4b-44a3-869d-82ba0e4cf785"
      },
      "outputs": [
        {
          "output_type": "stream",
          "name": "stderr",
          "text": [
            "/usr/local/lib/python3.10/dist-packages/torch/nn/modules/rnn.py:83: UserWarning: dropout option adds dropout after all but last recurrent layer, so non-zero dropout expects num_layers greater than 1, but got dropout=0.2 and num_layers=1\n",
            "  warnings.warn(\"dropout option adds dropout after all but last \"\n"
          ]
        },
        {
          "output_type": "execute_result",
          "data": {
            "text/plain": [
              "CustomLSTM(\n",
              "  (lstm): ModuleList(\n",
              "    (0-2): 3 x LSTM(300, 300, batch_first=True, dropout=0.2, bidirectional=True)\n",
              "  )\n",
              "  (cls_head): Linear(in_features=300, out_features=9, bias=True)\n",
              ")"
            ]
          },
          "metadata": {},
          "execution_count": 19
        }
      ],
      "source": [
        "lstm = CustomLSTM(300, 300, len(ner_le.classes_), n_lstm=3)\n",
        "lstm"
      ]
    },
    {
      "cell_type": "markdown",
      "metadata": {
        "id": "GDwAGiz7iXYC"
      },
      "source": [
        "Now we can move the LSTM to the target device"
      ]
    },
    {
      "cell_type": "code",
      "execution_count": 20,
      "metadata": {
        "id": "3nHHLNjziXYD"
      },
      "outputs": [],
      "source": [
        "lstm = lstm.to(device)"
      ]
    },
    {
      "cell_type": "markdown",
      "metadata": {
        "id": "8Po0K62JiXYT"
      },
      "source": [
        "Once we have the model we need to create an optimizer that will take care of updating the weights. Here are the available optimizers: https://pytorch.org/docs/stable/optim.html.\n",
        "I'm going to use RMSProp.\n",
        "\n",
        "The optimizer needs to receive the parameters of the neural network and the selected learning rate"
      ]
    },
    {
      "cell_type": "code",
      "execution_count": 21,
      "metadata": {
        "id": "reAwDnUXiXYT"
      },
      "outputs": [],
      "source": [
        "lr = 0.0005\n",
        "optimizer = torch.optim.RMSprop(params=lstm.parameters(), lr=lr)"
      ]
    },
    {
      "cell_type": "markdown",
      "metadata": {
        "id": "Zop1D_CIiXYT"
      },
      "source": [
        "Now we need to prepare our data.\n",
        "Before doing so we prepare a function that maps a mini-batch of samples (i.e., a subset of the lists of dictionaries we prepared) to input tensors to use with our model. The function willl take care of:\n",
        "- Mapping all words to their embeddings with size $d$\n",
        "- Collect the emebddings of the same sentence into a matrix with shape $(n_\\textit{words in sentence}, d)$\n",
        "- Collect the different matrices of the same batch into a single tensor with shape $(n_\\textit{batch elements}, n_\\textit{words in longest sentence}, d)$ (this will be input).\n",
        "- Mapping all the labels to their IDs\n",
        "- Collecting all the IDs of the same sentence into a vector with size $n_\\textit{words in sentence}$\n",
        "- Collecting all the different vectors into a matrix with shape $(n_\\textit{batch elements}, n_\\textit{words in longest sentence})$ (this will be target output).\n",
        "\n",
        "Note that different sentences have different lengths, to cope with this issue we apply a process called padding: we are going to add to the input tensor and the target output matrix  dummy values to have all the same \"sentence length\"."
      ]
    },
    {
      "cell_type": "code",
      "execution_count": 22,
      "metadata": {
        "id": "CRWVhkbgiXYU"
      },
      "outputs": [],
      "source": [
        "import numpy as np\n",
        "\n",
        "def collate(mini_batch):\n",
        "    # Get the length of the longest sentence\n",
        "    longest_len = max(len(sample) for sample in mini_batch)\n",
        "    # Create an input tensor with all zero values\n",
        "    input_embeds = np.zeros((len(mini_batch), longest_len, 300))\n",
        "    # Create a target output matrix with all -100 (PyTorch ignores this value by default)\n",
        "    output_lbl = np.full((len(mini_batch), longest_len), -100)\n",
        "    # Fill the tensor and the matrix\n",
        "    for i, sample in enumerate(mini_batch):\n",
        "        for j, token in enumerate(sample):\n",
        "            # Manage missing tokens in vocabulary\n",
        "            if token['text'].lower() in we_model:\n",
        "                input_embeds[i,j] = we_model[token['text'].lower()]\n",
        "            output_lbl[i,j] = ner_le.transform([token['ner_tag']])[0]\n",
        "    # Convert to PyTorch tensor\n",
        "    input_embeds = torch.tensor(input_embeds, dtype=torch.float)\n",
        "    output_lbl = torch.tensor(output_lbl)\n",
        "\n",
        "    return input_embeds, output_lbl"
      ]
    },
    {
      "cell_type": "markdown",
      "metadata": {
        "id": "AQi_IRiNiXYU"
      },
      "source": [
        "How does an encoded batch looks like? Let's enode the first three sentences"
      ]
    },
    {
      "cell_type": "code",
      "execution_count": 23,
      "metadata": {
        "colab": {
          "base_uri": "https://localhost:8080/"
        },
        "id": "n-NZ1M7uiXYU",
        "outputId": "87ea366e-6c7d-41ad-bd8c-1c1529549e6b"
      },
      "outputs": [
        {
          "output_type": "execute_result",
          "data": {
            "text/plain": [
              "[[{'text': 'EU', 'pos_tag': 'NNP', 'chunk_tag': 'B-NP', 'ner_tag': 'B-ORG'},\n",
              "  {'text': 'rejects', 'pos_tag': 'VBZ', 'chunk_tag': 'B-VP', 'ner_tag': 'O'},\n",
              "  {'text': 'German',\n",
              "   'pos_tag': 'JJ',\n",
              "   'chunk_tag': 'B-NP',\n",
              "   'ner_tag': 'B-MISC'},\n",
              "  {'text': 'call', 'pos_tag': 'NN', 'chunk_tag': 'I-NP', 'ner_tag': 'O'},\n",
              "  {'text': 'to', 'pos_tag': 'TO', 'chunk_tag': 'B-VP', 'ner_tag': 'O'},\n",
              "  {'text': 'boycott', 'pos_tag': 'VB', 'chunk_tag': 'I-VP', 'ner_tag': 'O'},\n",
              "  {'text': 'British',\n",
              "   'pos_tag': 'JJ',\n",
              "   'chunk_tag': 'B-NP',\n",
              "   'ner_tag': 'B-MISC'},\n",
              "  {'text': 'lamb', 'pos_tag': 'NN', 'chunk_tag': 'I-NP', 'ner_tag': 'O'},\n",
              "  {'text': '.', 'pos_tag': '.', 'chunk_tag': 'O', 'ner_tag': 'O'}],\n",
              " [{'text': 'Peter', 'pos_tag': 'NNP', 'chunk_tag': 'B-NP', 'ner_tag': 'B-PER'},\n",
              "  {'text': 'Blackburn',\n",
              "   'pos_tag': 'NNP',\n",
              "   'chunk_tag': 'I-NP',\n",
              "   'ner_tag': 'I-PER'}],\n",
              " [{'text': 'BRUSSELS',\n",
              "   'pos_tag': 'NNP',\n",
              "   'chunk_tag': 'B-NP',\n",
              "   'ner_tag': 'B-LOC'},\n",
              "  {'text': '1996-08-22',\n",
              "   'pos_tag': 'CD',\n",
              "   'chunk_tag': 'I-NP',\n",
              "   'ner_tag': 'O'}]]"
            ]
          },
          "metadata": {},
          "execution_count": 23
        }
      ],
      "source": [
        "train_data[:3]"
      ]
    },
    {
      "cell_type": "code",
      "execution_count": 24,
      "metadata": {
        "colab": {
          "base_uri": "https://localhost:8080/"
        },
        "id": "YNNWfNG2iXYV",
        "outputId": "40ec3883-dc99-4caf-fa07-ba02cb91f638"
      },
      "outputs": [
        {
          "output_type": "stream",
          "name": "stdout",
          "text": [
            "The shape of the input is: torch.Size([3, 9, 300])\n",
            "The shape of the output is: torch.Size([3, 9])\n"
          ]
        }
      ],
      "source": [
        "embeds, lbl = collate(train_data[:3])\n",
        "\n",
        "print(f\"The shape of the input is: {embeds.size()}\") # 9 = lenght of the longest sequence\n",
        "print(f\"The shape of the output is: {lbl.size()}\")"
      ]
    },
    {
      "cell_type": "code",
      "execution_count": 25,
      "metadata": {
        "colab": {
          "base_uri": "https://localhost:8080/"
        },
        "id": "08r_bSgliXYV",
        "outputId": "eca3e5b8-2f9d-496a-b99e-7fc4bf1ec1a8"
      },
      "outputs": [
        {
          "output_type": "execute_result",
          "data": {
            "text/plain": [
              "tensor([[[ 0.5473, -0.2364, -0.2143,  ..., -0.3137, -0.4393,  0.1852],\n",
              "         [ 0.4056, -0.0393, -0.2357,  ..., -0.2026,  0.1970,  0.4861],\n",
              "         [-0.1740,  0.2612, -0.5919,  ..., -0.1950,  0.2041,  0.3530],\n",
              "         ...,\n",
              "         [ 0.4436, -0.2418,  0.2366,  ...,  0.1857, -0.2956, -0.1999],\n",
              "         [ 0.1964, -0.2666,  0.1819,  ...,  0.1678,  0.0395,  0.4751],\n",
              "         [-0.1256,  0.0136,  0.1031,  ..., -0.3422, -0.0224,  0.1368]],\n",
              "\n",
              "        [[ 0.1093, -0.1402,  0.0930,  ...,  0.3865,  0.3444,  0.0214],\n",
              "         [-0.4132,  0.2175, -0.0505,  ..., -0.4873, -0.4033, -0.3469],\n",
              "         [ 0.0000,  0.0000,  0.0000,  ...,  0.0000,  0.0000,  0.0000],\n",
              "         ...,\n",
              "         [ 0.0000,  0.0000,  0.0000,  ...,  0.0000,  0.0000,  0.0000],\n",
              "         [ 0.0000,  0.0000,  0.0000,  ...,  0.0000,  0.0000,  0.0000],\n",
              "         [ 0.0000,  0.0000,  0.0000,  ...,  0.0000,  0.0000,  0.0000]],\n",
              "\n",
              "        [[ 0.4693, -0.0993,  0.0016,  ..., -0.4687, -0.7363,  0.1922],\n",
              "         [ 0.0000,  0.0000,  0.0000,  ...,  0.0000,  0.0000,  0.0000],\n",
              "         [ 0.0000,  0.0000,  0.0000,  ...,  0.0000,  0.0000,  0.0000],\n",
              "         ...,\n",
              "         [ 0.0000,  0.0000,  0.0000,  ...,  0.0000,  0.0000,  0.0000],\n",
              "         [ 0.0000,  0.0000,  0.0000,  ...,  0.0000,  0.0000,  0.0000],\n",
              "         [ 0.0000,  0.0000,  0.0000,  ...,  0.0000,  0.0000,  0.0000]]])"
            ]
          },
          "metadata": {},
          "execution_count": 25
        }
      ],
      "source": [
        "embeds"
      ]
    },
    {
      "cell_type": "code",
      "execution_count": 26,
      "metadata": {
        "colab": {
          "base_uri": "https://localhost:8080/"
        },
        "id": "WB4HwEu8iXYV",
        "outputId": "d9fb7b22-5a55-4a77-eb03-56f66b66306e"
      },
      "outputs": [
        {
          "output_type": "execute_result",
          "data": {
            "text/plain": [
              "tensor([[   2,    8,    1,    8,    8,    8,    1,    8,    8],\n",
              "        [   3,    7, -100, -100, -100, -100, -100, -100, -100],\n",
              "        [   0,    8, -100, -100, -100, -100, -100, -100, -100]])"
            ]
          },
          "metadata": {},
          "execution_count": 26
        }
      ],
      "source": [
        "lbl"
      ]
    },
    {
      "cell_type": "markdown",
      "metadata": {
        "id": "YkEfUm9hiXYW"
      },
      "source": [
        "Now we can finally wrap a DataLoader around our samples. PyTorch data loaders take care of generating batches on a given data set. We just need to set the batch size."
      ]
    },
    {
      "cell_type": "code",
      "execution_count": 27,
      "metadata": {
        "id": "9yV2kufoiXYW"
      },
      "outputs": [],
      "source": [
        "batch_size = 128\n",
        "\n",
        "train_loader = torch.utils.data.DataLoader(train_data, batch_size=batch_size, collate_fn=collate, shuffle=True)\n",
        "valid_loader = torch.utils.data.DataLoader(valid_data, batch_size=batch_size, collate_fn=collate)\n",
        "test_loader = torch.utils.data.DataLoader(test_data, batch_size=batch_size, collate_fn=collate)"
      ]
    },
    {
      "cell_type": "markdown",
      "metadata": {
        "id": "rSoUaBd8iXYX"
      },
      "source": [
        "We can train the lst iterating over the data set for a given number of epochs"
      ]
    },
    {
      "cell_type": "code",
      "execution_count": 28,
      "metadata": {
        "colab": {
          "base_uri": "https://localhost:8080/"
        },
        "id": "gyIS3kCHiXYX",
        "outputId": "40cb6691-2ee0-4cdc-9ddb-65ab079c7e7a"
      },
      "outputs": [
        {
          "output_type": "stream",
          "name": "stdout",
          "text": [
            "Starting epoch 1/10\n"
          ]
        },
        {
          "output_type": "stream",
          "name": "stderr",
          "text": [
            "100%|██████████| 110/110 [00:16<00:00,  6.58it/s]\n"
          ]
        },
        {
          "output_type": "stream",
          "name": "stdout",
          "text": [
            "Starting epoch 2/10\n"
          ]
        },
        {
          "output_type": "stream",
          "name": "stderr",
          "text": [
            "100%|██████████| 110/110 [00:17<00:00,  6.46it/s]\n"
          ]
        },
        {
          "output_type": "stream",
          "name": "stdout",
          "text": [
            "Starting epoch 3/10\n"
          ]
        },
        {
          "output_type": "stream",
          "name": "stderr",
          "text": [
            "100%|██████████| 110/110 [00:16<00:00,  6.79it/s]\n"
          ]
        },
        {
          "output_type": "stream",
          "name": "stdout",
          "text": [
            "Starting epoch 4/10\n"
          ]
        },
        {
          "output_type": "stream",
          "name": "stderr",
          "text": [
            "100%|██████████| 110/110 [00:17<00:00,  6.46it/s]\n"
          ]
        },
        {
          "output_type": "stream",
          "name": "stdout",
          "text": [
            "Starting epoch 5/10\n"
          ]
        },
        {
          "output_type": "stream",
          "name": "stderr",
          "text": [
            "100%|██████████| 110/110 [00:16<00:00,  6.48it/s]\n"
          ]
        },
        {
          "output_type": "stream",
          "name": "stdout",
          "text": [
            "Starting epoch 6/10\n"
          ]
        },
        {
          "output_type": "stream",
          "name": "stderr",
          "text": [
            "100%|██████████| 110/110 [00:16<00:00,  6.56it/s]\n"
          ]
        },
        {
          "output_type": "stream",
          "name": "stdout",
          "text": [
            "Starting epoch 7/10\n"
          ]
        },
        {
          "output_type": "stream",
          "name": "stderr",
          "text": [
            "100%|██████████| 110/110 [00:16<00:00,  6.84it/s]\n"
          ]
        },
        {
          "output_type": "stream",
          "name": "stdout",
          "text": [
            "Starting epoch 8/10\n"
          ]
        },
        {
          "output_type": "stream",
          "name": "stderr",
          "text": [
            "100%|██████████| 110/110 [00:16<00:00,  6.71it/s]\n"
          ]
        },
        {
          "output_type": "stream",
          "name": "stdout",
          "text": [
            "Starting epoch 9/10\n"
          ]
        },
        {
          "output_type": "stream",
          "name": "stderr",
          "text": [
            "100%|██████████| 110/110 [00:16<00:00,  6.81it/s]\n"
          ]
        },
        {
          "output_type": "stream",
          "name": "stdout",
          "text": [
            "Starting epoch 10/10\n"
          ]
        },
        {
          "output_type": "stream",
          "name": "stderr",
          "text": [
            "100%|██████████| 110/110 [00:16<00:00,  6.75it/s]\n"
          ]
        }
      ],
      "source": [
        "# Import nice loading bar using tqdm\n",
        "from tqdm import tqdm\n",
        "\n",
        "# Set model in training mode\n",
        "lstm.train()\n",
        "\n",
        "# Accumulator of loss\n",
        "history = []\n",
        "\n",
        "n_epochs = 10\n",
        "\n",
        "# Iterate over epochs\n",
        "for i in range(n_epochs):\n",
        "    print(f\"Starting epoch {i + 1}/{n_epochs}\")\n",
        "    # Iterate over training batches\n",
        "    for embeds, lbl in tqdm(train_loader):\n",
        "        # Zero your gradients for every batch!\n",
        "        optimizer.zero_grad()\n",
        "        # Move input and output to target device\n",
        "        embeds = embeds.to(device)\n",
        "        lbl = lbl.to(device)\n",
        "        # Compute logits (i.e., softmax values before exponential normalisation)\n",
        "        logits = lstm(embeds)\n",
        "        # Flatten logits to a shape (batch_size * max_sentence_len, n_classes)\n",
        "        logits = logits.reshape(-1, len(ner_le.classes_))\n",
        "        # Flatten targets to a shape (batch_size * max_sentence_len)\n",
        "        lbl = lbl.reshape(-1)\n",
        "        # Compute loss\n",
        "        loss = F.cross_entropy(logits, lbl)\n",
        "        # Compute gradients\n",
        "        loss.backward()\n",
        "        # Update weights\n",
        "        optimizer.step()\n",
        "        # Save loss\n",
        "        history.append(loss.detach())\n",
        "\n",
        "history = [loss.cpu().item() for loss in history]"
      ]
    },
    {
      "cell_type": "markdown",
      "metadata": {
        "id": "SnKwQ8cuiXYY"
      },
      "source": [
        "Now we can plot the evolution of the loss at each update"
      ]
    },
    {
      "cell_type": "code",
      "execution_count": 29,
      "metadata": {
        "colab": {
          "base_uri": "https://localhost:8080/",
          "height": 466
        },
        "id": "3MEOdfljiXYY",
        "outputId": "bf0b2b60-b5dc-434d-ed3a-57d109846345"
      },
      "outputs": [
        {
          "output_type": "execute_result",
          "data": {
            "text/plain": [
              "Text(0, 0.5, 'Loss')"
            ]
          },
          "metadata": {},
          "execution_count": 29
        },
        {
          "output_type": "display_data",
          "data": {
            "text/plain": [
              "<Figure size 640x480 with 1 Axes>"
            ],
            "image/png": "[encoded data removed]"
          },
          "metadata": {}
        }
      ],
      "source": [
        "from matplotlib import pyplot as plt\n",
        "\n",
        "plt.figure()\n",
        "plt.plot(range(len(history)), history)\n",
        "plt.xlabel('Update step')\n",
        "plt.ylabel('Loss')"
      ]
    },
    {
      "cell_type": "markdown",
      "metadata": {
        "id": "SiD0AL6giXYZ"
      },
      "source": [
        "We can also test out model using the dedicated split. We iterate over the mini batches, colelct the prediction as the value with the highest logit value and we store these values until we go through the entire data set. Then we compute the classification report"
      ]
    },
    {
      "cell_type": "code",
      "execution_count": 30,
      "metadata": {
        "colab": {
          "base_uri": "https://localhost:8080/"
        },
        "id": "aXP1UGKyiXYa",
        "outputId": "3e13ef72-0098-403f-f93f-0b0a1969ac63"
      },
      "outputs": [
        {
          "output_type": "stream",
          "name": "stderr",
          "text": [
            "100%|██████████| 26/26 [00:04<00:00,  6.24it/s]"
          ]
        },
        {
          "output_type": "stream",
          "name": "stdout",
          "text": [
            "              precision    recall  f1-score   support\n",
            "\n",
            "       B-LOC       0.94      0.93      0.93      1837\n",
            "      B-MISC       0.87      0.82      0.84       922\n",
            "       B-ORG       0.89      0.84      0.86      1341\n",
            "       B-PER       0.95      0.96      0.95      1842\n",
            "       I-LOC       0.80      0.86      0.83       257\n",
            "      I-MISC       0.78      0.67      0.72       346\n",
            "       I-ORG       0.78      0.79      0.79       751\n",
            "       I-PER       0.97      0.96      0.96      1307\n",
            "           O       0.99      0.99      0.99     42759\n",
            "\n",
            "    accuracy                           0.97     51362\n",
            "   macro avg       0.89      0.87      0.88     51362\n",
            "weighted avg       0.97      0.97      0.97     51362\n",
            "\n"
          ]
        },
        {
          "output_type": "stream",
          "name": "stderr",
          "text": [
            "\n"
          ]
        }
      ],
      "source": [
        "from sklearn.metrics import classification_report\n",
        "\n",
        "# Set model in evaluation mode\n",
        "lstm.eval()\n",
        "\n",
        "# Accumulators for target labels and predictions\n",
        "y_true = []\n",
        "y_pred = []\n",
        "\n",
        "# Disable gradients\n",
        "with torch.no_grad():\n",
        "    # Iterate over validation batches\n",
        "    for embeds, lbl in tqdm(valid_loader):\n",
        "        # Move input and output to target device\n",
        "        embeds = embeds.to(device)\n",
        "        # Compute logits (i.e., softmax values before exponential normalisation)\n",
        "        logits = lstm(embeds)\n",
        "        # Get predictions as the index corresponding to the highest logit score\n",
        "        pred_lbl = torch.argmax(logits, dim=-1)\n",
        "        # Append predicted labels\n",
        "        y_pred.append(pred_lbl.reshape(-1).cpu().numpy())\n",
        "        # Append target labels\n",
        "        y_true.append(lbl.reshape(-1).numpy())\n",
        "\n",
        "# Concatenate all the vectors of target labels and predicted labels\n",
        "y_true = np.concatenate(y_true)\n",
        "y_pred = np.concatenate(y_pred)\n",
        "# Remove elements to ignore (the -100 labels)\n",
        "mask = y_true == -100\n",
        "y_true = y_true[~mask]\n",
        "y_pred = y_pred[~mask]\n",
        "\n",
        "# Finally compute classification report\n",
        "print(classification_report(y_true, y_pred, target_names=ner_le.classes_))"
      ]
    },
    {
      "cell_type": "markdown",
      "metadata": {
        "id": "QTjDNmFuiXYb"
      },
      "source": [
        "What do we see from these results?"
      ]
    },
    {
      "cell_type": "markdown",
      "metadata": {
        "id": "tY34HJRriXYb"
      },
      "source": [
        "We can play a bit with the model directly.\n",
        "\n",
        "Let's define a function to compute the predictions give a sentence. We will use the NLTK tokenizer to split the sentence into word tokens"
      ]
    },
    {
      "cell_type": "code",
      "execution_count": 31,
      "metadata": {
        "colab": {
          "base_uri": "https://localhost:8080/"
        },
        "id": "joXDUxJUiXYb",
        "outputId": "b7c32c7d-f169-4488-95f7-74df0051bf63"
      },
      "outputs": [
        {
          "output_type": "stream",
          "name": "stderr",
          "text": [
            "[nltk_data] Downloading package punkt to /root/nltk_data...\n",
            "[nltk_data]   Unzipping tokenizers/punkt.zip.\n"
          ]
        }
      ],
      "source": [
        "import nltk\n",
        "nltk.download('punkt')\n",
        "\n",
        "from nltk.tokenize import word_tokenize\n",
        "\n",
        "def predict(sample):\n",
        "    # Tokenize sample\n",
        "    tokenized_sample = word_tokenize(sample)\n",
        "    # Create an input tensor with all zero values\n",
        "    input_embeds = np.zeros((1, len(tokenized_sample), 300))\n",
        "    # Fill the tensor and the matrix\n",
        "    for i, token in enumerate(tokenized_sample):\n",
        "        # Manage missing tokens in vocabulary\n",
        "        if token.lower() in we_model:\n",
        "            input_embeds[0, i] = we_model[token.lower()]\n",
        "    # Convert to PyTorch tensor\n",
        "    input_embeds = torch.tensor(input_embeds, dtype=torch.float, device=device)\n",
        "    # Run model over input\n",
        "    logits = lstm(embeds)\n",
        "    # Get predictions as the index corresponding to the highest logit score\n",
        "    pred_lbl = torch.argmax(logits, dim=-1)\n",
        "    # Decode labels\n",
        "    pred_labels = ner_le.inverse_transform(pred_lbl.reshape(-1).cpu().numpy())\n",
        "    # Group together tokens and predicted NER labels\n",
        "    labelled_sample = [{'text': token, 'ner_tag': str(lbl)} for token, lbl in zip(tokenized_sample, pred_labels)]\n",
        "\n",
        "    return labelled_sample"
      ]
    },
    {
      "cell_type": "markdown",
      "metadata": {
        "id": "5Nd2fE8EiXYb"
      },
      "source": [
        "And now call it on a custom sample"
      ]
    },
    {
      "cell_type": "code",
      "execution_count": 32,
      "metadata": {
        "colab": {
          "base_uri": "https://localhost:8080/"
        },
        "id": "HHSJ6e0_iXYc",
        "outputId": "596541af-4dba-4a60-b07a-5e55d018cc93"
      },
      "outputs": [
        {
          "output_type": "execute_result",
          "data": {
            "text/plain": [
              "[{'text': 'Hello', 'ner_tag': 'O'},\n",
              " {'text': ',', 'ner_tag': 'O'},\n",
              " {'text': 'my', 'ner_tag': 'O'},\n",
              " {'text': 'name', 'ner_tag': 'O'},\n",
              " {'text': 'is', 'ner_tag': 'O'},\n",
              " {'text': 'Vincenzo', 'ner_tag': 'B-LOC'},\n",
              " {'text': 'Scotti', 'ner_tag': 'O'},\n",
              " {'text': ',', 'ner_tag': 'O'},\n",
              " {'text': 'I', 'ner_tag': 'O'},\n",
              " {'text': 'am', 'ner_tag': 'O'},\n",
              " {'text': 'from', 'ner_tag': 'O'},\n",
              " {'text': 'Italy', 'ner_tag': 'O'},\n",
              " {'text': 'and', 'ner_tag': 'O'},\n",
              " {'text': 'I', 'ner_tag': 'O'},\n",
              " {'text': 'like', 'ner_tag': 'O'},\n",
              " {'text': 'pizza', 'ner_tag': 'O'},\n",
              " {'text': '.', 'ner_tag': 'O'}]"
            ]
          },
          "metadata": {},
          "execution_count": 32
        }
      ],
      "source": [
        "sample = \"Hello, my name is Vincenzo Scotti, I am from Italy and I like pizza.\"\n",
        "\n",
        "predict(sample)"
      ]
    },
    {
      "cell_type": "markdown",
      "metadata": {
        "id": "m3dJdQhwiXYc"
      },
      "source": [
        "Look how our custom model fails flawlessly"
      ]
    },
    {
      "cell_type": "markdown",
      "metadata": {
        "id": "WGPqOdtmiXYc"
      },
      "source": [
        "### Defining and training the RNN model for POS-tagging or Chunking\n",
        "\n",
        "You can do this at home to start getting familiar with PyTorch and RNNs"
      ]
    },
    {
      "cell_type": "code",
      "execution_count": 38,
      "metadata": {
        "id": "6qGnci-yiXYd"
      },
      "outputs": [],
      "source": [
        "def predictPOS(sample):\n",
        "    # Tokenize sample\n",
        "    tokenized_sample = word_tokenize(sample)\n",
        "    # Create an input tensor with all zero values\n",
        "    input_embeds = np.zeros((1, len(tokenized_sample), 300))\n",
        "    # Fill the tensor and the matrix\n",
        "    for i, token in enumerate(tokenized_sample):\n",
        "        # Manage missing tokens in vocabulary\n",
        "        if token.lower() in we_model:\n",
        "            input_embeds[0, i] = we_model[token.lower()]\n",
        "    # Convert to PyTorch tensor\n",
        "    input_embeds = torch.tensor(input_embeds, dtype=torch.float, device=device)\n",
        "    # Run model over input\n",
        "    logits = lstm(embeds)\n",
        "    # Get predictions as the index corresponding to the highest logit score\n",
        "    pred_lbl = torch.argmax(logits, dim=-1)\n",
        "    # Decode labels\n",
        "    pred_labels = pos_le.inverse_transform(pred_lbl.reshape(-1).cpu().numpy())\n",
        "    # Group together tokens and predicted POS labels\n",
        "    labelled_sample = [{'text': token, 'pos_tag': str(lbl)} for token, lbl in zip(tokenized_sample, pred_labels)]\n",
        "\n",
        "    return labelled_sample"
      ]
    },
    {
      "cell_type": "code",
      "source": [
        "sample = \"Hello, my name is Vincenzo Scotti, I am from Italy and I like pizza.\"\n",
        "\n",
        "predictPOS(sample)"
      ],
      "metadata": {
        "colab": {
          "base_uri": "https://localhost:8080/"
        },
        "id": "o-GisWdCZsKe",
        "outputId": "aaac2030-f05c-4b40-b620-ae22caae68e1"
      },
      "execution_count": 39,
      "outputs": [
        {
          "output_type": "execute_result",
          "data": {
            "text/plain": [
              "[{'text': 'Hello', 'pos_tag': 'CC'},\n",
              " {'text': ',', 'pos_tag': 'CC'},\n",
              " {'text': 'my', 'pos_tag': 'CC'},\n",
              " {'text': 'name', 'pos_tag': 'CC'},\n",
              " {'text': 'is', 'pos_tag': 'CC'},\n",
              " {'text': 'Vincenzo', 'pos_tag': '\"'},\n",
              " {'text': 'Scotti', 'pos_tag': 'CC'},\n",
              " {'text': ',', 'pos_tag': 'CC'},\n",
              " {'text': 'I', 'pos_tag': 'CC'},\n",
              " {'text': 'am', 'pos_tag': 'CC'},\n",
              " {'text': 'from', 'pos_tag': 'CC'},\n",
              " {'text': 'Italy', 'pos_tag': 'CC'},\n",
              " {'text': 'and', 'pos_tag': 'CC'},\n",
              " {'text': 'I', 'pos_tag': 'CC'},\n",
              " {'text': 'like', 'pos_tag': 'CC'},\n",
              " {'text': 'pizza', 'pos_tag': 'CC'},\n",
              " {'text': '.', 'pos_tag': 'CC'}]"
            ]
          },
          "metadata": {},
          "execution_count": 39
        }
      ]
    },
    {
      "cell_type": "markdown",
      "metadata": {
        "id": "FsRuUF2QiXYd"
      },
      "source": [
        "## Text Classification with a Recurrent Neural Network\n",
        "\n",
        "In this last section of the notebook I will run through a quick example of using a Bidirectional LSTM (Long Short-term Memory) network for text classification.\n",
        "- RNNs extend embedding-based classification of text by taking word-order into account. They were, until relatively recently, the state-of-the-art when it came to training text classifiers.\n",
        "- Tensorflow is sophisticated toolkit for building Deep Neural Network models. We will use it to build the model. The tutorial follows mostly this Tensorflow tutorial: https://www.tensorflow.org/tutorials/text/text_classification_rnn\n",
        "    - Tensorflow is to deep learning learning what Java is to programming (joking...?)\n"
      ]
    },
    {
      "cell_type": "markdown",
      "metadata": {
        "id": "R7tVlUtciXYd"
      },
      "source": [
        "### Data preparation"
      ]
    },
    {
      "cell_type": "markdown",
      "metadata": {
        "id": "saKTeXTriXYe"
      },
      "source": [
        "First let's load the Twitter dataset we used in the second session:"
      ]
    },
    {
      "cell_type": "code",
      "execution_count": 40,
      "metadata": {
        "id": "zGy4FdHmiXYe",
        "colab": {
          "base_uri": "https://localhost:8080/"
        },
        "outputId": "3997dcee-2c7e-4e74-87dd-ee5c52efffd6"
      },
      "outputs": [
        {
          "output_type": "stream",
          "name": "stderr",
          "text": [
            "[nltk_data] Downloading package twitter_samples to /root/nltk_data...\n",
            "[nltk_data]   Unzipping corpora/twitter_samples.zip.\n"
          ]
        }
      ],
      "source": [
        "import nltk\n",
        "nltk.download('twitter_samples')\n",
        "\n",
        "from nltk.corpus import twitter_samples\n",
        "positive_tweets = twitter_samples.strings('positive_tweets.json')\n",
        "negative_tweets = twitter_samples.strings('negative_tweets.json')"
      ]
    },
    {
      "cell_type": "markdown",
      "metadata": {
        "id": "pTAIBW2liXYf"
      },
      "source": [
        "Remove emoticons from the positive and negative examples:"
      ]
    },
    {
      "cell_type": "code",
      "execution_count": 41,
      "metadata": {
        "id": "gFEFht3LiXYf"
      },
      "outputs": [],
      "source": [
        "import re\n",
        "emoticon_regex = '(\\:\\w+\\:|\\<[\\/\\\\]?3|[\\(\\)\\\\\\D|\\*\\$][\\-\\^]?[\\:\\;\\=]|[\\:\\;\\=B8][\\-\\^]?[3DOPp\\@\\$\\*\\\\\\)\\(\\/\\|])(?=\\s|[\\!\\.\\?]|$)'\n",
        "positive_tweets_noemoticons = [re.sub(emoticon_regex,'',tweet) for tweet in positive_tweets]\n",
        "negative_tweets_noemoticons = [re.sub(emoticon_regex,'',tweet) for tweet in negative_tweets]"
      ]
    },
    {
      "cell_type": "markdown",
      "metadata": {
        "id": "Kwlqu16qiXYg"
      },
      "source": [
        "And create the examples and labels as we did before. This time we will use numeric labels (0,1) instead of text labels ('negative','positive'), since the deep learning library we will use requires numeric class labels."
      ]
    },
    {
      "cell_type": "code",
      "execution_count": 42,
      "metadata": {
        "id": "T01m6n0XiXYg"
      },
      "outputs": [],
      "source": [
        "tweets_x = positive_tweets_noemoticons + negative_tweets_noemoticons\n",
        "tweets_y = [1]*len(positive_tweets) + [0]*len(negative_tweets)"
      ]
    },
    {
      "cell_type": "markdown",
      "metadata": {
        "id": "2Lc9Je1KiXYg"
      },
      "source": [
        "And again, split the data into training, validation and test:"
      ]
    },
    {
      "cell_type": "code",
      "execution_count": 43,
      "metadata": {
        "id": "bLYFgrRriXYg"
      },
      "outputs": [],
      "source": [
        "from sklearn.model_selection import train_test_split\n",
        "temp_x, test_x, temp_y, test_y = train_test_split(tweets_x, tweets_y, test_size=0.2)\n",
        "train_x, valid_x, train_y, valid_y = train_test_split(temp_x, temp_y, test_size=0.2)"
      ]
    },
    {
      "cell_type": "markdown",
      "metadata": {
        "id": "PIOEIlUFiXYh"
      },
      "source": [
        "Now that we have the training and validation data prepared, we can import the Tensorflow library, and use it to load the training and validaton datasets into the tensorflow format. Note that:\n",
        "- Tensorflow comes installed on Google Colab.\n",
        "- If you run this notebook on your own machine you will need to first install tensorflow using '!pip install'"
      ]
    },
    {
      "cell_type": "code",
      "execution_count": 44,
      "metadata": {
        "scrolled": true,
        "id": "WhQLZ4CRiXYh",
        "colab": {
          "base_uri": "https://localhost:8080/"
        },
        "outputId": "3d6fbe0f-fae9-4d51-ad43-fcf0831bc0c3"
      },
      "outputs": [
        {
          "output_type": "stream",
          "name": "stdout",
          "text": [
            "Requirement already satisfied: tensorflow in /usr/local/lib/python3.10/dist-packages (2.15.0)\n",
            "Requirement already satisfied: absl-py>=1.0.0 in /usr/local/lib/python3.10/dist-packages (from tensorflow) (1.4.0)\n",
            "Requirement already satisfied: astunparse>=1.6.0 in /usr/local/lib/python3.10/dist-packages (from tensorflow) (1.6.3)\n",
            "Requirement already satisfied: flatbuffers>=23.5.26 in /usr/local/lib/python3.10/dist-packages (from tensorflow) (24.3.25)\n",
            "Requirement already satisfied: gast!=0.5.0,!=0.5.1,!=0.5.2,>=0.2.1 in /usr/local/lib/python3.10/dist-packages (from tensorflow) (0.5.4)\n",
            "Requirement already satisfied: google-pasta>=0.1.1 in /usr/local/lib/python3.10/dist-packages (from tensorflow) (0.2.0)\n",
            "Requirement already satisfied: h5py>=2.9.0 in /usr/local/lib/python3.10/dist-packages (from tensorflow) (3.9.0)\n",
            "Requirement already satisfied: libclang>=13.0.0 in /usr/local/lib/python3.10/dist-packages (from tensorflow) (18.1.1)\n",
            "Requirement already satisfied: ml-dtypes~=0.2.0 in /usr/local/lib/python3.10/dist-packages (from tensorflow) (0.2.0)\n",
            "Requirement already satisfied: numpy<2.0.0,>=1.23.5 in /usr/local/lib/python3.10/dist-packages (from tensorflow) (1.25.2)\n",
            "Requirement already satisfied: opt-einsum>=2.3.2 in /usr/local/lib/python3.10/dist-packages (from tensorflow) (3.3.0)\n",
            "Requirement already satisfied: packaging in /usr/local/lib/python3.10/dist-packages (from tensorflow) (24.0)\n",
            "Requirement already satisfied: protobuf!=4.21.0,!=4.21.1,!=4.21.2,!=4.21.3,!=4.21.4,!=4.21.5,<5.0.0dev,>=3.20.3 in /usr/local/lib/python3.10/dist-packages (from tensorflow) (3.20.3)\n",
            "Requirement already satisfied: setuptools in /usr/local/lib/python3.10/dist-packages (from tensorflow) (67.7.2)\n",
            "Requirement already satisfied: six>=1.12.0 in /usr/local/lib/python3.10/dist-packages (from tensorflow) (1.16.0)\n",
            "Requirement already satisfied: termcolor>=1.1.0 in /usr/local/lib/python3.10/dist-packages (from tensorflow) (2.4.0)\n",
            "Requirement already satisfied: typing-extensions>=3.6.6 in /usr/local/lib/python3.10/dist-packages (from tensorflow) (4.11.0)\n",
            "Requirement already satisfied: wrapt<1.15,>=1.11.0 in /usr/local/lib/python3.10/dist-packages (from tensorflow) (1.14.1)\n",
            "Requirement already satisfied: tensorflow-io-gcs-filesystem>=0.23.1 in /usr/local/lib/python3.10/dist-packages (from tensorflow) (0.36.0)\n",
            "Requirement already satisfied: grpcio<2.0,>=1.24.3 in /usr/local/lib/python3.10/dist-packages (from tensorflow) (1.62.1)\n",
            "Requirement already satisfied: tensorboard<2.16,>=2.15 in /usr/local/lib/python3.10/dist-packages (from tensorflow) (2.15.2)\n",
            "Requirement already satisfied: tensorflow-estimator<2.16,>=2.15.0 in /usr/local/lib/python3.10/dist-packages (from tensorflow) (2.15.0)\n",
            "Requirement already satisfied: keras<2.16,>=2.15.0 in /usr/local/lib/python3.10/dist-packages (from tensorflow) (2.15.0)\n",
            "Requirement already satisfied: wheel<1.0,>=0.23.0 in /usr/local/lib/python3.10/dist-packages (from astunparse>=1.6.0->tensorflow) (0.43.0)\n",
            "Requirement already satisfied: google-auth<3,>=1.6.3 in /usr/local/lib/python3.10/dist-packages (from tensorboard<2.16,>=2.15->tensorflow) (2.27.0)\n",
            "Requirement already satisfied: google-auth-oauthlib<2,>=0.5 in /usr/local/lib/python3.10/dist-packages (from tensorboard<2.16,>=2.15->tensorflow) (1.2.0)\n",
            "Requirement already satisfied: markdown>=2.6.8 in /usr/local/lib/python3.10/dist-packages (from tensorboard<2.16,>=2.15->tensorflow) (3.6)\n",
            "Requirement already satisfied: requests<3,>=2.21.0 in /usr/local/lib/python3.10/dist-packages (from tensorboard<2.16,>=2.15->tensorflow) (2.31.0)\n",
            "Requirement already satisfied: tensorboard-data-server<0.8.0,>=0.7.0 in /usr/local/lib/python3.10/dist-packages (from tensorboard<2.16,>=2.15->tensorflow) (0.7.2)\n",
            "Requirement already satisfied: werkzeug>=1.0.1 in /usr/local/lib/python3.10/dist-packages (from tensorboard<2.16,>=2.15->tensorflow) (3.0.2)\n",
            "Requirement already satisfied: cachetools<6.0,>=2.0.0 in /usr/local/lib/python3.10/dist-packages (from google-auth<3,>=1.6.3->tensorboard<2.16,>=2.15->tensorflow) (5.3.3)\n",
            "Requirement already satisfied: pyasn1-modules>=0.2.1 in /usr/local/lib/python3.10/dist-packages (from google-auth<3,>=1.6.3->tensorboard<2.16,>=2.15->tensorflow) (0.4.0)\n",
            "Requirement already satisfied: rsa<5,>=3.1.4 in /usr/local/lib/python3.10/dist-packages (from google-auth<3,>=1.6.3->tensorboard<2.16,>=2.15->tensorflow) (4.9)\n",
            "Requirement already satisfied: requests-oauthlib>=0.7.0 in /usr/local/lib/python3.10/dist-packages (from google-auth-oauthlib<2,>=0.5->tensorboard<2.16,>=2.15->tensorflow) (1.3.1)\n",
            "Requirement already satisfied: charset-normalizer<4,>=2 in /usr/local/lib/python3.10/dist-packages (from requests<3,>=2.21.0->tensorboard<2.16,>=2.15->tensorflow) (3.3.2)\n",
            "Requirement already satisfied: idna<4,>=2.5 in /usr/local/lib/python3.10/dist-packages (from requests<3,>=2.21.0->tensorboard<2.16,>=2.15->tensorflow) (3.6)\n",
            "Requirement already satisfied: urllib3<3,>=1.21.1 in /usr/local/lib/python3.10/dist-packages (from requests<3,>=2.21.0->tensorboard<2.16,>=2.15->tensorflow) (2.0.7)\n",
            "Requirement already satisfied: certifi>=2017.4.17 in /usr/local/lib/python3.10/dist-packages (from requests<3,>=2.21.0->tensorboard<2.16,>=2.15->tensorflow) (2024.2.2)\n",
            "Requirement already satisfied: MarkupSafe>=2.1.1 in /usr/local/lib/python3.10/dist-packages (from werkzeug>=1.0.1->tensorboard<2.16,>=2.15->tensorflow) (2.1.5)\n",
            "Requirement already satisfied: pyasn1<0.7.0,>=0.4.6 in /usr/local/lib/python3.10/dist-packages (from pyasn1-modules>=0.2.1->google-auth<3,>=1.6.3->tensorboard<2.16,>=2.15->tensorflow) (0.6.0)\n",
            "Requirement already satisfied: oauthlib>=3.0.0 in /usr/local/lib/python3.10/dist-packages (from requests-oauthlib>=0.7.0->google-auth-oauthlib<2,>=0.5->tensorboard<2.16,>=2.15->tensorflow) (3.2.2)\n"
          ]
        }
      ],
      "source": [
        "!pip install tensorflow"
      ]
    },
    {
      "cell_type": "code",
      "execution_count": 45,
      "metadata": {
        "id": "deSJ4W4tiXYh"
      },
      "outputs": [],
      "source": [
        "import tensorflow as tf\n",
        "\n",
        "train_tf = tf.data.Dataset.from_tensor_slices((train_x, train_y))\n",
        "valid_tf = tf.data.Dataset.from_tensor_slices((valid_x, valid_y))"
      ]
    },
    {
      "cell_type": "markdown",
      "metadata": {
        "id": "A9SLdWqDiXYi"
      },
      "source": [
        "Training will run on *batches* of the data at a time, so we need to create them.\n",
        "- We first use the shuffle command to randomise the order of the training data. (The buffer-size limits the number of instances loaded into memory when shuffling and is only for efficiency -- you could remove it.)\n",
        "- We then create the batches. Each batch will contain 64 examples.\n",
        "- The validation data needs to have the same format as the training data, so we batch it too."
      ]
    },
    {
      "cell_type": "code",
      "execution_count": 46,
      "metadata": {
        "id": "87QeJAhFiXYi"
      },
      "outputs": [],
      "source": [
        "train_dataset = train_tf.shuffle(buffer_size=10000).batch(batch_size=64).prefetch(tf.data.AUTOTUNE)\n",
        "valid_dataset = valid_tf.batch(batch_size=64).prefetch(tf.data.AUTOTUNE)"
      ]
    },
    {
      "cell_type": "markdown",
      "metadata": {
        "id": "SsFwguQviXYj"
      },
      "source": [
        "Let's have a look at the first batch in the training data. It consists of:\n",
        "- an array of strings (tweets)\n",
        "- an array of binary values (class labels)"
      ]
    },
    {
      "cell_type": "code",
      "execution_count": 47,
      "metadata": {
        "id": "q4Yaf9iViXYj",
        "colab": {
          "base_uri": "https://localhost:8080/"
        },
        "outputId": "f1ef6c7a-a9e2-4d48-b04a-081133a0d8f6"
      },
      "outputs": [
        {
          "output_type": "stream",
          "name": "stdout",
          "text": [
            "(<tf.Tensor: shape=(64,), dtype=string, numpy=\n",
            "array([b\"Who's still awake ?:)))\", b\"@Vanessauhhh he doesn't win any \",\n",
            "       b'@CjayBlanco  follow @jnlazts &amp; http://t.co/RCvcYYO0Iq follow u back ',\n",
            "       b'Ain\\'t it too early forrit!!..wah happened to tea,bread and bacon/butter @Alpacino_jay: Done with the Afang soup, making semo is next :D\"',\n",
            "       b'@prettyden15  follow @jnlazts &amp; http://t.co/RCvcYYO0Iq follow u back ',\n",
            "       b'S2E12 is probably that saddest ive ever felt for rumpy ',\n",
            "       b\"@morrisblitz @sidmouthfolk if you want to catch up on last year's go to @MadJacksMorris YouTube page and go to the players section \",\n",
            "       b'@guy_interruptd Aw  *strokes*',\n",
            "       b'@jet_cer  follow @jnlazts &amp; http://t.co/RCvcYYO0Iq follow u back ',\n",
            "       b'Thanks for Sharing Dear Oshieer! \\n\\n#realreviews #happycustomers #realoshi #dealsuthaonotebachao http://t.co/kskcAhbmEu',\n",
            "       b'@romanhloiday WHEN YOU ACTUALLY DECIDE TO COME SEE ME IVE TRIED TO GIVE IT TO YOU LIKE 3 TIMES ',\n",
            "       b\"@llama_ajol eat and rest well  you're too tired..\",\n",
            "       b\"My body system don't want to accept those foods \",\n",
            "       b\"I love when people tell me I'm right haha \",\n",
            "       b\"@WeeklyChris \\n\\nPlease tweet me something I'm sad  you can cheer me up \\nplease..\",\n",
            "       b'Listening to Rick Ross feeling like i am balling knowing damn well my wallet is hella empty. ',\n",
            "       b'Good morning @Krona_design, we look forward to seeing you at @SkyFallHove soon. Have a good day!  https://t.co/1QDoh0aHeS',\n",
            "       b\"@llMGWVll Thank you so much for the mention! You're Awesome!! \",\n",
            "       b'Sighs\"@dcodedboii: Dont b stupid @sleekyskillz: Head Needed urgently ... pls apply within! :-)\"\"',\n",
            "       b\"@KyuminpuVELF a lot of people suggest, but they still aren't !\",\n",
            "       b'UGH I CANT STREAM TMR I HAVE DUTY ',\n",
            "       b\"@st3cav @MCFC @sterling31 @YayaToure True, deosn't help that Liverpool were here last week, most have never been to Pool though \",\n",
            "       b'@AddyOliver96 fuck up some commas by future ',\n",
            "       b'You give more yet receive less. Ok lng siguro un. Kesa you give more yet receive nothing... ',\n",
            "       b'the weather is set for more sleep but responsibilities. ',\n",
            "       b'@Kimberly_171 aw yk i wish i could  , go to sleep babe you need your resy',\n",
            "       b'And that\\'s how my 360hrs of \"summer\" ends..... HUHUHU I WILL MISS PICC A LOT :(((((',\n",
            "       b'one of my favourite mutuals just unfollowed me :((',\n",
            "       b\"@jellybrations well thanks guys, we will be sure to do all of those things! Hope you're ok \",\n",
            "       b'@JILLCLARK1808 @BigAl_lfc @SuePeace1 @michell47881905 @Bevanns @susanhorgan1 Oh piggin just go will yer, give us some peace ',\n",
            "       b'@WillHillBet thank you for taking the time to reply, albeit with a disappointing answer - the most famous athlete racing and no odds ',\n",
            "       b'@chaisooyoung dare ',\n",
            "       b'@Jurisprude1 Then about six months ago, bottom jaw, second tooth from the back broke a quarter... on all things, chewing gum! ',\n",
            "       b'My KIK - thessidew877 #kik #kikmeguys #FaceTime #omegle #Bored #quote #sexi  http://t.co/ikWtd54Om2',\n",
            "       b'@gigview RIGHT BACK AT YOU! You do an excellent job in a difficult medium ',\n",
            "       b\"@wtfxmbs AMBS please it's harry's jeans :)):):)\",\n",
            "       b'@MDWidlake @mnorgaard We have BOS, \"Birmingham Oracle Samosas\" at @OracleMidlands ',\n",
            "       b\"@Andrew_Spence Thanks again! Hope you're having a great Friday morning so far \",\n",
            "       b\"@hankgreen would you ever consider creating crash course videos about computer science? There aren't many resources at my school \",\n",
            "       b\"@lootcrate hey I've received my lootcrate today and the box was damaged and has damaged some of the items inside  what can I do about it?\",\n",
            "       b\"They said #GOT7 will back to #VIETNAM this december !!!!! I DUNT THINK SO AWWWWWWWW :(( DON'T KID ME !!!!\",\n",
            "       b'this is when we were building our house  http://t.co/if5yfELOQV',\n",
            "       b'@AstFtMarv @AstonMerrygold see you soon  the things we do for him \\xf0\\x9f\\x98\\x82',\n",
            "       b'Aww, yay I\\'m in the \"Not Hated Group\" and I promise u if u ignore the haters and not retaliate it\\'ll get better  https://t.co/4A6FPOTIlv',\n",
            "       b'got a pay rise\\xe2\\x80\\xa6.so did the tax man ',\n",
            "       b'\"i\\'ll be different when i get back\"\\nwow i can\\'t wait for hannibal to ruin will again :)))))',\n",
            "       b\"If anybody around Penrith/Emu Plains sees her (she's giant and hard to miss) please let me know\\nVery important  http://t.co/zQh19Rl1t2\",\n",
            "       b\"@wndyRVel_ Thanks wendy! Let's be friend yaa \",\n",
            "       b'We go together like copy &amp; paste ', b'So sick ',\n",
            "       b\"Someday we'll know. :))\",\n",
            "       b'@hstylessssayers @natishlouise MIGHT? ',\n",
            "       b\"i've been streaming for hours, but the view didn't even budge, i'm stress! \",\n",
            "       b'hi baby @shfly3424 I love you ',\n",
            "       b'@ChrisPeyPataah awwww thank you daw tine.  BTW I HEARD SA GENSAN KA???? I MISS YOU YOU KNOW',\n",
            "       b'I wish I went to Vidcon ',\n",
            "       b\"@teamkins Oh this isn't good to hear  What have you been asked to provide exactly?\",\n",
            "       b'@YouTubeActus Swag ',\n",
            "       b'James_Yammouni Hey JAMES! Thanks for the follow but PLEASE follow \\xe2\\x9c\\xa7\\xef\\xbd\\xa1 Chelny \\xef\\xbd\\xa1\\xe2\\x9c\\xa7 ',\n",
            "       b\"Na gi-guilty akooooooooooooooo  :'( #imVERYverySORRY for that Mistake .\",\n",
            "       b'Anyway my Friday is looking kinda gooood ',\n",
            "       b'@janesgravity oh cool  Hope you like it!',\n",
            "       b'Why have i just painted my nails pink  ???',\n",
            "       b'@86_Siwonie thank you oppa '], dtype=object)>, <tf.Tensor: shape=(64,), dtype=int32, numpy=\n",
            "array([1, 0, 1, 1, 1, 0, 1, 0, 1, 1, 0, 0, 0, 1, 0, 0, 1, 1, 1, 0, 0, 0,\n",
            "       1, 1, 0, 0, 0, 0, 1, 1, 0, 0, 0, 0, 1, 0, 1, 1, 0, 0, 0, 1, 1, 1,\n",
            "       0, 1, 0, 1, 1, 0, 1, 0, 0, 1, 1, 0, 0, 1, 1, 0, 1, 1, 1, 1],\n",
            "      dtype=int32)>)\n"
          ]
        }
      ],
      "source": [
        "for batch in train_dataset.take(1):\n",
        "  print(batch)"
      ]
    },
    {
      "cell_type": "markdown",
      "metadata": {
        "id": "ZhnrvHgYiXYk"
      },
      "source": [
        "Now that we have the text data in the format required, we can vectorize it. We will need to make use a specific text vectorization module from tensorflow to do this.\n",
        "- We first limit the vocabulary of the vectorizer to 5000,\n",
        "- then extract only the text portion of the training dataset,\n",
        "- and finally fit the vectorizer to the text using the 'adapt' method:"
      ]
    },
    {
      "cell_type": "code",
      "execution_count": 48,
      "metadata": {
        "id": "GwVsSUHoiXYk"
      },
      "outputs": [],
      "source": [
        "from tensorflow.keras.layers import TextVectorization\n",
        "vectorizer = TextVectorization(max_tokens=5000)\n",
        "train_text = train_dataset.map(lambda text, label: text)\n",
        "vectorizer.adapt(train_text)"
      ]
    },
    {
      "cell_type": "markdown",
      "metadata": {
        "id": "7hhkfcSFiXYl"
      },
      "source": [
        "Let's print out the first tokens form the vocabulary:"
      ]
    },
    {
      "cell_type": "code",
      "execution_count": 49,
      "metadata": {
        "id": "Ww1c9XIriXYl",
        "colab": {
          "base_uri": "https://localhost:8080/"
        },
        "outputId": "06af3a82-2bb7-4be6-ec2f-6cda9fef630b"
      },
      "outputs": [
        {
          "output_type": "execute_result",
          "data": {
            "text/plain": [
              "['',\n",
              " '[UNK]',\n",
              " 'i',\n",
              " 'to',\n",
              " 'you',\n",
              " 'the',\n",
              " 'a',\n",
              " 'and',\n",
              " 'my',\n",
              " 'for',\n",
              " 'me',\n",
              " 'it',\n",
              " 'in',\n",
              " 'is',\n",
              " 'so',\n",
              " 'of',\n",
              " 'have',\n",
              " 'im',\n",
              " 'on',\n",
              " 'this',\n",
              " 'but',\n",
              " 'that',\n",
              " 'be',\n",
              " 'its',\n",
              " 'your',\n",
              " 'no',\n",
              " 'not',\n",
              " 'thanks',\n",
              " 'just',\n",
              " 'u',\n",
              " 'follow',\n",
              " 'like',\n",
              " 'love',\n",
              " 'all',\n",
              " 'please',\n",
              " 'we',\n",
              " 'with',\n",
              " 'at',\n",
              " 'was',\n",
              " 'are',\n",
              " 'good',\n",
              " 'too',\n",
              " 'get',\n",
              " 'can',\n",
              " 'do',\n",
              " 'want',\n",
              " 'up',\n",
              " 'dont',\n",
              " 'day',\n",
              " 'now',\n",
              " 'if',\n",
              " 'cant',\n",
              " 'know',\n",
              " 'thank',\n",
              " 'back',\n",
              " 'will',\n",
              " 'see',\n",
              " 'what',\n",
              " 'time',\n",
              " 'when',\n",
              " 'one',\n",
              " 'miss',\n",
              " 'out',\n",
              " 'much',\n",
              " 'amp',\n",
              " 'happy',\n",
              " 'about',\n",
              " 'go',\n",
              " 'today',\n",
              " 'really',\n",
              " 'hi',\n",
              " 'why',\n",
              " 'our',\n",
              " 'new',\n",
              " 'they',\n",
              " 'more',\n",
              " 'from',\n",
              " 'sorry',\n",
              " 'got',\n",
              " 'he',\n",
              " 'great',\n",
              " 'would',\n",
              " 'there',\n",
              " 'going',\n",
              " 'how',\n",
              " 'here',\n",
              " 'been',\n",
              " 'again',\n",
              " 'hope',\n",
              " 'as',\n",
              " 'still',\n",
              " 'lt',\n",
              " 'an',\n",
              " 'am',\n",
              " 'us',\n",
              " 'need',\n",
              " 'work',\n",
              " 'thats',\n",
              " 'well',\n",
              " 'only']"
            ]
          },
          "metadata": {},
          "execution_count": 49
        }
      ],
      "source": [
        "vocab = vectorizer.get_vocabulary()\n",
        "vocab[:100]"
      ]
    },
    {
      "cell_type": "markdown",
      "metadata": {
        "id": "fGN2HvVLiXYm"
      },
      "source": [
        "Note that the first two tokens in the vocabulary are the empty token '', and the unknown token '[UNK]'. The latter is used to mask out-of-vocabulary tokens in the text\n",
        "\n",
        "We can now use the vectorizer to encode a tweet:"
      ]
    },
    {
      "cell_type": "code",
      "execution_count": 50,
      "metadata": {
        "id": "zQT0JL4diXYn",
        "colab": {
          "base_uri": "https://localhost:8080/"
        },
        "outputId": "3f10c105-e4a7-43ad-cd56-6df612ab5001"
      },
      "outputs": [
        {
          "output_type": "stream",
          "name": "stdout",
          "text": [
            "Tweet:      This is my first tweet! It contains one out-of-vocabulary term. Any suggestions for extending this tweet?\n",
            "Encoded:    [  19   13    8  201  271   11    1   60    1 2379  154    1    9    1\n",
            "   19  271]\n",
            "Recovered:  this is my first tweet it [UNK] one [UNK] term any [UNK] for [UNK] this tweet\n"
          ]
        }
      ],
      "source": [
        "text = 'This is my first tweet! It contains one out-of-vocabulary term. Any suggestions for extending this tweet?'\n",
        "encoding = vectorizer([text]).numpy()[0]\n",
        "print('Tweet:     ', text)\n",
        "print('Encoded:   ', encoding)\n",
        "print('Recovered: ',' '.join([vocab[i] for i in encoding]))"
      ]
    },
    {
      "cell_type": "markdown",
      "metadata": {
        "id": "TWtR8_9_iXYn"
      },
      "source": [
        "Note that the vectorizer is not turning the text into a single vector, but is simply replacing the vocabulary words by their indices. If a word is not present in the dictionary it is replaced by the unknown token."
      ]
    },
    {
      "cell_type": "markdown",
      "metadata": {
        "id": "ooxOUCgniXYn"
      },
      "source": [
        "Let's have a look at some actual examples from the dataset, printing out the first 6 tweets:"
      ]
    },
    {
      "cell_type": "code",
      "execution_count": 51,
      "metadata": {
        "id": "Valc7Zj0iXYo",
        "colab": {
          "base_uri": "https://localhost:8080/"
        },
        "outputId": "92853461-c5f5-487f-e149-eb6c28784e66"
      },
      "outputs": [
        {
          "output_type": "stream",
          "name": "stdout",
          "text": [
            "Tweet:      Who's still awake ?:)))\n",
            "Encoded:    [558  90 727]\n",
            "Recovered:  whos still awake\n",
            "\n",
            "Tweet:      @Vanessauhhh he doesn't win any \n",
            "Encoded:    [4526   79  286  325  154]\n",
            "Recovered:  vanessauhhh he doesnt win any\n",
            "\n",
            "Tweet:      @CjayBlanco  follow @jnlazts &amp; http://t.co/RCvcYYO0Iq follow u back \n",
            "Encoded:    [  1  30 259  64 260  30  29  54]\n",
            "Recovered:  [UNK] follow jnlazts amp httptcorcvcyyo0iq follow u back\n",
            "\n",
            "Tweet:      Ain't it too early forrit!!..wah happened to tea,bread and bacon/butter @Alpacino_jay: Done with the Afang soup, making semo is next :D\"\n",
            "Encoded:    [ 622   11   41  616    1  431    3    1    7    1    1  161   36    5\n",
            " 3593 1410  378 2518   13  189  434]\n",
            "Recovered:  aint it too early [UNK] happened to [UNK] and [UNK] [UNK] done with the afang soup making semo is next d\n",
            "\n",
            "Tweet:      @prettyden15  follow @jnlazts &amp; http://t.co/RCvcYYO0Iq follow u back \n",
            "Encoded:    [  1  30 259  64 260  30  29  54]\n",
            "Recovered:  [UNK] follow jnlazts amp httptcorcvcyyo0iq follow u back\n",
            "\n",
            "Tweet:      S2E12 is probably that saddest ive ever felt for rumpy \n",
            "Encoded:    [  1  13 692  21   1 109 212 865   9   1]\n",
            "Recovered:  [UNK] is probably that [UNK] ive ever felt for [UNK]\n",
            "\n"
          ]
        }
      ],
      "source": [
        "for text in batch[0][:6].numpy():\n",
        "    encoding = vectorizer([text]).numpy()[0]\n",
        "    print('Tweet:     ', text.decode(\"utf-8\"))\n",
        "    print('Encoded:   ', encoding)\n",
        "    print('Recovered: ',' '.join([vocab[i] for i in encoding]))\n",
        "    print()"
      ]
    },
    {
      "cell_type": "markdown",
      "metadata": {
        "id": "xQEjQm8BiXYp"
      },
      "source": [
        "### Defining the RNN model\n",
        "\n",
        "Now we can define the model, which contains four layers:\n",
        "- an input embedding layer which produces word embeddings of size 64\n",
        "- a bidirectional LSTM layer\n",
        "- 2 dense (aka fully connected) layers that maps the 2 embedding vectors (of size 64) produced by the bidirectional LSTM down to a single neuron   \n",
        "\n",
        "This constitutes a relatively standard basic RNN architecture. (The details of why these specific components are chosen is beyond the scope of this tutorial.)  \n",
        "\n",
        "Once the model has been defined it is compiled in the following step:"
      ]
    },
    {
      "cell_type": "code",
      "execution_count": 52,
      "metadata": {
        "id": "m0P6FpWqiXYp"
      },
      "outputs": [],
      "source": [
        "model = tf.keras.Sequential([\n",
        "    vectorizer,\n",
        "    tf.keras.layers.Embedding(input_dim=len(vectorizer.get_vocabulary()), output_dim=64, mask_zero=True),\n",
        "    tf.keras.layers.Bidirectional(tf.keras.layers.LSTM(64)),\n",
        "    tf.keras.layers.Dense(64, activation='relu'),\n",
        "    tf.keras.layers.Dense(1)\n",
        "])\n",
        "model.compile(loss=tf.keras.losses.BinaryCrossentropy(from_logits=True), metrics=['accuracy'], optimizer=tf.keras.optimizers.Adam(1e-4))"
      ]
    },
    {
      "cell_type": "markdown",
      "metadata": {
        "id": "07iMKw2miXYq"
      },
      "source": [
        "Fit the model by running it for 10 epochs (iterations over the training data).\n",
        "- Note that we provide it with both the training dataset and the validation dataset:"
      ]
    },
    {
      "cell_type": "code",
      "execution_count": 53,
      "metadata": {
        "id": "QXeL_sejiXYq",
        "colab": {
          "base_uri": "https://localhost:8080/"
        },
        "outputId": "cb1d311e-37ca-4577-8c77-080b342e4f65"
      },
      "outputs": [
        {
          "output_type": "stream",
          "name": "stdout",
          "text": [
            "Epoch 1/10\n",
            "100/100 [==============================] - 25s 139ms/step - loss: 0.6894 - accuracy: 0.5056 - val_loss: 0.6817 - val_accuracy: 0.4797\n",
            "Epoch 2/10\n",
            "100/100 [==============================] - 6s 57ms/step - loss: 0.6583 - accuracy: 0.5175 - val_loss: 0.6112 - val_accuracy: 0.6297\n",
            "Epoch 3/10\n",
            "100/100 [==============================] - 4s 41ms/step - loss: 0.5578 - accuracy: 0.6875 - val_loss: 0.5501 - val_accuracy: 0.7133\n",
            "Epoch 4/10\n",
            "100/100 [==============================] - 3s 28ms/step - loss: 0.4731 - accuracy: 0.7638 - val_loss: 0.5238 - val_accuracy: 0.7359\n",
            "Epoch 5/10\n",
            "100/100 [==============================] - 2s 18ms/step - loss: 0.4078 - accuracy: 0.8178 - val_loss: 0.5190 - val_accuracy: 0.7523\n",
            "Epoch 6/10\n",
            "100/100 [==============================] - 2s 20ms/step - loss: 0.3501 - accuracy: 0.8539 - val_loss: 0.5387 - val_accuracy: 0.7500\n",
            "Epoch 7/10\n",
            "100/100 [==============================] - 2s 17ms/step - loss: 0.3093 - accuracy: 0.8733 - val_loss: 0.5588 - val_accuracy: 0.7633\n",
            "Epoch 8/10\n",
            "100/100 [==============================] - 3s 27ms/step - loss: 0.2727 - accuracy: 0.8920 - val_loss: 0.6090 - val_accuracy: 0.7633\n",
            "Epoch 9/10\n",
            "100/100 [==============================] - 2s 24ms/step - loss: 0.2462 - accuracy: 0.9030 - val_loss: 0.6337 - val_accuracy: 0.7602\n",
            "Epoch 10/10\n",
            "100/100 [==============================] - 2s 15ms/step - loss: 0.2208 - accuracy: 0.9114 - val_loss: 0.6813 - val_accuracy: 0.7609\n"
          ]
        },
        {
          "output_type": "execute_result",
          "data": {
            "text/plain": [
              "<keras.src.callbacks.History at 0x7f2185c61b10>"
            ]
          },
          "metadata": {},
          "execution_count": 53
        }
      ],
      "source": [
        "model.fit(train_dataset, epochs=10, validation_data=valid_dataset, validation_steps=20)"
      ]
    },
    {
      "cell_type": "markdown",
      "metadata": {
        "id": "VDtLeZvsiXYr"
      },
      "source": [
        "Once we've trained the model we can check the final accuracy on the validation data:"
      ]
    },
    {
      "cell_type": "code",
      "execution_count": 54,
      "metadata": {
        "id": "sJs7N3v_iXYr",
        "colab": {
          "base_uri": "https://localhost:8080/"
        },
        "outputId": "5e3e80c0-dccf-4a2a-f1e4-aba0c056ae87"
      },
      "outputs": [
        {
          "output_type": "stream",
          "name": "stdout",
          "text": [
            "25/25 [==============================] - 0s 5ms/step - loss: 0.6802 - accuracy: 0.7644\n",
            "Validation Loss: 0.6801780462265015\n",
            "Validation Accuracy:  0.7643749713897705\n"
          ]
        }
      ],
      "source": [
        "valid_loss, valid_acc = model.evaluate(valid_dataset)\n",
        "\n",
        "print('Validation Loss: {}'.format(valid_loss))\n",
        "print('Validation Accuracy: ',valid_acc)"
      ]
    },
    {
      "cell_type": "markdown",
      "metadata": {
        "id": "5Ea8mN2eiXYr"
      },
      "source": [
        "We can have a look at the predictions from the model:"
      ]
    },
    {
      "cell_type": "code",
      "execution_count": 55,
      "metadata": {
        "id": "PyRcxnYsiXYs",
        "colab": {
          "base_uri": "https://localhost:8080/"
        },
        "outputId": "2630acd1-b3ff-4134-898f-7ef93cb74270"
      },
      "outputs": [
        {
          "output_type": "stream",
          "name": "stdout",
          "text": [
            "1/1 [==============================] - 3s 3s/step\n",
            "tweet:  I can't believe how much fun I'm having learning to train a text classifier with a bidirectional LSTM!\n",
            "encoded as:  i cant believe how much fun im having [UNK] to train a text [UNK] with a [UNK] [UNK]\n",
            "predicted value:  -1.3504039\n",
            "predicted label:  negative\n",
            "\n",
            "tweet:  I am really confused. I want my mommy.\n",
            "encoded as:  i am really confused i want my mommy\n",
            "predicted value:  -4.1366143\n",
            "predicted label:  negative\n",
            "\n",
            "tweet:  The internet connection has been pretty annoying today!\n",
            "encoded as:  the internet [UNK] has been pretty annoying today\n",
            "predicted value:  -1.7420766\n",
            "predicted label:  negative\n",
            "\n",
            "tweet:  They just played my favourite song on the radio.\n",
            "encoded as:  they just played my favourite song on the radio\n",
            "predicted value:  -1.8811368\n",
            "predicted label:  negative\n",
            "\n",
            "tweet:  I don't like going to the dentist.\n",
            "encoded as:  i dont like going to the dentist\n",
            "predicted value:  -1.79202\n",
            "predicted label:  negative\n",
            "\n",
            "tweet:  I am so happy today!\n",
            "encoded as:  i am so happy today\n",
            "predicted value:  1.2456583\n",
            "predicted label:  positive\n",
            "\n",
            "tweet:  I am so unhappy today!\n",
            "encoded as:  i am so unhappy today\n",
            "predicted value:  -1.4668063\n",
            "predicted label:  negative\n",
            "\n"
          ]
        }
      ],
      "source": [
        "tweets = []\n",
        "tweets.append('I can\\'t believe how much fun I\\'m having learning to train a text classifier with a bidirectional LSTM!')\n",
        "tweets.append('I am really confused. I want my mommy.')\n",
        "tweets.append('The internet connection has been pretty annoying today!')\n",
        "tweets.append('They just played my favourite song on the radio.')\n",
        "tweets.append(\"I don't like going to the dentist.\")\n",
        "tweets.append('I am so happy today!')\n",
        "tweets.append('I am so unhappy today!')\n",
        "\n",
        "predictions = model.predict(tf.convert_to_tensor(tweets))\n",
        "\n",
        "for i in range(len(tweets)):\n",
        "  print('tweet: ',tweets[i])\n",
        "  encoding = vectorizer([tweets[i]]).numpy()[0]\n",
        "  print('encoded as: ',' '.join([vocab[j] for j in encoding]))\n",
        "  print('predicted value: ', predictions[i][0])\n",
        "  print('predicted label: ', 'negative' if (predictions[i]<0) else 'positive')\n",
        "  print()"
      ]
    },
    {
      "cell_type": "markdown",
      "metadata": {
        "id": "DxnlfCTTiXYs"
      },
      "source": [
        "And calculate the usual evaluation metrics:"
      ]
    },
    {
      "cell_type": "code",
      "execution_count": 56,
      "metadata": {
        "collapsed": true,
        "jupyter": {
          "outputs_hidden": true
        },
        "id": "vJHQMV24iXYs",
        "colab": {
          "base_uri": "https://localhost:8080/",
          "height": 501
        },
        "outputId": "182df709-4068-420a-cd9d-126e8847ee1d"
      },
      "outputs": [
        {
          "output_type": "stream",
          "name": "stdout",
          "text": [
            "50/50 [==============================] - 0s 7ms/step\n",
            "accuracy: 0.765\n"
          ]
        },
        {
          "output_type": "execute_result",
          "data": {
            "text/plain": [
              "<sklearn.metrics._plot.confusion_matrix.ConfusionMatrixDisplay at 0x7f2176fda8f0>"
            ]
          },
          "metadata": {},
          "execution_count": 56
        },
        {
          "output_type": "display_data",
          "data": {
            "text/plain": [
              "<Figure size 640x480 with 2 Axes>"
            ],
            "image/png": "[encoded data removed]"
          },
          "metadata": {}
        }
      ],
      "source": [
        "pred_y = [0 if (pred < 0) else 1 for pred in model.predict(valid_x)]\n",
        "\n",
        "from sklearn.metrics import accuracy_score\n",
        "print('accuracy: '+ str(accuracy_score(pred_y, valid_y)))\n",
        "\n",
        "from sklearn.metrics import confusion_matrix, ConfusionMatrixDisplay\n",
        "cmd = ConfusionMatrixDisplay(confusion_matrix(valid_y, pred_y,normalize='true'), display_labels=['negative', 'positive'])\n",
        "cmd.plot()"
      ]
    },
    {
      "cell_type": "markdown",
      "metadata": {
        "id": "AniRWmR9iXYt"
      },
      "source": [
        "Finally, let's print out the model summary to get an understanding of the number of parameters in the model:"
      ]
    },
    {
      "cell_type": "code",
      "execution_count": 57,
      "metadata": {
        "id": "MgCTCVhKiXYt",
        "colab": {
          "base_uri": "https://localhost:8080/"
        },
        "outputId": "bc8997dd-75c4-4e4c-8324-1a3eef6a87ee"
      },
      "outputs": [
        {
          "output_type": "stream",
          "name": "stdout",
          "text": [
            "Model: \"sequential\"\n",
            "_________________________________________________________________\n",
            " Layer (type)                Output Shape              Param #   \n",
            "=================================================================\n",
            " text_vectorization (TextVe  (None, None)              0         \n",
            " ctorization)                                                    \n",
            "                                                                 \n",
            " embedding (Embedding)       (None, None, 64)          320000    \n",
            "                                                                 \n",
            " bidirectional (Bidirection  (None, 128)               66048     \n",
            " al)                                                             \n",
            "                                                                 \n",
            " dense (Dense)               (None, 64)                8256      \n",
            "                                                                 \n",
            " dense_1 (Dense)             (None, 1)                 65        \n",
            "                                                                 \n",
            "=================================================================\n",
            "Total params: 394369 (1.50 MB)\n",
            "Trainable params: 394369 (1.50 MB)\n",
            "Non-trainable params: 0 (0.00 Byte)\n",
            "_________________________________________________________________\n",
            "None\n"
          ]
        }
      ],
      "source": [
        "print(model.summary())"
      ]
    },
    {
      "cell_type": "markdown",
      "metadata": {
        "id": "33QHZMnCiXYu"
      },
      "source": [
        "Most of the parameters are used to define the embeddiing, then the LSTMs."
      ]
    },
    {
      "cell_type": "markdown",
      "metadata": {
        "id": "0OgRPEb6pdlv"
      },
      "source": [
        "## Installing spaCy and downloading models\n",
        "\n",
        "First we need to check whether the spaCy library is installed:"
      ]
    },
    {
      "cell_type": "code",
      "execution_count": 58,
      "metadata": {
        "id": "3083U81cpdlv",
        "colab": {
          "base_uri": "https://localhost:8080/"
        },
        "outputId": "35428b3d-829c-4035-f25e-b4207296b455"
      },
      "outputs": [
        {
          "output_type": "stream",
          "name": "stdout",
          "text": [
            "Requirement already satisfied: spacy in /usr/local/lib/python3.10/dist-packages (3.7.4)\n",
            "Requirement already satisfied: spacy-legacy<3.1.0,>=3.0.11 in /usr/local/lib/python3.10/dist-packages (from spacy) (3.0.12)\n",
            "Requirement already satisfied: spacy-loggers<2.0.0,>=1.0.0 in /usr/local/lib/python3.10/dist-packages (from spacy) (1.0.5)\n",
            "Requirement already satisfied: murmurhash<1.1.0,>=0.28.0 in /usr/local/lib/python3.10/dist-packages (from spacy) (1.0.10)\n",
            "Requirement already satisfied: cymem<2.1.0,>=2.0.2 in /usr/local/lib/python3.10/dist-packages (from spacy) (2.0.8)\n",
            "Requirement already satisfied: preshed<3.1.0,>=3.0.2 in /usr/local/lib/python3.10/dist-packages (from spacy) (3.0.9)\n",
            "Requirement already satisfied: thinc<8.3.0,>=8.2.2 in /usr/local/lib/python3.10/dist-packages (from spacy) (8.2.3)\n",
            "Requirement already satisfied: wasabi<1.2.0,>=0.9.1 in /usr/local/lib/python3.10/dist-packages (from spacy) (1.1.2)\n",
            "Requirement already satisfied: srsly<3.0.0,>=2.4.3 in /usr/local/lib/python3.10/dist-packages (from spacy) (2.4.8)\n",
            "Requirement already satisfied: catalogue<2.1.0,>=2.0.6 in /usr/local/lib/python3.10/dist-packages (from spacy) (2.0.10)\n",
            "Requirement already satisfied: weasel<0.4.0,>=0.1.0 in /usr/local/lib/python3.10/dist-packages (from spacy) (0.3.4)\n",
            "Requirement already satisfied: typer<0.10.0,>=0.3.0 in /usr/local/lib/python3.10/dist-packages (from spacy) (0.9.4)\n",
            "Requirement already satisfied: smart-open<7.0.0,>=5.2.1 in /usr/local/lib/python3.10/dist-packages (from spacy) (6.4.0)\n",
            "Requirement already satisfied: tqdm<5.0.0,>=4.38.0 in /usr/local/lib/python3.10/dist-packages (from spacy) (4.66.2)\n",
            "Requirement already satisfied: requests<3.0.0,>=2.13.0 in /usr/local/lib/python3.10/dist-packages (from spacy) (2.31.0)\n",
            "Requirement already satisfied: pydantic!=1.8,!=1.8.1,<3.0.0,>=1.7.4 in /usr/local/lib/python3.10/dist-packages (from spacy) (2.6.4)\n",
            "Requirement already satisfied: jinja2 in /usr/local/lib/python3.10/dist-packages (from spacy) (3.1.3)\n",
            "Requirement already satisfied: setuptools in /usr/local/lib/python3.10/dist-packages (from spacy) (67.7.2)\n",
            "Requirement already satisfied: packaging>=20.0 in /usr/local/lib/python3.10/dist-packages (from spacy) (24.0)\n",
            "Requirement already satisfied: langcodes<4.0.0,>=3.2.0 in /usr/local/lib/python3.10/dist-packages (from spacy) (3.3.0)\n",
            "Requirement already satisfied: numpy>=1.19.0 in /usr/local/lib/python3.10/dist-packages (from spacy) (1.25.2)\n",
            "Requirement already satisfied: annotated-types>=0.4.0 in /usr/local/lib/python3.10/dist-packages (from pydantic!=1.8,!=1.8.1,<3.0.0,>=1.7.4->spacy) (0.6.0)\n",
            "Requirement already satisfied: pydantic-core==2.16.3 in /usr/local/lib/python3.10/dist-packages (from pydantic!=1.8,!=1.8.1,<3.0.0,>=1.7.4->spacy) (2.16.3)\n",
            "Requirement already satisfied: typing-extensions>=4.6.1 in /usr/local/lib/python3.10/dist-packages (from pydantic!=1.8,!=1.8.1,<3.0.0,>=1.7.4->spacy) (4.11.0)\n",
            "Requirement already satisfied: charset-normalizer<4,>=2 in /usr/local/lib/python3.10/dist-packages (from requests<3.0.0,>=2.13.0->spacy) (3.3.2)\n",
            "Requirement already satisfied: idna<4,>=2.5 in /usr/local/lib/python3.10/dist-packages (from requests<3.0.0,>=2.13.0->spacy) (3.6)\n",
            "Requirement already satisfied: urllib3<3,>=1.21.1 in /usr/local/lib/python3.10/dist-packages (from requests<3.0.0,>=2.13.0->spacy) (2.0.7)\n",
            "Requirement already satisfied: certifi>=2017.4.17 in /usr/local/lib/python3.10/dist-packages (from requests<3.0.0,>=2.13.0->spacy) (2024.2.2)\n",
            "Requirement already satisfied: blis<0.8.0,>=0.7.8 in /usr/local/lib/python3.10/dist-packages (from thinc<8.3.0,>=8.2.2->spacy) (0.7.11)\n",
            "Requirement already satisfied: confection<1.0.0,>=0.0.1 in /usr/local/lib/python3.10/dist-packages (from thinc<8.3.0,>=8.2.2->spacy) (0.1.4)\n",
            "Requirement already satisfied: click<9.0.0,>=7.1.1 in /usr/local/lib/python3.10/dist-packages (from typer<0.10.0,>=0.3.0->spacy) (8.1.7)\n",
            "Requirement already satisfied: cloudpathlib<0.17.0,>=0.7.0 in /usr/local/lib/python3.10/dist-packages (from weasel<0.4.0,>=0.1.0->spacy) (0.16.0)\n",
            "Requirement already satisfied: MarkupSafe>=2.0 in /usr/local/lib/python3.10/dist-packages (from jinja2->spacy) (2.1.5)\n"
          ]
        }
      ],
      "source": [
        "!pip install -U spacy"
      ]
    },
    {
      "cell_type": "markdown",
      "metadata": {
        "id": "CJ1xLIcHpdlw"
      },
      "source": [
        "Then we need to download pretrained models for use with spaCy. We will load models for both English and Italian:\n",
        "- The models are called 'en_core_web_sm' and 'it_core_news_sm', where the 'web'/'news' indicates what type of collection the model was trained on and the 'sm' at the end indicates that we are using the 'small' version of the models\n",
        "- Other models are available here: https://spacy.io/models\n",
        "- The following code calls the python executable instructing it to run the module 'spacy', which in turn download the models. See discussion here: https://stackoverflow.com/questions/46148033/unable-to-load-en-from-spacy-in-jupyter-notebook"
      ]
    },
    {
      "cell_type": "code",
      "execution_count": 59,
      "metadata": {
        "id": "dyv-NpFbpdlw",
        "colab": {
          "base_uri": "https://localhost:8080/"
        },
        "outputId": "531c6195-71bd-4bb2-82aa-7397293e0abb"
      },
      "outputs": [
        {
          "output_type": "stream",
          "name": "stdout",
          "text": [
            "Collecting en-core-web-sm==3.7.1\n",
            "  Downloading https://github.com/explosion/spacy-models/releases/download/en_core_web_sm-3.7.1/en_core_web_sm-3.7.1-py3-none-any.whl (12.8 MB)\n",
            "\u001b[2K     \u001b[90m━━━━━━━━━━━━━━━━━━━━━━━━━━━━━━━━━━━━━━━━\u001b[0m \u001b[32m12.8/12.8 MB\u001b[0m \u001b[31m21.2 MB/s\u001b[0m eta \u001b[36m0:00:00\u001b[0m\n",
            "\u001b[?25hRequirement already satisfied: spacy<3.8.0,>=3.7.2 in /usr/local/lib/python3.10/dist-packages (from en-core-web-sm==3.7.1) (3.7.4)\n",
            "Requirement already satisfied: spacy-legacy<3.1.0,>=3.0.11 in /usr/local/lib/python3.10/dist-packages (from spacy<3.8.0,>=3.7.2->en-core-web-sm==3.7.1) (3.0.12)\n",
            "Requirement already satisfied: spacy-loggers<2.0.0,>=1.0.0 in /usr/local/lib/python3.10/dist-packages (from spacy<3.8.0,>=3.7.2->en-core-web-sm==3.7.1) (1.0.5)\n",
            "Requirement already satisfied: murmurhash<1.1.0,>=0.28.0 in /usr/local/lib/python3.10/dist-packages (from spacy<3.8.0,>=3.7.2->en-core-web-sm==3.7.1) (1.0.10)\n",
            "Requirement already satisfied: cymem<2.1.0,>=2.0.2 in /usr/local/lib/python3.10/dist-packages (from spacy<3.8.0,>=3.7.2->en-core-web-sm==3.7.1) (2.0.8)\n",
            "Requirement already satisfied: preshed<3.1.0,>=3.0.2 in /usr/local/lib/python3.10/dist-packages (from spacy<3.8.0,>=3.7.2->en-core-web-sm==3.7.1) (3.0.9)\n",
            "Requirement already satisfied: thinc<8.3.0,>=8.2.2 in /usr/local/lib/python3.10/dist-packages (from spacy<3.8.0,>=3.7.2->en-core-web-sm==3.7.1) (8.2.3)\n",
            "Requirement already satisfied: wasabi<1.2.0,>=0.9.1 in /usr/local/lib/python3.10/dist-packages (from spacy<3.8.0,>=3.7.2->en-core-web-sm==3.7.1) (1.1.2)\n",
            "Requirement already satisfied: srsly<3.0.0,>=2.4.3 in /usr/local/lib/python3.10/dist-packages (from spacy<3.8.0,>=3.7.2->en-core-web-sm==3.7.1) (2.4.8)\n",
            "Requirement already satisfied: catalogue<2.1.0,>=2.0.6 in /usr/local/lib/python3.10/dist-packages (from spacy<3.8.0,>=3.7.2->en-core-web-sm==3.7.1) (2.0.10)\n",
            "Requirement already satisfied: weasel<0.4.0,>=0.1.0 in /usr/local/lib/python3.10/dist-packages (from spacy<3.8.0,>=3.7.2->en-core-web-sm==3.7.1) (0.3.4)\n",
            "Requirement already satisfied: typer<0.10.0,>=0.3.0 in /usr/local/lib/python3.10/dist-packages (from spacy<3.8.0,>=3.7.2->en-core-web-sm==3.7.1) (0.9.4)\n",
            "Requirement already satisfied: smart-open<7.0.0,>=5.2.1 in /usr/local/lib/python3.10/dist-packages (from spacy<3.8.0,>=3.7.2->en-core-web-sm==3.7.1) (6.4.0)\n",
            "Requirement already satisfied: tqdm<5.0.0,>=4.38.0 in /usr/local/lib/python3.10/dist-packages (from spacy<3.8.0,>=3.7.2->en-core-web-sm==3.7.1) (4.66.2)\n",
            "Requirement already satisfied: requests<3.0.0,>=2.13.0 in /usr/local/lib/python3.10/dist-packages (from spacy<3.8.0,>=3.7.2->en-core-web-sm==3.7.1) (2.31.0)\n",
            "Requirement already satisfied: pydantic!=1.8,!=1.8.1,<3.0.0,>=1.7.4 in /usr/local/lib/python3.10/dist-packages (from spacy<3.8.0,>=3.7.2->en-core-web-sm==3.7.1) (2.6.4)\n",
            "Requirement already satisfied: jinja2 in /usr/local/lib/python3.10/dist-packages (from spacy<3.8.0,>=3.7.2->en-core-web-sm==3.7.1) (3.1.3)\n",
            "Requirement already satisfied: setuptools in /usr/local/lib/python3.10/dist-packages (from spacy<3.8.0,>=3.7.2->en-core-web-sm==3.7.1) (67.7.2)\n",
            "Requirement already satisfied: packaging>=20.0 in /usr/local/lib/python3.10/dist-packages (from spacy<3.8.0,>=3.7.2->en-core-web-sm==3.7.1) (24.0)\n",
            "Requirement already satisfied: langcodes<4.0.0,>=3.2.0 in /usr/local/lib/python3.10/dist-packages (from spacy<3.8.0,>=3.7.2->en-core-web-sm==3.7.1) (3.3.0)\n",
            "Requirement already satisfied: numpy>=1.19.0 in /usr/local/lib/python3.10/dist-packages (from spacy<3.8.0,>=3.7.2->en-core-web-sm==3.7.1) (1.25.2)\n",
            "Requirement already satisfied: annotated-types>=0.4.0 in /usr/local/lib/python3.10/dist-packages (from pydantic!=1.8,!=1.8.1,<3.0.0,>=1.7.4->spacy<3.8.0,>=3.7.2->en-core-web-sm==3.7.1) (0.6.0)\n",
            "Requirement already satisfied: pydantic-core==2.16.3 in /usr/local/lib/python3.10/dist-packages (from pydantic!=1.8,!=1.8.1,<3.0.0,>=1.7.4->spacy<3.8.0,>=3.7.2->en-core-web-sm==3.7.1) (2.16.3)\n",
            "Requirement already satisfied: typing-extensions>=4.6.1 in /usr/local/lib/python3.10/dist-packages (from pydantic!=1.8,!=1.8.1,<3.0.0,>=1.7.4->spacy<3.8.0,>=3.7.2->en-core-web-sm==3.7.1) (4.11.0)\n",
            "Requirement already satisfied: charset-normalizer<4,>=2 in /usr/local/lib/python3.10/dist-packages (from requests<3.0.0,>=2.13.0->spacy<3.8.0,>=3.7.2->en-core-web-sm==3.7.1) (3.3.2)\n",
            "Requirement already satisfied: idna<4,>=2.5 in /usr/local/lib/python3.10/dist-packages (from requests<3.0.0,>=2.13.0->spacy<3.8.0,>=3.7.2->en-core-web-sm==3.7.1) (3.6)\n",
            "Requirement already satisfied: urllib3<3,>=1.21.1 in /usr/local/lib/python3.10/dist-packages (from requests<3.0.0,>=2.13.0->spacy<3.8.0,>=3.7.2->en-core-web-sm==3.7.1) (2.0.7)\n",
            "Requirement already satisfied: certifi>=2017.4.17 in /usr/local/lib/python3.10/dist-packages (from requests<3.0.0,>=2.13.0->spacy<3.8.0,>=3.7.2->en-core-web-sm==3.7.1) (2024.2.2)\n",
            "Requirement already satisfied: blis<0.8.0,>=0.7.8 in /usr/local/lib/python3.10/dist-packages (from thinc<8.3.0,>=8.2.2->spacy<3.8.0,>=3.7.2->en-core-web-sm==3.7.1) (0.7.11)\n",
            "Requirement already satisfied: confection<1.0.0,>=0.0.1 in /usr/local/lib/python3.10/dist-packages (from thinc<8.3.0,>=8.2.2->spacy<3.8.0,>=3.7.2->en-core-web-sm==3.7.1) (0.1.4)\n",
            "Requirement already satisfied: click<9.0.0,>=7.1.1 in /usr/local/lib/python3.10/dist-packages (from typer<0.10.0,>=0.3.0->spacy<3.8.0,>=3.7.2->en-core-web-sm==3.7.1) (8.1.7)\n",
            "Requirement already satisfied: cloudpathlib<0.17.0,>=0.7.0 in /usr/local/lib/python3.10/dist-packages (from weasel<0.4.0,>=0.1.0->spacy<3.8.0,>=3.7.2->en-core-web-sm==3.7.1) (0.16.0)\n",
            "Requirement already satisfied: MarkupSafe>=2.0 in /usr/local/lib/python3.10/dist-packages (from jinja2->spacy<3.8.0,>=3.7.2->en-core-web-sm==3.7.1) (2.1.5)\n",
            "\u001b[38;5;2m✔ Download and installation successful\u001b[0m\n",
            "You can now load the package via spacy.load('en_core_web_sm')\n",
            "\u001b[38;5;3m⚠ Restart to reload dependencies\u001b[0m\n",
            "If you are in a Jupyter or Colab notebook, you may need to restart Python in\n",
            "order to load all the package's dependencies. You can do this by selecting the\n",
            "'Restart kernel' or 'Restart runtime' option.\n",
            "Collecting it-core-news-sm==3.7.0\n",
            "  Downloading https://github.com/explosion/spacy-models/releases/download/it_core_news_sm-3.7.0/it_core_news_sm-3.7.0-py3-none-any.whl (13.0 MB)\n",
            "\u001b[2K     \u001b[90m━━━━━━━━━━━━━━━━━━━━━━━━━━━━━━━━━━━━━━━━\u001b[0m \u001b[32m13.0/13.0 MB\u001b[0m \u001b[31m31.4 MB/s\u001b[0m eta \u001b[36m0:00:00\u001b[0m\n",
            "\u001b[?25hRequirement already satisfied: spacy<3.8.0,>=3.7.0 in /usr/local/lib/python3.10/dist-packages (from it-core-news-sm==3.7.0) (3.7.4)\n",
            "Requirement already satisfied: spacy-legacy<3.1.0,>=3.0.11 in /usr/local/lib/python3.10/dist-packages (from spacy<3.8.0,>=3.7.0->it-core-news-sm==3.7.0) (3.0.12)\n",
            "Requirement already satisfied: spacy-loggers<2.0.0,>=1.0.0 in /usr/local/lib/python3.10/dist-packages (from spacy<3.8.0,>=3.7.0->it-core-news-sm==3.7.0) (1.0.5)\n",
            "Requirement already satisfied: murmurhash<1.1.0,>=0.28.0 in /usr/local/lib/python3.10/dist-packages (from spacy<3.8.0,>=3.7.0->it-core-news-sm==3.7.0) (1.0.10)\n",
            "Requirement already satisfied: cymem<2.1.0,>=2.0.2 in /usr/local/lib/python3.10/dist-packages (from spacy<3.8.0,>=3.7.0->it-core-news-sm==3.7.0) (2.0.8)\n",
            "Requirement already satisfied: preshed<3.1.0,>=3.0.2 in /usr/local/lib/python3.10/dist-packages (from spacy<3.8.0,>=3.7.0->it-core-news-sm==3.7.0) (3.0.9)\n",
            "Requirement already satisfied: thinc<8.3.0,>=8.2.2 in /usr/local/lib/python3.10/dist-packages (from spacy<3.8.0,>=3.7.0->it-core-news-sm==3.7.0) (8.2.3)\n",
            "Requirement already satisfied: wasabi<1.2.0,>=0.9.1 in /usr/local/lib/python3.10/dist-packages (from spacy<3.8.0,>=3.7.0->it-core-news-sm==3.7.0) (1.1.2)\n",
            "Requirement already satisfied: srsly<3.0.0,>=2.4.3 in /usr/local/lib/python3.10/dist-packages (from spacy<3.8.0,>=3.7.0->it-core-news-sm==3.7.0) (2.4.8)\n",
            "Requirement already satisfied: catalogue<2.1.0,>=2.0.6 in /usr/local/lib/python3.10/dist-packages (from spacy<3.8.0,>=3.7.0->it-core-news-sm==3.7.0) (2.0.10)\n",
            "Requirement already satisfied: weasel<0.4.0,>=0.1.0 in /usr/local/lib/python3.10/dist-packages (from spacy<3.8.0,>=3.7.0->it-core-news-sm==3.7.0) (0.3.4)\n",
            "Requirement already satisfied: typer<0.10.0,>=0.3.0 in /usr/local/lib/python3.10/dist-packages (from spacy<3.8.0,>=3.7.0->it-core-news-sm==3.7.0) (0.9.4)\n",
            "Requirement already satisfied: smart-open<7.0.0,>=5.2.1 in /usr/local/lib/python3.10/dist-packages (from spacy<3.8.0,>=3.7.0->it-core-news-sm==3.7.0) (6.4.0)\n",
            "Requirement already satisfied: tqdm<5.0.0,>=4.38.0 in /usr/local/lib/python3.10/dist-packages (from spacy<3.8.0,>=3.7.0->it-core-news-sm==3.7.0) (4.66.2)\n",
            "Requirement already satisfied: requests<3.0.0,>=2.13.0 in /usr/local/lib/python3.10/dist-packages (from spacy<3.8.0,>=3.7.0->it-core-news-sm==3.7.0) (2.31.0)\n",
            "Requirement already satisfied: pydantic!=1.8,!=1.8.1,<3.0.0,>=1.7.4 in /usr/local/lib/python3.10/dist-packages (from spacy<3.8.0,>=3.7.0->it-core-news-sm==3.7.0) (2.6.4)\n",
            "Requirement already satisfied: jinja2 in /usr/local/lib/python3.10/dist-packages (from spacy<3.8.0,>=3.7.0->it-core-news-sm==3.7.0) (3.1.3)\n",
            "Requirement already satisfied: setuptools in /usr/local/lib/python3.10/dist-packages (from spacy<3.8.0,>=3.7.0->it-core-news-sm==3.7.0) (67.7.2)\n",
            "Requirement already satisfied: packaging>=20.0 in /usr/local/lib/python3.10/dist-packages (from spacy<3.8.0,>=3.7.0->it-core-news-sm==3.7.0) (24.0)\n",
            "Requirement already satisfied: langcodes<4.0.0,>=3.2.0 in /usr/local/lib/python3.10/dist-packages (from spacy<3.8.0,>=3.7.0->it-core-news-sm==3.7.0) (3.3.0)\n",
            "Requirement already satisfied: numpy>=1.19.0 in /usr/local/lib/python3.10/dist-packages (from spacy<3.8.0,>=3.7.0->it-core-news-sm==3.7.0) (1.25.2)\n",
            "Requirement already satisfied: annotated-types>=0.4.0 in /usr/local/lib/python3.10/dist-packages (from pydantic!=1.8,!=1.8.1,<3.0.0,>=1.7.4->spacy<3.8.0,>=3.7.0->it-core-news-sm==3.7.0) (0.6.0)\n",
            "Requirement already satisfied: pydantic-core==2.16.3 in /usr/local/lib/python3.10/dist-packages (from pydantic!=1.8,!=1.8.1,<3.0.0,>=1.7.4->spacy<3.8.0,>=3.7.0->it-core-news-sm==3.7.0) (2.16.3)\n",
            "Requirement already satisfied: typing-extensions>=4.6.1 in /usr/local/lib/python3.10/dist-packages (from pydantic!=1.8,!=1.8.1,<3.0.0,>=1.7.4->spacy<3.8.0,>=3.7.0->it-core-news-sm==3.7.0) (4.11.0)\n",
            "Requirement already satisfied: charset-normalizer<4,>=2 in /usr/local/lib/python3.10/dist-packages (from requests<3.0.0,>=2.13.0->spacy<3.8.0,>=3.7.0->it-core-news-sm==3.7.0) (3.3.2)\n",
            "Requirement already satisfied: idna<4,>=2.5 in /usr/local/lib/python3.10/dist-packages (from requests<3.0.0,>=2.13.0->spacy<3.8.0,>=3.7.0->it-core-news-sm==3.7.0) (3.6)\n",
            "Requirement already satisfied: urllib3<3,>=1.21.1 in /usr/local/lib/python3.10/dist-packages (from requests<3.0.0,>=2.13.0->spacy<3.8.0,>=3.7.0->it-core-news-sm==3.7.0) (2.0.7)\n",
            "Requirement already satisfied: certifi>=2017.4.17 in /usr/local/lib/python3.10/dist-packages (from requests<3.0.0,>=2.13.0->spacy<3.8.0,>=3.7.0->it-core-news-sm==3.7.0) (2024.2.2)\n",
            "Requirement already satisfied: blis<0.8.0,>=0.7.8 in /usr/local/lib/python3.10/dist-packages (from thinc<8.3.0,>=8.2.2->spacy<3.8.0,>=3.7.0->it-core-news-sm==3.7.0) (0.7.11)\n",
            "Requirement already satisfied: confection<1.0.0,>=0.0.1 in /usr/local/lib/python3.10/dist-packages (from thinc<8.3.0,>=8.2.2->spacy<3.8.0,>=3.7.0->it-core-news-sm==3.7.0) (0.1.4)\n",
            "Requirement already satisfied: click<9.0.0,>=7.1.1 in /usr/local/lib/python3.10/dist-packages (from typer<0.10.0,>=0.3.0->spacy<3.8.0,>=3.7.0->it-core-news-sm==3.7.0) (8.1.7)\n",
            "Requirement already satisfied: cloudpathlib<0.17.0,>=0.7.0 in /usr/local/lib/python3.10/dist-packages (from weasel<0.4.0,>=0.1.0->spacy<3.8.0,>=3.7.0->it-core-news-sm==3.7.0) (0.16.0)\n",
            "Requirement already satisfied: MarkupSafe>=2.0 in /usr/local/lib/python3.10/dist-packages (from jinja2->spacy<3.8.0,>=3.7.0->it-core-news-sm==3.7.0) (2.1.5)\n",
            "Installing collected packages: it-core-news-sm\n",
            "Successfully installed it-core-news-sm-3.7.0\n",
            "\u001b[38;5;2m✔ Download and installation successful\u001b[0m\n",
            "You can now load the package via spacy.load('it_core_news_sm')\n",
            "\u001b[38;5;3m⚠ Restart to reload dependencies\u001b[0m\n",
            "If you are in a Jupyter or Colab notebook, you may need to restart Python in\n",
            "order to load all the package's dependencies. You can do this by selecting the\n",
            "'Restart kernel' or 'Restart runtime' option.\n"
          ]
        }
      ],
      "source": [
        "import sys\n",
        "!{sys.executable} -m spacy download en_core_web_sm\n",
        "!{sys.executable} -m spacy download it_core_news_sm;"
      ]
    },
    {
      "cell_type": "markdown",
      "metadata": {
        "id": "yYRlbtvspdlx"
      },
      "source": [
        "We are now ready to import spacy and load a model. Let's start with the English model:"
      ]
    },
    {
      "cell_type": "code",
      "execution_count": 60,
      "metadata": {
        "id": "4KHrsza0pdlx"
      },
      "outputs": [],
      "source": [
        "import spacy\n",
        "import en_core_web_sm\n",
        "nlp_model = en_core_web_sm.load()"
      ]
    },
    {
      "cell_type": "markdown",
      "metadata": {
        "id": "jy4K8dRApdlx"
      },
      "source": [
        "Consider the following piece of text:"
      ]
    },
    {
      "cell_type": "code",
      "execution_count": 61,
      "metadata": {
        "id": "3MGjLJU0pdlx",
        "colab": {
          "base_uri": "https://localhost:8080/"
        },
        "outputId": "a2a064a4-8065-408c-c301-b8f1df7576e6"
      },
      "outputs": [
        {
          "output_type": "stream",
          "name": "stdout",
          "text": [
            "Melbourne is to re-enter Stage 3 lockdown after a record increase in cases. Victorian state premier Daniel Andrews said there was “simply no alternative” to reimposing stay at home restrictions in Australia’s second-biggest city.\n"
          ]
        }
      ],
      "source": [
        "text = 'Melbourne is to re-enter Stage 3 lockdown after a record increase in cases. Victorian state premier Daniel Andrews said there was “simply no alternative” to reimposing stay at home restrictions in Australia’s second-biggest city.'\n",
        "# text = \"Good evening, London. Allow me first to apologize for this interruption. I do, like many of you, appreciate the comforts of everyday routine, the security of the familiar, the tranquillity of repetition. I enjoy them as much as any bloke. But in the spirit of commemoration, whereby those important events of the past, usually associated with someone's death or the end of some awful bloody struggle, are celebrated with a nice holiday, I thought we could mark this November the fifth, a day that is sadly no longer remembered, by taking some time out of our daily lives to sit down and have a little chat.\"\n",
        "print(text)"
      ]
    },
    {
      "cell_type": "markdown",
      "metadata": {
        "id": "h_rCI0Hbpdly"
      },
      "source": [
        "Parse the text using the NLP engine:"
      ]
    },
    {
      "cell_type": "code",
      "execution_count": 62,
      "metadata": {
        "id": "xmpvXvjapdly",
        "colab": {
          "base_uri": "https://localhost:8080/"
        },
        "outputId": "3d3a212a-c9bb-4dcb-ed2d-e7e2453f8594"
      },
      "outputs": [
        {
          "output_type": "stream",
          "name": "stdout",
          "text": [
            "Melbourne is to re-enter Stage 3 lockdown after a record increase in cases. Victorian state premier Daniel Andrews said there was “simply no alternative” to reimposing stay at home restrictions in Australia’s second-biggest city.\n"
          ]
        }
      ],
      "source": [
        "parsed_text = nlp_model(text)\n",
        "print(parsed_text)"
      ]
    },
    {
      "cell_type": "markdown",
      "metadata": {
        "id": "nnXyGOx0pdlz"
      },
      "source": [
        "Did it do something? It looks like it has just output the same text.\n",
        "- Actually, yes. It has parsed the input and built its internal datastructure from it.\n",
        "- Note that the length of the parsed object is in words, not characters:"
      ]
    },
    {
      "cell_type": "code",
      "execution_count": 63,
      "metadata": {
        "id": "fbAOI2Mnpdlz",
        "colab": {
          "base_uri": "https://localhost:8080/"
        },
        "outputId": "932d9929-44f8-492d-aa49-fa9d6e631102"
      },
      "outputs": [
        {
          "output_type": "stream",
          "name": "stdout",
          "text": [
            "The length of the original text is 229 chacacters\n",
            "The length of the parsed text is 43 words\n"
          ]
        }
      ],
      "source": [
        "print(f'The length of the original text is {len(text)} chacacters')\n",
        "print(f'The length of the parsed text is {len(parsed_text)} words')"
      ]
    },
    {
      "cell_type": "markdown",
      "metadata": {
        "id": "xImJ-i_Lpdlz"
      },
      "source": [
        "## Part-of-Speech Tagging\n",
        "\n",
        "While parsing the text, spaCy performs part-of-speech (POS) tagging.\n",
        "- We can see the POS tag for each token as follows:"
      ]
    },
    {
      "cell_type": "code",
      "execution_count": 64,
      "metadata": {
        "id": "Ho4HEJTLpdlz",
        "colab": {
          "base_uri": "https://localhost:8080/"
        },
        "outputId": "9efa97b3-fb53-4fcf-e456-6b275563a190"
      },
      "outputs": [
        {
          "output_type": "execute_result",
          "data": {
            "text/plain": [
              "[(Melbourne, 'PROPN'),\n",
              " (is, 'AUX'),\n",
              " (to, 'PART'),\n",
              " (re, 'VERB'),\n",
              " (-, 'VERB'),\n",
              " (enter, 'VERB'),\n",
              " (Stage, 'NOUN'),\n",
              " (3, 'NUM'),\n",
              " (lockdown, 'NOUN'),\n",
              " (after, 'ADP'),\n",
              " (a, 'DET'),\n",
              " (record, 'NOUN'),\n",
              " (increase, 'NOUN'),\n",
              " (in, 'ADP'),\n",
              " (cases, 'NOUN'),\n",
              " (., 'PUNCT'),\n",
              " (Victorian, 'ADJ'),\n",
              " (state, 'NOUN'),\n",
              " (premier, 'NOUN'),\n",
              " (Daniel, 'PROPN'),\n",
              " (Andrews, 'PROPN'),\n",
              " (said, 'VERB'),\n",
              " (there, 'PRON'),\n",
              " (was, 'VERB'),\n",
              " (“, 'PUNCT'),\n",
              " (simply, 'ADV'),\n",
              " (no, 'DET'),\n",
              " (alternative, 'NOUN'),\n",
              " (”, 'PUNCT'),\n",
              " (to, 'ADP'),\n",
              " (reimposing, 'VERB'),\n",
              " (stay, 'NOUN'),\n",
              " (at, 'ADP'),\n",
              " (home, 'NOUN'),\n",
              " (restrictions, 'NOUN'),\n",
              " (in, 'ADP'),\n",
              " (Australia, 'PROPN'),\n",
              " (’s, 'PART'),\n",
              " (second, 'ADV'),\n",
              " (-, 'PUNCT'),\n",
              " (biggest, 'ADJ'),\n",
              " (city, 'NOUN'),\n",
              " (., 'PUNCT')]"
            ]
          },
          "metadata": {},
          "execution_count": 64
        }
      ],
      "source": [
        "[(w,w.pos_) for w in parsed_text]"
      ]
    },
    {
      "cell_type": "markdown",
      "metadata": {
        "id": "YFEzvleepdlz"
      },
      "source": [
        "Who remembers their grammar from high school? What do all those POS symbols mean?\n",
        "- You can find an explanation of the POS tags on this website https://spacy.io/api/annotation in the section \"Universal Part-of-speech Tags\"\n",
        "\n",
        "What can we do with POS tags?\n",
        "- Well, we could select all terms that have a certain tag, such as all adjectives:"
      ]
    },
    {
      "cell_type": "code",
      "execution_count": 65,
      "metadata": {
        "id": "6Kcjc28lpdl0",
        "colab": {
          "base_uri": "https://localhost:8080/"
        },
        "outputId": "4dea7680-6421-4eb6-d862-9fa7e015bfc0"
      },
      "outputs": [
        {
          "output_type": "execute_result",
          "data": {
            "text/plain": [
              "{Victorian, biggest}"
            ]
          },
          "metadata": {},
          "execution_count": 65
        }
      ],
      "source": [
        "set(w for w in parsed_text if w.pos_=='ADJ')"
      ]
    },
    {
      "cell_type": "markdown",
      "metadata": {
        "id": "ftw5HEYEpdl0"
      },
      "source": [
        "That was a little underwhelming.\n",
        "- Let's try it on Alice in Wonderland chapter 1 text. (You'll need to upload it again to Google Colab)"
      ]
    },
    {
      "cell_type": "code",
      "execution_count": 66,
      "metadata": {
        "id": "tGRt3HF8pdl0",
        "colab": {
          "base_uri": "https://localhost:8080/"
        },
        "outputId": "b56d65d1-2730-4dc7-c277-1f118accdd18"
      },
      "outputs": [
        {
          "output_type": "stream",
          "name": "stdout",
          "text": [
            "['afraid', 'best', 'brave', 'bright', 'buttered', 'certain', 'close', 'common', 'cool', 'curious', 'dark', 'dear', 'deep', 'dreamy', 'dry', 'dull', 'empty', 'enough', 'fancy', 'few', 'first', 'fond', 'funny', 'glad', 'golden', 'good', 'grand', 'great', 'high', 'hot', 'hurt', 'ignorant', 'impossible', 'large', 'larger', 'late', 'legged', 'likely', 'little', 'long', 'loveliest', 'lovely', 'low', 'many', 'mixed', 'natural', 'nervous', 'nice', 'other', 'own', 'pink', 'poor', 'red', 'remarkable', 'respectable', 'right', 'same', 'second', 'several', 'simple', 'sleepy', 'slippery', 'small', 'smaller', 'solid', 'stupid', 'such', 'sure', 'surprised', 'tiny', 'tired', 'true', 'unpleasant', 'wild', 'wise', 'worth']\n"
          ]
        }
      ],
      "source": [
        "adjectives = sorted(set(w.text for w in nlp_model(open(\"docs/Alice_Chapter1.txt\", \"r\").read()) if w.pos_=='ADJ'))\n",
        "print(adjectives)"
      ]
    },
    {
      "cell_type": "markdown",
      "metadata": {
        "id": "Pct1jNdEpdl0"
      },
      "source": [
        "You can see how descriptive a writer Lewis Carroll was!\n",
        "\n",
        "This leads us to one explanation as to why we might want to extract POS tags from text:\n",
        "- They can sometimes be useful for **extracting features** (often handcrafted ones) for certain text classification tasks (such as authorship identification).\n",
        "- This is particularly the case if only a small amount of training data is available.  \n",
        "- For example, in this article (https://towardsdatascience.com/automatically-detect-covid-19-misinformation-f7ceca1dc1c7) hand-crafted features are extracted for classifying covid misinformation.\n",
        "\n",
        "Another reason why we might consider POS tagging is to **reduce ambiguity** in our bag-of-words representation by appending POS tags to word occurrences.\n",
        "- Consider the following two sentences:"
      ]
    },
    {
      "cell_type": "code",
      "execution_count": 67,
      "metadata": {
        "id": "2iO992Q-pdl0",
        "colab": {
          "base_uri": "https://localhost:8080/"
        },
        "outputId": "24669c50-2b5b-4e4a-d06a-f3dd7448cb1f"
      },
      "outputs": [
        {
          "output_type": "stream",
          "name": "stdout",
          "text": [
            "I catch the train to and from work.      <-- 'train' is a NOUN\n",
            "I like to train at least 6 times a week. <-- 'train' is a VERB\n"
          ]
        }
      ],
      "source": [
        "ex1 = 'I catch the train to and from work.'       # This is Prof. Mark Carman speaking\n",
        "ex2 = 'I like to train at least 6 times a week.'  # This is Prof. Jacked Carman speaking\n",
        "\n",
        "print(ex1, '     <-- \\'train\\' is a', nlp_model(ex1)[3].pos_)\n",
        "print(ex2, '<-- \\'train\\' is a', nlp_model(ex2)[3].pos_)"
      ]
    },
    {
      "cell_type": "markdown",
      "metadata": {
        "id": "dHlqof06pdl1"
      },
      "source": [
        "The second sentence has nothing to do with trains, despite containing the word 'train'!\n",
        "- We could deal with this issue by appending the POS tag to the observed literal to form vocabulary elements: train_NOUN, train_VERB\n",
        "\n",
        "A final reason why we might think about running POS tagging would be to extract proper nouns from the text, since they refer to real entities that are being discussed in it:"
      ]
    },
    {
      "cell_type": "code",
      "execution_count": 68,
      "metadata": {
        "id": "kW4TbHffpdl1",
        "colab": {
          "base_uri": "https://localhost:8080/"
        },
        "outputId": "06d3e4da-af47-4e7d-b575-fbcc95ac5f3c"
      },
      "outputs": [
        {
          "output_type": "execute_result",
          "data": {
            "text/plain": [
              "['Melbourne', 'Daniel', 'Andrews', 'Australia']"
            ]
          },
          "metadata": {},
          "execution_count": 68
        }
      ],
      "source": [
        "[w.text for w in parsed_text if w.pos_=='PROPN']"
      ]
    },
    {
      "cell_type": "markdown",
      "metadata": {
        "id": "cDl1pPoSpdl1"
      },
      "source": [
        "Shortly though, we will talk about Entity-extraction, which is the task of identifying and categorising the entities discussed in the text."
      ]
    },
    {
      "cell_type": "markdown",
      "metadata": {
        "id": "NDh0iS65pdl1"
      },
      "source": [
        "## Lemmatization\n",
        "\n",
        "While parsing, spaCy also performs lemmatization.\n",
        "- Lemmatization is the process of extracting the 'lemma' for each token, which is the canonical form of the word that would be found in the dictionary, (see https://en.wikipedia.org/wiki/Lemma_(morphology))\n",
        "- Basically, verbs converted to their root form, e.g.: **went, going, goes, gone => go**\n",
        "- And nouns are retuned to singular form: **kittens => kitten**\n",
        "- Lemmatization is a more complicated POS-aware process than stemming (https://en.wikipedia.org/wiki/Stemming). Stemmers simply apply a set of language-specific syntax rules to recover the stem of the word"
      ]
    },
    {
      "cell_type": "code",
      "execution_count": 69,
      "metadata": {
        "id": "EevBrQRbpdl1",
        "colab": {
          "base_uri": "https://localhost:8080/"
        },
        "outputId": "1fe2711c-7b25-43f5-a0c5-3f271baa43f6"
      },
      "outputs": [
        {
          "output_type": "execute_result",
          "data": {
            "text/plain": [
              "[(Melbourne, 'Melbourne'),\n",
              " (is, 'be'),\n",
              " (to, 'to'),\n",
              " (re, 're'),\n",
              " (-, '-'),\n",
              " (enter, 'enter'),\n",
              " (Stage, 'stage'),\n",
              " (3, '3'),\n",
              " (lockdown, 'lockdown'),\n",
              " (after, 'after'),\n",
              " (a, 'a'),\n",
              " (record, 'record'),\n",
              " (increase, 'increase'),\n",
              " (in, 'in'),\n",
              " (cases, 'case'),\n",
              " (., '.'),\n",
              " (Victorian, 'victorian'),\n",
              " (state, 'state'),\n",
              " (premier, 'premier'),\n",
              " (Daniel, 'Daniel'),\n",
              " (Andrews, 'Andrews'),\n",
              " (said, 'say'),\n",
              " (there, 'there'),\n",
              " (was, 'be'),\n",
              " (“, '\"'),\n",
              " (simply, 'simply'),\n",
              " (no, 'no'),\n",
              " (alternative, 'alternative'),\n",
              " (”, '\"'),\n",
              " (to, 'to'),\n",
              " (reimposing, 'reimpose'),\n",
              " (stay, 'stay'),\n",
              " (at, 'at'),\n",
              " (home, 'home'),\n",
              " (restrictions, 'restriction'),\n",
              " (in, 'in'),\n",
              " (Australia, 'Australia'),\n",
              " (’s, '’s'),\n",
              " (second, 'second'),\n",
              " (-, '-'),\n",
              " (biggest, 'big'),\n",
              " (city, 'city'),\n",
              " (., '.')]"
            ]
          },
          "metadata": {},
          "execution_count": 69
        }
      ],
      "source": [
        "[(x, x.lemma_) for x in parsed_text]"
      ]
    },
    {
      "cell_type": "markdown",
      "metadata": {
        "id": "IEIoq1RFpdl1"
      },
      "source": [
        "Why would one want to perfom lemmatization? -- Or stemming for that matter?\n",
        "- to **reduce the vocabulary size** and thereby generalise the representation. -- This used to be very important for improving performance of search engine performance (better similarity measures between documents) and also classifiers on small datasets, (before word embeddings came along).\n",
        "- to **look-up information** about the word in a dictionary/ontology, such as WordNet (https://en.wikipedia.org/wiki/WordNet). This used to be an important way to compute semantic similarity between words, but again, word embeddngs probably do a better job."
      ]
    },
    {
      "cell_type": "markdown",
      "metadata": {
        "id": "4vBQ7f0tpdl2"
      },
      "source": [
        "## Dependency Parsing\n",
        "\n",
        "Tradititonally in Natural Language Processing, text is processed in a pipeline that first tokenizes, then POS tags, lemmatizes and finaly dependency parses a piece of text.\n",
        "- The idea with dependency parsing is to determine what function each of the word instances is fulfilling in the sentence.\n",
        "- What is the subject and object of the sentence?\n",
        "- Which noun is each adjective referring to?\n",
        "\n",
        "So while parsing the text, the spaCy model also generates a **dependency parse tree**, which can be displayed using 'displacy':"
      ]
    },
    {
      "cell_type": "code",
      "execution_count": 70,
      "metadata": {
        "id": "Dbz57hc5pdl2",
        "colab": {
          "base_uri": "https://localhost:8080/",
          "height": 528
        },
        "outputId": "aa8b726d-a4ce-4d00-bea3-bd0536666bc0"
      },
      "outputs": [
        {
          "output_type": "display_data",
          "data": {
            "text/plain": [
              "<IPython.core.display.HTML object>"
            ],
            "text/html": [
              "<span class=\"tex2jax_ignore\"><svg xmlns=\"http://www.w3.org/2000/svg\" xmlns:xlink=\"http://www.w3.org/1999/xlink\" xml:lang=\"en\" id=\"a55d6acf9d9a41e1ae2246f8db008c78-0\" class=\"displacy\" width=\"6525\" height=\"487.0\" direction=\"ltr\" style=\"max-width: none; height: 487.0px; color: #000000; background: #ffffff; font-family: Arial; direction: ltr\">\n",
              "<text class=\"displacy-token\" fill=\"currentColor\" text-anchor=\"middle\" y=\"397.0\">\n",
              "    <tspan class=\"displacy-word\" fill=\"currentColor\" x=\"50\">Melbourne</tspan>\n",
              "    <tspan class=\"displacy-tag\" dy=\"2em\" fill=\"currentColor\" x=\"50\">PROPN</tspan>\n",
              "</text>\n",
              "\n",
              "<text class=\"displacy-token\" fill=\"currentColor\" text-anchor=\"middle\" y=\"397.0\">\n",
              "    <tspan class=\"displacy-word\" fill=\"currentColor\" x=\"225\">is</tspan>\n",
              "    <tspan class=\"displacy-tag\" dy=\"2em\" fill=\"currentColor\" x=\"225\">AUX</tspan>\n",
              "</text>\n",
              "\n",
              "<text class=\"displacy-token\" fill=\"currentColor\" text-anchor=\"middle\" y=\"397.0\">\n",
              "    <tspan class=\"displacy-word\" fill=\"currentColor\" x=\"400\">to</tspan>\n",
              "    <tspan class=\"displacy-tag\" dy=\"2em\" fill=\"currentColor\" x=\"400\">PART</tspan>\n",
              "</text>\n",
              "\n",
              "<text class=\"displacy-token\" fill=\"currentColor\" text-anchor=\"middle\" y=\"397.0\">\n",
              "    <tspan class=\"displacy-word\" fill=\"currentColor\" x=\"575\">re-</tspan>\n",
              "    <tspan class=\"displacy-tag\" dy=\"2em\" fill=\"currentColor\" x=\"575\">VERB</tspan>\n",
              "</text>\n",
              "\n",
              "<text class=\"displacy-token\" fill=\"currentColor\" text-anchor=\"middle\" y=\"397.0\">\n",
              "    <tspan class=\"displacy-word\" fill=\"currentColor\" x=\"750\">enter</tspan>\n",
              "    <tspan class=\"displacy-tag\" dy=\"2em\" fill=\"currentColor\" x=\"750\">VERB</tspan>\n",
              "</text>\n",
              "\n",
              "<text class=\"displacy-token\" fill=\"currentColor\" text-anchor=\"middle\" y=\"397.0\">\n",
              "    <tspan class=\"displacy-word\" fill=\"currentColor\" x=\"925\">Stage</tspan>\n",
              "    <tspan class=\"displacy-tag\" dy=\"2em\" fill=\"currentColor\" x=\"925\">NOUN</tspan>\n",
              "</text>\n",
              "\n",
              "<text class=\"displacy-token\" fill=\"currentColor\" text-anchor=\"middle\" y=\"397.0\">\n",
              "    <tspan class=\"displacy-word\" fill=\"currentColor\" x=\"1100\">3</tspan>\n",
              "    <tspan class=\"displacy-tag\" dy=\"2em\" fill=\"currentColor\" x=\"1100\">NUM</tspan>\n",
              "</text>\n",
              "\n",
              "<text class=\"displacy-token\" fill=\"currentColor\" text-anchor=\"middle\" y=\"397.0\">\n",
              "    <tspan class=\"displacy-word\" fill=\"currentColor\" x=\"1275\">lockdown</tspan>\n",
              "    <tspan class=\"displacy-tag\" dy=\"2em\" fill=\"currentColor\" x=\"1275\">NOUN</tspan>\n",
              "</text>\n",
              "\n",
              "<text class=\"displacy-token\" fill=\"currentColor\" text-anchor=\"middle\" y=\"397.0\">\n",
              "    <tspan class=\"displacy-word\" fill=\"currentColor\" x=\"1450\">after</tspan>\n",
              "    <tspan class=\"displacy-tag\" dy=\"2em\" fill=\"currentColor\" x=\"1450\">ADP</tspan>\n",
              "</text>\n",
              "\n",
              "<text class=\"displacy-token\" fill=\"currentColor\" text-anchor=\"middle\" y=\"397.0\">\n",
              "    <tspan class=\"displacy-word\" fill=\"currentColor\" x=\"1625\">a</tspan>\n",
              "    <tspan class=\"displacy-tag\" dy=\"2em\" fill=\"currentColor\" x=\"1625\">DET</tspan>\n",
              "</text>\n",
              "\n",
              "<text class=\"displacy-token\" fill=\"currentColor\" text-anchor=\"middle\" y=\"397.0\">\n",
              "    <tspan class=\"displacy-word\" fill=\"currentColor\" x=\"1800\">record</tspan>\n",
              "    <tspan class=\"displacy-tag\" dy=\"2em\" fill=\"currentColor\" x=\"1800\">NOUN</tspan>\n",
              "</text>\n",
              "\n",
              "<text class=\"displacy-token\" fill=\"currentColor\" text-anchor=\"middle\" y=\"397.0\">\n",
              "    <tspan class=\"displacy-word\" fill=\"currentColor\" x=\"1975\">increase</tspan>\n",
              "    <tspan class=\"displacy-tag\" dy=\"2em\" fill=\"currentColor\" x=\"1975\">NOUN</tspan>\n",
              "</text>\n",
              "\n",
              "<text class=\"displacy-token\" fill=\"currentColor\" text-anchor=\"middle\" y=\"397.0\">\n",
              "    <tspan class=\"displacy-word\" fill=\"currentColor\" x=\"2150\">in</tspan>\n",
              "    <tspan class=\"displacy-tag\" dy=\"2em\" fill=\"currentColor\" x=\"2150\">ADP</tspan>\n",
              "</text>\n",
              "\n",
              "<text class=\"displacy-token\" fill=\"currentColor\" text-anchor=\"middle\" y=\"397.0\">\n",
              "    <tspan class=\"displacy-word\" fill=\"currentColor\" x=\"2325\">cases.</tspan>\n",
              "    <tspan class=\"displacy-tag\" dy=\"2em\" fill=\"currentColor\" x=\"2325\">NOUN</tspan>\n",
              "</text>\n",
              "\n",
              "<text class=\"displacy-token\" fill=\"currentColor\" text-anchor=\"middle\" y=\"397.0\">\n",
              "    <tspan class=\"displacy-word\" fill=\"currentColor\" x=\"2500\">Victorian</tspan>\n",
              "    <tspan class=\"displacy-tag\" dy=\"2em\" fill=\"currentColor\" x=\"2500\">ADJ</tspan>\n",
              "</text>\n",
              "\n",
              "<text class=\"displacy-token\" fill=\"currentColor\" text-anchor=\"middle\" y=\"397.0\">\n",
              "    <tspan class=\"displacy-word\" fill=\"currentColor\" x=\"2675\">state</tspan>\n",
              "    <tspan class=\"displacy-tag\" dy=\"2em\" fill=\"currentColor\" x=\"2675\">NOUN</tspan>\n",
              "</text>\n",
              "\n",
              "<text class=\"displacy-token\" fill=\"currentColor\" text-anchor=\"middle\" y=\"397.0\">\n",
              "    <tspan class=\"displacy-word\" fill=\"currentColor\" x=\"2850\">premier</tspan>\n",
              "    <tspan class=\"displacy-tag\" dy=\"2em\" fill=\"currentColor\" x=\"2850\">NOUN</tspan>\n",
              "</text>\n",
              "\n",
              "<text class=\"displacy-token\" fill=\"currentColor\" text-anchor=\"middle\" y=\"397.0\">\n",
              "    <tspan class=\"displacy-word\" fill=\"currentColor\" x=\"3025\">Daniel</tspan>\n",
              "    <tspan class=\"displacy-tag\" dy=\"2em\" fill=\"currentColor\" x=\"3025\">PROPN</tspan>\n",
              "</text>\n",
              "\n",
              "<text class=\"displacy-token\" fill=\"currentColor\" text-anchor=\"middle\" y=\"397.0\">\n",
              "    <tspan class=\"displacy-word\" fill=\"currentColor\" x=\"3200\">Andrews</tspan>\n",
              "    <tspan class=\"displacy-tag\" dy=\"2em\" fill=\"currentColor\" x=\"3200\">PROPN</tspan>\n",
              "</text>\n",
              "\n",
              "<text class=\"displacy-token\" fill=\"currentColor\" text-anchor=\"middle\" y=\"397.0\">\n",
              "    <tspan class=\"displacy-word\" fill=\"currentColor\" x=\"3375\">said</tspan>\n",
              "    <tspan class=\"displacy-tag\" dy=\"2em\" fill=\"currentColor\" x=\"3375\">VERB</tspan>\n",
              "</text>\n",
              "\n",
              "<text class=\"displacy-token\" fill=\"currentColor\" text-anchor=\"middle\" y=\"397.0\">\n",
              "    <tspan class=\"displacy-word\" fill=\"currentColor\" x=\"3550\">there</tspan>\n",
              "    <tspan class=\"displacy-tag\" dy=\"2em\" fill=\"currentColor\" x=\"3550\">PRON</tspan>\n",
              "</text>\n",
              "\n",
              "<text class=\"displacy-token\" fill=\"currentColor\" text-anchor=\"middle\" y=\"397.0\">\n",
              "    <tspan class=\"displacy-word\" fill=\"currentColor\" x=\"3725\">was “</tspan>\n",
              "    <tspan class=\"displacy-tag\" dy=\"2em\" fill=\"currentColor\" x=\"3725\">VERB</tspan>\n",
              "</text>\n",
              "\n",
              "<text class=\"displacy-token\" fill=\"currentColor\" text-anchor=\"middle\" y=\"397.0\">\n",
              "    <tspan class=\"displacy-word\" fill=\"currentColor\" x=\"3900\">simply</tspan>\n",
              "    <tspan class=\"displacy-tag\" dy=\"2em\" fill=\"currentColor\" x=\"3900\">ADV</tspan>\n",
              "</text>\n",
              "\n",
              "<text class=\"displacy-token\" fill=\"currentColor\" text-anchor=\"middle\" y=\"397.0\">\n",
              "    <tspan class=\"displacy-word\" fill=\"currentColor\" x=\"4075\">no</tspan>\n",
              "    <tspan class=\"displacy-tag\" dy=\"2em\" fill=\"currentColor\" x=\"4075\">DET</tspan>\n",
              "</text>\n",
              "\n",
              "<text class=\"displacy-token\" fill=\"currentColor\" text-anchor=\"middle\" y=\"397.0\">\n",
              "    <tspan class=\"displacy-word\" fill=\"currentColor\" x=\"4250\">alternative”</tspan>\n",
              "    <tspan class=\"displacy-tag\" dy=\"2em\" fill=\"currentColor\" x=\"4250\">NOUN</tspan>\n",
              "</text>\n",
              "\n",
              "<text class=\"displacy-token\" fill=\"currentColor\" text-anchor=\"middle\" y=\"397.0\">\n",
              "    <tspan class=\"displacy-word\" fill=\"currentColor\" x=\"4425\">to</tspan>\n",
              "    <tspan class=\"displacy-tag\" dy=\"2em\" fill=\"currentColor\" x=\"4425\">ADP</tspan>\n",
              "</text>\n",
              "\n",
              "<text class=\"displacy-token\" fill=\"currentColor\" text-anchor=\"middle\" y=\"397.0\">\n",
              "    <tspan class=\"displacy-word\" fill=\"currentColor\" x=\"4600\">reimposing</tspan>\n",
              "    <tspan class=\"displacy-tag\" dy=\"2em\" fill=\"currentColor\" x=\"4600\">VERB</tspan>\n",
              "</text>\n",
              "\n",
              "<text class=\"displacy-token\" fill=\"currentColor\" text-anchor=\"middle\" y=\"397.0\">\n",
              "    <tspan class=\"displacy-word\" fill=\"currentColor\" x=\"4775\">stay</tspan>\n",
              "    <tspan class=\"displacy-tag\" dy=\"2em\" fill=\"currentColor\" x=\"4775\">NOUN</tspan>\n",
              "</text>\n",
              "\n",
              "<text class=\"displacy-token\" fill=\"currentColor\" text-anchor=\"middle\" y=\"397.0\">\n",
              "    <tspan class=\"displacy-word\" fill=\"currentColor\" x=\"4950\">at</tspan>\n",
              "    <tspan class=\"displacy-tag\" dy=\"2em\" fill=\"currentColor\" x=\"4950\">ADP</tspan>\n",
              "</text>\n",
              "\n",
              "<text class=\"displacy-token\" fill=\"currentColor\" text-anchor=\"middle\" y=\"397.0\">\n",
              "    <tspan class=\"displacy-word\" fill=\"currentColor\" x=\"5125\">home</tspan>\n",
              "    <tspan class=\"displacy-tag\" dy=\"2em\" fill=\"currentColor\" x=\"5125\">NOUN</tspan>\n",
              "</text>\n",
              "\n",
              "<text class=\"displacy-token\" fill=\"currentColor\" text-anchor=\"middle\" y=\"397.0\">\n",
              "    <tspan class=\"displacy-word\" fill=\"currentColor\" x=\"5300\">restrictions</tspan>\n",
              "    <tspan class=\"displacy-tag\" dy=\"2em\" fill=\"currentColor\" x=\"5300\">NOUN</tspan>\n",
              "</text>\n",
              "\n",
              "<text class=\"displacy-token\" fill=\"currentColor\" text-anchor=\"middle\" y=\"397.0\">\n",
              "    <tspan class=\"displacy-word\" fill=\"currentColor\" x=\"5475\">in</tspan>\n",
              "    <tspan class=\"displacy-tag\" dy=\"2em\" fill=\"currentColor\" x=\"5475\">ADP</tspan>\n",
              "</text>\n",
              "\n",
              "<text class=\"displacy-token\" fill=\"currentColor\" text-anchor=\"middle\" y=\"397.0\">\n",
              "    <tspan class=\"displacy-word\" fill=\"currentColor\" x=\"5650\">Australia</tspan>\n",
              "    <tspan class=\"displacy-tag\" dy=\"2em\" fill=\"currentColor\" x=\"5650\">PROPN</tspan>\n",
              "</text>\n",
              "\n",
              "<text class=\"displacy-token\" fill=\"currentColor\" text-anchor=\"middle\" y=\"397.0\">\n",
              "    <tspan class=\"displacy-word\" fill=\"currentColor\" x=\"5825\">’s</tspan>\n",
              "    <tspan class=\"displacy-tag\" dy=\"2em\" fill=\"currentColor\" x=\"5825\">PART</tspan>\n",
              "</text>\n",
              "\n",
              "<text class=\"displacy-token\" fill=\"currentColor\" text-anchor=\"middle\" y=\"397.0\">\n",
              "    <tspan class=\"displacy-word\" fill=\"currentColor\" x=\"6000\">second-</tspan>\n",
              "    <tspan class=\"displacy-tag\" dy=\"2em\" fill=\"currentColor\" x=\"6000\">ADV</tspan>\n",
              "</text>\n",
              "\n",
              "<text class=\"displacy-token\" fill=\"currentColor\" text-anchor=\"middle\" y=\"397.0\">\n",
              "    <tspan class=\"displacy-word\" fill=\"currentColor\" x=\"6175\">biggest</tspan>\n",
              "    <tspan class=\"displacy-tag\" dy=\"2em\" fill=\"currentColor\" x=\"6175\">ADJ</tspan>\n",
              "</text>\n",
              "\n",
              "<text class=\"displacy-token\" fill=\"currentColor\" text-anchor=\"middle\" y=\"397.0\">\n",
              "    <tspan class=\"displacy-word\" fill=\"currentColor\" x=\"6350\">city.</tspan>\n",
              "    <tspan class=\"displacy-tag\" dy=\"2em\" fill=\"currentColor\" x=\"6350\">NOUN</tspan>\n",
              "</text>\n",
              "\n",
              "<g class=\"displacy-arrow\">\n",
              "    <path class=\"displacy-arc\" id=\"arrow-a55d6acf9d9a41e1ae2246f8db008c78-0-0\" stroke-width=\"2px\" d=\"M70,352.0 C70,264.5 210.0,264.5 210.0,352.0\" fill=\"none\" stroke=\"currentColor\"/>\n",
              "    <text dy=\"1.25em\" style=\"font-size: 0.8em; letter-spacing: 1px\">\n",
              "        <textPath xlink:href=\"#arrow-a55d6acf9d9a41e1ae2246f8db008c78-0-0\" class=\"displacy-label\" startOffset=\"50%\" side=\"left\" fill=\"currentColor\" text-anchor=\"middle\">nsubj</textPath>\n",
              "    </text>\n",
              "    <path class=\"displacy-arrowhead\" d=\"M70,354.0 L62,342.0 78,342.0\" fill=\"currentColor\"/>\n",
              "</g>\n",
              "\n",
              "<g class=\"displacy-arrow\">\n",
              "    <path class=\"displacy-arc\" id=\"arrow-a55d6acf9d9a41e1ae2246f8db008c78-0-1\" stroke-width=\"2px\" d=\"M420,352.0 C420,264.5 560.0,264.5 560.0,352.0\" fill=\"none\" stroke=\"currentColor\"/>\n",
              "    <text dy=\"1.25em\" style=\"font-size: 0.8em; letter-spacing: 1px\">\n",
              "        <textPath xlink:href=\"#arrow-a55d6acf9d9a41e1ae2246f8db008c78-0-1\" class=\"displacy-label\" startOffset=\"50%\" side=\"left\" fill=\"currentColor\" text-anchor=\"middle\">aux</textPath>\n",
              "    </text>\n",
              "    <path class=\"displacy-arrowhead\" d=\"M420,354.0 L412,342.0 428,342.0\" fill=\"currentColor\"/>\n",
              "</g>\n",
              "\n",
              "<g class=\"displacy-arrow\">\n",
              "    <path class=\"displacy-arc\" id=\"arrow-a55d6acf9d9a41e1ae2246f8db008c78-0-2\" stroke-width=\"2px\" d=\"M245,352.0 C245,177.0 565.0,177.0 565.0,352.0\" fill=\"none\" stroke=\"currentColor\"/>\n",
              "    <text dy=\"1.25em\" style=\"font-size: 0.8em; letter-spacing: 1px\">\n",
              "        <textPath xlink:href=\"#arrow-a55d6acf9d9a41e1ae2246f8db008c78-0-2\" class=\"displacy-label\" startOffset=\"50%\" side=\"left\" fill=\"currentColor\" text-anchor=\"middle\">xcomp</textPath>\n",
              "    </text>\n",
              "    <path class=\"displacy-arrowhead\" d=\"M565.0,354.0 L573.0,342.0 557.0,342.0\" fill=\"currentColor\"/>\n",
              "</g>\n",
              "\n",
              "<g class=\"displacy-arrow\">\n",
              "    <path class=\"displacy-arc\" id=\"arrow-a55d6acf9d9a41e1ae2246f8db008c78-0-3\" stroke-width=\"2px\" d=\"M245,352.0 C245,89.5 745.0,89.5 745.0,352.0\" fill=\"none\" stroke=\"currentColor\"/>\n",
              "    <text dy=\"1.25em\" style=\"font-size: 0.8em; letter-spacing: 1px\">\n",
              "        <textPath xlink:href=\"#arrow-a55d6acf9d9a41e1ae2246f8db008c78-0-3\" class=\"displacy-label\" startOffset=\"50%\" side=\"left\" fill=\"currentColor\" text-anchor=\"middle\">xcomp</textPath>\n",
              "    </text>\n",
              "    <path class=\"displacy-arrowhead\" d=\"M745.0,354.0 L753.0,342.0 737.0,342.0\" fill=\"currentColor\"/>\n",
              "</g>\n",
              "\n",
              "<g class=\"displacy-arrow\">\n",
              "    <path class=\"displacy-arc\" id=\"arrow-a55d6acf9d9a41e1ae2246f8db008c78-0-4\" stroke-width=\"2px\" d=\"M770,352.0 C770,264.5 910.0,264.5 910.0,352.0\" fill=\"none\" stroke=\"currentColor\"/>\n",
              "    <text dy=\"1.25em\" style=\"font-size: 0.8em; letter-spacing: 1px\">\n",
              "        <textPath xlink:href=\"#arrow-a55d6acf9d9a41e1ae2246f8db008c78-0-4\" class=\"displacy-label\" startOffset=\"50%\" side=\"left\" fill=\"currentColor\" text-anchor=\"middle\">dobj</textPath>\n",
              "    </text>\n",
              "    <path class=\"displacy-arrowhead\" d=\"M910.0,354.0 L918.0,342.0 902.0,342.0\" fill=\"currentColor\"/>\n",
              "</g>\n",
              "\n",
              "<g class=\"displacy-arrow\">\n",
              "    <path class=\"displacy-arc\" id=\"arrow-a55d6acf9d9a41e1ae2246f8db008c78-0-5\" stroke-width=\"2px\" d=\"M945,352.0 C945,264.5 1085.0,264.5 1085.0,352.0\" fill=\"none\" stroke=\"currentColor\"/>\n",
              "    <text dy=\"1.25em\" style=\"font-size: 0.8em; letter-spacing: 1px\">\n",
              "        <textPath xlink:href=\"#arrow-a55d6acf9d9a41e1ae2246f8db008c78-0-5\" class=\"displacy-label\" startOffset=\"50%\" side=\"left\" fill=\"currentColor\" text-anchor=\"middle\">nummod</textPath>\n",
              "    </text>\n",
              "    <path class=\"displacy-arrowhead\" d=\"M1085.0,354.0 L1093.0,342.0 1077.0,342.0\" fill=\"currentColor\"/>\n",
              "</g>\n",
              "\n",
              "<g class=\"displacy-arrow\">\n",
              "    <path class=\"displacy-arc\" id=\"arrow-a55d6acf9d9a41e1ae2246f8db008c78-0-6\" stroke-width=\"2px\" d=\"M245,352.0 C245,2.0 1275.0,2.0 1275.0,352.0\" fill=\"none\" stroke=\"currentColor\"/>\n",
              "    <text dy=\"1.25em\" style=\"font-size: 0.8em; letter-spacing: 1px\">\n",
              "        <textPath xlink:href=\"#arrow-a55d6acf9d9a41e1ae2246f8db008c78-0-6\" class=\"displacy-label\" startOffset=\"50%\" side=\"left\" fill=\"currentColor\" text-anchor=\"middle\">attr</textPath>\n",
              "    </text>\n",
              "    <path class=\"displacy-arrowhead\" d=\"M1275.0,354.0 L1283.0,342.0 1267.0,342.0\" fill=\"currentColor\"/>\n",
              "</g>\n",
              "\n",
              "<g class=\"displacy-arrow\">\n",
              "    <path class=\"displacy-arc\" id=\"arrow-a55d6acf9d9a41e1ae2246f8db008c78-0-7\" stroke-width=\"2px\" d=\"M1295,352.0 C1295,264.5 1435.0,264.5 1435.0,352.0\" fill=\"none\" stroke=\"currentColor\"/>\n",
              "    <text dy=\"1.25em\" style=\"font-size: 0.8em; letter-spacing: 1px\">\n",
              "        <textPath xlink:href=\"#arrow-a55d6acf9d9a41e1ae2246f8db008c78-0-7\" class=\"displacy-label\" startOffset=\"50%\" side=\"left\" fill=\"currentColor\" text-anchor=\"middle\">prep</textPath>\n",
              "    </text>\n",
              "    <path class=\"displacy-arrowhead\" d=\"M1435.0,354.0 L1443.0,342.0 1427.0,342.0\" fill=\"currentColor\"/>\n",
              "</g>\n",
              "\n",
              "<g class=\"displacy-arrow\">\n",
              "    <path class=\"displacy-arc\" id=\"arrow-a55d6acf9d9a41e1ae2246f8db008c78-0-8\" stroke-width=\"2px\" d=\"M1645,352.0 C1645,177.0 1965.0,177.0 1965.0,352.0\" fill=\"none\" stroke=\"currentColor\"/>\n",
              "    <text dy=\"1.25em\" style=\"font-size: 0.8em; letter-spacing: 1px\">\n",
              "        <textPath xlink:href=\"#arrow-a55d6acf9d9a41e1ae2246f8db008c78-0-8\" class=\"displacy-label\" startOffset=\"50%\" side=\"left\" fill=\"currentColor\" text-anchor=\"middle\">det</textPath>\n",
              "    </text>\n",
              "    <path class=\"displacy-arrowhead\" d=\"M1645,354.0 L1637,342.0 1653,342.0\" fill=\"currentColor\"/>\n",
              "</g>\n",
              "\n",
              "<g class=\"displacy-arrow\">\n",
              "    <path class=\"displacy-arc\" id=\"arrow-a55d6acf9d9a41e1ae2246f8db008c78-0-9\" stroke-width=\"2px\" d=\"M1820,352.0 C1820,264.5 1960.0,264.5 1960.0,352.0\" fill=\"none\" stroke=\"currentColor\"/>\n",
              "    <text dy=\"1.25em\" style=\"font-size: 0.8em; letter-spacing: 1px\">\n",
              "        <textPath xlink:href=\"#arrow-a55d6acf9d9a41e1ae2246f8db008c78-0-9\" class=\"displacy-label\" startOffset=\"50%\" side=\"left\" fill=\"currentColor\" text-anchor=\"middle\">compound</textPath>\n",
              "    </text>\n",
              "    <path class=\"displacy-arrowhead\" d=\"M1820,354.0 L1812,342.0 1828,342.0\" fill=\"currentColor\"/>\n",
              "</g>\n",
              "\n",
              "<g class=\"displacy-arrow\">\n",
              "    <path class=\"displacy-arc\" id=\"arrow-a55d6acf9d9a41e1ae2246f8db008c78-0-10\" stroke-width=\"2px\" d=\"M1470,352.0 C1470,89.5 1970.0,89.5 1970.0,352.0\" fill=\"none\" stroke=\"currentColor\"/>\n",
              "    <text dy=\"1.25em\" style=\"font-size: 0.8em; letter-spacing: 1px\">\n",
              "        <textPath xlink:href=\"#arrow-a55d6acf9d9a41e1ae2246f8db008c78-0-10\" class=\"displacy-label\" startOffset=\"50%\" side=\"left\" fill=\"currentColor\" text-anchor=\"middle\">pobj</textPath>\n",
              "    </text>\n",
              "    <path class=\"displacy-arrowhead\" d=\"M1970.0,354.0 L1978.0,342.0 1962.0,342.0\" fill=\"currentColor\"/>\n",
              "</g>\n",
              "\n",
              "<g class=\"displacy-arrow\">\n",
              "    <path class=\"displacy-arc\" id=\"arrow-a55d6acf9d9a41e1ae2246f8db008c78-0-11\" stroke-width=\"2px\" d=\"M1995,352.0 C1995,264.5 2135.0,264.5 2135.0,352.0\" fill=\"none\" stroke=\"currentColor\"/>\n",
              "    <text dy=\"1.25em\" style=\"font-size: 0.8em; letter-spacing: 1px\">\n",
              "        <textPath xlink:href=\"#arrow-a55d6acf9d9a41e1ae2246f8db008c78-0-11\" class=\"displacy-label\" startOffset=\"50%\" side=\"left\" fill=\"currentColor\" text-anchor=\"middle\">prep</textPath>\n",
              "    </text>\n",
              "    <path class=\"displacy-arrowhead\" d=\"M2135.0,354.0 L2143.0,342.0 2127.0,342.0\" fill=\"currentColor\"/>\n",
              "</g>\n",
              "\n",
              "<g class=\"displacy-arrow\">\n",
              "    <path class=\"displacy-arc\" id=\"arrow-a55d6acf9d9a41e1ae2246f8db008c78-0-12\" stroke-width=\"2px\" d=\"M2170,352.0 C2170,264.5 2310.0,264.5 2310.0,352.0\" fill=\"none\" stroke=\"currentColor\"/>\n",
              "    <text dy=\"1.25em\" style=\"font-size: 0.8em; letter-spacing: 1px\">\n",
              "        <textPath xlink:href=\"#arrow-a55d6acf9d9a41e1ae2246f8db008c78-0-12\" class=\"displacy-label\" startOffset=\"50%\" side=\"left\" fill=\"currentColor\" text-anchor=\"middle\">pobj</textPath>\n",
              "    </text>\n",
              "    <path class=\"displacy-arrowhead\" d=\"M2310.0,354.0 L2318.0,342.0 2302.0,342.0\" fill=\"currentColor\"/>\n",
              "</g>\n",
              "\n",
              "<g class=\"displacy-arrow\">\n",
              "    <path class=\"displacy-arc\" id=\"arrow-a55d6acf9d9a41e1ae2246f8db008c78-0-13\" stroke-width=\"2px\" d=\"M2520,352.0 C2520,177.0 2840.0,177.0 2840.0,352.0\" fill=\"none\" stroke=\"currentColor\"/>\n",
              "    <text dy=\"1.25em\" style=\"font-size: 0.8em; letter-spacing: 1px\">\n",
              "        <textPath xlink:href=\"#arrow-a55d6acf9d9a41e1ae2246f8db008c78-0-13\" class=\"displacy-label\" startOffset=\"50%\" side=\"left\" fill=\"currentColor\" text-anchor=\"middle\">amod</textPath>\n",
              "    </text>\n",
              "    <path class=\"displacy-arrowhead\" d=\"M2520,354.0 L2512,342.0 2528,342.0\" fill=\"currentColor\"/>\n",
              "</g>\n",
              "\n",
              "<g class=\"displacy-arrow\">\n",
              "    <path class=\"displacy-arc\" id=\"arrow-a55d6acf9d9a41e1ae2246f8db008c78-0-14\" stroke-width=\"2px\" d=\"M2695,352.0 C2695,264.5 2835.0,264.5 2835.0,352.0\" fill=\"none\" stroke=\"currentColor\"/>\n",
              "    <text dy=\"1.25em\" style=\"font-size: 0.8em; letter-spacing: 1px\">\n",
              "        <textPath xlink:href=\"#arrow-a55d6acf9d9a41e1ae2246f8db008c78-0-14\" class=\"displacy-label\" startOffset=\"50%\" side=\"left\" fill=\"currentColor\" text-anchor=\"middle\">compound</textPath>\n",
              "    </text>\n",
              "    <path class=\"displacy-arrowhead\" d=\"M2695,354.0 L2687,342.0 2703,342.0\" fill=\"currentColor\"/>\n",
              "</g>\n",
              "\n",
              "<g class=\"displacy-arrow\">\n",
              "    <path class=\"displacy-arc\" id=\"arrow-a55d6acf9d9a41e1ae2246f8db008c78-0-15\" stroke-width=\"2px\" d=\"M2870,352.0 C2870,177.0 3190.0,177.0 3190.0,352.0\" fill=\"none\" stroke=\"currentColor\"/>\n",
              "    <text dy=\"1.25em\" style=\"font-size: 0.8em; letter-spacing: 1px\">\n",
              "        <textPath xlink:href=\"#arrow-a55d6acf9d9a41e1ae2246f8db008c78-0-15\" class=\"displacy-label\" startOffset=\"50%\" side=\"left\" fill=\"currentColor\" text-anchor=\"middle\">compound</textPath>\n",
              "    </text>\n",
              "    <path class=\"displacy-arrowhead\" d=\"M2870,354.0 L2862,342.0 2878,342.0\" fill=\"currentColor\"/>\n",
              "</g>\n",
              "\n",
              "<g class=\"displacy-arrow\">\n",
              "    <path class=\"displacy-arc\" id=\"arrow-a55d6acf9d9a41e1ae2246f8db008c78-0-16\" stroke-width=\"2px\" d=\"M3045,352.0 C3045,264.5 3185.0,264.5 3185.0,352.0\" fill=\"none\" stroke=\"currentColor\"/>\n",
              "    <text dy=\"1.25em\" style=\"font-size: 0.8em; letter-spacing: 1px\">\n",
              "        <textPath xlink:href=\"#arrow-a55d6acf9d9a41e1ae2246f8db008c78-0-16\" class=\"displacy-label\" startOffset=\"50%\" side=\"left\" fill=\"currentColor\" text-anchor=\"middle\">compound</textPath>\n",
              "    </text>\n",
              "    <path class=\"displacy-arrowhead\" d=\"M3045,354.0 L3037,342.0 3053,342.0\" fill=\"currentColor\"/>\n",
              "</g>\n",
              "\n",
              "<g class=\"displacy-arrow\">\n",
              "    <path class=\"displacy-arc\" id=\"arrow-a55d6acf9d9a41e1ae2246f8db008c78-0-17\" stroke-width=\"2px\" d=\"M3220,352.0 C3220,264.5 3360.0,264.5 3360.0,352.0\" fill=\"none\" stroke=\"currentColor\"/>\n",
              "    <text dy=\"1.25em\" style=\"font-size: 0.8em; letter-spacing: 1px\">\n",
              "        <textPath xlink:href=\"#arrow-a55d6acf9d9a41e1ae2246f8db008c78-0-17\" class=\"displacy-label\" startOffset=\"50%\" side=\"left\" fill=\"currentColor\" text-anchor=\"middle\">nsubj</textPath>\n",
              "    </text>\n",
              "    <path class=\"displacy-arrowhead\" d=\"M3220,354.0 L3212,342.0 3228,342.0\" fill=\"currentColor\"/>\n",
              "</g>\n",
              "\n",
              "<g class=\"displacy-arrow\">\n",
              "    <path class=\"displacy-arc\" id=\"arrow-a55d6acf9d9a41e1ae2246f8db008c78-0-18\" stroke-width=\"2px\" d=\"M3570,352.0 C3570,264.5 3710.0,264.5 3710.0,352.0\" fill=\"none\" stroke=\"currentColor\"/>\n",
              "    <text dy=\"1.25em\" style=\"font-size: 0.8em; letter-spacing: 1px\">\n",
              "        <textPath xlink:href=\"#arrow-a55d6acf9d9a41e1ae2246f8db008c78-0-18\" class=\"displacy-label\" startOffset=\"50%\" side=\"left\" fill=\"currentColor\" text-anchor=\"middle\">expl</textPath>\n",
              "    </text>\n",
              "    <path class=\"displacy-arrowhead\" d=\"M3570,354.0 L3562,342.0 3578,342.0\" fill=\"currentColor\"/>\n",
              "</g>\n",
              "\n",
              "<g class=\"displacy-arrow\">\n",
              "    <path class=\"displacy-arc\" id=\"arrow-a55d6acf9d9a41e1ae2246f8db008c78-0-19\" stroke-width=\"2px\" d=\"M3395,352.0 C3395,177.0 3715.0,177.0 3715.0,352.0\" fill=\"none\" stroke=\"currentColor\"/>\n",
              "    <text dy=\"1.25em\" style=\"font-size: 0.8em; letter-spacing: 1px\">\n",
              "        <textPath xlink:href=\"#arrow-a55d6acf9d9a41e1ae2246f8db008c78-0-19\" class=\"displacy-label\" startOffset=\"50%\" side=\"left\" fill=\"currentColor\" text-anchor=\"middle\">ccomp</textPath>\n",
              "    </text>\n",
              "    <path class=\"displacy-arrowhead\" d=\"M3715.0,354.0 L3723.0,342.0 3707.0,342.0\" fill=\"currentColor\"/>\n",
              "</g>\n",
              "\n",
              "<g class=\"displacy-arrow\">\n",
              "    <path class=\"displacy-arc\" id=\"arrow-a55d6acf9d9a41e1ae2246f8db008c78-0-20\" stroke-width=\"2px\" d=\"M3920,352.0 C3920,177.0 4240.0,177.0 4240.0,352.0\" fill=\"none\" stroke=\"currentColor\"/>\n",
              "    <text dy=\"1.25em\" style=\"font-size: 0.8em; letter-spacing: 1px\">\n",
              "        <textPath xlink:href=\"#arrow-a55d6acf9d9a41e1ae2246f8db008c78-0-20\" class=\"displacy-label\" startOffset=\"50%\" side=\"left\" fill=\"currentColor\" text-anchor=\"middle\">advmod</textPath>\n",
              "    </text>\n",
              "    <path class=\"displacy-arrowhead\" d=\"M3920,354.0 L3912,342.0 3928,342.0\" fill=\"currentColor\"/>\n",
              "</g>\n",
              "\n",
              "<g class=\"displacy-arrow\">\n",
              "    <path class=\"displacy-arc\" id=\"arrow-a55d6acf9d9a41e1ae2246f8db008c78-0-21\" stroke-width=\"2px\" d=\"M4095,352.0 C4095,264.5 4235.0,264.5 4235.0,352.0\" fill=\"none\" stroke=\"currentColor\"/>\n",
              "    <text dy=\"1.25em\" style=\"font-size: 0.8em; letter-spacing: 1px\">\n",
              "        <textPath xlink:href=\"#arrow-a55d6acf9d9a41e1ae2246f8db008c78-0-21\" class=\"displacy-label\" startOffset=\"50%\" side=\"left\" fill=\"currentColor\" text-anchor=\"middle\">det</textPath>\n",
              "    </text>\n",
              "    <path class=\"displacy-arrowhead\" d=\"M4095,354.0 L4087,342.0 4103,342.0\" fill=\"currentColor\"/>\n",
              "</g>\n",
              "\n",
              "<g class=\"displacy-arrow\">\n",
              "    <path class=\"displacy-arc\" id=\"arrow-a55d6acf9d9a41e1ae2246f8db008c78-0-22\" stroke-width=\"2px\" d=\"M3745,352.0 C3745,89.5 4245.0,89.5 4245.0,352.0\" fill=\"none\" stroke=\"currentColor\"/>\n",
              "    <text dy=\"1.25em\" style=\"font-size: 0.8em; letter-spacing: 1px\">\n",
              "        <textPath xlink:href=\"#arrow-a55d6acf9d9a41e1ae2246f8db008c78-0-22\" class=\"displacy-label\" startOffset=\"50%\" side=\"left\" fill=\"currentColor\" text-anchor=\"middle\">attr</textPath>\n",
              "    </text>\n",
              "    <path class=\"displacy-arrowhead\" d=\"M4245.0,354.0 L4253.0,342.0 4237.0,342.0\" fill=\"currentColor\"/>\n",
              "</g>\n",
              "\n",
              "<g class=\"displacy-arrow\">\n",
              "    <path class=\"displacy-arc\" id=\"arrow-a55d6acf9d9a41e1ae2246f8db008c78-0-23\" stroke-width=\"2px\" d=\"M4270,352.0 C4270,264.5 4410.0,264.5 4410.0,352.0\" fill=\"none\" stroke=\"currentColor\"/>\n",
              "    <text dy=\"1.25em\" style=\"font-size: 0.8em; letter-spacing: 1px\">\n",
              "        <textPath xlink:href=\"#arrow-a55d6acf9d9a41e1ae2246f8db008c78-0-23\" class=\"displacy-label\" startOffset=\"50%\" side=\"left\" fill=\"currentColor\" text-anchor=\"middle\">prep</textPath>\n",
              "    </text>\n",
              "    <path class=\"displacy-arrowhead\" d=\"M4410.0,354.0 L4418.0,342.0 4402.0,342.0\" fill=\"currentColor\"/>\n",
              "</g>\n",
              "\n",
              "<g class=\"displacy-arrow\">\n",
              "    <path class=\"displacy-arc\" id=\"arrow-a55d6acf9d9a41e1ae2246f8db008c78-0-24\" stroke-width=\"2px\" d=\"M4445,352.0 C4445,264.5 4585.0,264.5 4585.0,352.0\" fill=\"none\" stroke=\"currentColor\"/>\n",
              "    <text dy=\"1.25em\" style=\"font-size: 0.8em; letter-spacing: 1px\">\n",
              "        <textPath xlink:href=\"#arrow-a55d6acf9d9a41e1ae2246f8db008c78-0-24\" class=\"displacy-label\" startOffset=\"50%\" side=\"left\" fill=\"currentColor\" text-anchor=\"middle\">pcomp</textPath>\n",
              "    </text>\n",
              "    <path class=\"displacy-arrowhead\" d=\"M4585.0,354.0 L4593.0,342.0 4577.0,342.0\" fill=\"currentColor\"/>\n",
              "</g>\n",
              "\n",
              "<g class=\"displacy-arrow\">\n",
              "    <path class=\"displacy-arc\" id=\"arrow-a55d6acf9d9a41e1ae2246f8db008c78-0-25\" stroke-width=\"2px\" d=\"M4620,352.0 C4620,264.5 4760.0,264.5 4760.0,352.0\" fill=\"none\" stroke=\"currentColor\"/>\n",
              "    <text dy=\"1.25em\" style=\"font-size: 0.8em; letter-spacing: 1px\">\n",
              "        <textPath xlink:href=\"#arrow-a55d6acf9d9a41e1ae2246f8db008c78-0-25\" class=\"displacy-label\" startOffset=\"50%\" side=\"left\" fill=\"currentColor\" text-anchor=\"middle\">dobj</textPath>\n",
              "    </text>\n",
              "    <path class=\"displacy-arrowhead\" d=\"M4760.0,354.0 L4768.0,342.0 4752.0,342.0\" fill=\"currentColor\"/>\n",
              "</g>\n",
              "\n",
              "<g class=\"displacy-arrow\">\n",
              "    <path class=\"displacy-arc\" id=\"arrow-a55d6acf9d9a41e1ae2246f8db008c78-0-26\" stroke-width=\"2px\" d=\"M4795,352.0 C4795,264.5 4935.0,264.5 4935.0,352.0\" fill=\"none\" stroke=\"currentColor\"/>\n",
              "    <text dy=\"1.25em\" style=\"font-size: 0.8em; letter-spacing: 1px\">\n",
              "        <textPath xlink:href=\"#arrow-a55d6acf9d9a41e1ae2246f8db008c78-0-26\" class=\"displacy-label\" startOffset=\"50%\" side=\"left\" fill=\"currentColor\" text-anchor=\"middle\">prep</textPath>\n",
              "    </text>\n",
              "    <path class=\"displacy-arrowhead\" d=\"M4935.0,354.0 L4943.0,342.0 4927.0,342.0\" fill=\"currentColor\"/>\n",
              "</g>\n",
              "\n",
              "<g class=\"displacy-arrow\">\n",
              "    <path class=\"displacy-arc\" id=\"arrow-a55d6acf9d9a41e1ae2246f8db008c78-0-27\" stroke-width=\"2px\" d=\"M5145,352.0 C5145,264.5 5285.0,264.5 5285.0,352.0\" fill=\"none\" stroke=\"currentColor\"/>\n",
              "    <text dy=\"1.25em\" style=\"font-size: 0.8em; letter-spacing: 1px\">\n",
              "        <textPath xlink:href=\"#arrow-a55d6acf9d9a41e1ae2246f8db008c78-0-27\" class=\"displacy-label\" startOffset=\"50%\" side=\"left\" fill=\"currentColor\" text-anchor=\"middle\">compound</textPath>\n",
              "    </text>\n",
              "    <path class=\"displacy-arrowhead\" d=\"M5145,354.0 L5137,342.0 5153,342.0\" fill=\"currentColor\"/>\n",
              "</g>\n",
              "\n",
              "<g class=\"displacy-arrow\">\n",
              "    <path class=\"displacy-arc\" id=\"arrow-a55d6acf9d9a41e1ae2246f8db008c78-0-28\" stroke-width=\"2px\" d=\"M4970,352.0 C4970,177.0 5290.0,177.0 5290.0,352.0\" fill=\"none\" stroke=\"currentColor\"/>\n",
              "    <text dy=\"1.25em\" style=\"font-size: 0.8em; letter-spacing: 1px\">\n",
              "        <textPath xlink:href=\"#arrow-a55d6acf9d9a41e1ae2246f8db008c78-0-28\" class=\"displacy-label\" startOffset=\"50%\" side=\"left\" fill=\"currentColor\" text-anchor=\"middle\">pobj</textPath>\n",
              "    </text>\n",
              "    <path class=\"displacy-arrowhead\" d=\"M5290.0,354.0 L5298.0,342.0 5282.0,342.0\" fill=\"currentColor\"/>\n",
              "</g>\n",
              "\n",
              "<g class=\"displacy-arrow\">\n",
              "    <path class=\"displacy-arc\" id=\"arrow-a55d6acf9d9a41e1ae2246f8db008c78-0-29\" stroke-width=\"2px\" d=\"M5320,352.0 C5320,264.5 5460.0,264.5 5460.0,352.0\" fill=\"none\" stroke=\"currentColor\"/>\n",
              "    <text dy=\"1.25em\" style=\"font-size: 0.8em; letter-spacing: 1px\">\n",
              "        <textPath xlink:href=\"#arrow-a55d6acf9d9a41e1ae2246f8db008c78-0-29\" class=\"displacy-label\" startOffset=\"50%\" side=\"left\" fill=\"currentColor\" text-anchor=\"middle\">prep</textPath>\n",
              "    </text>\n",
              "    <path class=\"displacy-arrowhead\" d=\"M5460.0,354.0 L5468.0,342.0 5452.0,342.0\" fill=\"currentColor\"/>\n",
              "</g>\n",
              "\n",
              "<g class=\"displacy-arrow\">\n",
              "    <path class=\"displacy-arc\" id=\"arrow-a55d6acf9d9a41e1ae2246f8db008c78-0-30\" stroke-width=\"2px\" d=\"M5670,352.0 C5670,177.0 6340.0,177.0 6340.0,352.0\" fill=\"none\" stroke=\"currentColor\"/>\n",
              "    <text dy=\"1.25em\" style=\"font-size: 0.8em; letter-spacing: 1px\">\n",
              "        <textPath xlink:href=\"#arrow-a55d6acf9d9a41e1ae2246f8db008c78-0-30\" class=\"displacy-label\" startOffset=\"50%\" side=\"left\" fill=\"currentColor\" text-anchor=\"middle\">poss</textPath>\n",
              "    </text>\n",
              "    <path class=\"displacy-arrowhead\" d=\"M5670,354.0 L5662,342.0 5678,342.0\" fill=\"currentColor\"/>\n",
              "</g>\n",
              "\n",
              "<g class=\"displacy-arrow\">\n",
              "    <path class=\"displacy-arc\" id=\"arrow-a55d6acf9d9a41e1ae2246f8db008c78-0-31\" stroke-width=\"2px\" d=\"M5670,352.0 C5670,264.5 5810.0,264.5 5810.0,352.0\" fill=\"none\" stroke=\"currentColor\"/>\n",
              "    <text dy=\"1.25em\" style=\"font-size: 0.8em; letter-spacing: 1px\">\n",
              "        <textPath xlink:href=\"#arrow-a55d6acf9d9a41e1ae2246f8db008c78-0-31\" class=\"displacy-label\" startOffset=\"50%\" side=\"left\" fill=\"currentColor\" text-anchor=\"middle\">case</textPath>\n",
              "    </text>\n",
              "    <path class=\"displacy-arrowhead\" d=\"M5810.0,354.0 L5818.0,342.0 5802.0,342.0\" fill=\"currentColor\"/>\n",
              "</g>\n",
              "\n",
              "<g class=\"displacy-arrow\">\n",
              "    <path class=\"displacy-arc\" id=\"arrow-a55d6acf9d9a41e1ae2246f8db008c78-0-32\" stroke-width=\"2px\" d=\"M6020,352.0 C6020,264.5 6160.0,264.5 6160.0,352.0\" fill=\"none\" stroke=\"currentColor\"/>\n",
              "    <text dy=\"1.25em\" style=\"font-size: 0.8em; letter-spacing: 1px\">\n",
              "        <textPath xlink:href=\"#arrow-a55d6acf9d9a41e1ae2246f8db008c78-0-32\" class=\"displacy-label\" startOffset=\"50%\" side=\"left\" fill=\"currentColor\" text-anchor=\"middle\">advmod</textPath>\n",
              "    </text>\n",
              "    <path class=\"displacy-arrowhead\" d=\"M6020,354.0 L6012,342.0 6028,342.0\" fill=\"currentColor\"/>\n",
              "</g>\n",
              "\n",
              "<g class=\"displacy-arrow\">\n",
              "    <path class=\"displacy-arc\" id=\"arrow-a55d6acf9d9a41e1ae2246f8db008c78-0-33\" stroke-width=\"2px\" d=\"M6195,352.0 C6195,264.5 6335.0,264.5 6335.0,352.0\" fill=\"none\" stroke=\"currentColor\"/>\n",
              "    <text dy=\"1.25em\" style=\"font-size: 0.8em; letter-spacing: 1px\">\n",
              "        <textPath xlink:href=\"#arrow-a55d6acf9d9a41e1ae2246f8db008c78-0-33\" class=\"displacy-label\" startOffset=\"50%\" side=\"left\" fill=\"currentColor\" text-anchor=\"middle\">amod</textPath>\n",
              "    </text>\n",
              "    <path class=\"displacy-arrowhead\" d=\"M6195,354.0 L6187,342.0 6203,342.0\" fill=\"currentColor\"/>\n",
              "</g>\n",
              "\n",
              "<g class=\"displacy-arrow\">\n",
              "    <path class=\"displacy-arc\" id=\"arrow-a55d6acf9d9a41e1ae2246f8db008c78-0-34\" stroke-width=\"2px\" d=\"M5495,352.0 C5495,89.5 6345.0,89.5 6345.0,352.0\" fill=\"none\" stroke=\"currentColor\"/>\n",
              "    <text dy=\"1.25em\" style=\"font-size: 0.8em; letter-spacing: 1px\">\n",
              "        <textPath xlink:href=\"#arrow-a55d6acf9d9a41e1ae2246f8db008c78-0-34\" class=\"displacy-label\" startOffset=\"50%\" side=\"left\" fill=\"currentColor\" text-anchor=\"middle\">pobj</textPath>\n",
              "    </text>\n",
              "    <path class=\"displacy-arrowhead\" d=\"M6345.0,354.0 L6353.0,342.0 6337.0,342.0\" fill=\"currentColor\"/>\n",
              "</g>\n",
              "</svg></span>"
            ]
          },
          "metadata": {}
        }
      ],
      "source": [
        "from spacy import displacy\n",
        "displacy.render(parsed_text, jupyter=True, style='dep')"
      ]
    },
    {
      "cell_type": "markdown",
      "metadata": {
        "id": "quwWOjbOpdl3"
      },
      "source": [
        "Such dependency trees are interesting for understanding and visualising language (particularly for linguists) and could possibly be used for some downstream tasks (say checking ambiguity in legal documents).  \n",
        "\n",
        "Consider the sentences:\n",
        "- *The girl saw a man carrying a telescope.*\n",
        "- *The girl saw a man with a telescope.*\n",
        "\n",
        "Who had the telescope?"
      ]
    },
    {
      "cell_type": "code",
      "execution_count": 71,
      "metadata": {
        "id": "_AxJLNswpdl3",
        "colab": {
          "base_uri": "https://localhost:8080/",
          "height": 353
        },
        "outputId": "0c4b27cb-4972-4013-908d-b8fde7216267"
      },
      "outputs": [
        {
          "output_type": "display_data",
          "data": {
            "text/plain": [
              "<IPython.core.display.HTML object>"
            ],
            "text/html": [
              "<span class=\"tex2jax_ignore\"><svg xmlns=\"http://www.w3.org/2000/svg\" xmlns:xlink=\"http://www.w3.org/1999/xlink\" xml:lang=\"en\" id=\"7037ff264d5f42a4b491a115dcdc672f-0\" class=\"displacy\" width=\"1450\" height=\"312.0\" direction=\"ltr\" style=\"max-width: none; height: 312.0px; color: #000000; background: #ffffff; font-family: Arial; direction: ltr\">\n",
              "<text class=\"displacy-token\" fill=\"currentColor\" text-anchor=\"middle\" y=\"222.0\">\n",
              "    <tspan class=\"displacy-word\" fill=\"currentColor\" x=\"50\">The</tspan>\n",
              "    <tspan class=\"displacy-tag\" dy=\"2em\" fill=\"currentColor\" x=\"50\">DET</tspan>\n",
              "</text>\n",
              "\n",
              "<text class=\"displacy-token\" fill=\"currentColor\" text-anchor=\"middle\" y=\"222.0\">\n",
              "    <tspan class=\"displacy-word\" fill=\"currentColor\" x=\"225\">girl</tspan>\n",
              "    <tspan class=\"displacy-tag\" dy=\"2em\" fill=\"currentColor\" x=\"225\">NOUN</tspan>\n",
              "</text>\n",
              "\n",
              "<text class=\"displacy-token\" fill=\"currentColor\" text-anchor=\"middle\" y=\"222.0\">\n",
              "    <tspan class=\"displacy-word\" fill=\"currentColor\" x=\"400\">saw</tspan>\n",
              "    <tspan class=\"displacy-tag\" dy=\"2em\" fill=\"currentColor\" x=\"400\">VERB</tspan>\n",
              "</text>\n",
              "\n",
              "<text class=\"displacy-token\" fill=\"currentColor\" text-anchor=\"middle\" y=\"222.0\">\n",
              "    <tspan class=\"displacy-word\" fill=\"currentColor\" x=\"575\">a</tspan>\n",
              "    <tspan class=\"displacy-tag\" dy=\"2em\" fill=\"currentColor\" x=\"575\">DET</tspan>\n",
              "</text>\n",
              "\n",
              "<text class=\"displacy-token\" fill=\"currentColor\" text-anchor=\"middle\" y=\"222.0\">\n",
              "    <tspan class=\"displacy-word\" fill=\"currentColor\" x=\"750\">man</tspan>\n",
              "    <tspan class=\"displacy-tag\" dy=\"2em\" fill=\"currentColor\" x=\"750\">NOUN</tspan>\n",
              "</text>\n",
              "\n",
              "<text class=\"displacy-token\" fill=\"currentColor\" text-anchor=\"middle\" y=\"222.0\">\n",
              "    <tspan class=\"displacy-word\" fill=\"currentColor\" x=\"925\">carrying</tspan>\n",
              "    <tspan class=\"displacy-tag\" dy=\"2em\" fill=\"currentColor\" x=\"925\">VERB</tspan>\n",
              "</text>\n",
              "\n",
              "<text class=\"displacy-token\" fill=\"currentColor\" text-anchor=\"middle\" y=\"222.0\">\n",
              "    <tspan class=\"displacy-word\" fill=\"currentColor\" x=\"1100\">a</tspan>\n",
              "    <tspan class=\"displacy-tag\" dy=\"2em\" fill=\"currentColor\" x=\"1100\">DET</tspan>\n",
              "</text>\n",
              "\n",
              "<text class=\"displacy-token\" fill=\"currentColor\" text-anchor=\"middle\" y=\"222.0\">\n",
              "    <tspan class=\"displacy-word\" fill=\"currentColor\" x=\"1275\">telescope.</tspan>\n",
              "    <tspan class=\"displacy-tag\" dy=\"2em\" fill=\"currentColor\" x=\"1275\">NOUN</tspan>\n",
              "</text>\n",
              "\n",
              "<g class=\"displacy-arrow\">\n",
              "    <path class=\"displacy-arc\" id=\"arrow-7037ff264d5f42a4b491a115dcdc672f-0-0\" stroke-width=\"2px\" d=\"M70,177.0 C70,89.5 220.0,89.5 220.0,177.0\" fill=\"none\" stroke=\"currentColor\"/>\n",
              "    <text dy=\"1.25em\" style=\"font-size: 0.8em; letter-spacing: 1px\">\n",
              "        <textPath xlink:href=\"#arrow-7037ff264d5f42a4b491a115dcdc672f-0-0\" class=\"displacy-label\" startOffset=\"50%\" side=\"left\" fill=\"currentColor\" text-anchor=\"middle\">det</textPath>\n",
              "    </text>\n",
              "    <path class=\"displacy-arrowhead\" d=\"M70,179.0 L62,167.0 78,167.0\" fill=\"currentColor\"/>\n",
              "</g>\n",
              "\n",
              "<g class=\"displacy-arrow\">\n",
              "    <path class=\"displacy-arc\" id=\"arrow-7037ff264d5f42a4b491a115dcdc672f-0-1\" stroke-width=\"2px\" d=\"M245,177.0 C245,89.5 395.0,89.5 395.0,177.0\" fill=\"none\" stroke=\"currentColor\"/>\n",
              "    <text dy=\"1.25em\" style=\"font-size: 0.8em; letter-spacing: 1px\">\n",
              "        <textPath xlink:href=\"#arrow-7037ff264d5f42a4b491a115dcdc672f-0-1\" class=\"displacy-label\" startOffset=\"50%\" side=\"left\" fill=\"currentColor\" text-anchor=\"middle\">nsubj</textPath>\n",
              "    </text>\n",
              "    <path class=\"displacy-arrowhead\" d=\"M245,179.0 L237,167.0 253,167.0\" fill=\"currentColor\"/>\n",
              "</g>\n",
              "\n",
              "<g class=\"displacy-arrow\">\n",
              "    <path class=\"displacy-arc\" id=\"arrow-7037ff264d5f42a4b491a115dcdc672f-0-2\" stroke-width=\"2px\" d=\"M595,177.0 C595,89.5 745.0,89.5 745.0,177.0\" fill=\"none\" stroke=\"currentColor\"/>\n",
              "    <text dy=\"1.25em\" style=\"font-size: 0.8em; letter-spacing: 1px\">\n",
              "        <textPath xlink:href=\"#arrow-7037ff264d5f42a4b491a115dcdc672f-0-2\" class=\"displacy-label\" startOffset=\"50%\" side=\"left\" fill=\"currentColor\" text-anchor=\"middle\">det</textPath>\n",
              "    </text>\n",
              "    <path class=\"displacy-arrowhead\" d=\"M595,179.0 L587,167.0 603,167.0\" fill=\"currentColor\"/>\n",
              "</g>\n",
              "\n",
              "<g class=\"displacy-arrow\">\n",
              "    <path class=\"displacy-arc\" id=\"arrow-7037ff264d5f42a4b491a115dcdc672f-0-3\" stroke-width=\"2px\" d=\"M420,177.0 C420,2.0 750.0,2.0 750.0,177.0\" fill=\"none\" stroke=\"currentColor\"/>\n",
              "    <text dy=\"1.25em\" style=\"font-size: 0.8em; letter-spacing: 1px\">\n",
              "        <textPath xlink:href=\"#arrow-7037ff264d5f42a4b491a115dcdc672f-0-3\" class=\"displacy-label\" startOffset=\"50%\" side=\"left\" fill=\"currentColor\" text-anchor=\"middle\">dobj</textPath>\n",
              "    </text>\n",
              "    <path class=\"displacy-arrowhead\" d=\"M750.0,179.0 L758.0,167.0 742.0,167.0\" fill=\"currentColor\"/>\n",
              "</g>\n",
              "\n",
              "<g class=\"displacy-arrow\">\n",
              "    <path class=\"displacy-arc\" id=\"arrow-7037ff264d5f42a4b491a115dcdc672f-0-4\" stroke-width=\"2px\" d=\"M770,177.0 C770,89.5 920.0,89.5 920.0,177.0\" fill=\"none\" stroke=\"currentColor\"/>\n",
              "    <text dy=\"1.25em\" style=\"font-size: 0.8em; letter-spacing: 1px\">\n",
              "        <textPath xlink:href=\"#arrow-7037ff264d5f42a4b491a115dcdc672f-0-4\" class=\"displacy-label\" startOffset=\"50%\" side=\"left\" fill=\"currentColor\" text-anchor=\"middle\">acl</textPath>\n",
              "    </text>\n",
              "    <path class=\"displacy-arrowhead\" d=\"M920.0,179.0 L928.0,167.0 912.0,167.0\" fill=\"currentColor\"/>\n",
              "</g>\n",
              "\n",
              "<g class=\"displacy-arrow\">\n",
              "    <path class=\"displacy-arc\" id=\"arrow-7037ff264d5f42a4b491a115dcdc672f-0-5\" stroke-width=\"2px\" d=\"M1120,177.0 C1120,89.5 1270.0,89.5 1270.0,177.0\" fill=\"none\" stroke=\"currentColor\"/>\n",
              "    <text dy=\"1.25em\" style=\"font-size: 0.8em; letter-spacing: 1px\">\n",
              "        <textPath xlink:href=\"#arrow-7037ff264d5f42a4b491a115dcdc672f-0-5\" class=\"displacy-label\" startOffset=\"50%\" side=\"left\" fill=\"currentColor\" text-anchor=\"middle\">det</textPath>\n",
              "    </text>\n",
              "    <path class=\"displacy-arrowhead\" d=\"M1120,179.0 L1112,167.0 1128,167.0\" fill=\"currentColor\"/>\n",
              "</g>\n",
              "\n",
              "<g class=\"displacy-arrow\">\n",
              "    <path class=\"displacy-arc\" id=\"arrow-7037ff264d5f42a4b491a115dcdc672f-0-6\" stroke-width=\"2px\" d=\"M945,177.0 C945,2.0 1275.0,2.0 1275.0,177.0\" fill=\"none\" stroke=\"currentColor\"/>\n",
              "    <text dy=\"1.25em\" style=\"font-size: 0.8em; letter-spacing: 1px\">\n",
              "        <textPath xlink:href=\"#arrow-7037ff264d5f42a4b491a115dcdc672f-0-6\" class=\"displacy-label\" startOffset=\"50%\" side=\"left\" fill=\"currentColor\" text-anchor=\"middle\">dobj</textPath>\n",
              "    </text>\n",
              "    <path class=\"displacy-arrowhead\" d=\"M1275.0,179.0 L1283.0,167.0 1267.0,167.0\" fill=\"currentColor\"/>\n",
              "</g>\n",
              "</svg></span>"
            ]
          },
          "metadata": {}
        }
      ],
      "source": [
        "displacy.render(nlp_model('The girl saw a man carrying a telescope.'),jupyter=True,style='dep')"
      ]
    },
    {
      "cell_type": "code",
      "execution_count": 72,
      "metadata": {
        "id": "7abgGOdwpdl3",
        "colab": {
          "base_uri": "https://localhost:8080/",
          "height": 353
        },
        "outputId": "7fd6eb71-e6b9-47fc-eaf7-a6f9b5f904d3"
      },
      "outputs": [
        {
          "output_type": "display_data",
          "data": {
            "text/plain": [
              "<IPython.core.display.HTML object>"
            ],
            "text/html": [
              "<span class=\"tex2jax_ignore\"><svg xmlns=\"http://www.w3.org/2000/svg\" xmlns:xlink=\"http://www.w3.org/1999/xlink\" xml:lang=\"en\" id=\"0dae1079fbbc4ae7ae1e0a29c413e742-0\" class=\"displacy\" width=\"1450\" height=\"312.0\" direction=\"ltr\" style=\"max-width: none; height: 312.0px; color: #000000; background: #ffffff; font-family: Arial; direction: ltr\">\n",
              "<text class=\"displacy-token\" fill=\"currentColor\" text-anchor=\"middle\" y=\"222.0\">\n",
              "    <tspan class=\"displacy-word\" fill=\"currentColor\" x=\"50\">The</tspan>\n",
              "    <tspan class=\"displacy-tag\" dy=\"2em\" fill=\"currentColor\" x=\"50\">DET</tspan>\n",
              "</text>\n",
              "\n",
              "<text class=\"displacy-token\" fill=\"currentColor\" text-anchor=\"middle\" y=\"222.0\">\n",
              "    <tspan class=\"displacy-word\" fill=\"currentColor\" x=\"225\">girl</tspan>\n",
              "    <tspan class=\"displacy-tag\" dy=\"2em\" fill=\"currentColor\" x=\"225\">NOUN</tspan>\n",
              "</text>\n",
              "\n",
              "<text class=\"displacy-token\" fill=\"currentColor\" text-anchor=\"middle\" y=\"222.0\">\n",
              "    <tspan class=\"displacy-word\" fill=\"currentColor\" x=\"400\">saw</tspan>\n",
              "    <tspan class=\"displacy-tag\" dy=\"2em\" fill=\"currentColor\" x=\"400\">VERB</tspan>\n",
              "</text>\n",
              "\n",
              "<text class=\"displacy-token\" fill=\"currentColor\" text-anchor=\"middle\" y=\"222.0\">\n",
              "    <tspan class=\"displacy-word\" fill=\"currentColor\" x=\"575\">a</tspan>\n",
              "    <tspan class=\"displacy-tag\" dy=\"2em\" fill=\"currentColor\" x=\"575\">DET</tspan>\n",
              "</text>\n",
              "\n",
              "<text class=\"displacy-token\" fill=\"currentColor\" text-anchor=\"middle\" y=\"222.0\">\n",
              "    <tspan class=\"displacy-word\" fill=\"currentColor\" x=\"750\">man</tspan>\n",
              "    <tspan class=\"displacy-tag\" dy=\"2em\" fill=\"currentColor\" x=\"750\">NOUN</tspan>\n",
              "</text>\n",
              "\n",
              "<text class=\"displacy-token\" fill=\"currentColor\" text-anchor=\"middle\" y=\"222.0\">\n",
              "    <tspan class=\"displacy-word\" fill=\"currentColor\" x=\"925\">with</tspan>\n",
              "    <tspan class=\"displacy-tag\" dy=\"2em\" fill=\"currentColor\" x=\"925\">ADP</tspan>\n",
              "</text>\n",
              "\n",
              "<text class=\"displacy-token\" fill=\"currentColor\" text-anchor=\"middle\" y=\"222.0\">\n",
              "    <tspan class=\"displacy-word\" fill=\"currentColor\" x=\"1100\">a</tspan>\n",
              "    <tspan class=\"displacy-tag\" dy=\"2em\" fill=\"currentColor\" x=\"1100\">DET</tspan>\n",
              "</text>\n",
              "\n",
              "<text class=\"displacy-token\" fill=\"currentColor\" text-anchor=\"middle\" y=\"222.0\">\n",
              "    <tspan class=\"displacy-word\" fill=\"currentColor\" x=\"1275\">telescope.</tspan>\n",
              "    <tspan class=\"displacy-tag\" dy=\"2em\" fill=\"currentColor\" x=\"1275\">NOUN</tspan>\n",
              "</text>\n",
              "\n",
              "<g class=\"displacy-arrow\">\n",
              "    <path class=\"displacy-arc\" id=\"arrow-0dae1079fbbc4ae7ae1e0a29c413e742-0-0\" stroke-width=\"2px\" d=\"M70,177.0 C70,89.5 220.0,89.5 220.0,177.0\" fill=\"none\" stroke=\"currentColor\"/>\n",
              "    <text dy=\"1.25em\" style=\"font-size: 0.8em; letter-spacing: 1px\">\n",
              "        <textPath xlink:href=\"#arrow-0dae1079fbbc4ae7ae1e0a29c413e742-0-0\" class=\"displacy-label\" startOffset=\"50%\" side=\"left\" fill=\"currentColor\" text-anchor=\"middle\">det</textPath>\n",
              "    </text>\n",
              "    <path class=\"displacy-arrowhead\" d=\"M70,179.0 L62,167.0 78,167.0\" fill=\"currentColor\"/>\n",
              "</g>\n",
              "\n",
              "<g class=\"displacy-arrow\">\n",
              "    <path class=\"displacy-arc\" id=\"arrow-0dae1079fbbc4ae7ae1e0a29c413e742-0-1\" stroke-width=\"2px\" d=\"M245,177.0 C245,89.5 395.0,89.5 395.0,177.0\" fill=\"none\" stroke=\"currentColor\"/>\n",
              "    <text dy=\"1.25em\" style=\"font-size: 0.8em; letter-spacing: 1px\">\n",
              "        <textPath xlink:href=\"#arrow-0dae1079fbbc4ae7ae1e0a29c413e742-0-1\" class=\"displacy-label\" startOffset=\"50%\" side=\"left\" fill=\"currentColor\" text-anchor=\"middle\">nsubj</textPath>\n",
              "    </text>\n",
              "    <path class=\"displacy-arrowhead\" d=\"M245,179.0 L237,167.0 253,167.0\" fill=\"currentColor\"/>\n",
              "</g>\n",
              "\n",
              "<g class=\"displacy-arrow\">\n",
              "    <path class=\"displacy-arc\" id=\"arrow-0dae1079fbbc4ae7ae1e0a29c413e742-0-2\" stroke-width=\"2px\" d=\"M595,177.0 C595,89.5 745.0,89.5 745.0,177.0\" fill=\"none\" stroke=\"currentColor\"/>\n",
              "    <text dy=\"1.25em\" style=\"font-size: 0.8em; letter-spacing: 1px\">\n",
              "        <textPath xlink:href=\"#arrow-0dae1079fbbc4ae7ae1e0a29c413e742-0-2\" class=\"displacy-label\" startOffset=\"50%\" side=\"left\" fill=\"currentColor\" text-anchor=\"middle\">det</textPath>\n",
              "    </text>\n",
              "    <path class=\"displacy-arrowhead\" d=\"M595,179.0 L587,167.0 603,167.0\" fill=\"currentColor\"/>\n",
              "</g>\n",
              "\n",
              "<g class=\"displacy-arrow\">\n",
              "    <path class=\"displacy-arc\" id=\"arrow-0dae1079fbbc4ae7ae1e0a29c413e742-0-3\" stroke-width=\"2px\" d=\"M420,177.0 C420,2.0 750.0,2.0 750.0,177.0\" fill=\"none\" stroke=\"currentColor\"/>\n",
              "    <text dy=\"1.25em\" style=\"font-size: 0.8em; letter-spacing: 1px\">\n",
              "        <textPath xlink:href=\"#arrow-0dae1079fbbc4ae7ae1e0a29c413e742-0-3\" class=\"displacy-label\" startOffset=\"50%\" side=\"left\" fill=\"currentColor\" text-anchor=\"middle\">dobj</textPath>\n",
              "    </text>\n",
              "    <path class=\"displacy-arrowhead\" d=\"M750.0,179.0 L758.0,167.0 742.0,167.0\" fill=\"currentColor\"/>\n",
              "</g>\n",
              "\n",
              "<g class=\"displacy-arrow\">\n",
              "    <path class=\"displacy-arc\" id=\"arrow-0dae1079fbbc4ae7ae1e0a29c413e742-0-4\" stroke-width=\"2px\" d=\"M770,177.0 C770,89.5 920.0,89.5 920.0,177.0\" fill=\"none\" stroke=\"currentColor\"/>\n",
              "    <text dy=\"1.25em\" style=\"font-size: 0.8em; letter-spacing: 1px\">\n",
              "        <textPath xlink:href=\"#arrow-0dae1079fbbc4ae7ae1e0a29c413e742-0-4\" class=\"displacy-label\" startOffset=\"50%\" side=\"left\" fill=\"currentColor\" text-anchor=\"middle\">prep</textPath>\n",
              "    </text>\n",
              "    <path class=\"displacy-arrowhead\" d=\"M920.0,179.0 L928.0,167.0 912.0,167.0\" fill=\"currentColor\"/>\n",
              "</g>\n",
              "\n",
              "<g class=\"displacy-arrow\">\n",
              "    <path class=\"displacy-arc\" id=\"arrow-0dae1079fbbc4ae7ae1e0a29c413e742-0-5\" stroke-width=\"2px\" d=\"M1120,177.0 C1120,89.5 1270.0,89.5 1270.0,177.0\" fill=\"none\" stroke=\"currentColor\"/>\n",
              "    <text dy=\"1.25em\" style=\"font-size: 0.8em; letter-spacing: 1px\">\n",
              "        <textPath xlink:href=\"#arrow-0dae1079fbbc4ae7ae1e0a29c413e742-0-5\" class=\"displacy-label\" startOffset=\"50%\" side=\"left\" fill=\"currentColor\" text-anchor=\"middle\">det</textPath>\n",
              "    </text>\n",
              "    <path class=\"displacy-arrowhead\" d=\"M1120,179.0 L1112,167.0 1128,167.0\" fill=\"currentColor\"/>\n",
              "</g>\n",
              "\n",
              "<g class=\"displacy-arrow\">\n",
              "    <path class=\"displacy-arc\" id=\"arrow-0dae1079fbbc4ae7ae1e0a29c413e742-0-6\" stroke-width=\"2px\" d=\"M945,177.0 C945,2.0 1275.0,2.0 1275.0,177.0\" fill=\"none\" stroke=\"currentColor\"/>\n",
              "    <text dy=\"1.25em\" style=\"font-size: 0.8em; letter-spacing: 1px\">\n",
              "        <textPath xlink:href=\"#arrow-0dae1079fbbc4ae7ae1e0a29c413e742-0-6\" class=\"displacy-label\" startOffset=\"50%\" side=\"left\" fill=\"currentColor\" text-anchor=\"middle\">pobj</textPath>\n",
              "    </text>\n",
              "    <path class=\"displacy-arrowhead\" d=\"M1275.0,179.0 L1283.0,167.0 1267.0,167.0\" fill=\"currentColor\"/>\n",
              "</g>\n",
              "</svg></span>"
            ]
          },
          "metadata": {}
        }
      ],
      "source": [
        "displacy.render(nlp_model('The girl saw a man with a telescope.'),jupyter=True,style='dep')"
      ]
    },
    {
      "cell_type": "markdown",
      "metadata": {
        "id": "_fIZq6zIhPbk"
      },
      "source": [
        "The second sentence is ambiguous: The girl may have made use of her telescope or the man may have been using the girl's telescope...\n",
        "- Language is full of such ambiguities which we as humans naturally deal with using our prior knowledge and abilty to construct mental models of the situations described.\n",
        "- This process is not without its biases:\n",
        "  - *The doctor went over to talk to the nurse. She told him that she had just given the patient 5mg of Vicodin and the child had started convulsing. He listened attentively as she explained what had happened. The doctor was worried that the patient should not be given any more painkillers. The nurse told the doctor not to worry, that the patient was in good hands, and that he would let her know immediately if the child's condition changed.*\n",
        "  - What gender are the doctor and the nurse?"
      ]
    },
    {
      "cell_type": "markdown",
      "metadata": {
        "id": "4uE1efbqpdl3"
      },
      "source": [
        "## Extracting Entities\n",
        "\n",
        "A more important output than the depency parse, from a text mining perspective, is the list of named-entities present in the text\n",
        "- **named entities** are objects in the real world, e.g. persons, products, organizations, locations, etc.\n",
        "  - see https://en.wikipedia.org/wiki/Named_entity\n",
        "- if spacy has found any named entities while parsing the text, we can access them as follows:"
      ]
    },
    {
      "cell_type": "code",
      "execution_count": 73,
      "metadata": {
        "id": "irYwH5WVpdl3",
        "colab": {
          "base_uri": "https://localhost:8080/"
        },
        "outputId": "fd1c0a6a-59e2-4f3d-db58-83bdb3a9bdb2"
      },
      "outputs": [
        {
          "output_type": "execute_result",
          "data": {
            "text/plain": [
              "(Melbourne, 3, Victorian, Daniel Andrews, Australia, second)"
            ]
          },
          "metadata": {},
          "execution_count": 73
        }
      ],
      "source": [
        "parsed_text.ents"
      ]
    },
    {
      "cell_type": "markdown",
      "metadata": {
        "id": "rv6krbXmpdl3"
      },
      "source": [
        "Note that the entities are not single word tokens but short sequences of words: 'Stage 3' and 'Daniel Andrews'.\n",
        "\n",
        "Not only does spacy extract the entities, but also categorises them based on their type:"
      ]
    },
    {
      "cell_type": "code",
      "execution_count": 74,
      "metadata": {
        "id": "EXA2FRzXpdl4",
        "colab": {
          "base_uri": "https://localhost:8080/"
        },
        "outputId": "15701d93-9dfd-4aa5-a011-6ffff14494c7"
      },
      "outputs": [
        {
          "output_type": "stream",
          "name": "stdout",
          "text": [
            "[('Melbourne', 'GPE'), ('3', 'CARDINAL'), ('Victorian', 'NORP'), ('Daniel Andrews', 'PERSON'), ('Australia', 'GPE'), ('second', 'ORDINAL')]\n"
          ]
        }
      ],
      "source": [
        "print([(ent.text, ent.label_) for ent in parsed_text.ents])"
      ]
    },
    {
      "cell_type": "markdown",
      "metadata": {
        "id": "fyp09Uelpdl4"
      },
      "source": [
        "The city and country locations have been labeled 'GPE' for 'geopolitical entity', while the Premier of Victoria has been correctly identified as a person.\n",
        "- Here is the list of all entity types that spaCy looks for: https://spacy.io/api/annotation#section-named-entities\n",
        "\n",
        "Internally, the output of the Named Entity Recogniser is a sequence annotated with entities using inside-outside-beginning encoding:\n",
        "- see https://en.wikipedia.org/wiki/Inside%E2%80%93outside%E2%80%93beginning_(tagging)\n",
        "- We can print out this labeling as follows:"
      ]
    },
    {
      "cell_type": "code",
      "execution_count": 75,
      "metadata": {
        "id": "-E1H-RM6pdl4",
        "colab": {
          "base_uri": "https://localhost:8080/"
        },
        "outputId": "06e865c2-6acc-482e-dde6-97fcbc3c4fe7"
      },
      "outputs": [
        {
          "output_type": "execute_result",
          "data": {
            "text/plain": [
              "[(Melbourne, 'B', 'GPE'),\n",
              " (is, 'O', ''),\n",
              " (to, 'O', ''),\n",
              " (re, 'O', ''),\n",
              " (-, 'O', ''),\n",
              " (enter, 'O', ''),\n",
              " (Stage, 'O', ''),\n",
              " (3, 'B', 'CARDINAL'),\n",
              " (lockdown, 'O', ''),\n",
              " (after, 'O', ''),\n",
              " (a, 'O', ''),\n",
              " (record, 'O', ''),\n",
              " (increase, 'O', ''),\n",
              " (in, 'O', ''),\n",
              " (cases, 'O', ''),\n",
              " (., 'O', ''),\n",
              " (Victorian, 'B', 'NORP'),\n",
              " (state, 'O', ''),\n",
              " (premier, 'O', ''),\n",
              " (Daniel, 'B', 'PERSON'),\n",
              " (Andrews, 'I', 'PERSON'),\n",
              " (said, 'O', ''),\n",
              " (there, 'O', ''),\n",
              " (was, 'O', ''),\n",
              " (“, 'O', ''),\n",
              " (simply, 'O', ''),\n",
              " (no, 'O', ''),\n",
              " (alternative, 'O', ''),\n",
              " (”, 'O', ''),\n",
              " (to, 'O', ''),\n",
              " (reimposing, 'O', ''),\n",
              " (stay, 'O', ''),\n",
              " (at, 'O', ''),\n",
              " (home, 'O', ''),\n",
              " (restrictions, 'O', ''),\n",
              " (in, 'O', ''),\n",
              " (Australia, 'B', 'GPE'),\n",
              " (’s, 'O', ''),\n",
              " (second, 'B', 'ORDINAL'),\n",
              " (-, 'O', ''),\n",
              " (biggest, 'O', ''),\n",
              " (city, 'O', ''),\n",
              " (., 'O', '')]"
            ]
          },
          "metadata": {},
          "execution_count": 75
        }
      ],
      "source": [
        "[(X, X.ent_iob_, X.ent_type_) for X in parsed_text]"
      ]
    },
    {
      "cell_type": "markdown",
      "metadata": {
        "id": "10tU8n44pdl4"
      },
      "source": [
        "The above format is a bit hard to read though, so spaCy also provides a far more natural visualisation of the tags:"
      ]
    },
    {
      "cell_type": "code",
      "execution_count": 76,
      "metadata": {
        "id": "9PmUl2y5pdl4",
        "colab": {
          "base_uri": "https://localhost:8080/",
          "height": 87
        },
        "outputId": "e08ccfc2-aad3-4a90-c70f-1716c0495f2f"
      },
      "outputs": [
        {
          "output_type": "display_data",
          "data": {
            "text/plain": [
              "<IPython.core.display.HTML object>"
            ],
            "text/html": [
              "<span class=\"tex2jax_ignore\"><div class=\"entities\" style=\"line-height: 2.5; direction: ltr\">\n",
              "<mark class=\"entity\" style=\"background: #feca74; padding: 0.45em 0.6em; margin: 0 0.25em; line-height: 1; border-radius: 0.35em;\">\n",
              "    Melbourne\n",
              "    <span style=\"font-size: 0.8em; font-weight: bold; line-height: 1; border-radius: 0.35em; vertical-align: middle; margin-left: 0.5rem\">GPE</span>\n",
              "</mark>\n",
              " is to re-enter Stage \n",
              "<mark class=\"entity\" style=\"background: #e4e7d2; padding: 0.45em 0.6em; margin: 0 0.25em; line-height: 1; border-radius: 0.35em;\">\n",
              "    3\n",
              "    <span style=\"font-size: 0.8em; font-weight: bold; line-height: 1; border-radius: 0.35em; vertical-align: middle; margin-left: 0.5rem\">CARDINAL</span>\n",
              "</mark>\n",
              " lockdown after a record increase in cases. \n",
              "<mark class=\"entity\" style=\"background: #c887fb; padding: 0.45em 0.6em; margin: 0 0.25em; line-height: 1; border-radius: 0.35em;\">\n",
              "    Victorian\n",
              "    <span style=\"font-size: 0.8em; font-weight: bold; line-height: 1; border-radius: 0.35em; vertical-align: middle; margin-left: 0.5rem\">NORP</span>\n",
              "</mark>\n",
              " state premier \n",
              "<mark class=\"entity\" style=\"background: #aa9cfc; padding: 0.45em 0.6em; margin: 0 0.25em; line-height: 1; border-radius: 0.35em;\">\n",
              "    Daniel Andrews\n",
              "    <span style=\"font-size: 0.8em; font-weight: bold; line-height: 1; border-radius: 0.35em; vertical-align: middle; margin-left: 0.5rem\">PERSON</span>\n",
              "</mark>\n",
              " said there was “simply no alternative” to reimposing stay at home restrictions in \n",
              "<mark class=\"entity\" style=\"background: #feca74; padding: 0.45em 0.6em; margin: 0 0.25em; line-height: 1; border-radius: 0.35em;\">\n",
              "    Australia\n",
              "    <span style=\"font-size: 0.8em; font-weight: bold; line-height: 1; border-radius: 0.35em; vertical-align: middle; margin-left: 0.5rem\">GPE</span>\n",
              "</mark>\n",
              "’s \n",
              "<mark class=\"entity\" style=\"background: #e4e7d2; padding: 0.45em 0.6em; margin: 0 0.25em; line-height: 1; border-radius: 0.35em;\">\n",
              "    second\n",
              "    <span style=\"font-size: 0.8em; font-weight: bold; line-height: 1; border-radius: 0.35em; vertical-align: middle; margin-left: 0.5rem\">ORDINAL</span>\n",
              "</mark>\n",
              "-biggest city.</div></span>"
            ]
          },
          "metadata": {}
        }
      ],
      "source": [
        "displacy.render(parsed_text, jupyter=True, style='ent')"
      ]
    },
    {
      "cell_type": "markdown",
      "metadata": {
        "id": "VS1PK7ifpdl5"
      },
      "source": [
        "## Extracting entities from a web document\n",
        "\n",
        "Now that we know how to perform entity recognition on text, let's apply it to a full document"
      ]
    },
    {
      "cell_type": "code",
      "execution_count": 77,
      "metadata": {
        "id": "8pY-nN0Zpdl5"
      },
      "outputs": [],
      "source": [
        "url = 'https://www.bbc.com/news/world-latin-america-53319517'\n",
        "#url = 'https://en.wikipedia.org/wiki/Apple_(disambiguation)'\n",
        "\n",
        "import requests\n",
        "html_doc = requests.get(url).text\n",
        "\n",
        "from bs4 import BeautifulSoup\n",
        "parsed_doc = BeautifulSoup(html_doc, 'lxml')"
      ]
    },
    {
      "cell_type": "markdown",
      "metadata": {
        "id": "LRe5AUvCpdl5"
      },
      "source": [
        "Now lets extract the title and paragraph text:"
      ]
    },
    {
      "cell_type": "code",
      "execution_count": 78,
      "metadata": {
        "id": "e5YGoQISpdl5",
        "colab": {
          "base_uri": "https://localhost:8080/"
        },
        "outputId": "23396815-616a-4e8d-e513-d548780ab496"
      },
      "outputs": [
        {
          "output_type": "stream",
          "name": "stdout",
          "text": [
            "Coronavirus: Brazil's President Bolsonaro tests positive\n",
            "\n",
            "\n"
          ]
        }
      ],
      "source": [
        "title = parsed_doc.find('title').text\n",
        "paragraphs = [p.text for p in parsed_doc.find_all('p')]\n",
        "\n",
        "# Combine the title and paragraphs into a single text:\n",
        "article_text = title + '\\n\\n' + '\\n'.join(paragraphs)\n",
        "print(article_text)\n",
        "\n",
        "#article_text = parsed_doc.get_text()\n",
        "#print(article_text)"
      ]
    },
    {
      "cell_type": "markdown",
      "metadata": {
        "id": "y_dqist0pdl5"
      },
      "source": [
        "Parse the article to identify the entities and display them:"
      ]
    },
    {
      "cell_type": "code",
      "execution_count": 79,
      "metadata": {
        "id": "RMTsfAhYpdl6",
        "colab": {
          "base_uri": "https://localhost:8080/",
          "height": 87
        },
        "outputId": "180fc965-bccf-433c-e20d-f55039f070d2"
      },
      "outputs": [
        {
          "output_type": "display_data",
          "data": {
            "text/plain": [
              "<IPython.core.display.HTML object>"
            ],
            "text/html": [
              "<span class=\"tex2jax_ignore\"><div class=\"entities\" style=\"line-height: 2.5; direction: ltr\">\n",
              "<mark class=\"entity\" style=\"background: #feca74; padding: 0.45em 0.6em; margin: 0 0.25em; line-height: 1; border-radius: 0.35em;\">\n",
              "    Coronavirus\n",
              "    <span style=\"font-size: 0.8em; font-weight: bold; line-height: 1; border-radius: 0.35em; vertical-align: middle; margin-left: 0.5rem\">GPE</span>\n",
              "</mark>\n",
              ": \n",
              "<mark class=\"entity\" style=\"background: #feca74; padding: 0.45em 0.6em; margin: 0 0.25em; line-height: 1; border-radius: 0.35em;\">\n",
              "    Brazil\n",
              "    <span style=\"font-size: 0.8em; font-weight: bold; line-height: 1; border-radius: 0.35em; vertical-align: middle; margin-left: 0.5rem\">GPE</span>\n",
              "</mark>\n",
              "'s President \n",
              "<mark class=\"entity\" style=\"background: #aa9cfc; padding: 0.45em 0.6em; margin: 0 0.25em; line-height: 1; border-radius: 0.35em;\">\n",
              "    Bolsonaro\n",
              "    <span style=\"font-size: 0.8em; font-weight: bold; line-height: 1; border-radius: 0.35em; vertical-align: middle; margin-left: 0.5rem\">PERSON</span>\n",
              "</mark>\n",
              " tests positive<br><br></div></span>"
            ]
          },
          "metadata": {}
        }
      ],
      "source": [
        "parsed_article = nlp_model(article_text)\n",
        "displacy.render(parsed_article,jupyter=True,style='ent')"
      ]
    },
    {
      "cell_type": "markdown",
      "metadata": {
        "id": "6I8_zJQrpdl6"
      },
      "source": [
        "What do you think? Did it work?\n",
        "\n",
        "Let's have a bit of a better look at the entities found\n",
        "- List all the distinct entities found in the article, sorted alphabetically:"
      ]
    },
    {
      "cell_type": "code",
      "execution_count": 80,
      "metadata": {
        "id": "SakcaXuypdl6",
        "colab": {
          "base_uri": "https://localhost:8080/"
        },
        "outputId": "871a3ab8-6ff2-48da-8283-ff01f4331197"
      },
      "outputs": [
        {
          "output_type": "execute_result",
          "data": {
            "text/plain": [
              "['Bolsonaro', 'Brazil', 'Coronavirus']"
            ]
          },
          "metadata": {},
          "execution_count": 80
        }
      ],
      "source": [
        "sorted(set(x.text for x in parsed_article.ents))"
      ]
    },
    {
      "cell_type": "markdown",
      "metadata": {
        "id": "jyGeLXs8pdl6"
      },
      "source": [
        "We can count the number of times each **entity type** occurs:"
      ]
    },
    {
      "cell_type": "code",
      "execution_count": 81,
      "metadata": {
        "id": "mcmsbiUkpdl6",
        "colab": {
          "base_uri": "https://localhost:8080/"
        },
        "outputId": "4eb7ecfb-ca5b-49aa-d5cb-511478dcd4ba"
      },
      "outputs": [
        {
          "output_type": "execute_result",
          "data": {
            "text/plain": [
              "Counter({'GPE': 2, 'PERSON': 1})"
            ]
          },
          "metadata": {},
          "execution_count": 81
        }
      ],
      "source": [
        "from collections import Counter\n",
        "\n",
        "labels = [x.label_ for x in parsed_article.ents]\n",
        "Counter(labels)"
      ]
    },
    {
      "cell_type": "markdown",
      "metadata": {
        "id": "Tb3g9y5Kpdl6"
      },
      "source": [
        "We can also count the number of times each **entity name** occurs"
      ]
    },
    {
      "cell_type": "code",
      "execution_count": 82,
      "metadata": {
        "id": "JPdOsoiApdl6",
        "colab": {
          "base_uri": "https://localhost:8080/"
        },
        "outputId": "5c9f1e63-ea54-4d7e-e3a8-4adc5ea08003"
      },
      "outputs": [
        {
          "output_type": "execute_result",
          "data": {
            "text/plain": [
              "[('Coronavirus', 1), ('Brazil', 1), ('Bolsonaro', 1)]"
            ]
          },
          "metadata": {},
          "execution_count": 82
        }
      ],
      "source": [
        "items = [x.text for x in parsed_article.ents]\n",
        "Counter(items).most_common()"
      ]
    },
    {
      "cell_type": "markdown",
      "metadata": {
        "id": "vEV2BJCTpdl7"
      },
      "source": [
        "Note that some of the phrases refer to the same entity, e.g. 'Mr Bolsonaro' and just 'Bolsonaro'.\n",
        "- Entity Linking and Reference Resolution are the NLP problems that deal with resolving the different references to the same entity in the text.\n",
        "\n",
        "If we were only interested in what was being said about Bolsonaro,\n",
        "- we could select only sentences refering to him:"
      ]
    },
    {
      "cell_type": "code",
      "execution_count": 83,
      "metadata": {
        "id": "oNXjt46Jpdl7",
        "colab": {
          "base_uri": "https://localhost:8080/",
          "height": 87
        },
        "outputId": "b5ba1bbc-f63a-4927-a1e9-5046325c1b25"
      },
      "outputs": [
        {
          "output_type": "display_data",
          "data": {
            "text/plain": [
              "<IPython.core.display.HTML object>"
            ],
            "text/html": [
              "<span class=\"tex2jax_ignore\"><div class=\"entities\" style=\"line-height: 2.5; direction: ltr\">\n",
              "<mark class=\"entity\" style=\"background: #feca74; padding: 0.45em 0.6em; margin: 0 0.25em; line-height: 1; border-radius: 0.35em;\">\n",
              "    Coronavirus\n",
              "    <span style=\"font-size: 0.8em; font-weight: bold; line-height: 1; border-radius: 0.35em; vertical-align: middle; margin-left: 0.5rem\">GPE</span>\n",
              "</mark>\n",
              ": \n",
              "<mark class=\"entity\" style=\"background: #feca74; padding: 0.45em 0.6em; margin: 0 0.25em; line-height: 1; border-radius: 0.35em;\">\n",
              "    Brazil\n",
              "    <span style=\"font-size: 0.8em; font-weight: bold; line-height: 1; border-radius: 0.35em; vertical-align: middle; margin-left: 0.5rem\">GPE</span>\n",
              "</mark>\n",
              "'s President \n",
              "<mark class=\"entity\" style=\"background: #aa9cfc; padding: 0.45em 0.6em; margin: 0 0.25em; line-height: 1; border-radius: 0.35em;\">\n",
              "    Bolsonaro\n",
              "    <span style=\"font-size: 0.8em; font-weight: bold; line-height: 1; border-radius: 0.35em; vertical-align: middle; margin-left: 0.5rem\">PERSON</span>\n",
              "</mark>\n",
              " tests positive<br><br></div></span>"
            ]
          },
          "metadata": {}
        }
      ],
      "source": [
        "sentences_containing_Bolsonaro = [x for x in parsed_article.sents if 'Bolsonaro' in x.text]\n",
        "displacy.render(sentences_containing_Bolsonaro,jupyter=True,style='ent')"
      ]
    },
    {
      "cell_type": "markdown",
      "metadata": {
        "id": "XkJvASO9pdl7"
      },
      "source": [
        "## Named Entity Extraction in Italian\n",
        "\n",
        "But wait, SpaCy can speak Italian too!\n",
        "- Let's make use of the pretrained italian model that we downloaded earlier: https://spacy.io/models/it\n",
        "- to recognise entities in an article from 'Il Corriere'\n",
        "\n",
        "First download the article:"
      ]
    },
    {
      "cell_type": "code",
      "execution_count": 84,
      "metadata": {
        "id": "BCTkJTsopdl7"
      },
      "outputs": [],
      "source": [
        "url = 'https://www.ansa.it/sito/notizie/mondo/2020/07/07/bolsonaro-ha-i-sintomi-del-coronavirus_40d26967-e377-4455-9b42-83c2756cf5f1.html'\n",
        "html_doc = requests.get(url).text\n",
        "parsed_doc = BeautifulSoup(html_doc, 'lxml')"
      ]
    },
    {
      "cell_type": "markdown",
      "metadata": {
        "id": "rrnqQcMOpdl7"
      },
      "source": [
        "Now let's extract the title and paragraph text:"
      ]
    },
    {
      "cell_type": "code",
      "execution_count": 85,
      "metadata": {
        "id": "OIyIysghpdl7",
        "colab": {
          "base_uri": "https://localhost:8080/"
        },
        "outputId": "f2134cc7-70d2-4ac1-d839-7fd53c406167"
      },
      "outputs": [
        {
          "output_type": "stream",
          "name": "stdout",
          "text": [
            "Bolsonaro positivo al test del coronavirus - Mondo - ANSA\n",
            "\n",
            "Se hai scelto di non accettare i cookie di  profilazione e tracciamento, puoi aderire all’abbonamento \"Consentless\" a un  costo molto accessibile, oppure scegliere un altro abbonamento per accedere ad ANSA.it.\n",
            "Ti invitiamo a leggere le Condizioni  Generali di Servizio, la Cookie Policy e l'Informativa Privacy. \n",
            "Puoi leggere tutti i titoli di ANSA.it e 10  contenuti ogni 30 giornia €16,99/anno\n",
            "Per accedere senza limiti a tutti i contenuti di ANSA.it\n",
            "Scegli il piano di  abbonamento più adatto alle tue esigenze.\n",
            "Se hai cambiato idea e non ti vuoi abbonare, puoi sempre esprimere il tuo consenso ai cookie di profilazione e tracciamento per leggere tutti i titoli di ANSA.it e 10 contenuti ogni 30 giorni (servizio base):\n",
            "Se accetti tutti i cookie di profilazione pubblicitaria e di tracciamento, noi e terze  parti selezionate utilizzeremo cookie e tecnologie simili per raccogliere ed  elaborare i tuoi dati personali e fornirti annunci e contenuti personalizzati,  valutare l’interazione con annunci e contenuti, effettuare ricerche di mercato,  migliorare i prodotti e i servizi.Per maggiori  informazioni accedi alla Cookie Policy e all'Informativa Privacy. \n",
            "Per maggiori informazioni sui servizi di ANSA.it, puoi consultare le nostre risposte alle domande più frequenti, oppure contattarci inviando una mail a register@ansa.it o telefonando al numero verde 800 938 881. Il servizio di assistenza clienti è attivo dal lunedì al venerdì dalle ore 09.00 alle ore 18:30, il sabato dalle ore 09:00 alle ore 14:00.\n",
            "\n",
            "\n",
            "\n",
            "\n",
            "\n",
            "\n",
            "    Il presidente brasiliano, Jair Bolsonaro, è risultato positivo al test sul Covid-19: lo ha reso noto lui stesso parlando in diretta a Tv Brasil dal Palacio da Alvorada, sua residenza ufficiale a Brasilia.    Ieri Bolsonaro aveva detto di sentirsi \"molto meglio, anche la febbre è scesa\". Bolsonaro - che ha già cancellato tutti gli impegni di lavoro previsti per questa settimana - aveva anche precisato che, non appena si è sentito male, ha iniziato ad assumere compresse di idrossiclorochina, seguendo l'esempio del suo omologo americano, Donald Trump, anche lui favorevole alla cura con il farmaco, spesso indicato per i casi di malaria.    Intanto, si è scatenato scatenato l'odio sul web contro il presidente brasiliano, accusato da più parti di aver sempre minimizzato la pandemia da coronavirus nel suo Paese.    In vetta ai 'trending topic' su Twitter in Brasile c'è infatti l'hashtag \"forca covid\" (forza covid). Una tendenza simile si era registrata anche all'epoca della positività di Boris Johnson, pure lui inizialmente scettico sulla gravità della malattia. Il premier britannico poi guarì dopo essere stato ricoverato in gravi condizioni.    Nel caso di Bolsonaro, il tenore della maggioranza dei tweet è forse ancora più violento, con migliaia di utenti che augurano apertamente la morte al capo di Stato verdeoro.    Prima di sottoporsi al test, Bolsonaro ha effettuato anche un esame dei polmoni. \"Vengo dall'ospedale, ho fatto una risonanza dei polmoni, sono puliti, tra un pò farò anche l'esame per il Covid, ma va tutto bene\", aveva spiegato lunedì sera il presidente della Repubblica a un gruppo di simpatizzanti che lo attendevano davanti al Palacio da Alvorada, la sua residenza ufficiale a Brasilia.   Bolsonaro si era già sottposto a due tamponi, poi risultati negativi, a marzo, dopo una visita negli Stati Uniti, al cui ritorno oltre 20 membri del suo staff erano risultati positivi. La scorsa settimana il presidente aveva detto che potrebbe avere contratto la malattia, pur senza manifestarne i sintomi, ma aveva ribadito la sua contrarietà al lockdown e ad altre misure restrittive imposte dalle autorità sanitarie per contenere la diffusione del coronavirus, difendendo la ripresa dell'economia.\n",
            "15:44\n",
            "15:33\n",
            "15:27\n",
            "14:59\n",
            "14:54\n",
            "13:53\n",
            "13:50\n",
            "11:27\n"
          ]
        }
      ],
      "source": [
        "title = parsed_doc.find('title').text\n",
        "paragraphs = [p.text for p in parsed_doc.find_all('p')]\n",
        "\n",
        "# Combine the title and paragraphs into a single text:\n",
        "article_text = title + '\\n\\n' + '\\n'.join(paragraphs)\n",
        "print(article_text)"
      ]
    },
    {
      "cell_type": "markdown",
      "metadata": {
        "id": "eluDQCqxpdl7"
      },
      "source": [
        "Now we'll parse the text of the article with an Italian NLP engine to extract Named Entities.\n",
        "- First load the italian model 'it_core_news_sm' that we downloaded earlier"
      ]
    },
    {
      "cell_type": "code",
      "execution_count": 86,
      "metadata": {
        "id": "Qj0IIHlVpdl7",
        "colab": {
          "base_uri": "https://localhost:8080/"
        },
        "outputId": "b95cd569-8de7-4708-d9c6-7ea4184dcead"
      },
      "outputs": [
        {
          "output_type": "stream",
          "name": "stderr",
          "text": [
            "/usr/local/lib/python3.10/dist-packages/spacy/util.py:1740: UserWarning: [W111] Jupyter notebook detected: if using `prefer_gpu()` or `require_gpu()`, include it in the same cell right before `spacy.load()` to ensure that the model is loaded on the correct device. More information: http://spacy.io/usage/v3#jupyter-notebook-gpu\n",
            "  warnings.warn(Warnings.W111)\n"
          ]
        }
      ],
      "source": [
        "import it_core_news_sm\n",
        "nlp_it = it_core_news_sm.load()"
      ]
    },
    {
      "cell_type": "markdown",
      "metadata": {
        "id": "BcWwDGlypdl8"
      },
      "source": [
        "Parse article and extract the entities:"
      ]
    },
    {
      "cell_type": "code",
      "execution_count": 87,
      "metadata": {
        "id": "1X-Kuw6lpdl8",
        "colab": {
          "base_uri": "https://localhost:8080/",
          "height": 1000
        },
        "outputId": "4fa64432-e496-490c-dd1f-f97f4d251b37"
      },
      "outputs": [
        {
          "output_type": "display_data",
          "data": {
            "text/plain": [
              "<IPython.core.display.HTML object>"
            ],
            "text/html": [
              "<span class=\"tex2jax_ignore\"><div class=\"entities\" style=\"line-height: 2.5; direction: ltr\">\n",
              "<mark class=\"entity\" style=\"background: #ff9561; padding: 0.45em 0.6em; margin: 0 0.25em; line-height: 1; border-radius: 0.35em;\">\n",
              "    Bolsonaro\n",
              "    <span style=\"font-size: 0.8em; font-weight: bold; line-height: 1; border-radius: 0.35em; vertical-align: middle; margin-left: 0.5rem\">LOC</span>\n",
              "</mark>\n",
              " positivo al test del coronavirus - Mondo - \n",
              "<mark class=\"entity\" style=\"background: #7aecec; padding: 0.45em 0.6em; margin: 0 0.25em; line-height: 1; border-radius: 0.35em;\">\n",
              "    ANSA\n",
              "    <span style=\"font-size: 0.8em; font-weight: bold; line-height: 1; border-radius: 0.35em; vertical-align: middle; margin-left: 0.5rem\">ORG</span>\n",
              "</mark>\n",
              "<br><br>Se hai scelto di non accettare i cookie di  profilazione e tracciamento, puoi aderire all’abbonamento &quot;\n",
              "<mark class=\"entity\" style=\"background: #ddd; padding: 0.45em 0.6em; margin: 0 0.25em; line-height: 1; border-radius: 0.35em;\">\n",
              "    Consentless\n",
              "    <span style=\"font-size: 0.8em; font-weight: bold; line-height: 1; border-radius: 0.35em; vertical-align: middle; margin-left: 0.5rem\">MISC</span>\n",
              "</mark>\n",
              "&quot; a un  costo molto accessibile, oppure scegliere un altro abbonamento per accedere ad \n",
              "<mark class=\"entity\" style=\"background: #ff9561; padding: 0.45em 0.6em; margin: 0 0.25em; line-height: 1; border-radius: 0.35em;\">\n",
              "    ANSA.it\n",
              "    <span style=\"font-size: 0.8em; font-weight: bold; line-height: 1; border-radius: 0.35em; vertical-align: middle; margin-left: 0.5rem\">LOC</span>\n",
              "</mark>\n",
              ".<br>Ti invitiamo a leggere le \n",
              "<mark class=\"entity\" style=\"background: #7aecec; padding: 0.45em 0.6em; margin: 0 0.25em; line-height: 1; border-radius: 0.35em;\">\n",
              "    Condizioni  Generali di Servizio\n",
              "    <span style=\"font-size: 0.8em; font-weight: bold; line-height: 1; border-radius: 0.35em; vertical-align: middle; margin-left: 0.5rem\">ORG</span>\n",
              "</mark>\n",
              ", la \n",
              "<mark class=\"entity\" style=\"background: #ff9561; padding: 0.45em 0.6em; margin: 0 0.25em; line-height: 1; border-radius: 0.35em;\">\n",
              "    Cookie Policy\n",
              "    <span style=\"font-size: 0.8em; font-weight: bold; line-height: 1; border-radius: 0.35em; vertical-align: middle; margin-left: 0.5rem\">LOC</span>\n",
              "</mark>\n",
              " e l'\n",
              "<mark class=\"entity\" style=\"background: #ff9561; padding: 0.45em 0.6em; margin: 0 0.25em; line-height: 1; border-radius: 0.35em;\">\n",
              "    Informativa Privacy\n",
              "    <span style=\"font-size: 0.8em; font-weight: bold; line-height: 1; border-radius: 0.35em; vertical-align: middle; margin-left: 0.5rem\">LOC</span>\n",
              "</mark>\n",
              ". <br>\n",
              "<mark class=\"entity\" style=\"background: #ddd; padding: 0.45em 0.6em; margin: 0 0.25em; line-height: 1; border-radius: 0.35em;\">\n",
              "    Puoi\n",
              "    <span style=\"font-size: 0.8em; font-weight: bold; line-height: 1; border-radius: 0.35em; vertical-align: middle; margin-left: 0.5rem\">PER</span>\n",
              "</mark>\n",
              " leggere tutti i titoli di \n",
              "<mark class=\"entity\" style=\"background: #ddd; padding: 0.45em 0.6em; margin: 0 0.25em; line-height: 1; border-radius: 0.35em;\">\n",
              "    ANSA.it e 10  contenuti\n",
              "    <span style=\"font-size: 0.8em; font-weight: bold; line-height: 1; border-radius: 0.35em; vertical-align: middle; margin-left: 0.5rem\">MISC</span>\n",
              "</mark>\n",
              " ogni 30 giornia €16,99/anno<br>Per accedere senza limiti a tutti i contenuti di \n",
              "<mark class=\"entity\" style=\"background: #ddd; padding: 0.45em 0.6em; margin: 0 0.25em; line-height: 1; border-radius: 0.35em;\">\n",
              "    ANSA.it\n",
              "Scegli\n",
              "    <span style=\"font-size: 0.8em; font-weight: bold; line-height: 1; border-radius: 0.35em; vertical-align: middle; margin-left: 0.5rem\">PER</span>\n",
              "</mark>\n",
              " il piano di  abbonamento più adatto alle tue esigenze.<br>Se hai cambiato idea e non ti vuoi abbonare, puoi sempre esprimere il tuo consenso ai cookie di profilazione e tracciamento per leggere tutti i titoli di \n",
              "<mark class=\"entity\" style=\"background: #ddd; padding: 0.45em 0.6em; margin: 0 0.25em; line-height: 1; border-radius: 0.35em;\">\n",
              "    ANSA.it\n",
              "    <span style=\"font-size: 0.8em; font-weight: bold; line-height: 1; border-radius: 0.35em; vertical-align: middle; margin-left: 0.5rem\">MISC</span>\n",
              "</mark>\n",
              " e 10 contenuti ogni 30 giorni (servizio base):<br>Se accetti tutti i cookie di profilazione pubblicitaria e di tracciamento, noi e terze  parti selezionate utilizzeremo cookie e tecnologie simili per raccogliere ed  elaborare i tuoi dati personali e fornirti annunci e contenuti personalizzati,  valutare l’interazione con annunci e contenuti, effettuare ricerche di mercato,  migliorare i prodotti e i servizi.Per maggiori  informazioni accedi alla \n",
              "<mark class=\"entity\" style=\"background: #ddd; padding: 0.45em 0.6em; margin: 0 0.25em; line-height: 1; border-radius: 0.35em;\">\n",
              "    Cookie Policy\n",
              "    <span style=\"font-size: 0.8em; font-weight: bold; line-height: 1; border-radius: 0.35em; vertical-align: middle; margin-left: 0.5rem\">PER</span>\n",
              "</mark>\n",
              " e all'\n",
              "<mark class=\"entity\" style=\"background: #ff9561; padding: 0.45em 0.6em; margin: 0 0.25em; line-height: 1; border-radius: 0.35em;\">\n",
              "    Informativa Privacy\n",
              "    <span style=\"font-size: 0.8em; font-weight: bold; line-height: 1; border-radius: 0.35em; vertical-align: middle; margin-left: 0.5rem\">LOC</span>\n",
              "</mark>\n",
              ". <br>Per maggiori informazioni sui servizi di \n",
              "<mark class=\"entity\" style=\"background: #ff9561; padding: 0.45em 0.6em; margin: 0 0.25em; line-height: 1; border-radius: 0.35em;\">\n",
              "    ANSA.it\n",
              "    <span style=\"font-size: 0.8em; font-weight: bold; line-height: 1; border-radius: 0.35em; vertical-align: middle; margin-left: 0.5rem\">LOC</span>\n",
              "</mark>\n",
              ", puoi consultare le nostre risposte alle domande più frequenti, oppure contattarci inviando una mail a register@ansa.it o telefonando al numero verde 800 938 881. Il servizio di assistenza clienti è attivo dal lunedì al venerdì dalle ore 09.00 alle ore 18:30, il sabato dalle ore 09:00 alle ore 14:00.<br><br><br><br><br><br><br>    Il presidente brasiliano, \n",
              "<mark class=\"entity\" style=\"background: #ddd; padding: 0.45em 0.6em; margin: 0 0.25em; line-height: 1; border-radius: 0.35em;\">\n",
              "    Jair Bolsonaro\n",
              "    <span style=\"font-size: 0.8em; font-weight: bold; line-height: 1; border-radius: 0.35em; vertical-align: middle; margin-left: 0.5rem\">PER</span>\n",
              "</mark>\n",
              ", è risultato positivo al test sul \n",
              "<mark class=\"entity\" style=\"background: #ff9561; padding: 0.45em 0.6em; margin: 0 0.25em; line-height: 1; border-radius: 0.35em;\">\n",
              "    Covid-19\n",
              "    <span style=\"font-size: 0.8em; font-weight: bold; line-height: 1; border-radius: 0.35em; vertical-align: middle; margin-left: 0.5rem\">LOC</span>\n",
              "</mark>\n",
              ": lo ha reso noto lui stesso parlando in diretta a \n",
              "<mark class=\"entity\" style=\"background: #ddd; padding: 0.45em 0.6em; margin: 0 0.25em; line-height: 1; border-radius: 0.35em;\">\n",
              "    Tv Brasil dal Palacio da Alvorada\n",
              "    <span style=\"font-size: 0.8em; font-weight: bold; line-height: 1; border-radius: 0.35em; vertical-align: middle; margin-left: 0.5rem\">PER</span>\n",
              "</mark>\n",
              ", sua residenza ufficiale a \n",
              "<mark class=\"entity\" style=\"background: #ff9561; padding: 0.45em 0.6em; margin: 0 0.25em; line-height: 1; border-radius: 0.35em;\">\n",
              "    Brasilia\n",
              "    <span style=\"font-size: 0.8em; font-weight: bold; line-height: 1; border-radius: 0.35em; vertical-align: middle; margin-left: 0.5rem\">LOC</span>\n",
              "</mark>\n",
              ".    \n",
              "<mark class=\"entity\" style=\"background: #ddd; padding: 0.45em 0.6em; margin: 0 0.25em; line-height: 1; border-radius: 0.35em;\">\n",
              "    Ieri Bolsonaro\n",
              "    <span style=\"font-size: 0.8em; font-weight: bold; line-height: 1; border-radius: 0.35em; vertical-align: middle; margin-left: 0.5rem\">PER</span>\n",
              "</mark>\n",
              " aveva detto di sentirsi &quot;molto meglio, anche la febbre è scesa&quot;. \n",
              "<mark class=\"entity\" style=\"background: #ff9561; padding: 0.45em 0.6em; margin: 0 0.25em; line-height: 1; border-radius: 0.35em;\">\n",
              "    Bolsonaro\n",
              "    <span style=\"font-size: 0.8em; font-weight: bold; line-height: 1; border-radius: 0.35em; vertical-align: middle; margin-left: 0.5rem\">LOC</span>\n",
              "</mark>\n",
              " - che ha già cancellato tutti gli impegni di lavoro previsti per questa settimana - aveva anche precisato che, non appena si è sentito male, ha iniziato ad assumere compresse di idrossiclorochina, seguendo l'esempio del suo omologo americano, \n",
              "<mark class=\"entity\" style=\"background: #ddd; padding: 0.45em 0.6em; margin: 0 0.25em; line-height: 1; border-radius: 0.35em;\">\n",
              "    Donald Trump\n",
              "    <span style=\"font-size: 0.8em; font-weight: bold; line-height: 1; border-radius: 0.35em; vertical-align: middle; margin-left: 0.5rem\">PER</span>\n",
              "</mark>\n",
              ", anche lui favorevole alla cura con il farmaco, spesso indicato per i casi di malaria.    Intanto, si è scatenato scatenato l'odio sul web contro il presidente brasiliano, accusato da più parti di aver sempre minimizzato la pandemia da coronavirus nel suo \n",
              "<mark class=\"entity\" style=\"background: #ff9561; padding: 0.45em 0.6em; margin: 0 0.25em; line-height: 1; border-radius: 0.35em;\">\n",
              "    Paese\n",
              "    <span style=\"font-size: 0.8em; font-weight: bold; line-height: 1; border-radius: 0.35em; vertical-align: middle; margin-left: 0.5rem\">LOC</span>\n",
              "</mark>\n",
              ".    In vetta ai 'trending topic' su \n",
              "<mark class=\"entity\" style=\"background: #7aecec; padding: 0.45em 0.6em; margin: 0 0.25em; line-height: 1; border-radius: 0.35em;\">\n",
              "    Twitter\n",
              "    <span style=\"font-size: 0.8em; font-weight: bold; line-height: 1; border-radius: 0.35em; vertical-align: middle; margin-left: 0.5rem\">ORG</span>\n",
              "</mark>\n",
              " in \n",
              "<mark class=\"entity\" style=\"background: #ff9561; padding: 0.45em 0.6em; margin: 0 0.25em; line-height: 1; border-radius: 0.35em;\">\n",
              "    Brasile\n",
              "    <span style=\"font-size: 0.8em; font-weight: bold; line-height: 1; border-radius: 0.35em; vertical-align: middle; margin-left: 0.5rem\">LOC</span>\n",
              "</mark>\n",
              " c'è infatti l'\n",
              "<mark class=\"entity\" style=\"background: #7aecec; padding: 0.45em 0.6em; margin: 0 0.25em; line-height: 1; border-radius: 0.35em;\">\n",
              "    hashtag\n",
              "    <span style=\"font-size: 0.8em; font-weight: bold; line-height: 1; border-radius: 0.35em; vertical-align: middle; margin-left: 0.5rem\">ORG</span>\n",
              "</mark>\n",
              " &quot;forca covid&quot; (forza covid). Una tendenza simile si era registrata anche all'epoca della positività di \n",
              "<mark class=\"entity\" style=\"background: #ddd; padding: 0.45em 0.6em; margin: 0 0.25em; line-height: 1; border-radius: 0.35em;\">\n",
              "    Boris Johnson\n",
              "    <span style=\"font-size: 0.8em; font-weight: bold; line-height: 1; border-radius: 0.35em; vertical-align: middle; margin-left: 0.5rem\">PER</span>\n",
              "</mark>\n",
              ", pure lui inizialmente scettico sulla gravità della malattia. Il premier britannico poi guarì dopo essere stato ricoverato in gravi condizioni.    Nel caso di \n",
              "<mark class=\"entity\" style=\"background: #ff9561; padding: 0.45em 0.6em; margin: 0 0.25em; line-height: 1; border-radius: 0.35em;\">\n",
              "    Bolsonaro\n",
              "    <span style=\"font-size: 0.8em; font-weight: bold; line-height: 1; border-radius: 0.35em; vertical-align: middle; margin-left: 0.5rem\">LOC</span>\n",
              "</mark>\n",
              ", il tenore della maggioranza dei tweet è forse ancora più violento, con migliaia di utenti che augurano apertamente la morte al capo di \n",
              "<mark class=\"entity\" style=\"background: #ff9561; padding: 0.45em 0.6em; margin: 0 0.25em; line-height: 1; border-radius: 0.35em;\">\n",
              "    Stato verdeoro\n",
              "    <span style=\"font-size: 0.8em; font-weight: bold; line-height: 1; border-radius: 0.35em; vertical-align: middle; margin-left: 0.5rem\">LOC</span>\n",
              "</mark>\n",
              ".    Prima di sottoporsi al test, \n",
              "<mark class=\"entity\" style=\"background: #ff9561; padding: 0.45em 0.6em; margin: 0 0.25em; line-height: 1; border-radius: 0.35em;\">\n",
              "    Bolsonaro\n",
              "    <span style=\"font-size: 0.8em; font-weight: bold; line-height: 1; border-radius: 0.35em; vertical-align: middle; margin-left: 0.5rem\">LOC</span>\n",
              "</mark>\n",
              " ha effettuato anche un esame dei polmoni. &quot;\n",
              "<mark class=\"entity\" style=\"background: #ff9561; padding: 0.45em 0.6em; margin: 0 0.25em; line-height: 1; border-radius: 0.35em;\">\n",
              "    Vengo\n",
              "    <span style=\"font-size: 0.8em; font-weight: bold; line-height: 1; border-radius: 0.35em; vertical-align: middle; margin-left: 0.5rem\">LOC</span>\n",
              "</mark>\n",
              " dall'ospedale, ho fatto una risonanza dei polmoni, sono puliti, tra un pò farò anche l'esame per il \n",
              "<mark class=\"entity\" style=\"background: #ddd; padding: 0.45em 0.6em; margin: 0 0.25em; line-height: 1; border-radius: 0.35em;\">\n",
              "    Covid\n",
              "    <span style=\"font-size: 0.8em; font-weight: bold; line-height: 1; border-radius: 0.35em; vertical-align: middle; margin-left: 0.5rem\">PER</span>\n",
              "</mark>\n",
              ", ma va tutto bene&quot;, aveva spiegato lunedì sera il presidente della \n",
              "<mark class=\"entity\" style=\"background: #ff9561; padding: 0.45em 0.6em; margin: 0 0.25em; line-height: 1; border-radius: 0.35em;\">\n",
              "    Repubblica\n",
              "    <span style=\"font-size: 0.8em; font-weight: bold; line-height: 1; border-radius: 0.35em; vertical-align: middle; margin-left: 0.5rem\">LOC</span>\n",
              "</mark>\n",
              " a un gruppo di simpatizzanti che lo attendevano davanti al \n",
              "<mark class=\"entity\" style=\"background: #ddd; padding: 0.45em 0.6em; margin: 0 0.25em; line-height: 1; border-radius: 0.35em;\">\n",
              "    Palacio da Alvorada\n",
              "    <span style=\"font-size: 0.8em; font-weight: bold; line-height: 1; border-radius: 0.35em; vertical-align: middle; margin-left: 0.5rem\">PER</span>\n",
              "</mark>\n",
              ", la sua residenza ufficiale a \n",
              "<mark class=\"entity\" style=\"background: #ff9561; padding: 0.45em 0.6em; margin: 0 0.25em; line-height: 1; border-radius: 0.35em;\">\n",
              "    Brasilia\n",
              "    <span style=\"font-size: 0.8em; font-weight: bold; line-height: 1; border-radius: 0.35em; vertical-align: middle; margin-left: 0.5rem\">LOC</span>\n",
              "</mark>\n",
              ".   \n",
              "<mark class=\"entity\" style=\"background: #ff9561; padding: 0.45em 0.6em; margin: 0 0.25em; line-height: 1; border-radius: 0.35em;\">\n",
              "    Bolsonaro\n",
              "    <span style=\"font-size: 0.8em; font-weight: bold; line-height: 1; border-radius: 0.35em; vertical-align: middle; margin-left: 0.5rem\">LOC</span>\n",
              "</mark>\n",
              " si era già sottposto a due tamponi, poi risultati negativi, a marzo, dopo una visita negli \n",
              "<mark class=\"entity\" style=\"background: #ff9561; padding: 0.45em 0.6em; margin: 0 0.25em; line-height: 1; border-radius: 0.35em;\">\n",
              "    Stati Uniti\n",
              "    <span style=\"font-size: 0.8em; font-weight: bold; line-height: 1; border-radius: 0.35em; vertical-align: middle; margin-left: 0.5rem\">LOC</span>\n",
              "</mark>\n",
              ", al cui ritorno oltre 20 membri del suo staff erano risultati positivi. La scorsa settimana il presidente aveva detto che potrebbe avere contratto la malattia, pur senza manifestarne i sintomi, ma aveva ribadito la sua contrarietà al lockdown e ad altre misure restrittive imposte dalle autorità sanitarie per contenere la diffusione del coronavirus, difendendo la ripresa dell'economia.<br>15:44<br>15:33<br>15:27<br>14:59<br>14:54<br>13:53<br>13:50<br>11:27</div></span>"
            ]
          },
          "metadata": {}
        }
      ],
      "source": [
        "parsed_article = nlp_it(article_text)\n",
        "displacy.render(parsed_article, jupyter=True, style='ent')"
      ]
    },
    {
      "cell_type": "markdown",
      "metadata": {
        "id": "08h69wcxpdl8"
      },
      "source": [
        "That looks not great.\n",
        "- Here are the entities found in the news article:"
      ]
    },
    {
      "cell_type": "code",
      "execution_count": 88,
      "metadata": {
        "id": "UKefi_fspdl8",
        "colab": {
          "base_uri": "https://localhost:8080/"
        },
        "outputId": "47efb67f-0036-4440-f967-7fb7d90d1803"
      },
      "outputs": [
        {
          "output_type": "execute_result",
          "data": {
            "text/plain": [
              "['ANSA',\n",
              " 'ANSA.it',\n",
              " 'ANSA.it\\nScegli',\n",
              " 'ANSA.it e 10  contenuti',\n",
              " 'Bolsonaro',\n",
              " 'Boris Johnson',\n",
              " 'Brasile',\n",
              " 'Brasilia',\n",
              " 'Condizioni  Generali di Servizio',\n",
              " 'Consentless',\n",
              " 'Cookie Policy',\n",
              " 'Covid',\n",
              " 'Covid-19',\n",
              " 'Donald Trump',\n",
              " 'Ieri Bolsonaro',\n",
              " 'Informativa Privacy',\n",
              " 'Jair Bolsonaro',\n",
              " 'Paese',\n",
              " 'Palacio da Alvorada',\n",
              " 'Puoi',\n",
              " 'Repubblica',\n",
              " 'Stati Uniti',\n",
              " 'Stato verdeoro',\n",
              " 'Tv Brasil dal Palacio da Alvorada',\n",
              " 'Twitter',\n",
              " 'Vengo',\n",
              " 'hashtag']"
            ]
          },
          "metadata": {},
          "execution_count": 88
        }
      ],
      "source": [
        "sorted(set(x.text for x in parsed_article.ents))"
      ]
    },
    {
      "cell_type": "markdown",
      "metadata": {
        "id": "8GNZaLqN4Dx-"
      },
      "source": [
        "Alterantively you can use Stanza (https://stanfordnlp.github.io/stanza/). It's very similar to spaCy:\n",
        "- Python package\n",
        "- Supports multiple languages\n",
        "- Uses deep neural network modules\n",
        "\n",
        "Let's start installing the library"
      ]
    },
    {
      "cell_type": "code",
      "execution_count": 89,
      "metadata": {
        "id": "a6JmKZ3xLPwI",
        "colab": {
          "base_uri": "https://localhost:8080/"
        },
        "outputId": "ce926fca-5b7d-48b5-a69c-21050d49987b"
      },
      "outputs": [
        {
          "output_type": "stream",
          "name": "stdout",
          "text": [
            "Collecting stanza\n",
            "  Downloading stanza-1.8.1-py3-none-any.whl (970 kB)\n",
            "\u001b[2K     \u001b[90m━━━━━━━━━━━━━━━━━━━━━━━━━━━━━━━━━━━━━━━━\u001b[0m \u001b[32m970.4/970.4 kB\u001b[0m \u001b[31m5.3 MB/s\u001b[0m eta \u001b[36m0:00:00\u001b[0m\n",
            "\u001b[?25hCollecting emoji (from stanza)\n",
            "  Downloading emoji-2.11.0-py2.py3-none-any.whl (433 kB)\n",
            "\u001b[2K     \u001b[90m━━━━━━━━━━━━━━━━━━━━━━━━━━━━━━━━━━━━━━━━\u001b[0m \u001b[32m433.8/433.8 kB\u001b[0m \u001b[31m37.4 MB/s\u001b[0m eta \u001b[36m0:00:00\u001b[0m\n",
            "\u001b[?25hRequirement already satisfied: numpy in /usr/local/lib/python3.10/dist-packages (from stanza) (1.25.2)\n",
            "Requirement already satisfied: protobuf>=3.15.0 in /usr/local/lib/python3.10/dist-packages (from stanza) (3.20.3)\n",
            "Requirement already satisfied: requests in /usr/local/lib/python3.10/dist-packages (from stanza) (2.31.0)\n",
            "Requirement already satisfied: networkx in /usr/local/lib/python3.10/dist-packages (from stanza) (3.3)\n",
            "Requirement already satisfied: toml in /usr/local/lib/python3.10/dist-packages (from stanza) (0.10.2)\n",
            "Requirement already satisfied: torch>=1.3.0 in /usr/local/lib/python3.10/dist-packages (from stanza) (2.2.1+cu121)\n",
            "Requirement already satisfied: tqdm in /usr/local/lib/python3.10/dist-packages (from stanza) (4.66.2)\n",
            "Requirement already satisfied: filelock in /usr/local/lib/python3.10/dist-packages (from torch>=1.3.0->stanza) (3.13.4)\n",
            "Requirement already satisfied: typing-extensions>=4.8.0 in /usr/local/lib/python3.10/dist-packages (from torch>=1.3.0->stanza) (4.11.0)\n",
            "Requirement already satisfied: sympy in /usr/local/lib/python3.10/dist-packages (from torch>=1.3.0->stanza) (1.12)\n",
            "Requirement already satisfied: jinja2 in /usr/local/lib/python3.10/dist-packages (from torch>=1.3.0->stanza) (3.1.3)\n",
            "Requirement already satisfied: fsspec in /usr/local/lib/python3.10/dist-packages (from torch>=1.3.0->stanza) (2023.6.0)\n",
            "Requirement already satisfied: nvidia-cuda-nvrtc-cu12==12.1.105 in /usr/local/lib/python3.10/dist-packages (from torch>=1.3.0->stanza) (12.1.105)\n",
            "Requirement already satisfied: nvidia-cuda-runtime-cu12==12.1.105 in /usr/local/lib/python3.10/dist-packages (from torch>=1.3.0->stanza) (12.1.105)\n",
            "Requirement already satisfied: nvidia-cuda-cupti-cu12==12.1.105 in /usr/local/lib/python3.10/dist-packages (from torch>=1.3.0->stanza) (12.1.105)\n",
            "Requirement already satisfied: nvidia-cudnn-cu12==8.9.2.26 in /usr/local/lib/python3.10/dist-packages (from torch>=1.3.0->stanza) (8.9.2.26)\n",
            "Requirement already satisfied: nvidia-cublas-cu12==12.1.3.1 in /usr/local/lib/python3.10/dist-packages (from torch>=1.3.0->stanza) (12.1.3.1)\n",
            "Requirement already satisfied: nvidia-cufft-cu12==11.0.2.54 in /usr/local/lib/python3.10/dist-packages (from torch>=1.3.0->stanza) (11.0.2.54)\n",
            "Requirement already satisfied: nvidia-curand-cu12==10.3.2.106 in /usr/local/lib/python3.10/dist-packages (from torch>=1.3.0->stanza) (10.3.2.106)\n",
            "Requirement already satisfied: nvidia-cusolver-cu12==11.4.5.107 in /usr/local/lib/python3.10/dist-packages (from torch>=1.3.0->stanza) (11.4.5.107)\n",
            "Requirement already satisfied: nvidia-cusparse-cu12==12.1.0.106 in /usr/local/lib/python3.10/dist-packages (from torch>=1.3.0->stanza) (12.1.0.106)\n",
            "Requirement already satisfied: nvidia-nccl-cu12==2.19.3 in /usr/local/lib/python3.10/dist-packages (from torch>=1.3.0->stanza) (2.19.3)\n",
            "Requirement already satisfied: nvidia-nvtx-cu12==12.1.105 in /usr/local/lib/python3.10/dist-packages (from torch>=1.3.0->stanza) (12.1.105)\n",
            "Requirement already satisfied: triton==2.2.0 in /usr/local/lib/python3.10/dist-packages (from torch>=1.3.0->stanza) (2.2.0)\n",
            "Requirement already satisfied: nvidia-nvjitlink-cu12 in /usr/local/lib/python3.10/dist-packages (from nvidia-cusolver-cu12==11.4.5.107->torch>=1.3.0->stanza) (12.4.127)\n",
            "Requirement already satisfied: charset-normalizer<4,>=2 in /usr/local/lib/python3.10/dist-packages (from requests->stanza) (3.3.2)\n",
            "Requirement already satisfied: idna<4,>=2.5 in /usr/local/lib/python3.10/dist-packages (from requests->stanza) (3.6)\n",
            "Requirement already satisfied: urllib3<3,>=1.21.1 in /usr/local/lib/python3.10/dist-packages (from requests->stanza) (2.0.7)\n",
            "Requirement already satisfied: certifi>=2017.4.17 in /usr/local/lib/python3.10/dist-packages (from requests->stanza) (2024.2.2)\n",
            "Requirement already satisfied: MarkupSafe>=2.0 in /usr/local/lib/python3.10/dist-packages (from jinja2->torch>=1.3.0->stanza) (2.1.5)\n",
            "Requirement already satisfied: mpmath>=0.19 in /usr/local/lib/python3.10/dist-packages (from sympy->torch>=1.3.0->stanza) (1.3.0)\n",
            "Installing collected packages: emoji, stanza\n",
            "Successfully installed emoji-2.11.0 stanza-1.8.1\n"
          ]
        }
      ],
      "source": [
        "import locale\n",
        "\n",
        "def get_pref_encoding(*args, **kwargs):\n",
        "    return \"UTF-8\"\n",
        "\n",
        "\n",
        "locale.getpreferredencoding = get_pref_encoding\n",
        "!pip install stanza"
      ]
    },
    {
      "cell_type": "markdown",
      "metadata": {
        "id": "NazOsrqKLgtW"
      },
      "source": [
        "Now we can import Stanza and create a pipeline for Italian"
      ]
    },
    {
      "cell_type": "code",
      "execution_count": 90,
      "metadata": {
        "id": "X2vbIhiQLfhH",
        "colab": {
          "base_uri": "https://localhost:8080/",
          "height": 584,
          "referenced_widgets": [
            "304032e02fa743cda319f6694293b151",
            "06f98903db17498a867f1d1def2a9ff9",
            "0fadc2690a454e0aa4620c9dd0f13299",
            "0551fddde7a54908b760eb72ad4ec516",
            "7a63200323794d318ae8e398e1a9e474",
            "8146d34e0b0a4bd5a2093e4bd6b5340c",
            "6a0ec16134364dc7b9e8cf7e8f11c976",
            "f764d1226f994052a74f39fbd884f042",
            "31fc7234794e481f93ec8ee7160839a4",
            "b42da4b17e1d45069240bcf84fa5c604",
            "799563e598404c34b79240bbc97c4b1c",
            "b18e7bbf122c494a95b6383c97425a3f",
            "961525079cb34e55bc930b43784fc868",
            "2d18d9ade1eb4cd4a25f5d65e1c464b6",
            "555248329ae84c5eba72f86dd59cf313",
            "d8937f53f25b450b922e754538193da7",
            "2e175c4010f1468798d4e972f5fe55b4",
            "e853a7d8e3b94397925d4629a1d63d40",
            "10a62baed1ee4940825d0583a8eeffc5",
            "56d80936939d46a0ae1e54b351ee958c",
            "e3bc1521e9394260b22d261a2ebe72f2",
            "2c1bedbc45a24a418f4b625d4e8dd4a8",
            "4a050722ed0441db922c8f9054202a95",
            "9d70867f793b4fb394a206f5bee9bd7c",
            "7ad4885e52e14096a0b620142e99f9fa",
            "a0abc92ad2e541ee83befae6886be3b0",
            "c62e2e7e484f43c29069e8ad85fc0cab",
            "a8a71a0d7f824a8e9b62cf000cb722a7",
            "260a177dff7d4b6aa1edf4dd86458df0",
            "bd516512784a4cdaa59603b5751302ef",
            "93a2fdbf16044ba296ab83c24d472c5b",
            "ba988cb54f1d4525976825bafd8b93f1",
            "6dbc7c85f98442eda55755131f03df32",
            "288d93bc9f384fe9b252f49b0170e445",
            "1d02f4f472f84796b163e548a5eac29a",
            "bc9e8b244be04a5fb286eaa3270e8090",
            "f1a1a2ba72a445cc9e8c01225d3f59e6",
            "753ec2cf083845a385be028314f9d980",
            "ebb69fc8b48f4eabb6e4c8eea92ba084",
            "e3ef8ab8362a44539fd6a80d2857b44d",
            "5f7a4018c4834f508ede1a81469a08ae",
            "0e4c47d82c5e4eac92d81cd0e10f5714",
            "0411b6566add4bfdae94d7fe5082db5d",
            "fa43e79f9d754b548c70f22f4339f73b",
            "4f5719f7383245b18f4f434ab1820609",
            "702fe004325846528c67473c0d8637bb",
            "5fb383a29a1347b083542c0e0788bfff",
            "4c2ad3cb08c64108b7b9a8ae716d9bb9",
            "358aca36c19d4776bcd1bc14da498a2e",
            "f4f822c1d54447239db8ba20b3dd384b",
            "d2777f2d79ad4e3299ac395dd98805a1",
            "c7887d7e250f4ed1a16735687835b511",
            "67609e78760c432e87ee855a7870d904",
            "3048625f4c804bbf8deb71ea26e108d7",
            "4bf298511d8c46d6b10e44c0dfd4eb07",
            "c492c061c306440b81e54720c35e83be",
            "79c0eb1215fc49438b126b6ef57c8fcf",
            "697a2abc849e4ea487bbede13a4fb70c",
            "0c54ead5a7fb4156bb318b379ec62390",
            "895b27a44cdf42ff84a48ca24ab40ad5",
            "34e2ed42d81e4c4393ee7335d6ef887b",
            "8a7650d91a0846b88cd5154c82be62c4",
            "b036c181388c4da79e14cbc15e65457b",
            "f4005db446804617ae0bf12bf142894a",
            "fcdc11d3ae9f4dbf82a5e9edce5561ef",
            "ad9fcc05dade48e19a373fff995e7f0a",
            "153d9d01df8e48288719ef6961d20897",
            "708d783ba2524ba78242eed32792e279",
            "a39412c08639452b9f8372aaf7f0ac81",
            "c0524fcf8c99459a8c4a013cdf5dade1",
            "a7aa3c3bd4c642b78ee598c5d27abf4f",
            "3b73515dc1aa4bffb4246053ee8159fb",
            "b97874d9e2e6403ea86f009f31973f52",
            "e8c3ba4153354e6e9d93f22b1f00248b",
            "dea10771360344cea521ab40a529c27f",
            "8c6e0456ec0f476db5ad5033da579e95",
            "bf96d9c93bc34de2a283b7a55eefc41b"
          ]
        },
        "outputId": "27cdbe85-38ab-4d26-caaf-5fd958001f65"
      },
      "outputs": [
        {
          "output_type": "stream",
          "name": "stderr",
          "text": [
            "INFO:stanza:Checking for updates to resources.json in case models have been updated.  Note: this behavior can be turned off with download_method=None or download_method=DownloadMethod.REUSE_RESOURCES\n"
          ]
        },
        {
          "output_type": "display_data",
          "data": {
            "text/plain": [
              "Downloading https://raw.githubusercontent.com/stanfordnlp/stanza-resources/main/resources_1.8.0.json:   0%|   …"
            ],
            "application/vnd.jupyter.widget-view+json": {
              "version_major": 2,
              "version_minor": 0,
              "model_id": "304032e02fa743cda319f6694293b151"
            }
          },
          "metadata": {}
        },
        {
          "output_type": "stream",
          "name": "stderr",
          "text": [
            "INFO:stanza:Downloaded file to /root/stanza_resources/resources.json\n",
            "WARNING:stanza:Language it package default expects mwt, which has been added\n"
          ]
        },
        {
          "output_type": "display_data",
          "data": {
            "text/plain": [
              "Downloading https://huggingface.co/stanfordnlp/stanza-it/resolve/v1.8.0/models/tokenize/combined.pt:   0%|    …"
            ],
            "application/vnd.jupyter.widget-view+json": {
              "version_major": 2,
              "version_minor": 0,
              "model_id": "b18e7bbf122c494a95b6383c97425a3f"
            }
          },
          "metadata": {}
        },
        {
          "output_type": "display_data",
          "data": {
            "text/plain": [
              "Downloading https://huggingface.co/stanfordnlp/stanza-it/resolve/v1.8.0/models/mwt/combined.pt:   0%|         …"
            ],
            "application/vnd.jupyter.widget-view+json": {
              "version_major": 2,
              "version_minor": 0,
              "model_id": "4a050722ed0441db922c8f9054202a95"
            }
          },
          "metadata": {}
        },
        {
          "output_type": "display_data",
          "data": {
            "text/plain": [
              "Downloading https://huggingface.co/stanfordnlp/stanza-it/resolve/v1.8.0/models/ner/fbk.pt:   0%|          | 0.…"
            ],
            "application/vnd.jupyter.widget-view+json": {
              "version_major": 2,
              "version_minor": 0,
              "model_id": "288d93bc9f384fe9b252f49b0170e445"
            }
          },
          "metadata": {}
        },
        {
          "output_type": "display_data",
          "data": {
            "text/plain": [
              "Downloading https://huggingface.co/stanfordnlp/stanza-it/resolve/v1.8.0/models/forward_charlm/conll17.pt:   0%…"
            ],
            "application/vnd.jupyter.widget-view+json": {
              "version_major": 2,
              "version_minor": 0,
              "model_id": "4f5719f7383245b18f4f434ab1820609"
            }
          },
          "metadata": {}
        },
        {
          "output_type": "display_data",
          "data": {
            "text/plain": [
              "Downloading https://huggingface.co/stanfordnlp/stanza-it/resolve/v1.8.0/models/pretrain/conll17.pt:   0%|     …"
            ],
            "application/vnd.jupyter.widget-view+json": {
              "version_major": 2,
              "version_minor": 0,
              "model_id": "c492c061c306440b81e54720c35e83be"
            }
          },
          "metadata": {}
        },
        {
          "output_type": "display_data",
          "data": {
            "text/plain": [
              "Downloading https://huggingface.co/stanfordnlp/stanza-it/resolve/v1.8.0/models/backward_charlm/conll17.pt:   0…"
            ],
            "application/vnd.jupyter.widget-view+json": {
              "version_major": 2,
              "version_minor": 0,
              "model_id": "153d9d01df8e48288719ef6961d20897"
            }
          },
          "metadata": {}
        },
        {
          "output_type": "stream",
          "name": "stderr",
          "text": [
            "INFO:stanza:Loading these models for language: it (Italian):\n",
            "========================\n",
            "| Processor | Package  |\n",
            "------------------------\n",
            "| tokenize  | combined |\n",
            "| mwt       | combined |\n",
            "| ner       | fbk      |\n",
            "========================\n",
            "\n",
            "INFO:stanza:Using device: cuda\n",
            "INFO:stanza:Loading: tokenize\n",
            "INFO:stanza:Loading: mwt\n",
            "INFO:stanza:Loading: ner\n",
            "INFO:stanza:Done loading processors!\n"
          ]
        }
      ],
      "source": [
        "import stanza\n",
        "\n",
        "stanza_nlp_model = stanza.Pipeline(lang='it', processors='tokenize,ner')"
      ]
    },
    {
      "cell_type": "markdown",
      "metadata": {
        "id": "aN8vExE_MWGK"
      },
      "source": [
        "As before we need to parse the document"
      ]
    },
    {
      "cell_type": "code",
      "execution_count": 91,
      "metadata": {
        "id": "OHqxZTBALfm7"
      },
      "outputs": [],
      "source": [
        "stanza_parsed_article = stanza_nlp_model(article_text)"
      ]
    },
    {
      "cell_type": "markdown",
      "metadata": {
        "id": "XHx67HKdMtNi"
      },
      "source": [
        "Given a document, Stanza breaks it into sentences and then tokens.\n",
        "For each token adds the tags using the sleected processors (here we are using only the NER processors).\n",
        "\n",
        "Let's give a look at the identified entities:"
      ]
    },
    {
      "cell_type": "code",
      "execution_count": 92,
      "metadata": {
        "id": "Cw98dV1yLfsu",
        "colab": {
          "base_uri": "https://localhost:8080/"
        },
        "outputId": "4b7978d8-cc61-4a37-abd4-6ebda795fedc"
      },
      "outputs": [
        {
          "output_type": "stream",
          "name": "stdout",
          "text": [
            "ANSA.it: ORG\n",
            "ANSA.it: ORG\n",
            "ANSA.it: ORG\n",
            "ANSA.it: ORG\n",
            "ANSA.it: ORG\n",
            "register@ansa.it: ORG\n",
            "Jair Bolsonaro: PER\n",
            "Tv Brasil: LOC\n",
            "Palacio: LOC\n",
            "Alvorada: LOC\n",
            "Brasilia: LOC\n",
            "Bolsonaro: PER\n",
            "Bolsonaro: PER\n",
            "Donald Trump: PER\n",
            "Brasile: LOC\n",
            "Boris Johnson: PER\n",
            "Bolsonaro: PER\n",
            "Bolsonaro: PER\n",
            "Repubblica: ORG\n",
            "Palacio: PER\n",
            "Alvorada: LOC\n",
            "Brasilia: LOC\n",
            "Bolsonaro: PER\n",
            "Stati Uniti: LOC\n"
          ]
        }
      ],
      "source": [
        "for sentence in stanza_parsed_article.sentences:\n",
        "    for entity in sentence.ents:  # Hello, Treebeard!\n",
        "        print(f\"{entity.text}: {entity.type}\")"
      ]
    },
    {
      "cell_type": "markdown",
      "metadata": {
        "id": "9LDtG1YcN__S"
      },
      "source": [
        "That's a bit better than before, don't you think?"
      ]
    },
    {
      "cell_type": "markdown",
      "metadata": {
        "id": "pzFM8cAUpdl8"
      },
      "source": [
        "## Fine-tuning your own NER Model\n",
        "\n",
        "What if you want to update the Named Entity Extraction model yourself in order to customize it to your set of entities? We'll have a look at that now based on:\n",
        "- this instructions page: https://spacy.io/usage/training#ner\n",
        "- and this blog post: https://towardsdatascience.com/custom-named-entity-recognition-using-spacy-7140ebbb3718\n",
        "\n",
        "In order to fine-tune the model, we need to prepare data in the following format:\n",
        "- a piece of text,\n",
        "- plus a list of entity types that occur it along with their positions."
      ]
    },
    {
      "cell_type": "code",
      "execution_count": 93,
      "metadata": {
        "id": "d8aaj2uepdl8",
        "colab": {
          "base_uri": "https://localhost:8080/"
        },
        "outputId": "1a918503-5618-48fb-9e5b-898aab41fec7"
      },
      "outputs": [
        {
          "output_type": "execute_result",
          "data": {
            "text/plain": [
              "[('Have you heard of an associate professor from the Politecnico di Milano called Mark Carman?',\n",
              "  {'entities': [(50, 71, 'ORG'), (79, 90, 'PERSON')]}),\n",
              " (\"No, I haven't, but I don't know many people at the Politecnico. What does he work on?\",\n",
              "  {'entities': [(51, 62, 'ORG')]}),\n",
              " ('Mainly machine learning and text mining. I met him a couple of years ago at SIGIR in Tokyo.',\n",
              "  {'entities': [(76, 81, 'EVENT'), (85, 90, 'GPE')]})]"
            ]
          },
          "metadata": {},
          "execution_count": 93
        }
      ],
      "source": [
        "my_data = [\n",
        "    (\"Have you heard of an associate professor from the Politecnico di Milano called Mark Carman?\", {\"entities\": [(50, 71, \"ORG\"),(79, 90, \"PERSON\")]}),\n",
        "    (\"No, I haven't, but I don't know many people at the Politecnico. What does he work on?\", {\"entities\": [(51, 62, \"ORG\")]}),\n",
        "    (\"Mainly machine learning and text mining. I met him a couple of years ago at SIGIR in Tokyo.\", {\"entities\": [(76, 81, \"EVENT\"),(85, 90, \"GPE\")]}),\n",
        "]\n",
        "my_data"
      ]
    },
    {
      "cell_type": "markdown",
      "metadata": {
        "id": "bnVIriSEpdl9"
      },
      "source": [
        "Where would this data come from?\n",
        "- either created manually, perhaps by searching for known individuals in a text collection,\n",
        "- or by using an annotation tool such as https://doccano.herokuapp.com/, see for example: https://medium.com/@justindavies/training-spacy-ner-models-with-doccano-8d8203e29bfa\n"
      ]
    },
    {
      "cell_type": "markdown",
      "metadata": {
        "id": "1s9T3Whe5lZJ"
      },
      "source": [
        "The following code comes from here: https://github.com/explosion/spaCy/blob/master/examples/training/train_ner.py\n",
        "- The only change made was to remove the training data\n",
        "\n",
        "Before starting we need to install the plac package"
      ]
    },
    {
      "cell_type": "code",
      "execution_count": 94,
      "metadata": {
        "id": "P057B5jUQjqM",
        "colab": {
          "base_uri": "https://localhost:8080/"
        },
        "outputId": "f8d39abf-18e6-4f50-a351-dd4924b677ef"
      },
      "outputs": [
        {
          "output_type": "stream",
          "name": "stdout",
          "text": [
            "Collecting plac\n",
            "  Downloading plac-1.4.3-py2.py3-none-any.whl (22 kB)\n",
            "Installing collected packages: plac\n",
            "Successfully installed plac-1.4.3\n"
          ]
        }
      ],
      "source": [
        "!pip install plac"
      ]
    },
    {
      "cell_type": "markdown",
      "metadata": {
        "id": "2-oMt4jRQj2k"
      },
      "source": [
        "Now we define function with the training loop:"
      ]
    },
    {
      "cell_type": "code",
      "execution_count": 95,
      "metadata": {
        "id": "jVjhWJ1Zpdl9"
      },
      "outputs": [],
      "source": [
        "from __future__ import unicode_literals, print_function\n",
        "\n",
        "import plac\n",
        "import random\n",
        "import warnings\n",
        "from pathlib import Path\n",
        "import spacy\n",
        "from spacy.util import minibatch, compounding\n",
        "from spacy.training.example import Example\n",
        "\n",
        "\n",
        "@plac.annotations(\n",
        "    model=(\"Model name. Defaults to blank 'en' model.\", \"option\", \"m\", str),\n",
        "    output_dir=(\"Optional output directory\", \"option\", \"o\", Path),\n",
        "    n_iter=(\"Number of training iterations\", \"option\", \"n\", int),\n",
        ")\n",
        "def main(model=None, output_dir=None, n_iter=100):\n",
        "    \"\"\"Load the model, set up the pipeline and train the entity recognizer.\"\"\"\n",
        "    if model is not None:\n",
        "        nlp = spacy.load(model)  # load existing spaCy model\n",
        "        print(\"Loaded model '%s'\" % model)\n",
        "    else:\n",
        "        nlp = spacy.blank(\"en\")  # create blank Language class\n",
        "        print(\"Created blank 'en' model\")\n",
        "\n",
        "    # create the built-in pipeline components and add them to the pipeline\n",
        "    # nlp.create_pipe works for built-ins that are registered with spaCy\n",
        "    if \"ner\" not in nlp.pipe_names:\n",
        "        ner = nlp.create_pipe(\"ner\")\n",
        "        nlp.add_pipe(ner, last=True)\n",
        "    # otherwise, get it so we can add labels\n",
        "    else:\n",
        "        ner = nlp.get_pipe(\"ner\")\n",
        "\n",
        "    # add labels\n",
        "    for _, annotations in TRAIN_DATA:\n",
        "        for ent in annotations.get(\"entities\"):\n",
        "            ner.add_label(ent[2])\n",
        "\n",
        "    # get names of other pipes to disable them during training\n",
        "    pipe_exceptions = [\"ner\", \"trf_wordpiecer\", \"trf_tok2vec\"]\n",
        "    other_pipes = [pipe for pipe in nlp.pipe_names if pipe not in pipe_exceptions]\n",
        "    # only train NER\n",
        "    with nlp.disable_pipes(*other_pipes), warnings.catch_warnings():\n",
        "        # show warnings for misaligned entity spans once\n",
        "        warnings.filterwarnings(\"once\", category=UserWarning, module='spacy')\n",
        "\n",
        "        # reset and initialize the weights randomly – but only if we're\n",
        "        # training a new model\n",
        "        if model is None:\n",
        "            nlp.begin_training()\n",
        "        for itn in range(n_iter):\n",
        "            random.shuffle(TRAIN_DATA)\n",
        "            losses = {}\n",
        "            # batch up the examples using spaCy's minibatch\n",
        "            batches = minibatch(TRAIN_DATA, size=compounding(4.0, 32.0, 1.001))\n",
        "            for batch in batches:\n",
        "                # Create example\n",
        "                examples = [\n",
        "                    Example.from_dict(nlp.make_doc(text), annotation)\n",
        "                    for text, annotation in batch\n",
        "                ]\n",
        "                # Update the model\n",
        "                nlp.update(\n",
        "                    examples,   # batch of texts and annotations\n",
        "                    drop=0.5,  # dropout - make it harder to memorise data\n",
        "                    losses=losses,\n",
        "                )\n",
        "            print(\"Losses\", losses)\n",
        "\n",
        "    # test the trained model\n",
        "    for text, _ in TRAIN_DATA:\n",
        "        doc = nlp(text)\n",
        "        print(\"Entities\", [(ent.text, ent.label_) for ent in doc.ents])\n",
        "        print(\"Tokens\", [(t.text, t.ent_type_, t.ent_iob) for t in doc])\n",
        "\n",
        "    # save model to output directory\n",
        "    if output_dir is not None:\n",
        "        output_dir = Path(output_dir)\n",
        "        if not output_dir.exists():\n",
        "            output_dir.mkdir()\n",
        "        nlp.to_disk(output_dir)\n",
        "        print(\"Saved model to\", output_dir)\n",
        "\n",
        "        # test the saved model\n",
        "        print(\"Loading from\", output_dir)\n",
        "        nlp2 = spacy.load(output_dir)\n",
        "        for text, _ in TRAIN_DATA:\n",
        "            doc = nlp2(text)\n",
        "            print(\"Entities\", [(ent.text, ent.label_) for ent in doc.ents])\n",
        "            print(\"Tokens\", [(t.text, t.ent_type_, t.ent_iob) for t in doc])"
      ]
    },
    {
      "cell_type": "markdown",
      "metadata": {
        "id": "O1pM_VOIpdl9"
      },
      "source": [
        "Once the above model has been defined, we can update and save the model\n",
        "- Note that this code doesn't currently run in Google colab."
      ]
    },
    {
      "cell_type": "code",
      "execution_count": 96,
      "metadata": {
        "id": "o1cpkZGWpdl9",
        "colab": {
          "base_uri": "https://localhost:8080/"
        },
        "outputId": "19adacbb-b07b-4a79-b202-1602ca9ea185"
      },
      "outputs": [
        {
          "output_type": "stream",
          "name": "stdout",
          "text": [
            "Loaded model 'en_core_web_sm'\n",
            "Losses {'ner': 9.1663847505079}\n",
            "Losses {'ner': 6.450549893708439}\n",
            "Losses {'ner': 8.559752122359916}\n",
            "Losses {'ner': 6.558161857878829}\n",
            "Losses {'ner': 4.193197877293867}\n",
            "Entities [('a couple of years ago', 'DATE'), ('SIGIR', 'GPE'), ('Tokyo', 'GPE')]\n",
            "Tokens [('Mainly', '', 2), ('machine', '', 2), ('learning', '', 2), ('and', '', 2), ('text', '', 2), ('mining', '', 2), ('.', '', 2), ('I', '', 2), ('met', '', 2), ('him', '', 2), ('a', 'DATE', 3), ('couple', 'DATE', 1), ('of', 'DATE', 1), ('years', 'DATE', 1), ('ago', 'DATE', 1), ('at', '', 2), ('SIGIR', 'GPE', 3), ('in', '', 2), ('Tokyo', 'GPE', 3), ('.', '', 2)]\n",
            "Entities [('the Politecnico di Milano', 'ORG'), ('Mark Carman', 'PERSON')]\n",
            "Tokens [('Have', '', 2), ('you', '', 2), ('heard', '', 2), ('of', '', 2), ('an', '', 2), ('associate', '', 2), ('professor', '', 2), ('from', '', 2), ('the', 'ORG', 3), ('Politecnico', 'ORG', 1), ('di', 'ORG', 1), ('Milano', 'ORG', 1), ('called', '', 2), ('Mark', 'PERSON', 3), ('Carman', 'PERSON', 1), ('?', '', 2)]\n",
            "Entities [('Politecnico', 'ORG')]\n",
            "Tokens [('No', '', 2), (',', '', 2), ('I', '', 2), ('have', '', 2), (\"n't\", '', 2), (',', '', 2), ('but', '', 2), ('I', '', 2), ('do', '', 2), (\"n't\", '', 2), ('know', '', 2), ('many', '', 2), ('people', '', 2), ('at', '', 2), ('the', '', 2), ('Politecnico', 'ORG', 3), ('.', '', 2), ('What', '', 2), ('does', '', 2), ('he', '', 2), ('work', '', 2), ('on', '', 2), ('?', '', 2)]\n",
            "Saved model to spacy_model\n",
            "Loading from spacy_model\n",
            "Entities [('a couple of years ago', 'DATE'), ('SIGIR', 'GPE'), ('Tokyo', 'GPE')]\n",
            "Tokens [('Mainly', '', 2), ('machine', '', 2), ('learning', '', 2), ('and', '', 2), ('text', '', 2), ('mining', '', 2), ('.', '', 2), ('I', '', 2), ('met', '', 2), ('him', '', 2), ('a', 'DATE', 3), ('couple', 'DATE', 1), ('of', 'DATE', 1), ('years', 'DATE', 1), ('ago', 'DATE', 1), ('at', '', 2), ('SIGIR', 'GPE', 3), ('in', '', 2), ('Tokyo', 'GPE', 3), ('.', '', 2)]\n",
            "Entities [('the Politecnico di Milano', 'ORG'), ('Mark Carman', 'PERSON')]\n",
            "Tokens [('Have', '', 2), ('you', '', 2), ('heard', '', 2), ('of', '', 2), ('an', '', 2), ('associate', '', 2), ('professor', '', 2), ('from', '', 2), ('the', 'ORG', 3), ('Politecnico', 'ORG', 1), ('di', 'ORG', 1), ('Milano', 'ORG', 1), ('called', '', 2), ('Mark', 'PERSON', 3), ('Carman', 'PERSON', 1), ('?', '', 2)]\n",
            "Entities [('Politecnico', 'ORG')]\n",
            "Tokens [('No', '', 2), (',', '', 2), ('I', '', 2), ('have', '', 2), (\"n't\", '', 2), (',', '', 2), ('but', '', 2), ('I', '', 2), ('do', '', 2), (\"n't\", '', 2), ('know', '', 2), ('many', '', 2), ('people', '', 2), ('at', '', 2), ('the', '', 2), ('Politecnico', 'ORG', 3), ('.', '', 2), ('What', '', 2), ('does', '', 2), ('he', '', 2), ('work', '', 2), ('on', '', 2), ('?', '', 2)]\n"
          ]
        }
      ],
      "source": [
        "TRAIN_DATA=my_data  # The method expects the training data to have this name\n",
        "main(model='en_core_web_sm',output_dir='spacy_model',n_iter=5)"
      ]
    },
    {
      "cell_type": "markdown",
      "metadata": {
        "id": "MlicBTgepdl-"
      },
      "source": [
        "## Entity Linking in spaCy\n",
        "\n",
        "We don't want to just find entity mentions in a document but link them to a known entity in a knowledge base.\n",
        "- The task of linking the entity mentions to the corresponding entity in the knowledge base is called 'Entity Linking'.\n",
        "- I don't have time here, but watch this video to learn more:\n",
        "https://spacy.io/universe/project/video-spacy-irl-entity-linking"
      ]
    },
    {
      "cell_type": "code",
      "execution_count": 97,
      "metadata": {
        "id": "_BKB-yMKpdl-"
      },
      "outputs": [],
      "source": [
        "# TODO"
      ]
    },
    {
      "cell_type": "code",
      "source": [],
      "metadata": {
        "id": "arn2K63aliKd"
      },
      "execution_count": 97,
      "outputs": []
    }
  ],
  "metadata": {
    "accelerator": "GPU",
    "colab": {
      "provenance": [],
      "include_colab_link": true
    },
    "gpuClass": "standard",
    "kernelspec": {
      "display_name": "Python 3 (ipykernel)",
      "language": "python",
      "name": "python3"
    },
    "language_info": {
      "codemirror_mode": {
        "name": "ipython",
        "version": 3
      },
      "file_extension": ".py",
      "mimetype": "text/x-python",
      "name": "python",
      "nbconvert_exporter": "python",
      "pygments_lexer": "ipython3",
      "version": "3.12.2"
    },
    "widgets": {
      "application/vnd.jupyter.widget-state+json": {
        "304032e02fa743cda319f6694293b151": {
          "model_module": "@jupyter-widgets/controls",
          "model_name": "HBoxModel",
          "model_module_version": "1.5.0",
          "state": {
            "_dom_classes": [],
            "_model_module": "@jupyter-widgets/controls",
            "_model_module_version": "1.5.0",
            "_model_name": "HBoxModel",
            "_view_count": null,
            "_view_module": "@jupyter-widgets/controls",
            "_view_module_version": "1.5.0",
            "_view_name": "HBoxView",
            "box_style": "",
            "children": [
              "IPY_MODEL_06f98903db17498a867f1d1def2a9ff9",
              "IPY_MODEL_0fadc2690a454e0aa4620c9dd0f13299",
              "IPY_MODEL_0551fddde7a54908b760eb72ad4ec516"
            ],
            "layout": "IPY_MODEL_7a63200323794d318ae8e398e1a9e474"
          }
        },
        "06f98903db17498a867f1d1def2a9ff9": {
          "model_module": "@jupyter-widgets/controls",
          "model_name": "HTMLModel",
          "model_module_version": "1.5.0",
          "state": {
            "_dom_classes": [],
            "_model_module": "@jupyter-widgets/controls",
            "_model_module_version": "1.5.0",
            "_model_name": "HTMLModel",
            "_view_count": null,
            "_view_module": "@jupyter-widgets/controls",
            "_view_module_version": "1.5.0",
            "_view_name": "HTMLView",
            "description": "",
            "description_tooltip": null,
            "layout": "IPY_MODEL_8146d34e0b0a4bd5a2093e4bd6b5340c",
            "placeholder": "​",
            "style": "IPY_MODEL_6a0ec16134364dc7b9e8cf7e8f11c976",
            "value": "Downloading https://raw.githubusercontent.com/stanfordnlp/stanza-resources/main/resources_1.8.0.json: "
          }
        },
        "0fadc2690a454e0aa4620c9dd0f13299": {
          "model_module": "@jupyter-widgets/controls",
          "model_name": "FloatProgressModel",
          "model_module_version": "1.5.0",
          "state": {
            "_dom_classes": [],
            "_model_module": "@jupyter-widgets/controls",
            "_model_module_version": "1.5.0",
            "_model_name": "FloatProgressModel",
            "_view_count": null,
            "_view_module": "@jupyter-widgets/controls",
            "_view_module_version": "1.5.0",
            "_view_name": "ProgressView",
            "bar_style": "success",
            "description": "",
            "description_tooltip": null,
            "layout": "IPY_MODEL_f764d1226f994052a74f39fbd884f042",
            "max": 47208,
            "min": 0,
            "orientation": "horizontal",
            "style": "IPY_MODEL_31fc7234794e481f93ec8ee7160839a4",
            "value": 47208
          }
        },
        "0551fddde7a54908b760eb72ad4ec516": {
          "model_module": "@jupyter-widgets/controls",
          "model_name": "HTMLModel",
          "model_module_version": "1.5.0",
          "state": {
            "_dom_classes": [],
            "_model_module": "@jupyter-widgets/controls",
            "_model_module_version": "1.5.0",
            "_model_name": "HTMLModel",
            "_view_count": null,
            "_view_module": "@jupyter-widgets/controls",
            "_view_module_version": "1.5.0",
            "_view_name": "HTMLView",
            "description": "",
            "description_tooltip": null,
            "layout": "IPY_MODEL_b42da4b17e1d45069240bcf84fa5c604",
            "placeholder": "​",
            "style": "IPY_MODEL_799563e598404c34b79240bbc97c4b1c",
            "value": " 379k/? [00:00&lt;00:00, 5.64MB/s]"
          }
        },
        "7a63200323794d318ae8e398e1a9e474": {
          "model_module": "@jupyter-widgets/base",
          "model_name": "LayoutModel",
          "model_module_version": "1.2.0",
          "state": {
            "_model_module": "@jupyter-widgets/base",
            "_model_module_version": "1.2.0",
            "_model_name": "LayoutModel",
            "_view_count": null,
            "_view_module": "@jupyter-widgets/base",
            "_view_module_version": "1.2.0",
            "_view_name": "LayoutView",
            "align_content": null,
            "align_items": null,
            "align_self": null,
            "border": null,
            "bottom": null,
            "display": null,
            "flex": null,
            "flex_flow": null,
            "grid_area": null,
            "grid_auto_columns": null,
            "grid_auto_flow": null,
            "grid_auto_rows": null,
            "grid_column": null,
            "grid_gap": null,
            "grid_row": null,
            "grid_template_areas": null,
            "grid_template_columns": null,
            "grid_template_rows": null,
            "height": null,
            "justify_content": null,
            "justify_items": null,
            "left": null,
            "margin": null,
            "max_height": null,
            "max_width": null,
            "min_height": null,
            "min_width": null,
            "object_fit": null,
            "object_position": null,
            "order": null,
            "overflow": null,
            "overflow_x": null,
            "overflow_y": null,
            "padding": null,
            "right": null,
            "top": null,
            "visibility": null,
            "width": null
          }
        },
        "8146d34e0b0a4bd5a2093e4bd6b5340c": {
          "model_module": "@jupyter-widgets/base",
          "model_name": "LayoutModel",
          "model_module_version": "1.2.0",
          "state": {
            "_model_module": "@jupyter-widgets/base",
            "_model_module_version": "1.2.0",
            "_model_name": "LayoutModel",
            "_view_count": null,
            "_view_module": "@jupyter-widgets/base",
            "_view_module_version": "1.2.0",
            "_view_name": "LayoutView",
            "align_content": null,
            "align_items": null,
            "align_self": null,
            "border": null,
            "bottom": null,
            "display": null,
            "flex": null,
            "flex_flow": null,
            "grid_area": null,
            "grid_auto_columns": null,
            "grid_auto_flow": null,
            "grid_auto_rows": null,
            "grid_column": null,
            "grid_gap": null,
            "grid_row": null,
            "grid_template_areas": null,
            "grid_template_columns": null,
            "grid_template_rows": null,
            "height": null,
            "justify_content": null,
            "justify_items": null,
            "left": null,
            "margin": null,
            "max_height": null,
            "max_width": null,
            "min_height": null,
            "min_width": null,
            "object_fit": null,
            "object_position": null,
            "order": null,
            "overflow": null,
            "overflow_x": null,
            "overflow_y": null,
            "padding": null,
            "right": null,
            "top": null,
            "visibility": null,
            "width": null
          }
        },
        "6a0ec16134364dc7b9e8cf7e8f11c976": {
          "model_module": "@jupyter-widgets/controls",
          "model_name": "DescriptionStyleModel",
          "model_module_version": "1.5.0",
          "state": {
            "_model_module": "@jupyter-widgets/controls",
            "_model_module_version": "1.5.0",
            "_model_name": "DescriptionStyleModel",
            "_view_count": null,
            "_view_module": "@jupyter-widgets/base",
            "_view_module_version": "1.2.0",
            "_view_name": "StyleView",
            "description_width": ""
          }
        },
        "f764d1226f994052a74f39fbd884f042": {
          "model_module": "@jupyter-widgets/base",
          "model_name": "LayoutModel",
          "model_module_version": "1.2.0",
          "state": {
            "_model_module": "@jupyter-widgets/base",
            "_model_module_version": "1.2.0",
            "_model_name": "LayoutModel",
            "_view_count": null,
            "_view_module": "@jupyter-widgets/base",
            "_view_module_version": "1.2.0",
            "_view_name": "LayoutView",
            "align_content": null,
            "align_items": null,
            "align_self": null,
            "border": null,
            "bottom": null,
            "display": null,
            "flex": null,
            "flex_flow": null,
            "grid_area": null,
            "grid_auto_columns": null,
            "grid_auto_flow": null,
            "grid_auto_rows": null,
            "grid_column": null,
            "grid_gap": null,
            "grid_row": null,
            "grid_template_areas": null,
            "grid_template_columns": null,
            "grid_template_rows": null,
            "height": null,
            "justify_content": null,
            "justify_items": null,
            "left": null,
            "margin": null,
            "max_height": null,
            "max_width": null,
            "min_height": null,
            "min_width": null,
            "object_fit": null,
            "object_position": null,
            "order": null,
            "overflow": null,
            "overflow_x": null,
            "overflow_y": null,
            "padding": null,
            "right": null,
            "top": null,
            "visibility": null,
            "width": null
          }
        },
        "31fc7234794e481f93ec8ee7160839a4": {
          "model_module": "@jupyter-widgets/controls",
          "model_name": "ProgressStyleModel",
          "model_module_version": "1.5.0",
          "state": {
            "_model_module": "@jupyter-widgets/controls",
            "_model_module_version": "1.5.0",
            "_model_name": "ProgressStyleModel",
            "_view_count": null,
            "_view_module": "@jupyter-widgets/base",
            "_view_module_version": "1.2.0",
            "_view_name": "StyleView",
            "bar_color": null,
            "description_width": ""
          }
        },
        "b42da4b17e1d45069240bcf84fa5c604": {
          "model_module": "@jupyter-widgets/base",
          "model_name": "LayoutModel",
          "model_module_version": "1.2.0",
          "state": {
            "_model_module": "@jupyter-widgets/base",
            "_model_module_version": "1.2.0",
            "_model_name": "LayoutModel",
            "_view_count": null,
            "_view_module": "@jupyter-widgets/base",
            "_view_module_version": "1.2.0",
            "_view_name": "LayoutView",
            "align_content": null,
            "align_items": null,
            "align_self": null,
            "border": null,
            "bottom": null,
            "display": null,
            "flex": null,
            "flex_flow": null,
            "grid_area": null,
            "grid_auto_columns": null,
            "grid_auto_flow": null,
            "grid_auto_rows": null,
            "grid_column": null,
            "grid_gap": null,
            "grid_row": null,
            "grid_template_areas": null,
            "grid_template_columns": null,
            "grid_template_rows": null,
            "height": null,
            "justify_content": null,
            "justify_items": null,
            "left": null,
            "margin": null,
            "max_height": null,
            "max_width": null,
            "min_height": null,
            "min_width": null,
            "object_fit": null,
            "object_position": null,
            "order": null,
            "overflow": null,
            "overflow_x": null,
            "overflow_y": null,
            "padding": null,
            "right": null,
            "top": null,
            "visibility": null,
            "width": null
          }
        },
        "799563e598404c34b79240bbc97c4b1c": {
          "model_module": "@jupyter-widgets/controls",
          "model_name": "DescriptionStyleModel",
          "model_module_version": "1.5.0",
          "state": {
            "_model_module": "@jupyter-widgets/controls",
            "_model_module_version": "1.5.0",
            "_model_name": "DescriptionStyleModel",
            "_view_count": null,
            "_view_module": "@jupyter-widgets/base",
            "_view_module_version": "1.2.0",
            "_view_name": "StyleView",
            "description_width": ""
          }
        },
        "b18e7bbf122c494a95b6383c97425a3f": {
          "model_module": "@jupyter-widgets/controls",
          "model_name": "HBoxModel",
          "model_module_version": "1.5.0",
          "state": {
            "_dom_classes": [],
            "_model_module": "@jupyter-widgets/controls",
            "_model_module_version": "1.5.0",
            "_model_name": "HBoxModel",
            "_view_count": null,
            "_view_module": "@jupyter-widgets/controls",
            "_view_module_version": "1.5.0",
            "_view_name": "HBoxView",
            "box_style": "",
            "children": [
              "IPY_MODEL_961525079cb34e55bc930b43784fc868",
              "IPY_MODEL_2d18d9ade1eb4cd4a25f5d65e1c464b6",
              "IPY_MODEL_555248329ae84c5eba72f86dd59cf313"
            ],
            "layout": "IPY_MODEL_d8937f53f25b450b922e754538193da7"
          }
        },
        "961525079cb34e55bc930b43784fc868": {
          "model_module": "@jupyter-widgets/controls",
          "model_name": "HTMLModel",
          "model_module_version": "1.5.0",
          "state": {
            "_dom_classes": [],
            "_model_module": "@jupyter-widgets/controls",
            "_model_module_version": "1.5.0",
            "_model_name": "HTMLModel",
            "_view_count": null,
            "_view_module": "@jupyter-widgets/controls",
            "_view_module_version": "1.5.0",
            "_view_name": "HTMLView",
            "description": "",
            "description_tooltip": null,
            "layout": "IPY_MODEL_2e175c4010f1468798d4e972f5fe55b4",
            "placeholder": "​",
            "style": "IPY_MODEL_e853a7d8e3b94397925d4629a1d63d40",
            "value": "Downloading https://huggingface.co/stanfordnlp/stanza-it/resolve/v1.8.0/models/tokenize/combined.pt: 100%"
          }
        },
        "2d18d9ade1eb4cd4a25f5d65e1c464b6": {
          "model_module": "@jupyter-widgets/controls",
          "model_name": "FloatProgressModel",
          "model_module_version": "1.5.0",
          "state": {
            "_dom_classes": [],
            "_model_module": "@jupyter-widgets/controls",
            "_model_module_version": "1.5.0",
            "_model_name": "FloatProgressModel",
            "_view_count": null,
            "_view_module": "@jupyter-widgets/controls",
            "_view_module_version": "1.5.0",
            "_view_name": "ProgressView",
            "bar_style": "success",
            "description": "",
            "description_tooltip": null,
            "layout": "IPY_MODEL_10a62baed1ee4940825d0583a8eeffc5",
            "max": 636823,
            "min": 0,
            "orientation": "horizontal",
            "style": "IPY_MODEL_56d80936939d46a0ae1e54b351ee958c",
            "value": 636823
          }
        },
        "555248329ae84c5eba72f86dd59cf313": {
          "model_module": "@jupyter-widgets/controls",
          "model_name": "HTMLModel",
          "model_module_version": "1.5.0",
          "state": {
            "_dom_classes": [],
            "_model_module": "@jupyter-widgets/controls",
            "_model_module_version": "1.5.0",
            "_model_name": "HTMLModel",
            "_view_count": null,
            "_view_module": "@jupyter-widgets/controls",
            "_view_module_version": "1.5.0",
            "_view_name": "HTMLView",
            "description": "",
            "description_tooltip": null,
            "layout": "IPY_MODEL_e3bc1521e9394260b22d261a2ebe72f2",
            "placeholder": "​",
            "style": "IPY_MODEL_2c1bedbc45a24a418f4b625d4e8dd4a8",
            "value": " 637k/637k [00:00&lt;00:00, 10.5MB/s]"
          }
        },
        "d8937f53f25b450b922e754538193da7": {
          "model_module": "@jupyter-widgets/base",
          "model_name": "LayoutModel",
          "model_module_version": "1.2.0",
          "state": {
            "_model_module": "@jupyter-widgets/base",
            "_model_module_version": "1.2.0",
            "_model_name": "LayoutModel",
            "_view_count": null,
            "_view_module": "@jupyter-widgets/base",
            "_view_module_version": "1.2.0",
            "_view_name": "LayoutView",
            "align_content": null,
            "align_items": null,
            "align_self": null,
            "border": null,
            "bottom": null,
            "display": null,
            "flex": null,
            "flex_flow": null,
            "grid_area": null,
            "grid_auto_columns": null,
            "grid_auto_flow": null,
            "grid_auto_rows": null,
            "grid_column": null,
            "grid_gap": null,
            "grid_row": null,
            "grid_template_areas": null,
            "grid_template_columns": null,
            "grid_template_rows": null,
            "height": null,
            "justify_content": null,
            "justify_items": null,
            "left": null,
            "margin": null,
            "max_height": null,
            "max_width": null,
            "min_height": null,
            "min_width": null,
            "object_fit": null,
            "object_position": null,
            "order": null,
            "overflow": null,
            "overflow_x": null,
            "overflow_y": null,
            "padding": null,
            "right": null,
            "top": null,
            "visibility": null,
            "width": null
          }
        },
        "2e175c4010f1468798d4e972f5fe55b4": {
          "model_module": "@jupyter-widgets/base",
          "model_name": "LayoutModel",
          "model_module_version": "1.2.0",
          "state": {
            "_model_module": "@jupyter-widgets/base",
            "_model_module_version": "1.2.0",
            "_model_name": "LayoutModel",
            "_view_count": null,
            "_view_module": "@jupyter-widgets/base",
            "_view_module_version": "1.2.0",
            "_view_name": "LayoutView",
            "align_content": null,
            "align_items": null,
            "align_self": null,
            "border": null,
            "bottom": null,
            "display": null,
            "flex": null,
            "flex_flow": null,
            "grid_area": null,
            "grid_auto_columns": null,
            "grid_auto_flow": null,
            "grid_auto_rows": null,
            "grid_column": null,
            "grid_gap": null,
            "grid_row": null,
            "grid_template_areas": null,
            "grid_template_columns": null,
            "grid_template_rows": null,
            "height": null,
            "justify_content": null,
            "justify_items": null,
            "left": null,
            "margin": null,
            "max_height": null,
            "max_width": null,
            "min_height": null,
            "min_width": null,
            "object_fit": null,
            "object_position": null,
            "order": null,
            "overflow": null,
            "overflow_x": null,
            "overflow_y": null,
            "padding": null,
            "right": null,
            "top": null,
            "visibility": null,
            "width": null
          }
        },
        "e853a7d8e3b94397925d4629a1d63d40": {
          "model_module": "@jupyter-widgets/controls",
          "model_name": "DescriptionStyleModel",
          "model_module_version": "1.5.0",
          "state": {
            "_model_module": "@jupyter-widgets/controls",
            "_model_module_version": "1.5.0",
            "_model_name": "DescriptionStyleModel",
            "_view_count": null,
            "_view_module": "@jupyter-widgets/base",
            "_view_module_version": "1.2.0",
            "_view_name": "StyleView",
            "description_width": ""
          }
        },
        "10a62baed1ee4940825d0583a8eeffc5": {
          "model_module": "@jupyter-widgets/base",
          "model_name": "LayoutModel",
          "model_module_version": "1.2.0",
          "state": {
            "_model_module": "@jupyter-widgets/base",
            "_model_module_version": "1.2.0",
            "_model_name": "LayoutModel",
            "_view_count": null,
            "_view_module": "@jupyter-widgets/base",
            "_view_module_version": "1.2.0",
            "_view_name": "LayoutView",
            "align_content": null,
            "align_items": null,
            "align_self": null,
            "border": null,
            "bottom": null,
            "display": null,
            "flex": null,
            "flex_flow": null,
            "grid_area": null,
            "grid_auto_columns": null,
            "grid_auto_flow": null,
            "grid_auto_rows": null,
            "grid_column": null,
            "grid_gap": null,
            "grid_row": null,
            "grid_template_areas": null,
            "grid_template_columns": null,
            "grid_template_rows": null,
            "height": null,
            "justify_content": null,
            "justify_items": null,
            "left": null,
            "margin": null,
            "max_height": null,
            "max_width": null,
            "min_height": null,
            "min_width": null,
            "object_fit": null,
            "object_position": null,
            "order": null,
            "overflow": null,
            "overflow_x": null,
            "overflow_y": null,
            "padding": null,
            "right": null,
            "top": null,
            "visibility": null,
            "width": null
          }
        },
        "56d80936939d46a0ae1e54b351ee958c": {
          "model_module": "@jupyter-widgets/controls",
          "model_name": "ProgressStyleModel",
          "model_module_version": "1.5.0",
          "state": {
            "_model_module": "@jupyter-widgets/controls",
            "_model_module_version": "1.5.0",
            "_model_name": "ProgressStyleModel",
            "_view_count": null,
            "_view_module": "@jupyter-widgets/base",
            "_view_module_version": "1.2.0",
            "_view_name": "StyleView",
            "bar_color": null,
            "description_width": ""
          }
        },
        "e3bc1521e9394260b22d261a2ebe72f2": {
          "model_module": "@jupyter-widgets/base",
          "model_name": "LayoutModel",
          "model_module_version": "1.2.0",
          "state": {
            "_model_module": "@jupyter-widgets/base",
            "_model_module_version": "1.2.0",
            "_model_name": "LayoutModel",
            "_view_count": null,
            "_view_module": "@jupyter-widgets/base",
            "_view_module_version": "1.2.0",
            "_view_name": "LayoutView",
            "align_content": null,
            "align_items": null,
            "align_self": null,
            "border": null,
            "bottom": null,
            "display": null,
            "flex": null,
            "flex_flow": null,
            "grid_area": null,
            "grid_auto_columns": null,
            "grid_auto_flow": null,
            "grid_auto_rows": null,
            "grid_column": null,
            "grid_gap": null,
            "grid_row": null,
            "grid_template_areas": null,
            "grid_template_columns": null,
            "grid_template_rows": null,
            "height": null,
            "justify_content": null,
            "justify_items": null,
            "left": null,
            "margin": null,
            "max_height": null,
            "max_width": null,
            "min_height": null,
            "min_width": null,
            "object_fit": null,
            "object_position": null,
            "order": null,
            "overflow": null,
            "overflow_x": null,
            "overflow_y": null,
            "padding": null,
            "right": null,
            "top": null,
            "visibility": null,
            "width": null
          }
        },
        "2c1bedbc45a24a418f4b625d4e8dd4a8": {
          "model_module": "@jupyter-widgets/controls",
          "model_name": "DescriptionStyleModel",
          "model_module_version": "1.5.0",
          "state": {
            "_model_module": "@jupyter-widgets/controls",
            "_model_module_version": "1.5.0",
            "_model_name": "DescriptionStyleModel",
            "_view_count": null,
            "_view_module": "@jupyter-widgets/base",
            "_view_module_version": "1.2.0",
            "_view_name": "StyleView",
            "description_width": ""
          }
        },
        "4a050722ed0441db922c8f9054202a95": {
          "model_module": "@jupyter-widgets/controls",
          "model_name": "HBoxModel",
          "model_module_version": "1.5.0",
          "state": {
            "_dom_classes": [],
            "_model_module": "@jupyter-widgets/controls",
            "_model_module_version": "1.5.0",
            "_model_name": "HBoxModel",
            "_view_count": null,
            "_view_module": "@jupyter-widgets/controls",
            "_view_module_version": "1.5.0",
            "_view_name": "HBoxView",
            "box_style": "",
            "children": [
              "IPY_MODEL_9d70867f793b4fb394a206f5bee9bd7c",
              "IPY_MODEL_7ad4885e52e14096a0b620142e99f9fa",
              "IPY_MODEL_a0abc92ad2e541ee83befae6886be3b0"
            ],
            "layout": "IPY_MODEL_c62e2e7e484f43c29069e8ad85fc0cab"
          }
        },
        "9d70867f793b4fb394a206f5bee9bd7c": {
          "model_module": "@jupyter-widgets/controls",
          "model_name": "HTMLModel",
          "model_module_version": "1.5.0",
          "state": {
            "_dom_classes": [],
            "_model_module": "@jupyter-widgets/controls",
            "_model_module_version": "1.5.0",
            "_model_name": "HTMLModel",
            "_view_count": null,
            "_view_module": "@jupyter-widgets/controls",
            "_view_module_version": "1.5.0",
            "_view_name": "HTMLView",
            "description": "",
            "description_tooltip": null,
            "layout": "IPY_MODEL_a8a71a0d7f824a8e9b62cf000cb722a7",
            "placeholder": "​",
            "style": "IPY_MODEL_260a177dff7d4b6aa1edf4dd86458df0",
            "value": "Downloading https://huggingface.co/stanfordnlp/stanza-it/resolve/v1.8.0/models/mwt/combined.pt: 100%"
          }
        },
        "7ad4885e52e14096a0b620142e99f9fa": {
          "model_module": "@jupyter-widgets/controls",
          "model_name": "FloatProgressModel",
          "model_module_version": "1.5.0",
          "state": {
            "_dom_classes": [],
            "_model_module": "@jupyter-widgets/controls",
            "_model_module_version": "1.5.0",
            "_model_name": "FloatProgressModel",
            "_view_count": null,
            "_view_module": "@jupyter-widgets/controls",
            "_view_module_version": "1.5.0",
            "_view_name": "ProgressView",
            "bar_style": "success",
            "description": "",
            "description_tooltip": null,
            "layout": "IPY_MODEL_bd516512784a4cdaa59603b5751302ef",
            "max": 1167937,
            "min": 0,
            "orientation": "horizontal",
            "style": "IPY_MODEL_93a2fdbf16044ba296ab83c24d472c5b",
            "value": 1167937
          }
        },
        "a0abc92ad2e541ee83befae6886be3b0": {
          "model_module": "@jupyter-widgets/controls",
          "model_name": "HTMLModel",
          "model_module_version": "1.5.0",
          "state": {
            "_dom_classes": [],
            "_model_module": "@jupyter-widgets/controls",
            "_model_module_version": "1.5.0",
            "_model_name": "HTMLModel",
            "_view_count": null,
            "_view_module": "@jupyter-widgets/controls",
            "_view_module_version": "1.5.0",
            "_view_name": "HTMLView",
            "description": "",
            "description_tooltip": null,
            "layout": "IPY_MODEL_ba988cb54f1d4525976825bafd8b93f1",
            "placeholder": "​",
            "style": "IPY_MODEL_6dbc7c85f98442eda55755131f03df32",
            "value": " 1.17M/1.17M [00:00&lt;00:00, 3.85MB/s]"
          }
        },
        "c62e2e7e484f43c29069e8ad85fc0cab": {
          "model_module": "@jupyter-widgets/base",
          "model_name": "LayoutModel",
          "model_module_version": "1.2.0",
          "state": {
            "_model_module": "@jupyter-widgets/base",
            "_model_module_version": "1.2.0",
            "_model_name": "LayoutModel",
            "_view_count": null,
            "_view_module": "@jupyter-widgets/base",
            "_view_module_version": "1.2.0",
            "_view_name": "LayoutView",
            "align_content": null,
            "align_items": null,
            "align_self": null,
            "border": null,
            "bottom": null,
            "display": null,
            "flex": null,
            "flex_flow": null,
            "grid_area": null,
            "grid_auto_columns": null,
            "grid_auto_flow": null,
            "grid_auto_rows": null,
            "grid_column": null,
            "grid_gap": null,
            "grid_row": null,
            "grid_template_areas": null,
            "grid_template_columns": null,
            "grid_template_rows": null,
            "height": null,
            "justify_content": null,
            "justify_items": null,
            "left": null,
            "margin": null,
            "max_height": null,
            "max_width": null,
            "min_height": null,
            "min_width": null,
            "object_fit": null,
            "object_position": null,
            "order": null,
            "overflow": null,
            "overflow_x": null,
            "overflow_y": null,
            "padding": null,
            "right": null,
            "top": null,
            "visibility": null,
            "width": null
          }
        },
        "a8a71a0d7f824a8e9b62cf000cb722a7": {
          "model_module": "@jupyter-widgets/base",
          "model_name": "LayoutModel",
          "model_module_version": "1.2.0",
          "state": {
            "_model_module": "@jupyter-widgets/base",
            "_model_module_version": "1.2.0",
            "_model_name": "LayoutModel",
            "_view_count": null,
            "_view_module": "@jupyter-widgets/base",
            "_view_module_version": "1.2.0",
            "_view_name": "LayoutView",
            "align_content": null,
            "align_items": null,
            "align_self": null,
            "border": null,
            "bottom": null,
            "display": null,
            "flex": null,
            "flex_flow": null,
            "grid_area": null,
            "grid_auto_columns": null,
            "grid_auto_flow": null,
            "grid_auto_rows": null,
            "grid_column": null,
            "grid_gap": null,
            "grid_row": null,
            "grid_template_areas": null,
            "grid_template_columns": null,
            "grid_template_rows": null,
            "height": null,
            "justify_content": null,
            "justify_items": null,
            "left": null,
            "margin": null,
            "max_height": null,
            "max_width": null,
            "min_height": null,
            "min_width": null,
            "object_fit": null,
            "object_position": null,
            "order": null,
            "overflow": null,
            "overflow_x": null,
            "overflow_y": null,
            "padding": null,
            "right": null,
            "top": null,
            "visibility": null,
            "width": null
          }
        },
        "260a177dff7d4b6aa1edf4dd86458df0": {
          "model_module": "@jupyter-widgets/controls",
          "model_name": "DescriptionStyleModel",
          "model_module_version": "1.5.0",
          "state": {
            "_model_module": "@jupyter-widgets/controls",
            "_model_module_version": "1.5.0",
            "_model_name": "DescriptionStyleModel",
            "_view_count": null,
            "_view_module": "@jupyter-widgets/base",
            "_view_module_version": "1.2.0",
            "_view_name": "StyleView",
            "description_width": ""
          }
        },
        "bd516512784a4cdaa59603b5751302ef": {
          "model_module": "@jupyter-widgets/base",
          "model_name": "LayoutModel",
          "model_module_version": "1.2.0",
          "state": {
            "_model_module": "@jupyter-widgets/base",
            "_model_module_version": "1.2.0",
            "_model_name": "LayoutModel",
            "_view_count": null,
            "_view_module": "@jupyter-widgets/base",
            "_view_module_version": "1.2.0",
            "_view_name": "LayoutView",
            "align_content": null,
            "align_items": null,
            "align_self": null,
            "border": null,
            "bottom": null,
            "display": null,
            "flex": null,
            "flex_flow": null,
            "grid_area": null,
            "grid_auto_columns": null,
            "grid_auto_flow": null,
            "grid_auto_rows": null,
            "grid_column": null,
            "grid_gap": null,
            "grid_row": null,
            "grid_template_areas": null,
            "grid_template_columns": null,
            "grid_template_rows": null,
            "height": null,
            "justify_content": null,
            "justify_items": null,
            "left": null,
            "margin": null,
            "max_height": null,
            "max_width": null,
            "min_height": null,
            "min_width": null,
            "object_fit": null,
            "object_position": null,
            "order": null,
            "overflow": null,
            "overflow_x": null,
            "overflow_y": null,
            "padding": null,
            "right": null,
            "top": null,
            "visibility": null,
            "width": null
          }
        },
        "93a2fdbf16044ba296ab83c24d472c5b": {
          "model_module": "@jupyter-widgets/controls",
          "model_name": "ProgressStyleModel",
          "model_module_version": "1.5.0",
          "state": {
            "_model_module": "@jupyter-widgets/controls",
            "_model_module_version": "1.5.0",
            "_model_name": "ProgressStyleModel",
            "_view_count": null,
            "_view_module": "@jupyter-widgets/base",
            "_view_module_version": "1.2.0",
            "_view_name": "StyleView",
            "bar_color": null,
            "description_width": ""
          }
        },
        "ba988cb54f1d4525976825bafd8b93f1": {
          "model_module": "@jupyter-widgets/base",
          "model_name": "LayoutModel",
          "model_module_version": "1.2.0",
          "state": {
            "_model_module": "@jupyter-widgets/base",
            "_model_module_version": "1.2.0",
            "_model_name": "LayoutModel",
            "_view_count": null,
            "_view_module": "@jupyter-widgets/base",
            "_view_module_version": "1.2.0",
            "_view_name": "LayoutView",
            "align_content": null,
            "align_items": null,
            "align_self": null,
            "border": null,
            "bottom": null,
            "display": null,
            "flex": null,
            "flex_flow": null,
            "grid_area": null,
            "grid_auto_columns": null,
            "grid_auto_flow": null,
            "grid_auto_rows": null,
            "grid_column": null,
            "grid_gap": null,
            "grid_row": null,
            "grid_template_areas": null,
            "grid_template_columns": null,
            "grid_template_rows": null,
            "height": null,
            "justify_content": null,
            "justify_items": null,
            "left": null,
            "margin": null,
            "max_height": null,
            "max_width": null,
            "min_height": null,
            "min_width": null,
            "object_fit": null,
            "object_position": null,
            "order": null,
            "overflow": null,
            "overflow_x": null,
            "overflow_y": null,
            "padding": null,
            "right": null,
            "top": null,
            "visibility": null,
            "width": null
          }
        },
        "6dbc7c85f98442eda55755131f03df32": {
          "model_module": "@jupyter-widgets/controls",
          "model_name": "DescriptionStyleModel",
          "model_module_version": "1.5.0",
          "state": {
            "_model_module": "@jupyter-widgets/controls",
            "_model_module_version": "1.5.0",
            "_model_name": "DescriptionStyleModel",
            "_view_count": null,
            "_view_module": "@jupyter-widgets/base",
            "_view_module_version": "1.2.0",
            "_view_name": "StyleView",
            "description_width": ""
          }
        },
        "288d93bc9f384fe9b252f49b0170e445": {
          "model_module": "@jupyter-widgets/controls",
          "model_name": "HBoxModel",
          "model_module_version": "1.5.0",
          "state": {
            "_dom_classes": [],
            "_model_module": "@jupyter-widgets/controls",
            "_model_module_version": "1.5.0",
            "_model_name": "HBoxModel",
            "_view_count": null,
            "_view_module": "@jupyter-widgets/controls",
            "_view_module_version": "1.5.0",
            "_view_name": "HBoxView",
            "box_style": "",
            "children": [
              "IPY_MODEL_1d02f4f472f84796b163e548a5eac29a",
              "IPY_MODEL_bc9e8b244be04a5fb286eaa3270e8090",
              "IPY_MODEL_f1a1a2ba72a445cc9e8c01225d3f59e6"
            ],
            "layout": "IPY_MODEL_753ec2cf083845a385be028314f9d980"
          }
        },
        "1d02f4f472f84796b163e548a5eac29a": {
          "model_module": "@jupyter-widgets/controls",
          "model_name": "HTMLModel",
          "model_module_version": "1.5.0",
          "state": {
            "_dom_classes": [],
            "_model_module": "@jupyter-widgets/controls",
            "_model_module_version": "1.5.0",
            "_model_name": "HTMLModel",
            "_view_count": null,
            "_view_module": "@jupyter-widgets/controls",
            "_view_module_version": "1.5.0",
            "_view_name": "HTMLView",
            "description": "",
            "description_tooltip": null,
            "layout": "IPY_MODEL_ebb69fc8b48f4eabb6e4c8eea92ba084",
            "placeholder": "​",
            "style": "IPY_MODEL_e3ef8ab8362a44539fd6a80d2857b44d",
            "value": "Downloading https://huggingface.co/stanfordnlp/stanza-it/resolve/v1.8.0/models/ner/fbk.pt: 100%"
          }
        },
        "bc9e8b244be04a5fb286eaa3270e8090": {
          "model_module": "@jupyter-widgets/controls",
          "model_name": "FloatProgressModel",
          "model_module_version": "1.5.0",
          "state": {
            "_dom_classes": [],
            "_model_module": "@jupyter-widgets/controls",
            "_model_module_version": "1.5.0",
            "_model_name": "FloatProgressModel",
            "_view_count": null,
            "_view_module": "@jupyter-widgets/controls",
            "_view_module_version": "1.5.0",
            "_view_name": "ProgressView",
            "bar_style": "success",
            "description": "",
            "description_tooltip": null,
            "layout": "IPY_MODEL_5f7a4018c4834f508ede1a81469a08ae",
            "max": 54987821,
            "min": 0,
            "orientation": "horizontal",
            "style": "IPY_MODEL_0e4c47d82c5e4eac92d81cd0e10f5714",
            "value": 54987821
          }
        },
        "f1a1a2ba72a445cc9e8c01225d3f59e6": {
          "model_module": "@jupyter-widgets/controls",
          "model_name": "HTMLModel",
          "model_module_version": "1.5.0",
          "state": {
            "_dom_classes": [],
            "_model_module": "@jupyter-widgets/controls",
            "_model_module_version": "1.5.0",
            "_model_name": "HTMLModel",
            "_view_count": null,
            "_view_module": "@jupyter-widgets/controls",
            "_view_module_version": "1.5.0",
            "_view_name": "HTMLView",
            "description": "",
            "description_tooltip": null,
            "layout": "IPY_MODEL_0411b6566add4bfdae94d7fe5082db5d",
            "placeholder": "​",
            "style": "IPY_MODEL_fa43e79f9d754b548c70f22f4339f73b",
            "value": " 55.0M/55.0M [00:01&lt;00:00, 85.6MB/s]"
          }
        },
        "753ec2cf083845a385be028314f9d980": {
          "model_module": "@jupyter-widgets/base",
          "model_name": "LayoutModel",
          "model_module_version": "1.2.0",
          "state": {
            "_model_module": "@jupyter-widgets/base",
            "_model_module_version": "1.2.0",
            "_model_name": "LayoutModel",
            "_view_count": null,
            "_view_module": "@jupyter-widgets/base",
            "_view_module_version": "1.2.0",
            "_view_name": "LayoutView",
            "align_content": null,
            "align_items": null,
            "align_self": null,
            "border": null,
            "bottom": null,
            "display": null,
            "flex": null,
            "flex_flow": null,
            "grid_area": null,
            "grid_auto_columns": null,
            "grid_auto_flow": null,
            "grid_auto_rows": null,
            "grid_column": null,
            "grid_gap": null,
            "grid_row": null,
            "grid_template_areas": null,
            "grid_template_columns": null,
            "grid_template_rows": null,
            "height": null,
            "justify_content": null,
            "justify_items": null,
            "left": null,
            "margin": null,
            "max_height": null,
            "max_width": null,
            "min_height": null,
            "min_width": null,
            "object_fit": null,
            "object_position": null,
            "order": null,
            "overflow": null,
            "overflow_x": null,
            "overflow_y": null,
            "padding": null,
            "right": null,
            "top": null,
            "visibility": null,
            "width": null
          }
        },
        "ebb69fc8b48f4eabb6e4c8eea92ba084": {
          "model_module": "@jupyter-widgets/base",
          "model_name": "LayoutModel",
          "model_module_version": "1.2.0",
          "state": {
            "_model_module": "@jupyter-widgets/base",
            "_model_module_version": "1.2.0",
            "_model_name": "LayoutModel",
            "_view_count": null,
            "_view_module": "@jupyter-widgets/base",
            "_view_module_version": "1.2.0",
            "_view_name": "LayoutView",
            "align_content": null,
            "align_items": null,
            "align_self": null,
            "border": null,
            "bottom": null,
            "display": null,
            "flex": null,
            "flex_flow": null,
            "grid_area": null,
            "grid_auto_columns": null,
            "grid_auto_flow": null,
            "grid_auto_rows": null,
            "grid_column": null,
            "grid_gap": null,
            "grid_row": null,
            "grid_template_areas": null,
            "grid_template_columns": null,
            "grid_template_rows": null,
            "height": null,
            "justify_content": null,
            "justify_items": null,
            "left": null,
            "margin": null,
            "max_height": null,
            "max_width": null,
            "min_height": null,
            "min_width": null,
            "object_fit": null,
            "object_position": null,
            "order": null,
            "overflow": null,
            "overflow_x": null,
            "overflow_y": null,
            "padding": null,
            "right": null,
            "top": null,
            "visibility": null,
            "width": null
          }
        },
        "e3ef8ab8362a44539fd6a80d2857b44d": {
          "model_module": "@jupyter-widgets/controls",
          "model_name": "DescriptionStyleModel",
          "model_module_version": "1.5.0",
          "state": {
            "_model_module": "@jupyter-widgets/controls",
            "_model_module_version": "1.5.0",
            "_model_name": "DescriptionStyleModel",
            "_view_count": null,
            "_view_module": "@jupyter-widgets/base",
            "_view_module_version": "1.2.0",
            "_view_name": "StyleView",
            "description_width": ""
          }
        },
        "5f7a4018c4834f508ede1a81469a08ae": {
          "model_module": "@jupyter-widgets/base",
          "model_name": "LayoutModel",
          "model_module_version": "1.2.0",
          "state": {
            "_model_module": "@jupyter-widgets/base",
            "_model_module_version": "1.2.0",
            "_model_name": "LayoutModel",
            "_view_count": null,
            "_view_module": "@jupyter-widgets/base",
            "_view_module_version": "1.2.0",
            "_view_name": "LayoutView",
            "align_content": null,
            "align_items": null,
            "align_self": null,
            "border": null,
            "bottom": null,
            "display": null,
            "flex": null,
            "flex_flow": null,
            "grid_area": null,
            "grid_auto_columns": null,
            "grid_auto_flow": null,
            "grid_auto_rows": null,
            "grid_column": null,
            "grid_gap": null,
            "grid_row": null,
            "grid_template_areas": null,
            "grid_template_columns": null,
            "grid_template_rows": null,
            "height": null,
            "justify_content": null,
            "justify_items": null,
            "left": null,
            "margin": null,
            "max_height": null,
            "max_width": null,
            "min_height": null,
            "min_width": null,
            "object_fit": null,
            "object_position": null,
            "order": null,
            "overflow": null,
            "overflow_x": null,
            "overflow_y": null,
            "padding": null,
            "right": null,
            "top": null,
            "visibility": null,
            "width": null
          }
        },
        "0e4c47d82c5e4eac92d81cd0e10f5714": {
          "model_module": "@jupyter-widgets/controls",
          "model_name": "ProgressStyleModel",
          "model_module_version": "1.5.0",
          "state": {
            "_model_module": "@jupyter-widgets/controls",
            "_model_module_version": "1.5.0",
            "_model_name": "ProgressStyleModel",
            "_view_count": null,
            "_view_module": "@jupyter-widgets/base",
            "_view_module_version": "1.2.0",
            "_view_name": "StyleView",
            "bar_color": null,
            "description_width": ""
          }
        },
        "0411b6566add4bfdae94d7fe5082db5d": {
          "model_module": "@jupyter-widgets/base",
          "model_name": "LayoutModel",
          "model_module_version": "1.2.0",
          "state": {
            "_model_module": "@jupyter-widgets/base",
            "_model_module_version": "1.2.0",
            "_model_name": "LayoutModel",
            "_view_count": null,
            "_view_module": "@jupyter-widgets/base",
            "_view_module_version": "1.2.0",
            "_view_name": "LayoutView",
            "align_content": null,
            "align_items": null,
            "align_self": null,
            "border": null,
            "bottom": null,
            "display": null,
            "flex": null,
            "flex_flow": null,
            "grid_area": null,
            "grid_auto_columns": null,
            "grid_auto_flow": null,
            "grid_auto_rows": null,
            "grid_column": null,
            "grid_gap": null,
            "grid_row": null,
            "grid_template_areas": null,
            "grid_template_columns": null,
            "grid_template_rows": null,
            "height": null,
            "justify_content": null,
            "justify_items": null,
            "left": null,
            "margin": null,
            "max_height": null,
            "max_width": null,
            "min_height": null,
            "min_width": null,
            "object_fit": null,
            "object_position": null,
            "order": null,
            "overflow": null,
            "overflow_x": null,
            "overflow_y": null,
            "padding": null,
            "right": null,
            "top": null,
            "visibility": null,
            "width": null
          }
        },
        "fa43e79f9d754b548c70f22f4339f73b": {
          "model_module": "@jupyter-widgets/controls",
          "model_name": "DescriptionStyleModel",
          "model_module_version": "1.5.0",
          "state": {
            "_model_module": "@jupyter-widgets/controls",
            "_model_module_version": "1.5.0",
            "_model_name": "DescriptionStyleModel",
            "_view_count": null,
            "_view_module": "@jupyter-widgets/base",
            "_view_module_version": "1.2.0",
            "_view_name": "StyleView",
            "description_width": ""
          }
        },
        "4f5719f7383245b18f4f434ab1820609": {
          "model_module": "@jupyter-widgets/controls",
          "model_name": "HBoxModel",
          "model_module_version": "1.5.0",
          "state": {
            "_dom_classes": [],
            "_model_module": "@jupyter-widgets/controls",
            "_model_module_version": "1.5.0",
            "_model_name": "HBoxModel",
            "_view_count": null,
            "_view_module": "@jupyter-widgets/controls",
            "_view_module_version": "1.5.0",
            "_view_name": "HBoxView",
            "box_style": "",
            "children": [
              "IPY_MODEL_702fe004325846528c67473c0d8637bb",
              "IPY_MODEL_5fb383a29a1347b083542c0e0788bfff",
              "IPY_MODEL_4c2ad3cb08c64108b7b9a8ae716d9bb9"
            ],
            "layout": "IPY_MODEL_358aca36c19d4776bcd1bc14da498a2e"
          }
        },
        "702fe004325846528c67473c0d8637bb": {
          "model_module": "@jupyter-widgets/controls",
          "model_name": "HTMLModel",
          "model_module_version": "1.5.0",
          "state": {
            "_dom_classes": [],
            "_model_module": "@jupyter-widgets/controls",
            "_model_module_version": "1.5.0",
            "_model_name": "HTMLModel",
            "_view_count": null,
            "_view_module": "@jupyter-widgets/controls",
            "_view_module_version": "1.5.0",
            "_view_name": "HTMLView",
            "description": "",
            "description_tooltip": null,
            "layout": "IPY_MODEL_f4f822c1d54447239db8ba20b3dd384b",
            "placeholder": "​",
            "style": "IPY_MODEL_d2777f2d79ad4e3299ac395dd98805a1",
            "value": "Downloading https://huggingface.co/stanfordnlp/stanza-it/resolve/v1.8.0/models/forward_charlm/conll17.pt: 100%"
          }
        },
        "5fb383a29a1347b083542c0e0788bfff": {
          "model_module": "@jupyter-widgets/controls",
          "model_name": "FloatProgressModel",
          "model_module_version": "1.5.0",
          "state": {
            "_dom_classes": [],
            "_model_module": "@jupyter-widgets/controls",
            "_model_module_version": "1.5.0",
            "_model_name": "FloatProgressModel",
            "_view_count": null,
            "_view_module": "@jupyter-widgets/controls",
            "_view_module_version": "1.5.0",
            "_view_name": "ProgressView",
            "bar_style": "success",
            "description": "",
            "description_tooltip": null,
            "layout": "IPY_MODEL_c7887d7e250f4ed1a16735687835b511",
            "max": 22585136,
            "min": 0,
            "orientation": "horizontal",
            "style": "IPY_MODEL_67609e78760c432e87ee855a7870d904",
            "value": 22585136
          }
        },
        "4c2ad3cb08c64108b7b9a8ae716d9bb9": {
          "model_module": "@jupyter-widgets/controls",
          "model_name": "HTMLModel",
          "model_module_version": "1.5.0",
          "state": {
            "_dom_classes": [],
            "_model_module": "@jupyter-widgets/controls",
            "_model_module_version": "1.5.0",
            "_model_name": "HTMLModel",
            "_view_count": null,
            "_view_module": "@jupyter-widgets/controls",
            "_view_module_version": "1.5.0",
            "_view_name": "HTMLView",
            "description": "",
            "description_tooltip": null,
            "layout": "IPY_MODEL_3048625f4c804bbf8deb71ea26e108d7",
            "placeholder": "​",
            "style": "IPY_MODEL_4bf298511d8c46d6b10e44c0dfd4eb07",
            "value": " 22.6M/22.6M [00:00&lt;00:00, 99.5MB/s]"
          }
        },
        "358aca36c19d4776bcd1bc14da498a2e": {
          "model_module": "@jupyter-widgets/base",
          "model_name": "LayoutModel",
          "model_module_version": "1.2.0",
          "state": {
            "_model_module": "@jupyter-widgets/base",
            "_model_module_version": "1.2.0",
            "_model_name": "LayoutModel",
            "_view_count": null,
            "_view_module": "@jupyter-widgets/base",
            "_view_module_version": "1.2.0",
            "_view_name": "LayoutView",
            "align_content": null,
            "align_items": null,
            "align_self": null,
            "border": null,
            "bottom": null,
            "display": null,
            "flex": null,
            "flex_flow": null,
            "grid_area": null,
            "grid_auto_columns": null,
            "grid_auto_flow": null,
            "grid_auto_rows": null,
            "grid_column": null,
            "grid_gap": null,
            "grid_row": null,
            "grid_template_areas": null,
            "grid_template_columns": null,
            "grid_template_rows": null,
            "height": null,
            "justify_content": null,
            "justify_items": null,
            "left": null,
            "margin": null,
            "max_height": null,
            "max_width": null,
            "min_height": null,
            "min_width": null,
            "object_fit": null,
            "object_position": null,
            "order": null,
            "overflow": null,
            "overflow_x": null,
            "overflow_y": null,
            "padding": null,
            "right": null,
            "top": null,
            "visibility": null,
            "width": null
          }
        },
        "f4f822c1d54447239db8ba20b3dd384b": {
          "model_module": "@jupyter-widgets/base",
          "model_name": "LayoutModel",
          "model_module_version": "1.2.0",
          "state": {
            "_model_module": "@jupyter-widgets/base",
            "_model_module_version": "1.2.0",
            "_model_name": "LayoutModel",
            "_view_count": null,
            "_view_module": "@jupyter-widgets/base",
            "_view_module_version": "1.2.0",
            "_view_name": "LayoutView",
            "align_content": null,
            "align_items": null,
            "align_self": null,
            "border": null,
            "bottom": null,
            "display": null,
            "flex": null,
            "flex_flow": null,
            "grid_area": null,
            "grid_auto_columns": null,
            "grid_auto_flow": null,
            "grid_auto_rows": null,
            "grid_column": null,
            "grid_gap": null,
            "grid_row": null,
            "grid_template_areas": null,
            "grid_template_columns": null,
            "grid_template_rows": null,
            "height": null,
            "justify_content": null,
            "justify_items": null,
            "left": null,
            "margin": null,
            "max_height": null,
            "max_width": null,
            "min_height": null,
            "min_width": null,
            "object_fit": null,
            "object_position": null,
            "order": null,
            "overflow": null,
            "overflow_x": null,
            "overflow_y": null,
            "padding": null,
            "right": null,
            "top": null,
            "visibility": null,
            "width": null
          }
        },
        "d2777f2d79ad4e3299ac395dd98805a1": {
          "model_module": "@jupyter-widgets/controls",
          "model_name": "DescriptionStyleModel",
          "model_module_version": "1.5.0",
          "state": {
            "_model_module": "@jupyter-widgets/controls",
            "_model_module_version": "1.5.0",
            "_model_name": "DescriptionStyleModel",
            "_view_count": null,
            "_view_module": "@jupyter-widgets/base",
            "_view_module_version": "1.2.0",
            "_view_name": "StyleView",
            "description_width": ""
          }
        },
        "c7887d7e250f4ed1a16735687835b511": {
          "model_module": "@jupyter-widgets/base",
          "model_name": "LayoutModel",
          "model_module_version": "1.2.0",
          "state": {
            "_model_module": "@jupyter-widgets/base",
            "_model_module_version": "1.2.0",
            "_model_name": "LayoutModel",
            "_view_count": null,
            "_view_module": "@jupyter-widgets/base",
            "_view_module_version": "1.2.0",
            "_view_name": "LayoutView",
            "align_content": null,
            "align_items": null,
            "align_self": null,
            "border": null,
            "bottom": null,
            "display": null,
            "flex": null,
            "flex_flow": null,
            "grid_area": null,
            "grid_auto_columns": null,
            "grid_auto_flow": null,
            "grid_auto_rows": null,
            "grid_column": null,
            "grid_gap": null,
            "grid_row": null,
            "grid_template_areas": null,
            "grid_template_columns": null,
            "grid_template_rows": null,
            "height": null,
            "justify_content": null,
            "justify_items": null,
            "left": null,
            "margin": null,
            "max_height": null,
            "max_width": null,
            "min_height": null,
            "min_width": null,
            "object_fit": null,
            "object_position": null,
            "order": null,
            "overflow": null,
            "overflow_x": null,
            "overflow_y": null,
            "padding": null,
            "right": null,
            "top": null,
            "visibility": null,
            "width": null
          }
        },
        "67609e78760c432e87ee855a7870d904": {
          "model_module": "@jupyter-widgets/controls",
          "model_name": "ProgressStyleModel",
          "model_module_version": "1.5.0",
          "state": {
            "_model_module": "@jupyter-widgets/controls",
            "_model_module_version": "1.5.0",
            "_model_name": "ProgressStyleModel",
            "_view_count": null,
            "_view_module": "@jupyter-widgets/base",
            "_view_module_version": "1.2.0",
            "_view_name": "StyleView",
            "bar_color": null,
            "description_width": ""
          }
        },
        "3048625f4c804bbf8deb71ea26e108d7": {
          "model_module": "@jupyter-widgets/base",
          "model_name": "LayoutModel",
          "model_module_version": "1.2.0",
          "state": {
            "_model_module": "@jupyter-widgets/base",
            "_model_module_version": "1.2.0",
            "_model_name": "LayoutModel",
            "_view_count": null,
            "_view_module": "@jupyter-widgets/base",
            "_view_module_version": "1.2.0",
            "_view_name": "LayoutView",
            "align_content": null,
            "align_items": null,
            "align_self": null,
            "border": null,
            "bottom": null,
            "display": null,
            "flex": null,
            "flex_flow": null,
            "grid_area": null,
            "grid_auto_columns": null,
            "grid_auto_flow": null,
            "grid_auto_rows": null,
            "grid_column": null,
            "grid_gap": null,
            "grid_row": null,
            "grid_template_areas": null,
            "grid_template_columns": null,
            "grid_template_rows": null,
            "height": null,
            "justify_content": null,
            "justify_items": null,
            "left": null,
            "margin": null,
            "max_height": null,
            "max_width": null,
            "min_height": null,
            "min_width": null,
            "object_fit": null,
            "object_position": null,
            "order": null,
            "overflow": null,
            "overflow_x": null,
            "overflow_y": null,
            "padding": null,
            "right": null,
            "top": null,
            "visibility": null,
            "width": null
          }
        },
        "4bf298511d8c46d6b10e44c0dfd4eb07": {
          "model_module": "@jupyter-widgets/controls",
          "model_name": "DescriptionStyleModel",
          "model_module_version": "1.5.0",
          "state": {
            "_model_module": "@jupyter-widgets/controls",
            "_model_module_version": "1.5.0",
            "_model_name": "DescriptionStyleModel",
            "_view_count": null,
            "_view_module": "@jupyter-widgets/base",
            "_view_module_version": "1.2.0",
            "_view_name": "StyleView",
            "description_width": ""
          }
        },
        "c492c061c306440b81e54720c35e83be": {
          "model_module": "@jupyter-widgets/controls",
          "model_name": "HBoxModel",
          "model_module_version": "1.5.0",
          "state": {
            "_dom_classes": [],
            "_model_module": "@jupyter-widgets/controls",
            "_model_module_version": "1.5.0",
            "_model_name": "HBoxModel",
            "_view_count": null,
            "_view_module": "@jupyter-widgets/controls",
            "_view_module_version": "1.5.0",
            "_view_name": "HBoxView",
            "box_style": "",
            "children": [
              "IPY_MODEL_79c0eb1215fc49438b126b6ef57c8fcf",
              "IPY_MODEL_697a2abc849e4ea487bbede13a4fb70c",
              "IPY_MODEL_0c54ead5a7fb4156bb318b379ec62390"
            ],
            "layout": "IPY_MODEL_895b27a44cdf42ff84a48ca24ab40ad5"
          }
        },
        "79c0eb1215fc49438b126b6ef57c8fcf": {
          "model_module": "@jupyter-widgets/controls",
          "model_name": "HTMLModel",
          "model_module_version": "1.5.0",
          "state": {
            "_dom_classes": [],
            "_model_module": "@jupyter-widgets/controls",
            "_model_module_version": "1.5.0",
            "_model_name": "HTMLModel",
            "_view_count": null,
            "_view_module": "@jupyter-widgets/controls",
            "_view_module_version": "1.5.0",
            "_view_name": "HTMLView",
            "description": "",
            "description_tooltip": null,
            "layout": "IPY_MODEL_34e2ed42d81e4c4393ee7335d6ef887b",
            "placeholder": "​",
            "style": "IPY_MODEL_8a7650d91a0846b88cd5154c82be62c4",
            "value": "Downloading https://huggingface.co/stanfordnlp/stanza-it/resolve/v1.8.0/models/pretrain/conll17.pt: 100%"
          }
        },
        "697a2abc849e4ea487bbede13a4fb70c": {
          "model_module": "@jupyter-widgets/controls",
          "model_name": "FloatProgressModel",
          "model_module_version": "1.5.0",
          "state": {
            "_dom_classes": [],
            "_model_module": "@jupyter-widgets/controls",
            "_model_module_version": "1.5.0",
            "_model_name": "FloatProgressModel",
            "_view_count": null,
            "_view_module": "@jupyter-widgets/controls",
            "_view_module_version": "1.5.0",
            "_view_name": "ProgressView",
            "bar_style": "success",
            "description": "",
            "description_tooltip": null,
            "layout": "IPY_MODEL_b036c181388c4da79e14cbc15e65457b",
            "max": 106875579,
            "min": 0,
            "orientation": "horizontal",
            "style": "IPY_MODEL_f4005db446804617ae0bf12bf142894a",
            "value": 106875579
          }
        },
        "0c54ead5a7fb4156bb318b379ec62390": {
          "model_module": "@jupyter-widgets/controls",
          "model_name": "HTMLModel",
          "model_module_version": "1.5.0",
          "state": {
            "_dom_classes": [],
            "_model_module": "@jupyter-widgets/controls",
            "_model_module_version": "1.5.0",
            "_model_name": "HTMLModel",
            "_view_count": null,
            "_view_module": "@jupyter-widgets/controls",
            "_view_module_version": "1.5.0",
            "_view_name": "HTMLView",
            "description": "",
            "description_tooltip": null,
            "layout": "IPY_MODEL_fcdc11d3ae9f4dbf82a5e9edce5561ef",
            "placeholder": "​",
            "style": "IPY_MODEL_ad9fcc05dade48e19a373fff995e7f0a",
            "value": " 107M/107M [00:00&lt;00:00, 160MB/s]"
          }
        },
        "895b27a44cdf42ff84a48ca24ab40ad5": {
          "model_module": "@jupyter-widgets/base",
          "model_name": "LayoutModel",
          "model_module_version": "1.2.0",
          "state": {
            "_model_module": "@jupyter-widgets/base",
            "_model_module_version": "1.2.0",
            "_model_name": "LayoutModel",
            "_view_count": null,
            "_view_module": "@jupyter-widgets/base",
            "_view_module_version": "1.2.0",
            "_view_name": "LayoutView",
            "align_content": null,
            "align_items": null,
            "align_self": null,
            "border": null,
            "bottom": null,
            "display": null,
            "flex": null,
            "flex_flow": null,
            "grid_area": null,
            "grid_auto_columns": null,
            "grid_auto_flow": null,
            "grid_auto_rows": null,
            "grid_column": null,
            "grid_gap": null,
            "grid_row": null,
            "grid_template_areas": null,
            "grid_template_columns": null,
            "grid_template_rows": null,
            "height": null,
            "justify_content": null,
            "justify_items": null,
            "left": null,
            "margin": null,
            "max_height": null,
            "max_width": null,
            "min_height": null,
            "min_width": null,
            "object_fit": null,
            "object_position": null,
            "order": null,
            "overflow": null,
            "overflow_x": null,
            "overflow_y": null,
            "padding": null,
            "right": null,
            "top": null,
            "visibility": null,
            "width": null
          }
        },
        "34e2ed42d81e4c4393ee7335d6ef887b": {
          "model_module": "@jupyter-widgets/base",
          "model_name": "LayoutModel",
          "model_module_version": "1.2.0",
          "state": {
            "_model_module": "@jupyter-widgets/base",
            "_model_module_version": "1.2.0",
            "_model_name": "LayoutModel",
            "_view_count": null,
            "_view_module": "@jupyter-widgets/base",
            "_view_module_version": "1.2.0",
            "_view_name": "LayoutView",
            "align_content": null,
            "align_items": null,
            "align_self": null,
            "border": null,
            "bottom": null,
            "display": null,
            "flex": null,
            "flex_flow": null,
            "grid_area": null,
            "grid_auto_columns": null,
            "grid_auto_flow": null,
            "grid_auto_rows": null,
            "grid_column": null,
            "grid_gap": null,
            "grid_row": null,
            "grid_template_areas": null,
            "grid_template_columns": null,
            "grid_template_rows": null,
            "height": null,
            "justify_content": null,
            "justify_items": null,
            "left": null,
            "margin": null,
            "max_height": null,
            "max_width": null,
            "min_height": null,
            "min_width": null,
            "object_fit": null,
            "object_position": null,
            "order": null,
            "overflow": null,
            "overflow_x": null,
            "overflow_y": null,
            "padding": null,
            "right": null,
            "top": null,
            "visibility": null,
            "width": null
          }
        },
        "8a7650d91a0846b88cd5154c82be62c4": {
          "model_module": "@jupyter-widgets/controls",
          "model_name": "DescriptionStyleModel",
          "model_module_version": "1.5.0",
          "state": {
            "_model_module": "@jupyter-widgets/controls",
            "_model_module_version": "1.5.0",
            "_model_name": "DescriptionStyleModel",
            "_view_count": null,
            "_view_module": "@jupyter-widgets/base",
            "_view_module_version": "1.2.0",
            "_view_name": "StyleView",
            "description_width": ""
          }
        },
        "b036c181388c4da79e14cbc15e65457b": {
          "model_module": "@jupyter-widgets/base",
          "model_name": "LayoutModel",
          "model_module_version": "1.2.0",
          "state": {
            "_model_module": "@jupyter-widgets/base",
            "_model_module_version": "1.2.0",
            "_model_name": "LayoutModel",
            "_view_count": null,
            "_view_module": "@jupyter-widgets/base",
            "_view_module_version": "1.2.0",
            "_view_name": "LayoutView",
            "align_content": null,
            "align_items": null,
            "align_self": null,
            "border": null,
            "bottom": null,
            "display": null,
            "flex": null,
            "flex_flow": null,
            "grid_area": null,
            "grid_auto_columns": null,
            "grid_auto_flow": null,
            "grid_auto_rows": null,
            "grid_column": null,
            "grid_gap": null,
            "grid_row": null,
            "grid_template_areas": null,
            "grid_template_columns": null,
            "grid_template_rows": null,
            "height": null,
            "justify_content": null,
            "justify_items": null,
            "left": null,
            "margin": null,
            "max_height": null,
            "max_width": null,
            "min_height": null,
            "min_width": null,
            "object_fit": null,
            "object_position": null,
            "order": null,
            "overflow": null,
            "overflow_x": null,
            "overflow_y": null,
            "padding": null,
            "right": null,
            "top": null,
            "visibility": null,
            "width": null
          }
        },
        "f4005db446804617ae0bf12bf142894a": {
          "model_module": "@jupyter-widgets/controls",
          "model_name": "ProgressStyleModel",
          "model_module_version": "1.5.0",
          "state": {
            "_model_module": "@jupyter-widgets/controls",
            "_model_module_version": "1.5.0",
            "_model_name": "ProgressStyleModel",
            "_view_count": null,
            "_view_module": "@jupyter-widgets/base",
            "_view_module_version": "1.2.0",
            "_view_name": "StyleView",
            "bar_color": null,
            "description_width": ""
          }
        },
        "fcdc11d3ae9f4dbf82a5e9edce5561ef": {
          "model_module": "@jupyter-widgets/base",
          "model_name": "LayoutModel",
          "model_module_version": "1.2.0",
          "state": {
            "_model_module": "@jupyter-widgets/base",
            "_model_module_version": "1.2.0",
            "_model_name": "LayoutModel",
            "_view_count": null,
            "_view_module": "@jupyter-widgets/base",
            "_view_module_version": "1.2.0",
            "_view_name": "LayoutView",
            "align_content": null,
            "align_items": null,
            "align_self": null,
            "border": null,
            "bottom": null,
            "display": null,
            "flex": null,
            "flex_flow": null,
            "grid_area": null,
            "grid_auto_columns": null,
            "grid_auto_flow": null,
            "grid_auto_rows": null,
            "grid_column": null,
            "grid_gap": null,
            "grid_row": null,
            "grid_template_areas": null,
            "grid_template_columns": null,
            "grid_template_rows": null,
            "height": null,
            "justify_content": null,
            "justify_items": null,
            "left": null,
            "margin": null,
            "max_height": null,
            "max_width": null,
            "min_height": null,
            "min_width": null,
            "object_fit": null,
            "object_position": null,
            "order": null,
            "overflow": null,
            "overflow_x": null,
            "overflow_y": null,
            "padding": null,
            "right": null,
            "top": null,
            "visibility": null,
            "width": null
          }
        },
        "ad9fcc05dade48e19a373fff995e7f0a": {
          "model_module": "@jupyter-widgets/controls",
          "model_name": "DescriptionStyleModel",
          "model_module_version": "1.5.0",
          "state": {
            "_model_module": "@jupyter-widgets/controls",
            "_model_module_version": "1.5.0",
            "_model_name": "DescriptionStyleModel",
            "_view_count": null,
            "_view_module": "@jupyter-widgets/base",
            "_view_module_version": "1.2.0",
            "_view_name": "StyleView",
            "description_width": ""
          }
        },
        "153d9d01df8e48288719ef6961d20897": {
          "model_module": "@jupyter-widgets/controls",
          "model_name": "HBoxModel",
          "model_module_version": "1.5.0",
          "state": {
            "_dom_classes": [],
            "_model_module": "@jupyter-widgets/controls",
            "_model_module_version": "1.5.0",
            "_model_name": "HBoxModel",
            "_view_count": null,
            "_view_module": "@jupyter-widgets/controls",
            "_view_module_version": "1.5.0",
            "_view_name": "HBoxView",
            "box_style": "",
            "children": [
              "IPY_MODEL_708d783ba2524ba78242eed32792e279",
              "IPY_MODEL_a39412c08639452b9f8372aaf7f0ac81",
              "IPY_MODEL_c0524fcf8c99459a8c4a013cdf5dade1"
            ],
            "layout": "IPY_MODEL_a7aa3c3bd4c642b78ee598c5d27abf4f"
          }
        },
        "708d783ba2524ba78242eed32792e279": {
          "model_module": "@jupyter-widgets/controls",
          "model_name": "HTMLModel",
          "model_module_version": "1.5.0",
          "state": {
            "_dom_classes": [],
            "_model_module": "@jupyter-widgets/controls",
            "_model_module_version": "1.5.0",
            "_model_name": "HTMLModel",
            "_view_count": null,
            "_view_module": "@jupyter-widgets/controls",
            "_view_module_version": "1.5.0",
            "_view_name": "HTMLView",
            "description": "",
            "description_tooltip": null,
            "layout": "IPY_MODEL_3b73515dc1aa4bffb4246053ee8159fb",
            "placeholder": "​",
            "style": "IPY_MODEL_b97874d9e2e6403ea86f009f31973f52",
            "value": "Downloading https://huggingface.co/stanfordnlp/stanza-it/resolve/v1.8.0/models/backward_charlm/conll17.pt: 100%"
          }
        },
        "a39412c08639452b9f8372aaf7f0ac81": {
          "model_module": "@jupyter-widgets/controls",
          "model_name": "FloatProgressModel",
          "model_module_version": "1.5.0",
          "state": {
            "_dom_classes": [],
            "_model_module": "@jupyter-widgets/controls",
            "_model_module_version": "1.5.0",
            "_model_name": "FloatProgressModel",
            "_view_count": null,
            "_view_module": "@jupyter-widgets/controls",
            "_view_module_version": "1.5.0",
            "_view_name": "ProgressView",
            "bar_style": "success",
            "description": "",
            "description_tooltip": null,
            "layout": "IPY_MODEL_e8c3ba4153354e6e9d93f22b1f00248b",
            "max": 22585138,
            "min": 0,
            "orientation": "horizontal",
            "style": "IPY_MODEL_dea10771360344cea521ab40a529c27f",
            "value": 22585138
          }
        },
        "c0524fcf8c99459a8c4a013cdf5dade1": {
          "model_module": "@jupyter-widgets/controls",
          "model_name": "HTMLModel",
          "model_module_version": "1.5.0",
          "state": {
            "_dom_classes": [],
            "_model_module": "@jupyter-widgets/controls",
            "_model_module_version": "1.5.0",
            "_model_name": "HTMLModel",
            "_view_count": null,
            "_view_module": "@jupyter-widgets/controls",
            "_view_module_version": "1.5.0",
            "_view_name": "HTMLView",
            "description": "",
            "description_tooltip": null,
            "layout": "IPY_MODEL_8c6e0456ec0f476db5ad5033da579e95",
            "placeholder": "​",
            "style": "IPY_MODEL_bf96d9c93bc34de2a283b7a55eefc41b",
            "value": " 22.6M/22.6M [00:00&lt;00:00, 94.5MB/s]"
          }
        },
        "a7aa3c3bd4c642b78ee598c5d27abf4f": {
          "model_module": "@jupyter-widgets/base",
          "model_name": "LayoutModel",
          "model_module_version": "1.2.0",
          "state": {
            "_model_module": "@jupyter-widgets/base",
            "_model_module_version": "1.2.0",
            "_model_name": "LayoutModel",
            "_view_count": null,
            "_view_module": "@jupyter-widgets/base",
            "_view_module_version": "1.2.0",
            "_view_name": "LayoutView",
            "align_content": null,
            "align_items": null,
            "align_self": null,
            "border": null,
            "bottom": null,
            "display": null,
            "flex": null,
            "flex_flow": null,
            "grid_area": null,
            "grid_auto_columns": null,
            "grid_auto_flow": null,
            "grid_auto_rows": null,
            "grid_column": null,
            "grid_gap": null,
            "grid_row": null,
            "grid_template_areas": null,
            "grid_template_columns": null,
            "grid_template_rows": null,
            "height": null,
            "justify_content": null,
            "justify_items": null,
            "left": null,
            "margin": null,
            "max_height": null,
            "max_width": null,
            "min_height": null,
            "min_width": null,
            "object_fit": null,
            "object_position": null,
            "order": null,
            "overflow": null,
            "overflow_x": null,
            "overflow_y": null,
            "padding": null,
            "right": null,
            "top": null,
            "visibility": null,
            "width": null
          }
        },
        "3b73515dc1aa4bffb4246053ee8159fb": {
          "model_module": "@jupyter-widgets/base",
          "model_name": "LayoutModel",
          "model_module_version": "1.2.0",
          "state": {
            "_model_module": "@jupyter-widgets/base",
            "_model_module_version": "1.2.0",
            "_model_name": "LayoutModel",
            "_view_count": null,
            "_view_module": "@jupyter-widgets/base",
            "_view_module_version": "1.2.0",
            "_view_name": "LayoutView",
            "align_content": null,
            "align_items": null,
            "align_self": null,
            "border": null,
            "bottom": null,
            "display": null,
            "flex": null,
            "flex_flow": null,
            "grid_area": null,
            "grid_auto_columns": null,
            "grid_auto_flow": null,
            "grid_auto_rows": null,
            "grid_column": null,
            "grid_gap": null,
            "grid_row": null,
            "grid_template_areas": null,
            "grid_template_columns": null,
            "grid_template_rows": null,
            "height": null,
            "justify_content": null,
            "justify_items": null,
            "left": null,
            "margin": null,
            "max_height": null,
            "max_width": null,
            "min_height": null,
            "min_width": null,
            "object_fit": null,
            "object_position": null,
            "order": null,
            "overflow": null,
            "overflow_x": null,
            "overflow_y": null,
            "padding": null,
            "right": null,
            "top": null,
            "visibility": null,
            "width": null
          }
        },
        "b97874d9e2e6403ea86f009f31973f52": {
          "model_module": "@jupyter-widgets/controls",
          "model_name": "DescriptionStyleModel",
          "model_module_version": "1.5.0",
          "state": {
            "_model_module": "@jupyter-widgets/controls",
            "_model_module_version": "1.5.0",
            "_model_name": "DescriptionStyleModel",
            "_view_count": null,
            "_view_module": "@jupyter-widgets/base",
            "_view_module_version": "1.2.0",
            "_view_name": "StyleView",
            "description_width": ""
          }
        },
        "e8c3ba4153354e6e9d93f22b1f00248b": {
          "model_module": "@jupyter-widgets/base",
          "model_name": "LayoutModel",
          "model_module_version": "1.2.0",
          "state": {
            "_model_module": "@jupyter-widgets/base",
            "_model_module_version": "1.2.0",
            "_model_name": "LayoutModel",
            "_view_count": null,
            "_view_module": "@jupyter-widgets/base",
            "_view_module_version": "1.2.0",
            "_view_name": "LayoutView",
            "align_content": null,
            "align_items": null,
            "align_self": null,
            "border": null,
            "bottom": null,
            "display": null,
            "flex": null,
            "flex_flow": null,
            "grid_area": null,
            "grid_auto_columns": null,
            "grid_auto_flow": null,
            "grid_auto_rows": null,
            "grid_column": null,
            "grid_gap": null,
            "grid_row": null,
            "grid_template_areas": null,
            "grid_template_columns": null,
            "grid_template_rows": null,
            "height": null,
            "justify_content": null,
            "justify_items": null,
            "left": null,
            "margin": null,
            "max_height": null,
            "max_width": null,
            "min_height": null,
            "min_width": null,
            "object_fit": null,
            "object_position": null,
            "order": null,
            "overflow": null,
            "overflow_x": null,
            "overflow_y": null,
            "padding": null,
            "right": null,
            "top": null,
            "visibility": null,
            "width": null
          }
        },
        "dea10771360344cea521ab40a529c27f": {
          "model_module": "@jupyter-widgets/controls",
          "model_name": "ProgressStyleModel",
          "model_module_version": "1.5.0",
          "state": {
            "_model_module": "@jupyter-widgets/controls",
            "_model_module_version": "1.5.0",
            "_model_name": "ProgressStyleModel",
            "_view_count": null,
            "_view_module": "@jupyter-widgets/base",
            "_view_module_version": "1.2.0",
            "_view_name": "StyleView",
            "bar_color": null,
            "description_width": ""
          }
        },
        "8c6e0456ec0f476db5ad5033da579e95": {
          "model_module": "@jupyter-widgets/base",
          "model_name": "LayoutModel",
          "model_module_version": "1.2.0",
          "state": {
            "_model_module": "@jupyter-widgets/base",
            "_model_module_version": "1.2.0",
            "_model_name": "LayoutModel",
            "_view_count": null,
            "_view_module": "@jupyter-widgets/base",
            "_view_module_version": "1.2.0",
            "_view_name": "LayoutView",
            "align_content": null,
            "align_items": null,
            "align_self": null,
            "border": null,
            "bottom": null,
            "display": null,
            "flex": null,
            "flex_flow": null,
            "grid_area": null,
            "grid_auto_columns": null,
            "grid_auto_flow": null,
            "grid_auto_rows": null,
            "grid_column": null,
            "grid_gap": null,
            "grid_row": null,
            "grid_template_areas": null,
            "grid_template_columns": null,
            "grid_template_rows": null,
            "height": null,
            "justify_content": null,
            "justify_items": null,
            "left": null,
            "margin": null,
            "max_height": null,
            "max_width": null,
            "min_height": null,
            "min_width": null,
            "object_fit": null,
            "object_position": null,
            "order": null,
            "overflow": null,
            "overflow_x": null,
            "overflow_y": null,
            "padding": null,
            "right": null,
            "top": null,
            "visibility": null,
            "width": null
          }
        },
        "bf96d9c93bc34de2a283b7a55eefc41b": {
          "model_module": "@jupyter-widgets/controls",
          "model_name": "DescriptionStyleModel",
          "model_module_version": "1.5.0",
          "state": {
            "_model_module": "@jupyter-widgets/controls",
            "_model_module_version": "1.5.0",
            "_model_name": "DescriptionStyleModel",
            "_view_count": null,
            "_view_module": "@jupyter-widgets/base",
            "_view_module_version": "1.2.0",
            "_view_name": "StyleView",
            "description_width": ""
          }
        }
      }
    }
  },
  "nbformat": 4,
  "nbformat_minor": 0
}