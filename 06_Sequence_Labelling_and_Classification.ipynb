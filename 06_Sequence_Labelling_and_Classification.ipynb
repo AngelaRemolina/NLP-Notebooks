{
  "cells": [
    {
      "cell_type": "markdown",
      "metadata": {
        "id": "view-in-github",
        "colab_type": "text"
      },
      "source": [
        "<a href=\"https://colab.research.google.com/github/AngelaRemolina/NLP-Notebooks/blob/main/06_Sequence_Labelling_and_Classification.ipynb\" target=\"_parent\"><img src=\"https://colab.research.google.com/assets/colab-badge.svg\" alt=\"Open In Colab\"/></a>"
      ]
    },
    {
      "cell_type": "markdown",
      "metadata": {
        "id": "giKsby3Lpdlp"
      },
      "source": [
        "# Sequence Labelling and Classification\n",
        "\n",
        "In this session we will train a Text classifier that makes use of a Bidirectional LSTM (Long Short-term Memory) model.\n",
        "\n",
        "In the second part of the tutorial we will first investigate Part-of-Speech (POS) tagging and Named-entity recognition (NER).\n",
        "- For this we will make use of the spaCy natural langauge processing API: https://spacy.io/\n",
        "- spaCy is an opensource API that provides state-of-the-art performance on sequence labeling tasks such as POS tagging and NER.\n",
        "- Parts of this tutorial are based on code from: https://towardsdatascience.com/named-entity-recognition-with-nltk-and-spacy-8c4a7d88e7da\n"
      ]
    },
    {
      "cell_type": "markdown",
      "metadata": {
        "id": "j-e-NrYniXXe"
      },
      "source": [
        "**Optional for Colab users**\n",
        "\n",
        "Before starting, we can set up the connection with the Google Dive storage, to keep there our documents.\n",
        "Just execute the following passages:"
      ]
    },
    {
      "cell_type": "code",
      "execution_count": 18,
      "metadata": {
        "colab": {
          "base_uri": "https://localhost:8080/"
        },
        "id": "wBP28rJ0iXXf",
        "outputId": "ecfa674a-6075-42b1-e839-eef2552ff400"
      },
      "outputs": [
        {
          "output_type": "stream",
          "name": "stdout",
          "text": [
            "Drive already mounted at /content/drive; to attempt to forcibly remount, call drive.mount(\"/content/drive\", force_remount=True).\n"
          ]
        }
      ],
      "source": [
        "from google.colab import drive\n",
        "drive.mount('/content/drive')"
      ]
    },
    {
      "cell_type": "markdown",
      "metadata": {
        "id": "tgBRWjnPiXXh"
      },
      "source": [
        "Make sure that the variable path contains the correct sequence of folders separate by a `'/'` to get to your lecture files"
      ]
    },
    {
      "cell_type": "code",
      "execution_count": 19,
      "metadata": {
        "colab": {
          "base_uri": "https://localhost:8080/",
          "height": 35
        },
        "id": "AJ2TAJjtiXXi",
        "outputId": "75026045-e645-4d60-85cb-bec687b92924"
      },
      "outputs": [
        {
          "output_type": "execute_result",
          "data": {
            "text/plain": [
              "'/content/drive/MyDrive/Colab Notebooks/NLP/Practical_06'"
            ],
            "application/vnd.google.colaboratory.intrinsic+json": {
              "type": "string"
            }
          },
          "metadata": {},
          "execution_count": 19
        }
      ],
      "source": [
        "import os\n",
        "\n",
        "path = 'Colab Notebooks/NLP/Practical_06'\n",
        "\n",
        "os.chdir(f'/content/drive/MyDrive/{path}')\n",
        "os.getcwd()"
      ]
    },
    {
      "cell_type": "markdown",
      "metadata": {
        "id": "EbvCOIq0iXXi"
      },
      "source": [
        "## Sequence labelling with embeddings and a Recurrent Neural Network\n",
        "\n",
        "In this section of the notebook I will run through an example of using LSTM (Long Short-term Memory) network for text sequence labelling.\n",
        "We can train our own model for POS-tagging or NER.\n",
        "Moreover, we can use pre-trained embedding models to encode the input text.\n",
        "\n",
        "- We are going to use PyTorch (https://pytorch.org) to build and train our model. Pytorch is a state-of-the-art framework for deep leaning."
      ]
    },
    {
      "cell_type": "markdown",
      "metadata": {
        "id": "Dyh38QJ5iXXi"
      },
      "source": [
        "### Data preparation\n",
        "\n",
        "As usula we start from data preparation.\n",
        "We can use the [CoNLL 2003](https://www.clips.uantwerpen.be/conll2003/ner/) corpus, which provides corpora for POS-tagging, Chunking and NER in English and German.\n",
        "Today we are going to focus on NER in English.\n",
        "\n",
        "You can find a copy the English split in the `docs/` directory.\n",
        "Usually the corpus should require preprocessing the data, here I am providing you with a version from Kaggle where documents have already been tagged (source: https://www.kaggle.com/datasets/alaakhaled/conll003-englishversion?resource=download)\n",
        "\n",
        "Let's start by loading the three files (train/validation/test) in memory and reading all of them."
      ]
    },
    {
      "cell_type": "code",
      "execution_count": 20,
      "metadata": {
        "colab": {
          "base_uri": "https://localhost:8080/"
        },
        "id": "Ygj3w81LiXXj",
        "outputId": "6009110f-b909-4ee0-d54b-ac7f3d972b83"
      },
      "outputs": [
        {
          "output_type": "stream",
          "name": "stdout",
          "text": [
            "-DOCSTART- -X- -X- O\n",
            "\n",
            "EU NNP B-NP B-ORG\n",
            "rejects VBZ B-VP O\n",
            "German JJ B-NP B-MISC\n",
            "call NN I-NP O\n",
            "to TO B-VP O\n",
            "boycott VB I-VP O\n",
            "British JJ B-NP B-MISC\n",
            "lamb NN I-NP O\n",
            ". . O O\n",
            "\n",
            "Peter NNP B-NP B-PER\n",
            "Blackburn NNP I-NP I-PER\n",
            "\n",
            "BRUSSELS NNP B-NP B-LOC\n",
            "1996-08-22 CD I-NP O\n",
            "\n",
            "The DT B-NP O\n",
            "European NNP I-NP B-ORG\n",
            "Commission NNP I-NP I-ORG\n",
            "said VBD B-VP O\n",
            "on IN B-PP O\n",
            "Thursday NNP B-NP O\n",
            "it PRP B-NP O\n",
            "disagreed VBD B-VP O\n",
            "with IN B-PP O\n",
            "German JJ B-NP B-MISC\n",
            "advice NN I-NP O\n",
            "to TO B-PP O\n",
            "consumers NNS B-NP\n"
          ]
        }
      ],
      "source": [
        "raw_data = dict()\n",
        "\n",
        "for split in ['train', 'valid', 'test']:\n",
        "    with open(f'docs/CoNLL - 2003/{split}.txt') as f:\n",
        "        raw_data[split] = f.read().strip()\n",
        "\n",
        "print(raw_data['train'][:500])"
      ]
    },
    {
      "cell_type": "markdown",
      "metadata": {
        "id": "1GJogcIJiXXk"
      },
      "source": [
        "Now we can parse the data.\n",
        "Documents inside each split are separated by the sequence `-DOCSTART- -X- -X- O`.\n",
        "Sentences inside each document are separated by the sequence`\\n\\n` (two new-line characters).\n",
        "Each line inside a sentence represnets a token followed by the POS tag, the CHUNK tag and the NER tag, all separaated by spaces.\n",
        "\n",
        "Here NER tags are written using a system called BIO-tagging.\n",
        "The 'B' stands for \"begin\" and introduces (starts) a new named entity, the tags are written as \"B-PER\" to indicate a person or \"B-LOC\" to indicate a location and so on.\n",
        "The 'I' stands for \"inside\" and continues a started named entity, the tags are written as \"I-PER\" to indicate a person or \"I-LOC\" to indicate a location and so on.\n",
        "The 'O' stands for outside, it means that the token is outside any named entity.\n",
        "There are other tagging systems.  "
      ]
    },
    {
      "cell_type": "code",
      "execution_count": 21,
      "metadata": {
        "id": "-bQDnO1diXXl"
      },
      "outputs": [],
      "source": [
        "keys = ['text', 'pos_tag', 'chunk_tag', 'ner_tag']\n",
        "\n",
        "data = dict()\n",
        "\n",
        "for split in raw_data:\n",
        "    data[split] = list()\n",
        "    for doc in raw_data[split].split('-DOCSTART- -X- -X- O')[1:]:\n",
        "        for sentence in doc.strip().split('\\n\\n'):\n",
        "            data[split].append(list())\n",
        "            for elem in sentence.split('\\n'):\n",
        "                data[split][-1].append(dict(zip(keys, elem.split())))"
      ]
    },
    {
      "cell_type": "code",
      "execution_count": 22,
      "metadata": {
        "colab": {
          "base_uri": "https://localhost:8080/"
        },
        "id": "nMD2IrmaiXXl",
        "outputId": "02ff2d44-c8fe-4f3a-ecf5-fdaf715c2859"
      },
      "outputs": [
        {
          "output_type": "execute_result",
          "data": {
            "text/plain": [
              "[{'text': 'EU', 'pos_tag': 'NNP', 'chunk_tag': 'B-NP', 'ner_tag': 'B-ORG'},\n",
              " {'text': 'rejects', 'pos_tag': 'VBZ', 'chunk_tag': 'B-VP', 'ner_tag': 'O'},\n",
              " {'text': 'German', 'pos_tag': 'JJ', 'chunk_tag': 'B-NP', 'ner_tag': 'B-MISC'},\n",
              " {'text': 'call', 'pos_tag': 'NN', 'chunk_tag': 'I-NP', 'ner_tag': 'O'},\n",
              " {'text': 'to', 'pos_tag': 'TO', 'chunk_tag': 'B-VP', 'ner_tag': 'O'},\n",
              " {'text': 'boycott', 'pos_tag': 'VB', 'chunk_tag': 'I-VP', 'ner_tag': 'O'},\n",
              " {'text': 'British',\n",
              "  'pos_tag': 'JJ',\n",
              "  'chunk_tag': 'B-NP',\n",
              "  'ner_tag': 'B-MISC'},\n",
              " {'text': 'lamb', 'pos_tag': 'NN', 'chunk_tag': 'I-NP', 'ner_tag': 'O'},\n",
              " {'text': '.', 'pos_tag': '.', 'chunk_tag': 'O', 'ner_tag': 'O'}]"
            ]
          },
          "metadata": {},
          "execution_count": 22
        }
      ],
      "source": [
        "data['train'][0]"
      ]
    },
    {
      "cell_type": "markdown",
      "metadata": {
        "id": "ArD_N4wOiXXm"
      },
      "source": [
        "Now all the labels are properly organised"
      ]
    },
    {
      "cell_type": "markdown",
      "metadata": {
        "id": "SjfmLnhNiXXn"
      },
      "source": [
        "At this point we need a system ti encode and decode the labels into categorical entities.\n",
        "We can use the label encoder from Scikit-Learn for that (https://scikit-learn.org/stable/modules/generated/sklearn.preprocessing.LabelEncoder.html)."
      ]
    },
    {
      "cell_type": "code",
      "execution_count": 23,
      "metadata": {
        "id": "RVnlwmaviXXn"
      },
      "outputs": [],
      "source": [
        "from sklearn.preprocessing import LabelEncoder\n",
        "\n",
        "pos_le = LabelEncoder().fit([token['pos_tag'] for split in data.values() for sentence in split for token in sentence])\n",
        "chunk_le = LabelEncoder().fit([token['chunk_tag'] for split in data.values() for sentence in split for token in sentence])\n",
        "ner_le = LabelEncoder().fit([token['ner_tag'] for split in data.values() for sentence in split for token in sentence])"
      ]
    },
    {
      "cell_type": "markdown",
      "metadata": {
        "id": "3FMgeeuPiXXo"
      },
      "source": [
        "Now we have a module mapping from tags to IDs and vice-versa"
      ]
    },
    {
      "cell_type": "code",
      "execution_count": 32,
      "metadata": {
        "colab": {
          "base_uri": "https://localhost:8080/"
        },
        "id": "zyBlslaiiXXp",
        "outputId": "a1aa2f00-c5db-4073-af76-33670fd60c4b"
      },
      "outputs": [
        {
          "output_type": "execute_result",
          "data": {
            "text/plain": [
              "array([8])"
            ]
          },
          "metadata": {},
          "execution_count": 32
        }
      ],
      "source": [
        "ner_tag = ['I-PER']\n",
        "ner_tag = ['I-LOC']\n",
        "ner_tag = ['B-PER']\n",
        "ner_tag = ['O']\n",
        "\n",
        "ner_le.transform(ner_tag)"
      ]
    },
    {
      "cell_type": "code",
      "execution_count": 33,
      "metadata": {
        "colab": {
          "base_uri": "https://localhost:8080/"
        },
        "id": "bnEhkyACiXXp",
        "outputId": "ba652e72-3ab5-46bd-8998-4148b5527f82"
      },
      "outputs": [
        {
          "output_type": "execute_result",
          "data": {
            "text/plain": [
              "array(['O'], dtype='<U6')"
            ]
          },
          "metadata": {},
          "execution_count": 33
        }
      ],
      "source": [
        "ner_tag_id = [8]\n",
        "\n",
        "ner_le.inverse_transform(ner_tag_id)"
      ]
    },
    {
      "cell_type": "markdown",
      "metadata": {
        "id": "Z3b_OcGZiXXq"
      },
      "source": [
        "How many NER tags do we have?"
      ]
    },
    {
      "cell_type": "code",
      "execution_count": 34,
      "metadata": {
        "colab": {
          "base_uri": "https://localhost:8080/"
        },
        "id": "PMH1CWC1iXXq",
        "outputId": "06b00fdf-c491-4ddb-cff5-a2ae450fd2f4"
      },
      "outputs": [
        {
          "output_type": "execute_result",
          "data": {
            "text/plain": [
              "9"
            ]
          },
          "metadata": {},
          "execution_count": 34
        }
      ],
      "source": [
        "len(ner_le.classes_)"
      ]
    },
    {
      "cell_type": "markdown",
      "metadata": {
        "id": "MG4kQ0_fiXXr"
      },
      "source": [
        "Which are those tags?"
      ]
    },
    {
      "cell_type": "code",
      "execution_count": 35,
      "metadata": {
        "colab": {
          "base_uri": "https://localhost:8080/"
        },
        "id": "cP8PolL_iXXr",
        "outputId": "2cd0b216-42f6-4953-e90a-a5bc9342577c"
      },
      "outputs": [
        {
          "output_type": "execute_result",
          "data": {
            "text/plain": [
              "array(['B-LOC', 'B-MISC', 'B-ORG', 'B-PER', 'I-LOC', 'I-MISC', 'I-ORG',\n",
              "       'I-PER', 'O'], dtype='<U6')"
            ]
          },
          "metadata": {},
          "execution_count": 35
        }
      ],
      "source": [
        "ner_le.classes_"
      ]
    },
    {
      "cell_type": "markdown",
      "metadata": {
        "id": "K9M9yFKviXXr"
      },
      "source": [
        "Collect the same info for POS tags"
      ]
    },
    {
      "cell_type": "code",
      "execution_count": 36,
      "metadata": {
        "colab": {
          "base_uri": "https://localhost:8080/"
        },
        "id": "maQ6PBwniXXs",
        "outputId": "678c1a70-32bf-4334-c621-6809fbb0b79b"
      },
      "outputs": [
        {
          "output_type": "execute_result",
          "data": {
            "text/plain": [
              "array(['\"', '$', \"''\", '(', ')', ',', '.', ':', 'CC', 'CD', 'DT', 'EX',\n",
              "       'FW', 'IN', 'JJ', 'JJR', 'JJS', 'LS', 'MD', 'NN', 'NNP', 'NNPS',\n",
              "       'NNS', 'NN|SYM', 'PDT', 'POS', 'PRP', 'PRP$', 'RB', 'RBR', 'RBS',\n",
              "       'RP', 'SYM', 'TO', 'UH', 'VB', 'VBD', 'VBG', 'VBN', 'VBP', 'VBZ',\n",
              "       'WDT', 'WP', 'WP$', 'WRB'], dtype='<U6')"
            ]
          },
          "metadata": {},
          "execution_count": 36
        }
      ],
      "source": [
        "pos_le.classes_"
      ]
    },
    {
      "cell_type": "code",
      "source": [
        "chunk_le.classes_"
      ],
      "metadata": {
        "colab": {
          "base_uri": "https://localhost:8080/"
        },
        "id": "JbCJ6lcgrkKd",
        "outputId": "36fd1df8-97d2-4b11-bd47-5678bafe47d3"
      },
      "execution_count": 37,
      "outputs": [
        {
          "output_type": "execute_result",
          "data": {
            "text/plain": [
              "array(['B-ADJP', 'B-ADVP', 'B-CONJP', 'B-INTJ', 'B-LST', 'B-NP', 'B-PP',\n",
              "       'B-PRT', 'B-SBAR', 'B-VP', 'I-ADJP', 'I-ADVP', 'I-CONJP', 'I-INTJ',\n",
              "       'I-LST', 'I-NP', 'I-PP', 'I-PRT', 'I-SBAR', 'I-VP', 'O'],\n",
              "      dtype='<U7')"
            ]
          },
          "metadata": {},
          "execution_count": 37
        }
      ]
    },
    {
      "cell_type": "markdown",
      "metadata": {
        "id": "LSevZ8PNiXX7"
      },
      "source": [
        "Finally we separate our train-validation-test splits"
      ]
    },
    {
      "cell_type": "code",
      "execution_count": 38,
      "metadata": {
        "id": "bBua7PzWiXX8"
      },
      "outputs": [],
      "source": [
        "train_data, valid_data, test_data = data.values()"
      ]
    },
    {
      "cell_type": "markdown",
      "metadata": {
        "id": "LMT4pJbqiXX8"
      },
      "source": [
        "### Defining and training the RNN model for NER"
      ]
    },
    {
      "cell_type": "markdown",
      "metadata": {
        "id": "ItWqpvybiXX8"
      },
      "source": [
        "We start by installing PyTorch and importing the required modules"
      ]
    },
    {
      "cell_type": "code",
      "execution_count": 15,
      "metadata": {
        "scrolled": true,
        "colab": {
          "base_uri": "https://localhost:8080/"
        },
        "id": "kgeMMwEsiXX9",
        "outputId": "7714a94e-1737-41af-cecb-5d049d360e5a"
      },
      "outputs": [
        {
          "output_type": "stream",
          "name": "stdout",
          "text": [
            "Requirement already satisfied: torch in /usr/local/lib/python3.10/dist-packages (2.2.1+cu121)\n",
            "Requirement already satisfied: gensim in /usr/local/lib/python3.10/dist-packages (4.3.2)\n",
            "Requirement already satisfied: filelock in /usr/local/lib/python3.10/dist-packages (from torch) (3.13.3)\n",
            "Requirement already satisfied: typing-extensions>=4.8.0 in /usr/local/lib/python3.10/dist-packages (from torch) (4.10.0)\n",
            "Requirement already satisfied: sympy in /usr/local/lib/python3.10/dist-packages (from torch) (1.12)\n",
            "Requirement already satisfied: networkx in /usr/local/lib/python3.10/dist-packages (from torch) (3.2.1)\n",
            "Requirement already satisfied: jinja2 in /usr/local/lib/python3.10/dist-packages (from torch) (3.1.3)\n",
            "Requirement already satisfied: fsspec in /usr/local/lib/python3.10/dist-packages (from torch) (2023.6.0)\n",
            "Collecting nvidia-cuda-nvrtc-cu12==12.1.105 (from torch)\n",
            "  Downloading nvidia_cuda_nvrtc_cu12-12.1.105-py3-none-manylinux1_x86_64.whl (23.7 MB)\n",
            "\u001b[2K     \u001b[90m━━━━━━━━━━━━━━━━━━━━━━━━━━━━━━━━━━━━━━━━\u001b[0m \u001b[32m23.7/23.7 MB\u001b[0m \u001b[31m24.2 MB/s\u001b[0m eta \u001b[36m0:00:00\u001b[0m\n",
            "\u001b[?25hCollecting nvidia-cuda-runtime-cu12==12.1.105 (from torch)\n",
            "  Downloading nvidia_cuda_runtime_cu12-12.1.105-py3-none-manylinux1_x86_64.whl (823 kB)\n",
            "\u001b[2K     \u001b[90m━━━━━━━━━━━━━━━━━━━━━━━━━━━━━━━━━━━━━━━━\u001b[0m \u001b[32m823.6/823.6 kB\u001b[0m \u001b[31m24.7 MB/s\u001b[0m eta \u001b[36m0:00:00\u001b[0m\n",
            "\u001b[?25hCollecting nvidia-cuda-cupti-cu12==12.1.105 (from torch)\n",
            "  Downloading nvidia_cuda_cupti_cu12-12.1.105-py3-none-manylinux1_x86_64.whl (14.1 MB)\n",
            "\u001b[2K     \u001b[90m━━━━━━━━━━━━━━━━━━━━━━━━━━━━━━━━━━━━━━━━\u001b[0m \u001b[32m14.1/14.1 MB\u001b[0m \u001b[31m18.4 MB/s\u001b[0m eta \u001b[36m0:00:00\u001b[0m\n",
            "\u001b[?25hCollecting nvidia-cudnn-cu12==8.9.2.26 (from torch)\n",
            "  Downloading nvidia_cudnn_cu12-8.9.2.26-py3-none-manylinux1_x86_64.whl (731.7 MB)\n",
            "\u001b[2K     \u001b[90m━━━━━━━━━━━━━━━━━━━━━━━━━━━━━━━━━━━━━━━━\u001b[0m \u001b[32m731.7/731.7 MB\u001b[0m \u001b[31m1.7 MB/s\u001b[0m eta \u001b[36m0:00:00\u001b[0m\n",
            "\u001b[?25hCollecting nvidia-cublas-cu12==12.1.3.1 (from torch)\n",
            "  Downloading nvidia_cublas_cu12-12.1.3.1-py3-none-manylinux1_x86_64.whl (410.6 MB)\n",
            "\u001b[2K     \u001b[90m━━━━━━━━━━━━━━━━━━━━━━━━━━━━━━━━━━━━━━━━\u001b[0m \u001b[32m410.6/410.6 MB\u001b[0m \u001b[31m2.7 MB/s\u001b[0m eta \u001b[36m0:00:00\u001b[0m\n",
            "\u001b[?25hCollecting nvidia-cufft-cu12==11.0.2.54 (from torch)\n",
            "  Downloading nvidia_cufft_cu12-11.0.2.54-py3-none-manylinux1_x86_64.whl (121.6 MB)\n",
            "\u001b[2K     \u001b[90m━━━━━━━━━━━━━━━━━━━━━━━━━━━━━━━━━━━━━━━━\u001b[0m \u001b[32m121.6/121.6 MB\u001b[0m \u001b[31m3.5 MB/s\u001b[0m eta \u001b[36m0:00:00\u001b[0m\n",
            "\u001b[?25hCollecting nvidia-curand-cu12==10.3.2.106 (from torch)\n",
            "  Downloading nvidia_curand_cu12-10.3.2.106-py3-none-manylinux1_x86_64.whl (56.5 MB)\n",
            "\u001b[2K     \u001b[90m━━━━━━━━━━━━━━━━━━━━━━━━━━━━━━━━━━━━━━━━\u001b[0m \u001b[32m56.5/56.5 MB\u001b[0m \u001b[31m4.9 MB/s\u001b[0m eta \u001b[36m0:00:00\u001b[0m\n",
            "\u001b[?25hCollecting nvidia-cusolver-cu12==11.4.5.107 (from torch)\n",
            "  Downloading nvidia_cusolver_cu12-11.4.5.107-py3-none-manylinux1_x86_64.whl (124.2 MB)\n",
            "\u001b[2K     \u001b[90m━━━━━━━━━━━━━━━━━━━━━━━━━━━━━━━━━━━━━━━━\u001b[0m \u001b[32m124.2/124.2 MB\u001b[0m \u001b[31m4.1 MB/s\u001b[0m eta \u001b[36m0:00:00\u001b[0m\n",
            "\u001b[?25hCollecting nvidia-cusparse-cu12==12.1.0.106 (from torch)\n",
            "  Downloading nvidia_cusparse_cu12-12.1.0.106-py3-none-manylinux1_x86_64.whl (196.0 MB)\n",
            "\u001b[2K     \u001b[90m━━━━━━━━━━━━━━━━━━━━━━━━━━━━━━━━━━━━━━━━\u001b[0m \u001b[32m196.0/196.0 MB\u001b[0m \u001b[31m3.2 MB/s\u001b[0m eta \u001b[36m0:00:00\u001b[0m\n",
            "\u001b[?25hCollecting nvidia-nccl-cu12==2.19.3 (from torch)\n",
            "  Downloading nvidia_nccl_cu12-2.19.3-py3-none-manylinux1_x86_64.whl (166.0 MB)\n",
            "\u001b[2K     \u001b[90m━━━━━━━━━━━━━━━━━━━━━━━━━━━━━━━━━━━━━━━━\u001b[0m \u001b[32m166.0/166.0 MB\u001b[0m \u001b[31m3.4 MB/s\u001b[0m eta \u001b[36m0:00:00\u001b[0m\n",
            "\u001b[?25hCollecting nvidia-nvtx-cu12==12.1.105 (from torch)\n",
            "  Downloading nvidia_nvtx_cu12-12.1.105-py3-none-manylinux1_x86_64.whl (99 kB)\n",
            "\u001b[2K     \u001b[90m━━━━━━━━━━━━━━━━━━━━━━━━━━━━━━━━━━━━━━━━\u001b[0m \u001b[32m99.1/99.1 kB\u001b[0m \u001b[31m6.1 MB/s\u001b[0m eta \u001b[36m0:00:00\u001b[0m\n",
            "\u001b[?25hRequirement already satisfied: triton==2.2.0 in /usr/local/lib/python3.10/dist-packages (from torch) (2.2.0)\n",
            "Collecting nvidia-nvjitlink-cu12 (from nvidia-cusolver-cu12==11.4.5.107->torch)\n",
            "  Downloading nvidia_nvjitlink_cu12-12.4.99-py3-none-manylinux2014_x86_64.whl (21.1 MB)\n",
            "\u001b[2K     \u001b[90m━━━━━━━━━━━━━━━━━━━━━━━━━━━━━━━━━━━━━━━━\u001b[0m \u001b[32m21.1/21.1 MB\u001b[0m \u001b[31m3.8 MB/s\u001b[0m eta \u001b[36m0:00:00\u001b[0m\n",
            "\u001b[?25hRequirement already satisfied: numpy>=1.18.5 in /usr/local/lib/python3.10/dist-packages (from gensim) (1.25.2)\n",
            "Requirement already satisfied: scipy>=1.7.0 in /usr/local/lib/python3.10/dist-packages (from gensim) (1.11.4)\n",
            "Requirement already satisfied: smart-open>=1.8.1 in /usr/local/lib/python3.10/dist-packages (from gensim) (6.4.0)\n",
            "Requirement already satisfied: MarkupSafe>=2.0 in /usr/local/lib/python3.10/dist-packages (from jinja2->torch) (2.1.5)\n",
            "Requirement already satisfied: mpmath>=0.19 in /usr/local/lib/python3.10/dist-packages (from sympy->torch) (1.3.0)\n",
            "Installing collected packages: nvidia-nvtx-cu12, nvidia-nvjitlink-cu12, nvidia-nccl-cu12, nvidia-curand-cu12, nvidia-cufft-cu12, nvidia-cuda-runtime-cu12, nvidia-cuda-nvrtc-cu12, nvidia-cuda-cupti-cu12, nvidia-cublas-cu12, nvidia-cusparse-cu12, nvidia-cudnn-cu12, nvidia-cusolver-cu12\n",
            "Successfully installed nvidia-cublas-cu12-12.1.3.1 nvidia-cuda-cupti-cu12-12.1.105 nvidia-cuda-nvrtc-cu12-12.1.105 nvidia-cuda-runtime-cu12-12.1.105 nvidia-cudnn-cu12-8.9.2.26 nvidia-cufft-cu12-11.0.2.54 nvidia-curand-cu12-10.3.2.106 nvidia-cusolver-cu12-11.4.5.107 nvidia-cusparse-cu12-12.1.0.106 nvidia-nccl-cu12-2.19.3 nvidia-nvjitlink-cu12-12.4.99 nvidia-nvtx-cu12-12.1.105\n"
          ]
        }
      ],
      "source": [
        "!pip install torch gensim"
      ]
    },
    {
      "cell_type": "code",
      "execution_count": 39,
      "metadata": {
        "id": "cRj3jJiHiXX9"
      },
      "outputs": [],
      "source": [
        "import torch\n",
        "import torch.nn as nn\n",
        "import torch.nn.functional as F"
      ]
    },
    {
      "cell_type": "markdown",
      "metadata": {
        "id": "3sTSzbaZiXX9"
      },
      "source": [
        "The we load the Word Embedding model we want to use. We can re-use the 50 dimensional GloVe emebddings from last time"
      ]
    },
    {
      "cell_type": "code",
      "execution_count": 40,
      "metadata": {
        "colab": {
          "base_uri": "https://localhost:8080/"
        },
        "id": "u9vQ38R2iXX-",
        "outputId": "c18be70a-9d30-4857-81b8-be829e7c2732"
      },
      "outputs": [
        {
          "output_type": "stream",
          "name": "stdout",
          "text": [
            "[==================================================] 100.0% 376.1/376.1MB downloaded\n"
          ]
        }
      ],
      "source": [
        "import gensim.downloader as api\n",
        "\n",
        "we_model = api.load(\"glove-wiki-gigaword-300\")"
      ]
    },
    {
      "cell_type": "markdown",
      "metadata": {
        "id": "9qRpSbRsiXX-"
      },
      "source": [
        "Before creating the LSTM we decide where to train our model, either cpu or gpu, depending on which is avaialble."
      ]
    },
    {
      "cell_type": "code",
      "execution_count": 41,
      "metadata": {
        "colab": {
          "base_uri": "https://localhost:8080/"
        },
        "id": "UoiMLI3tiXX_",
        "outputId": "458124d2-946f-4452-91a3-e4f454a543a9"
      },
      "outputs": [
        {
          "output_type": "stream",
          "name": "stdout",
          "text": [
            "cuda\n"
          ]
        }
      ],
      "source": [
        "device = torch.device('cuda' if torch.cuda.is_available() else 'cpu')\n",
        "print(device)"
      ]
    },
    {
      "cell_type": "markdown",
      "metadata": {
        "id": "OrNxMr9wiXX_"
      },
      "source": [
        "Now we can create our RNN module.\n",
        "Here are the available modules for PyTorch: https://pytorch.org/docs/stable/nn.html#recurrent-layers\n",
        "\n",
        "We define a custom LSTM using PyTorch API.\n",
        "In our model we stack one or more LSTM layers (we can make it variable) and we put a linear layer (a.k.a. dense layer or fully connected layer on top of it).\n",
        "\n",
        "When you define a neural network in PyTorch you need it to extend the `torch.nn.Module` class and implement the forward method (the one that computes the output)."
      ]
    },
    {
      "cell_type": "code",
      "execution_count": 42,
      "metadata": {
        "id": "C8NaNOKkiXYA"
      },
      "outputs": [],
      "source": [
        "class CustomLSTM(nn.Module):\n",
        "    def __init__(self, input_size, hidden_size, output_size, n_lstm=1):\n",
        "        super().__init__()\n",
        "        # List of LSTM layers\n",
        "        self.lstm = nn.ModuleList([\n",
        "            nn.LSTM(\n",
        "                input_size=input_size if i == 0 else hidden_size,\n",
        "                hidden_size=hidden_size,\n",
        "                batch_first=True,\n",
        "                bidirectional=True,\n",
        "                dropout=0.2\n",
        "            )\n",
        "            for i in range(n_lstm)\n",
        "        ])\n",
        "        # Lat linear projection\n",
        "        self.cls_head = nn.Linear(hidden_size, output_size)\n",
        "\n",
        "    def forward(self, x):\n",
        "        # Run though all the LSTM layers\n",
        "        for lstm_layer in self.lstm:\n",
        "            # Compute new hidden representation\n",
        "            x, _ = lstm_layer(x)\n",
        "            # Average the hidden output from the two directions of the LSTM\n",
        "            x = (x[..., :x.size(-1) // 2] + x[..., x.size(-1) // 2:]) / 2\n",
        "        # Apply last lineat projection\n",
        "        y = self.cls_head(x)\n",
        "\n",
        "        return y"
      ]
    },
    {
      "cell_type": "markdown",
      "metadata": {
        "id": "dr69h-8YiXYA"
      },
      "source": [
        "Let's create an instance of our LSTM"
      ]
    },
    {
      "cell_type": "code",
      "execution_count": 43,
      "metadata": {
        "colab": {
          "base_uri": "https://localhost:8080/"
        },
        "id": "RWxk3k3diXYB",
        "outputId": "c3c4cd22-a2a1-463a-e0c2-c2c665b53ce9"
      },
      "outputs": [
        {
          "output_type": "stream",
          "name": "stderr",
          "text": [
            "/usr/local/lib/python3.10/dist-packages/torch/nn/modules/rnn.py:83: UserWarning: dropout option adds dropout after all but last recurrent layer, so non-zero dropout expects num_layers greater than 1, but got dropout=0.2 and num_layers=1\n",
            "  warnings.warn(\"dropout option adds dropout after all but last \"\n"
          ]
        },
        {
          "output_type": "execute_result",
          "data": {
            "text/plain": [
              "CustomLSTM(\n",
              "  (lstm): ModuleList(\n",
              "    (0-2): 3 x LSTM(300, 300, batch_first=True, dropout=0.2, bidirectional=True)\n",
              "  )\n",
              "  (cls_head): Linear(in_features=300, out_features=9, bias=True)\n",
              ")"
            ]
          },
          "metadata": {},
          "execution_count": 43
        }
      ],
      "source": [
        "lstm = CustomLSTM(300, 300, len(ner_le.classes_), n_lstm=3)\n",
        "lstm"
      ]
    },
    {
      "cell_type": "markdown",
      "metadata": {
        "id": "GDwAGiz7iXYC"
      },
      "source": [
        "Now we can move the LSTM to the target device"
      ]
    },
    {
      "cell_type": "code",
      "execution_count": 44,
      "metadata": {
        "id": "3nHHLNjziXYD"
      },
      "outputs": [],
      "source": [
        "lstm = lstm.to(device)"
      ]
    },
    {
      "cell_type": "markdown",
      "metadata": {
        "id": "8Po0K62JiXYT"
      },
      "source": [
        "Once we have the model we need to create an optimizer that will take care of updating the weights. Here are the available optimizers: https://pytorch.org/docs/stable/optim.html.\n",
        "I'm going to use RMSProp.\n",
        "\n",
        "The optimizer needs to receive the parameters of the neural network and the selected learning rate"
      ]
    },
    {
      "cell_type": "code",
      "execution_count": 45,
      "metadata": {
        "id": "reAwDnUXiXYT"
      },
      "outputs": [],
      "source": [
        "lr = 0.0005\n",
        "optimizer = torch.optim.RMSprop(params=lstm.parameters(), lr=lr)"
      ]
    },
    {
      "cell_type": "markdown",
      "metadata": {
        "id": "Zop1D_CIiXYT"
      },
      "source": [
        "Now we need to prepare our data.\n",
        "Before doing so we prepare a function that maps a mini-batch of samples (i.e., a subset of the lists of dictionaries we prepared) to input tensors to use with our model. The function willl take care of:\n",
        "- Mapping all words to their embeddings with size $d$\n",
        "- Collect the emebddings of the same sentence into a matrix with shape $(n_\\textit{words in sentence}, d)$\n",
        "- Collect the different matrices of the same batch into a single tensor with shape $(n_\\textit{batch elements}, n_\\textit{words in longest sentence}, d)$ (this will be input).\n",
        "- Mapping all the labels to their IDs\n",
        "- Collecting all the IDs of the same sentence into a vector with size $n_\\textit{words in sentence}$\n",
        "- Collecting all the different vectors into a matrix with shape $(n_\\textit{batch elements}, n_\\textit{words in longest sentence})$ (this will be target output).\n",
        "\n",
        "Note that different sentences have different lengths, to cope with this issue we apply a process called padding: we are going to add to the input tensor and the target output matrix  dummy values to have all the same \"sentence length\"."
      ]
    },
    {
      "cell_type": "code",
      "execution_count": 46,
      "metadata": {
        "id": "CRWVhkbgiXYU"
      },
      "outputs": [],
      "source": [
        "import numpy as np\n",
        "\n",
        "def collate(mini_batch):\n",
        "    # Get the length of the longest sentence\n",
        "    longest_len = max(len(sample) for sample in mini_batch)\n",
        "    # Create an input tensor with all zero values\n",
        "    input_embeds = np.zeros((len(mini_batch), longest_len, 300))\n",
        "    # Create a target output matrix with all -100 (PyTorch ignores this value by default)\n",
        "    output_lbl = np.full((len(mini_batch), longest_len), -100)\n",
        "    # Fill the tensor and the matrix\n",
        "    for i, sample in enumerate(mini_batch):\n",
        "        for j, token in enumerate(sample):\n",
        "            # Manage missing tokens in vocabulary\n",
        "            if token['text'].lower() in we_model:\n",
        "                input_embeds[i,j] = we_model[token['text'].lower()]\n",
        "            output_lbl[i,j] = ner_le.transform([token['ner_tag']])[0]\n",
        "    # Convert to PyTorch tensor\n",
        "    input_embeds = torch.tensor(input_embeds, dtype=torch.float)\n",
        "    output_lbl = torch.tensor(output_lbl)\n",
        "\n",
        "    return input_embeds, output_lbl"
      ]
    },
    {
      "cell_type": "markdown",
      "metadata": {
        "id": "AQi_IRiNiXYU"
      },
      "source": [
        "How does an encoded batch looks like? Let's enode the first three sentences"
      ]
    },
    {
      "cell_type": "code",
      "execution_count": 47,
      "metadata": {
        "colab": {
          "base_uri": "https://localhost:8080/"
        },
        "id": "n-NZ1M7uiXYU",
        "outputId": "daa65c6b-47b7-480a-a3fe-8e3913af91e4"
      },
      "outputs": [
        {
          "output_type": "execute_result",
          "data": {
            "text/plain": [
              "[[{'text': 'EU', 'pos_tag': 'NNP', 'chunk_tag': 'B-NP', 'ner_tag': 'B-ORG'},\n",
              "  {'text': 'rejects', 'pos_tag': 'VBZ', 'chunk_tag': 'B-VP', 'ner_tag': 'O'},\n",
              "  {'text': 'German',\n",
              "   'pos_tag': 'JJ',\n",
              "   'chunk_tag': 'B-NP',\n",
              "   'ner_tag': 'B-MISC'},\n",
              "  {'text': 'call', 'pos_tag': 'NN', 'chunk_tag': 'I-NP', 'ner_tag': 'O'},\n",
              "  {'text': 'to', 'pos_tag': 'TO', 'chunk_tag': 'B-VP', 'ner_tag': 'O'},\n",
              "  {'text': 'boycott', 'pos_tag': 'VB', 'chunk_tag': 'I-VP', 'ner_tag': 'O'},\n",
              "  {'text': 'British',\n",
              "   'pos_tag': 'JJ',\n",
              "   'chunk_tag': 'B-NP',\n",
              "   'ner_tag': 'B-MISC'},\n",
              "  {'text': 'lamb', 'pos_tag': 'NN', 'chunk_tag': 'I-NP', 'ner_tag': 'O'},\n",
              "  {'text': '.', 'pos_tag': '.', 'chunk_tag': 'O', 'ner_tag': 'O'}],\n",
              " [{'text': 'Peter', 'pos_tag': 'NNP', 'chunk_tag': 'B-NP', 'ner_tag': 'B-PER'},\n",
              "  {'text': 'Blackburn',\n",
              "   'pos_tag': 'NNP',\n",
              "   'chunk_tag': 'I-NP',\n",
              "   'ner_tag': 'I-PER'}],\n",
              " [{'text': 'BRUSSELS',\n",
              "   'pos_tag': 'NNP',\n",
              "   'chunk_tag': 'B-NP',\n",
              "   'ner_tag': 'B-LOC'},\n",
              "  {'text': '1996-08-22',\n",
              "   'pos_tag': 'CD',\n",
              "   'chunk_tag': 'I-NP',\n",
              "   'ner_tag': 'O'}]]"
            ]
          },
          "metadata": {},
          "execution_count": 47
        }
      ],
      "source": [
        "train_data[:3]"
      ]
    },
    {
      "cell_type": "code",
      "execution_count": 48,
      "metadata": {
        "colab": {
          "base_uri": "https://localhost:8080/"
        },
        "id": "YNNWfNG2iXYV",
        "outputId": "4422d3f1-ec57-43e9-e1bb-daeee1afd398"
      },
      "outputs": [
        {
          "output_type": "stream",
          "name": "stdout",
          "text": [
            "The shape of the input is: torch.Size([3, 9, 300])\n",
            "The shape of the output is: torch.Size([3, 9])\n"
          ]
        }
      ],
      "source": [
        "embeds, lbl = collate(train_data[:3])\n",
        "\n",
        "print(f\"The shape of the input is: {embeds.size()}\") # 9 = lenght of the longest sequence\n",
        "print(f\"The shape of the output is: {lbl.size()}\")"
      ]
    },
    {
      "cell_type": "code",
      "execution_count": 49,
      "metadata": {
        "colab": {
          "base_uri": "https://localhost:8080/"
        },
        "id": "08r_bSgliXYV",
        "outputId": "e4865dc9-7fc4-4b6a-9005-c9f100fb8b62"
      },
      "outputs": [
        {
          "output_type": "execute_result",
          "data": {
            "text/plain": [
              "tensor([[[ 0.5473, -0.2364, -0.2143,  ..., -0.3137, -0.4393,  0.1852],\n",
              "         [ 0.4056, -0.0393, -0.2357,  ..., -0.2026,  0.1970,  0.4861],\n",
              "         [-0.1740,  0.2612, -0.5919,  ..., -0.1950,  0.2041,  0.3530],\n",
              "         ...,\n",
              "         [ 0.4436, -0.2418,  0.2366,  ...,  0.1857, -0.2956, -0.1999],\n",
              "         [ 0.1964, -0.2666,  0.1819,  ...,  0.1678,  0.0395,  0.4751],\n",
              "         [-0.1256,  0.0136,  0.1031,  ..., -0.3422, -0.0224,  0.1368]],\n",
              "\n",
              "        [[ 0.1093, -0.1402,  0.0930,  ...,  0.3865,  0.3444,  0.0214],\n",
              "         [-0.4132,  0.2175, -0.0505,  ..., -0.4873, -0.4033, -0.3469],\n",
              "         [ 0.0000,  0.0000,  0.0000,  ...,  0.0000,  0.0000,  0.0000],\n",
              "         ...,\n",
              "         [ 0.0000,  0.0000,  0.0000,  ...,  0.0000,  0.0000,  0.0000],\n",
              "         [ 0.0000,  0.0000,  0.0000,  ...,  0.0000,  0.0000,  0.0000],\n",
              "         [ 0.0000,  0.0000,  0.0000,  ...,  0.0000,  0.0000,  0.0000]],\n",
              "\n",
              "        [[ 0.4693, -0.0993,  0.0016,  ..., -0.4687, -0.7363,  0.1922],\n",
              "         [ 0.0000,  0.0000,  0.0000,  ...,  0.0000,  0.0000,  0.0000],\n",
              "         [ 0.0000,  0.0000,  0.0000,  ...,  0.0000,  0.0000,  0.0000],\n",
              "         ...,\n",
              "         [ 0.0000,  0.0000,  0.0000,  ...,  0.0000,  0.0000,  0.0000],\n",
              "         [ 0.0000,  0.0000,  0.0000,  ...,  0.0000,  0.0000,  0.0000],\n",
              "         [ 0.0000,  0.0000,  0.0000,  ...,  0.0000,  0.0000,  0.0000]]])"
            ]
          },
          "metadata": {},
          "execution_count": 49
        }
      ],
      "source": [
        "embeds"
      ]
    },
    {
      "cell_type": "code",
      "execution_count": 50,
      "metadata": {
        "colab": {
          "base_uri": "https://localhost:8080/"
        },
        "id": "WB4HwEu8iXYV",
        "outputId": "3095c11e-74af-4b7c-ba44-abfee12e0801"
      },
      "outputs": [
        {
          "output_type": "execute_result",
          "data": {
            "text/plain": [
              "tensor([[   2,    8,    1,    8,    8,    8,    1,    8,    8],\n",
              "        [   3,    7, -100, -100, -100, -100, -100, -100, -100],\n",
              "        [   0,    8, -100, -100, -100, -100, -100, -100, -100]])"
            ]
          },
          "metadata": {},
          "execution_count": 50
        }
      ],
      "source": [
        "lbl"
      ]
    },
    {
      "cell_type": "markdown",
      "metadata": {
        "id": "YkEfUm9hiXYW"
      },
      "source": [
        "Now we can finally wrap a DataLoader around our samples. PyTorch data loaders take care of generating batches on a given data set. We just need to set the batch size."
      ]
    },
    {
      "cell_type": "code",
      "execution_count": 51,
      "metadata": {
        "id": "9yV2kufoiXYW"
      },
      "outputs": [],
      "source": [
        "batch_size = 128\n",
        "\n",
        "train_loader = torch.utils.data.DataLoader(train_data, batch_size=batch_size, collate_fn=collate, shuffle=True)\n",
        "valid_loader = torch.utils.data.DataLoader(valid_data, batch_size=batch_size, collate_fn=collate)\n",
        "test_loader = torch.utils.data.DataLoader(test_data, batch_size=batch_size, collate_fn=collate)"
      ]
    },
    {
      "cell_type": "markdown",
      "metadata": {
        "id": "rSoUaBd8iXYX"
      },
      "source": [
        "We can train the lst iterating over the data set for a given number of epochs"
      ]
    },
    {
      "cell_type": "code",
      "execution_count": 52,
      "metadata": {
        "colab": {
          "base_uri": "https://localhost:8080/"
        },
        "id": "gyIS3kCHiXYX",
        "outputId": "5b0b2a60-a233-44b2-b5bb-bf4cef2cb7c7"
      },
      "outputs": [
        {
          "output_type": "stream",
          "name": "stdout",
          "text": [
            "Starting epoch 1/10\n"
          ]
        },
        {
          "output_type": "stream",
          "name": "stderr",
          "text": [
            "100%|██████████| 110/110 [00:16<00:00,  6.85it/s]\n"
          ]
        },
        {
          "output_type": "stream",
          "name": "stdout",
          "text": [
            "Starting epoch 2/10\n"
          ]
        },
        {
          "output_type": "stream",
          "name": "stderr",
          "text": [
            "100%|██████████| 110/110 [00:15<00:00,  6.91it/s]\n"
          ]
        },
        {
          "output_type": "stream",
          "name": "stdout",
          "text": [
            "Starting epoch 3/10\n"
          ]
        },
        {
          "output_type": "stream",
          "name": "stderr",
          "text": [
            "100%|██████████| 110/110 [00:16<00:00,  6.83it/s]\n"
          ]
        },
        {
          "output_type": "stream",
          "name": "stdout",
          "text": [
            "Starting epoch 4/10\n"
          ]
        },
        {
          "output_type": "stream",
          "name": "stderr",
          "text": [
            "100%|██████████| 110/110 [00:16<00:00,  6.83it/s]\n"
          ]
        },
        {
          "output_type": "stream",
          "name": "stdout",
          "text": [
            "Starting epoch 5/10\n"
          ]
        },
        {
          "output_type": "stream",
          "name": "stderr",
          "text": [
            "100%|██████████| 110/110 [00:16<00:00,  6.79it/s]\n"
          ]
        },
        {
          "output_type": "stream",
          "name": "stdout",
          "text": [
            "Starting epoch 6/10\n"
          ]
        },
        {
          "output_type": "stream",
          "name": "stderr",
          "text": [
            "100%|██████████| 110/110 [00:16<00:00,  6.74it/s]\n"
          ]
        },
        {
          "output_type": "stream",
          "name": "stdout",
          "text": [
            "Starting epoch 7/10\n"
          ]
        },
        {
          "output_type": "stream",
          "name": "stderr",
          "text": [
            "100%|██████████| 110/110 [00:15<00:00,  6.91it/s]\n"
          ]
        },
        {
          "output_type": "stream",
          "name": "stdout",
          "text": [
            "Starting epoch 8/10\n"
          ]
        },
        {
          "output_type": "stream",
          "name": "stderr",
          "text": [
            "100%|██████████| 110/110 [00:16<00:00,  6.80it/s]\n"
          ]
        },
        {
          "output_type": "stream",
          "name": "stdout",
          "text": [
            "Starting epoch 9/10\n"
          ]
        },
        {
          "output_type": "stream",
          "name": "stderr",
          "text": [
            "100%|██████████| 110/110 [00:16<00:00,  6.64it/s]\n"
          ]
        },
        {
          "output_type": "stream",
          "name": "stdout",
          "text": [
            "Starting epoch 10/10\n"
          ]
        },
        {
          "output_type": "stream",
          "name": "stderr",
          "text": [
            "100%|██████████| 110/110 [00:16<00:00,  6.57it/s]\n"
          ]
        }
      ],
      "source": [
        "# Import nice loading bar using tqdm\n",
        "from tqdm import tqdm\n",
        "\n",
        "# Set model in training mode\n",
        "lstm.train()\n",
        "\n",
        "# Accumulator of loss\n",
        "history = []\n",
        "\n",
        "n_epochs = 10\n",
        "\n",
        "# Iterate over epochs\n",
        "for i in range(n_epochs):\n",
        "    print(f\"Starting epoch {i + 1}/{n_epochs}\")\n",
        "    # Iterate over training batches\n",
        "    for embeds, lbl in tqdm(train_loader):\n",
        "        # Zero your gradients for every batch!\n",
        "        optimizer.zero_grad()\n",
        "        # Move input and output to target device\n",
        "        embeds = embeds.to(device)\n",
        "        lbl = lbl.to(device)\n",
        "        # Compute logits (i.e., softmax values before exponential normalisation)\n",
        "        logits = lstm(embeds)\n",
        "        # Flatten logits to a shape (batch_size * max_sentence_len, n_classes)\n",
        "        logits = logits.reshape(-1, len(ner_le.classes_))\n",
        "        # Flatten targets to a shape (batch_size * max_sentence_len)\n",
        "        lbl = lbl.reshape(-1)\n",
        "        # Compute loss\n",
        "        loss = F.cross_entropy(logits, lbl)\n",
        "        # Compute gradients\n",
        "        loss.backward()\n",
        "        # Update weights\n",
        "        optimizer.step()\n",
        "        # Save loss\n",
        "        history.append(loss.detach())\n",
        "\n",
        "history = [loss.cpu().item() for loss in history]"
      ]
    },
    {
      "cell_type": "markdown",
      "metadata": {
        "id": "SnKwQ8cuiXYY"
      },
      "source": [
        "Now we can plot the evolution of the loss at each update"
      ]
    },
    {
      "cell_type": "code",
      "execution_count": 53,
      "metadata": {
        "colab": {
          "base_uri": "https://localhost:8080/",
          "height": 466
        },
        "id": "3MEOdfljiXYY",
        "outputId": "8c01c343-db80-4444-9c1d-87009008d797"
      },
      "outputs": [
        {
          "output_type": "execute_result",
          "data": {
            "text/plain": [
              "Text(0, 0.5, 'Loss')"
            ]
          },
          "metadata": {},
          "execution_count": 53
        },
        {
          "output_type": "display_data",
          "data": {
            "text/plain": [
              "<Figure size 640x480 with 1 Axes>"
            ],
            "image/png": "[encoded data removed]"
          },
          "metadata": {}
        }
      ],
      "source": [
        "from matplotlib import pyplot as plt\n",
        "\n",
        "plt.figure()\n",
        "plt.plot(range(len(history)), history)\n",
        "plt.xlabel('Update step')\n",
        "plt.ylabel('Loss')"
      ]
    },
    {
      "cell_type": "markdown",
      "metadata": {
        "id": "SiD0AL6giXYZ"
      },
      "source": [
        "We can also test out model using the dedicated split. We iterate over the mini batches, colelct the prediction as the value with the highest logit value and we store these values until we go through the entire data set. Then we compute the classification report"
      ]
    },
    {
      "cell_type": "code",
      "execution_count": 54,
      "metadata": {
        "colab": {
          "base_uri": "https://localhost:8080/"
        },
        "id": "aXP1UGKyiXYa",
        "outputId": "63bc9230-9add-4a60-b2d1-6d8ee413f835"
      },
      "outputs": [
        {
          "output_type": "stream",
          "name": "stderr",
          "text": [
            "100%|██████████| 26/26 [00:04<00:00,  5.84it/s]"
          ]
        },
        {
          "output_type": "stream",
          "name": "stdout",
          "text": [
            "              precision    recall  f1-score   support\n",
            "\n",
            "       B-LOC       0.95      0.91      0.93      1837\n",
            "      B-MISC       0.89      0.80      0.84       922\n",
            "       B-ORG       0.82      0.86      0.84      1341\n",
            "       B-PER       0.93      0.97      0.95      1842\n",
            "       I-LOC       0.86      0.82      0.84       257\n",
            "      I-MISC       0.83      0.62      0.71       346\n",
            "       I-ORG       0.81      0.78      0.79       751\n",
            "       I-PER       0.97      0.96      0.96      1307\n",
            "           O       0.99      0.99      0.99     42759\n",
            "\n",
            "    accuracy                           0.97     51362\n",
            "   macro avg       0.89      0.86      0.87     51362\n",
            "weighted avg       0.97      0.97      0.97     51362\n",
            "\n"
          ]
        },
        {
          "output_type": "stream",
          "name": "stderr",
          "text": [
            "\n"
          ]
        }
      ],
      "source": [
        "from sklearn.metrics import classification_report\n",
        "\n",
        "# Set model in evaluation mode\n",
        "lstm.eval()\n",
        "\n",
        "# Accumulators for target labels and predictions\n",
        "y_true = []\n",
        "y_pred = []\n",
        "\n",
        "# Disable gradients\n",
        "with torch.no_grad():\n",
        "    # Iterate over validation batches\n",
        "    for embeds, lbl in tqdm(valid_loader):\n",
        "        # Move input and output to target device\n",
        "        embeds = embeds.to(device)\n",
        "        # Compute logits (i.e., softmax values before exponential normalisation)\n",
        "        logits = lstm(embeds)\n",
        "        # Get predictions as the index corresponding to the highest logit score\n",
        "        pred_lbl = torch.argmax(logits, dim=-1)\n",
        "        # Append predicted labels\n",
        "        y_pred.append(pred_lbl.reshape(-1).cpu().numpy())\n",
        "        # Append target labels\n",
        "        y_true.append(lbl.reshape(-1).numpy())\n",
        "\n",
        "# Concatenate all the vectors of target labels and predicted labels\n",
        "y_true = np.concatenate(y_true)\n",
        "y_pred = np.concatenate(y_pred)\n",
        "# Remove elements to ignore (the -100 labels)\n",
        "mask = y_true == -100\n",
        "y_true = y_true[~mask]\n",
        "y_pred = y_pred[~mask]\n",
        "\n",
        "# Finally compute classification report\n",
        "print(classification_report(y_true, y_pred, target_names=ner_le.classes_))"
      ]
    },
    {
      "cell_type": "markdown",
      "metadata": {
        "id": "QTjDNmFuiXYb"
      },
      "source": [
        "What do we see from these results?"
      ]
    },
    {
      "cell_type": "markdown",
      "metadata": {
        "id": "tY34HJRriXYb"
      },
      "source": [
        "We can play a bit with the model directly.\n",
        "\n",
        "Let's define a function to compute the predictions give a sentence. We will use the NLTK tokenizer to split the sentence into word tokens"
      ]
    },
    {
      "cell_type": "code",
      "execution_count": 55,
      "metadata": {
        "colab": {
          "base_uri": "https://localhost:8080/"
        },
        "id": "joXDUxJUiXYb",
        "outputId": "462c7d09-2bc2-4f2a-d977-2611b058f4b0"
      },
      "outputs": [
        {
          "output_type": "stream",
          "name": "stderr",
          "text": [
            "[nltk_data] Downloading package punkt to /root/nltk_data...\n",
            "[nltk_data]   Unzipping tokenizers/punkt.zip.\n"
          ]
        }
      ],
      "source": [
        "import nltk\n",
        "nltk.download('punkt')\n",
        "\n",
        "from nltk.tokenize import word_tokenize\n",
        "\n",
        "def predict(sample):\n",
        "    # Tokenize sample\n",
        "    tokenized_sample = word_tokenize(sample)\n",
        "    # Create an input tensor with all zero values\n",
        "    input_embeds = np.zeros((1, len(tokenized_sample), 300))\n",
        "    # Fill the tensor and the matrix\n",
        "    for i, token in enumerate(tokenized_sample):\n",
        "        # Manage missing tokens in vocabulary\n",
        "        if token.lower() in we_model:\n",
        "            input_embeds[0, i] = we_model[token.lower()]\n",
        "    # Convert to PyTorch tensor\n",
        "    input_embeds = torch.tensor(input_embeds, dtype=torch.float, device=device)\n",
        "    # Run model over input\n",
        "    logits = lstm(embeds)\n",
        "    # Get predictions as the index corresponding to the highest logit score\n",
        "    pred_lbl = torch.argmax(logits, dim=-1)\n",
        "    # Decode labels\n",
        "    pred_labels = ner_le.inverse_transform(pred_lbl.reshape(-1).cpu().numpy())\n",
        "    # Group together tokens and predicted NER labels\n",
        "    labelled_sample = [{'text': token, 'ner_tag': str(lbl)} for token, lbl in zip(tokenized_sample, pred_labels)]\n",
        "\n",
        "    return labelled_sample"
      ]
    },
    {
      "cell_type": "markdown",
      "metadata": {
        "id": "5Nd2fE8EiXYb"
      },
      "source": [
        "And now call it on a custom sample"
      ]
    },
    {
      "cell_type": "code",
      "execution_count": 56,
      "metadata": {
        "colab": {
          "base_uri": "https://localhost:8080/"
        },
        "id": "HHSJ6e0_iXYc",
        "outputId": "f29bde0a-c5b7-4c7b-8894-eff599a120a3"
      },
      "outputs": [
        {
          "output_type": "execute_result",
          "data": {
            "text/plain": [
              "[{'text': 'Hello', 'ner_tag': 'O'},\n",
              " {'text': ',', 'ner_tag': 'O'},\n",
              " {'text': 'my', 'ner_tag': 'O'},\n",
              " {'text': 'name', 'ner_tag': 'O'},\n",
              " {'text': 'is', 'ner_tag': 'O'},\n",
              " {'text': 'Vincenzo', 'ner_tag': 'B-LOC'},\n",
              " {'text': 'Scotti', 'ner_tag': 'O'},\n",
              " {'text': ',', 'ner_tag': 'O'},\n",
              " {'text': 'I', 'ner_tag': 'O'},\n",
              " {'text': 'am', 'ner_tag': 'O'},\n",
              " {'text': 'from', 'ner_tag': 'O'},\n",
              " {'text': 'Italy', 'ner_tag': 'O'},\n",
              " {'text': 'and', 'ner_tag': 'O'},\n",
              " {'text': 'I', 'ner_tag': 'O'},\n",
              " {'text': 'like', 'ner_tag': 'O'},\n",
              " {'text': 'pizza', 'ner_tag': 'O'},\n",
              " {'text': '.', 'ner_tag': 'O'}]"
            ]
          },
          "metadata": {},
          "execution_count": 56
        }
      ],
      "source": [
        "sample = \"Hello, my name is Vincenzo Scotti, I am from Italy and I like pizza.\"\n",
        "\n",
        "predict(sample)"
      ]
    },
    {
      "cell_type": "markdown",
      "metadata": {
        "id": "m3dJdQhwiXYc"
      },
      "source": [
        "Look how our custom model fails flawlessly"
      ]
    },
    {
      "cell_type": "markdown",
      "metadata": {
        "id": "WGPqOdtmiXYc"
      },
      "source": [
        "### Defining and training the RNN model for POS-tagging or Chunking\n",
        "\n",
        "You can do this at home to start getting familiar with PyTorch and RNNs"
      ]
    },
    {
      "cell_type": "code",
      "execution_count": null,
      "metadata": {
        "id": "6qGnci-yiXYd"
      },
      "outputs": [],
      "source": [
        "# TODO"
      ]
    },
    {
      "cell_type": "markdown",
      "metadata": {
        "id": "FsRuUF2QiXYd"
      },
      "source": [
        "## Text Classification with a Recurrent Neural Network\n",
        "\n",
        "In this last section of the notebook I will run through a quick example of using a Bidirectional LSTM (Long Short-term Memory) network for text classification.\n",
        "- RNNs extend embedding-based classification of text by taking word-order into account. They were, until relatively recently, the state-of-the-art when it came to training text classifiers.\n",
        "- Tensorflow is sophisticated toolkit for building Deep Neural Network models. We will use it to build the model. The tutorial follows mostly this Tensorflow tutorial: https://www.tensorflow.org/tutorials/text/text_classification_rnn\n",
        "    - Tensorflow is to deep learning learning what Java is to programming (joking...?)\n"
      ]
    },
    {
      "cell_type": "markdown",
      "metadata": {
        "id": "R7tVlUtciXYd"
      },
      "source": [
        "### Data preparation"
      ]
    },
    {
      "cell_type": "markdown",
      "metadata": {
        "id": "saKTeXTriXYe"
      },
      "source": [
        "First let's load the Twitter dataset we used in the second session:"
      ]
    },
    {
      "cell_type": "code",
      "execution_count": null,
      "metadata": {
        "id": "zGy4FdHmiXYe"
      },
      "outputs": [],
      "source": [
        "import nltk\n",
        "nltk.download('twitter_samples')\n",
        "\n",
        "from nltk.corpus import twitter_samples\n",
        "positive_tweets = twitter_samples.strings('positive_tweets.json')\n",
        "negative_tweets = twitter_samples.strings('negative_tweets.json')"
      ]
    },
    {
      "cell_type": "markdown",
      "metadata": {
        "id": "pTAIBW2liXYf"
      },
      "source": [
        "Remove emoticons from the positive and negative examples:"
      ]
    },
    {
      "cell_type": "code",
      "execution_count": null,
      "metadata": {
        "id": "gFEFht3LiXYf"
      },
      "outputs": [],
      "source": [
        "import re\n",
        "emoticon_regex = '(\\:\\w+\\:|\\<[\\/\\\\]?3|[\\(\\)\\\\\\D|\\*\\$][\\-\\^]?[\\:\\;\\=]|[\\:\\;\\=B8][\\-\\^]?[3DOPp\\@\\$\\*\\\\\\)\\(\\/\\|])(?=\\s|[\\!\\.\\?]|$)'\n",
        "positive_tweets_noemoticons = [re.sub(emoticon_regex,'',tweet) for tweet in positive_tweets]\n",
        "negative_tweets_noemoticons = [re.sub(emoticon_regex,'',tweet) for tweet in negative_tweets]"
      ]
    },
    {
      "cell_type": "markdown",
      "metadata": {
        "id": "Kwlqu16qiXYg"
      },
      "source": [
        "And create the examples and labels as we did before. This time we will use numeric labels (0,1) instead of text labels ('negative','positive'), since the deep learning library we will use requires numeric class labels."
      ]
    },
    {
      "cell_type": "code",
      "execution_count": null,
      "metadata": {
        "id": "T01m6n0XiXYg"
      },
      "outputs": [],
      "source": [
        "tweets_x = positive_tweets_noemoticons + negative_tweets_noemoticons\n",
        "tweets_y = [1]*len(positive_tweets) + [0]*len(negative_tweets)"
      ]
    },
    {
      "cell_type": "markdown",
      "metadata": {
        "id": "2Lc9Je1KiXYg"
      },
      "source": [
        "And again, split the data into training, validation and test:"
      ]
    },
    {
      "cell_type": "code",
      "execution_count": null,
      "metadata": {
        "id": "bLYFgrRriXYg"
      },
      "outputs": [],
      "source": [
        "from sklearn.model_selection import train_test_split\n",
        "temp_x, test_x, temp_y, test_y = train_test_split(tweets_x, tweets_y, test_size=0.2)\n",
        "train_x, valid_x, train_y, valid_y = train_test_split(temp_x, temp_y, test_size=0.2)"
      ]
    },
    {
      "cell_type": "markdown",
      "metadata": {
        "id": "PIOEIlUFiXYh"
      },
      "source": [
        "Now that we have the training and validation data prepared, we can import the Tensorflow library, and use it to load the training and validaton datasets into the tensorflow format. Note that:\n",
        "- Tensorflow comes installed on Google Colab.\n",
        "- If you run this notebook on your own machine you will need to first install tensorflow using '!pip install'"
      ]
    },
    {
      "cell_type": "code",
      "execution_count": null,
      "metadata": {
        "scrolled": true,
        "id": "WhQLZ4CRiXYh"
      },
      "outputs": [],
      "source": [
        "!pip install tensorflow"
      ]
    },
    {
      "cell_type": "code",
      "execution_count": null,
      "metadata": {
        "id": "deSJ4W4tiXYh"
      },
      "outputs": [],
      "source": [
        "import tensorflow as tf\n",
        "\n",
        "train_tf = tf.data.Dataset.from_tensor_slices((train_x, train_y))\n",
        "valid_tf = tf.data.Dataset.from_tensor_slices((valid_x, valid_y))"
      ]
    },
    {
      "cell_type": "markdown",
      "metadata": {
        "id": "A9SLdWqDiXYi"
      },
      "source": [
        "Training will run on *batches* of the data at a time, so we need to create them.\n",
        "- We first use the shuffle command to randomise the order of the training data. (The buffer-size limits the number of instances loaded into memory when shuffling and is only for efficiency -- you could remove it.)\n",
        "- We then create the batches. Each batch will contain 64 examples.\n",
        "- The validation data needs to have the same format as the training data, so we batch it too."
      ]
    },
    {
      "cell_type": "code",
      "execution_count": null,
      "metadata": {
        "id": "87QeJAhFiXYi"
      },
      "outputs": [],
      "source": [
        "train_dataset = train_tf.shuffle(buffer_size=10000).batch(batch_size=64).prefetch(tf.data.AUTOTUNE)\n",
        "valid_dataset = valid_tf.batch(batch_size=64).prefetch(tf.data.AUTOTUNE)"
      ]
    },
    {
      "cell_type": "markdown",
      "metadata": {
        "id": "SsFwguQviXYj"
      },
      "source": [
        "Let's have a look at the first batch in the training data. It consists of:\n",
        "- an array of strings (tweets)\n",
        "- an array of binary values (class labels)"
      ]
    },
    {
      "cell_type": "code",
      "execution_count": null,
      "metadata": {
        "id": "q4Yaf9iViXYj"
      },
      "outputs": [],
      "source": [
        "for batch in train_dataset.take(1):\n",
        "  print(batch)"
      ]
    },
    {
      "cell_type": "markdown",
      "metadata": {
        "id": "ZhnrvHgYiXYk"
      },
      "source": [
        "Now that we have the text data in the format required, we can vectorize it. We will need to make use a specific text vectorization module from tensorflow to do this.\n",
        "- We first limit the vocabulary of the vectorizer to 5000,\n",
        "- then extract only the text portion of the training dataset,\n",
        "- and finally fit the vectorizer to the text using the 'adapt' method:"
      ]
    },
    {
      "cell_type": "code",
      "execution_count": null,
      "metadata": {
        "id": "GwVsSUHoiXYk"
      },
      "outputs": [],
      "source": [
        "from tensorflow.keras.layers import TextVectorization\n",
        "vectorizer = TextVectorization(max_tokens=5000)\n",
        "train_text = train_dataset.map(lambda text, label: text)\n",
        "vectorizer.adapt(train_text)"
      ]
    },
    {
      "cell_type": "markdown",
      "metadata": {
        "id": "7hhkfcSFiXYl"
      },
      "source": [
        "Let's print out the first tokens form the vocabulary:"
      ]
    },
    {
      "cell_type": "code",
      "execution_count": null,
      "metadata": {
        "id": "Ww1c9XIriXYl"
      },
      "outputs": [],
      "source": [
        "vocab = vectorizer.get_vocabulary()\n",
        "vocab[:100]"
      ]
    },
    {
      "cell_type": "markdown",
      "metadata": {
        "id": "fGN2HvVLiXYm"
      },
      "source": [
        "Note that the first two tokens in the vocabulary are the empty token '', and the unknown token '[UNK]'. The latter is used to mask out-of-vocabulary tokens in the text\n",
        "\n",
        "We can now use the vectorizer to encode a tweet:"
      ]
    },
    {
      "cell_type": "code",
      "execution_count": null,
      "metadata": {
        "id": "zQT0JL4diXYn"
      },
      "outputs": [],
      "source": [
        "text = 'This is my first tweet! It contains one out-of-vocabulary term. Any suggestions for extending this tweet?'\n",
        "encoding = vectorizer([text]).numpy()[0]\n",
        "print('Tweet:     ', text)\n",
        "print('Encoded:   ', encoding)\n",
        "print('Recovered: ',' '.join([vocab[i] for i in encoding]))"
      ]
    },
    {
      "cell_type": "markdown",
      "metadata": {
        "id": "TWtR8_9_iXYn"
      },
      "source": [
        "Note that the vectorizer is not turning the text into a single vector, but is simply replacing the vocabulary words by their indices. If a word is not present in the dictionary it is replaced by the unknown token."
      ]
    },
    {
      "cell_type": "markdown",
      "metadata": {
        "id": "ooxOUCgniXYn"
      },
      "source": [
        "Let's have a look at some actual examples from the dataset, printing out the first 6 tweets:"
      ]
    },
    {
      "cell_type": "code",
      "execution_count": null,
      "metadata": {
        "id": "Valc7Zj0iXYo"
      },
      "outputs": [],
      "source": [
        "for text in batch[0][:6].numpy():\n",
        "    encoding = vectorizer([text]).numpy()[0]\n",
        "    print('Tweet:     ', text.decode(\"utf-8\"))\n",
        "    print('Encoded:   ', encoding)\n",
        "    print('Recovered: ',' '.join([vocab[i] for i in encoding]))\n",
        "    print()"
      ]
    },
    {
      "cell_type": "markdown",
      "metadata": {
        "id": "xQEjQm8BiXYp"
      },
      "source": [
        "### Defining the RNN model\n",
        "\n",
        "Now we can define the model, which contains four layers:\n",
        "- an input embedding layer which produces word embeddings of size 64\n",
        "- a bidirectional LSTM layer\n",
        "- 2 dense (aka fully connected) layers that maps the 2 embedding vectors (of size 64) produced by the bidirectional LSTM down to a single neuron   \n",
        "\n",
        "This constitutes a relatively standard basic RNN architecture. (The details of why these specific components are chosen is beyond the scope of this tutorial.)  \n",
        "\n",
        "Once the model has been defined it is compiled in the following step:"
      ]
    },
    {
      "cell_type": "code",
      "execution_count": null,
      "metadata": {
        "id": "m0P6FpWqiXYp"
      },
      "outputs": [],
      "source": [
        "model = tf.keras.Sequential([\n",
        "    vectorizer,\n",
        "    tf.keras.layers.Embedding(input_dim=len(vectorizer.get_vocabulary()), output_dim=64, mask_zero=True),\n",
        "    tf.keras.layers.Bidirectional(tf.keras.layers.LSTM(64)),\n",
        "    tf.keras.layers.Dense(64, activation='relu'),\n",
        "    tf.keras.layers.Dense(1)\n",
        "])\n",
        "model.compile(loss=tf.keras.losses.BinaryCrossentropy(from_logits=True), metrics=['accuracy'], optimizer=tf.keras.optimizers.Adam(1e-4))"
      ]
    },
    {
      "cell_type": "markdown",
      "metadata": {
        "id": "07iMKw2miXYq"
      },
      "source": [
        "Fit the model by running it for 10 epochs (iterations over the training data).\n",
        "- Note that we provide it with both the training dataset and the validation dataset:"
      ]
    },
    {
      "cell_type": "code",
      "execution_count": null,
      "metadata": {
        "id": "QXeL_sejiXYq"
      },
      "outputs": [],
      "source": [
        "model.fit(train_dataset, epochs=10, validation_data=valid_dataset, validation_steps=20)"
      ]
    },
    {
      "cell_type": "markdown",
      "metadata": {
        "id": "VDtLeZvsiXYr"
      },
      "source": [
        "Once we've trained the model we can check the final accuracy on the validation data:"
      ]
    },
    {
      "cell_type": "code",
      "execution_count": null,
      "metadata": {
        "id": "sJs7N3v_iXYr"
      },
      "outputs": [],
      "source": [
        "valid_loss, valid_acc = model.evaluate(valid_dataset)\n",
        "\n",
        "print('Validation Loss: {}'.format(valid_loss))\n",
        "print('Validation Accuracy: ',valid_acc)"
      ]
    },
    {
      "cell_type": "markdown",
      "metadata": {
        "id": "5Ea8mN2eiXYr"
      },
      "source": [
        "We can have a look at the predictions from the model:"
      ]
    },
    {
      "cell_type": "code",
      "execution_count": null,
      "metadata": {
        "id": "PyRcxnYsiXYs"
      },
      "outputs": [],
      "source": [
        "tweets = []\n",
        "tweets.append('I can\\'t believe how much fun I\\'m having learning to train a text classifier with a bidirectional LSTM!')\n",
        "tweets.append('I am really confused. I want my mommy.')\n",
        "tweets.append('The internet connection has been pretty annoying today!')\n",
        "tweets.append('They just played my favourite song on the radio.')\n",
        "tweets.append(\"I don't like going to the dentist.\")\n",
        "tweets.append('I am so happy today!')\n",
        "tweets.append('I am so unhappy today!')\n",
        "\n",
        "predictions = model.predict(tf.convert_to_tensor(tweets))\n",
        "\n",
        "for i in range(len(tweets)):\n",
        "  print('tweet: ',tweets[i])\n",
        "  encoding = vectorizer([tweets[i]]).numpy()[0]\n",
        "  print('encoded as: ',' '.join([vocab[j] for j in encoding]))\n",
        "  print('predicted value: ', predictions[i][0])\n",
        "  print('predicted label: ', 'negative' if (predictions[i]<0) else 'positive')\n",
        "  print()"
      ]
    },
    {
      "cell_type": "markdown",
      "metadata": {
        "id": "DxnlfCTTiXYs"
      },
      "source": [
        "And calculate the usual evaluation metrics:"
      ]
    },
    {
      "cell_type": "code",
      "execution_count": null,
      "metadata": {
        "collapsed": true,
        "jupyter": {
          "outputs_hidden": true
        },
        "id": "vJHQMV24iXYs"
      },
      "outputs": [],
      "source": [
        "pred_y = [0 if (pred < 0) else 1 for pred in model.predict(valid_x)]\n",
        "\n",
        "from sklearn.metrics import accuracy_score\n",
        "print('accuracy: '+ str(accuracy_score(pred_y, valid_y)))\n",
        "\n",
        "from sklearn.metrics import confusion_matrix, ConfusionMatrixDisplay\n",
        "cmd = ConfusionMatrixDisplay(confusion_matrix(valid_y, pred_y,normalize='true'), display_labels=['negative', 'positive'])\n",
        "cmd.plot()"
      ]
    },
    {
      "cell_type": "markdown",
      "metadata": {
        "id": "AniRWmR9iXYt"
      },
      "source": [
        "Finally, let's print out the model summary to get an understanding of the number of parameters in the model:"
      ]
    },
    {
      "cell_type": "code",
      "execution_count": null,
      "metadata": {
        "id": "MgCTCVhKiXYt"
      },
      "outputs": [],
      "source": [
        "print(model.summary())"
      ]
    },
    {
      "cell_type": "markdown",
      "metadata": {
        "id": "33QHZMnCiXYu"
      },
      "source": [
        "Most of the parameters are used to define the embeddiing, then the LSTMs."
      ]
    },
    {
      "cell_type": "code",
      "execution_count": null,
      "metadata": {
        "id": "lGKryzxFiXYu"
      },
      "outputs": [],
      "source": []
    },
    {
      "cell_type": "markdown",
      "metadata": {
        "id": "0OgRPEb6pdlv"
      },
      "source": [
        "## Installing spaCy and downloading models\n",
        "\n",
        "First we need to check whether the spaCy library is installed:"
      ]
    },
    {
      "cell_type": "code",
      "execution_count": null,
      "metadata": {
        "id": "3083U81cpdlv"
      },
      "outputs": [],
      "source": [
        "!pip install -U spacy"
      ]
    },
    {
      "cell_type": "markdown",
      "metadata": {
        "id": "CJ1xLIcHpdlw"
      },
      "source": [
        "Then we need to download pretrained models for use with spaCy. We will load models for both English and Italian:\n",
        "- The models are called 'en_core_web_sm' and 'it_core_news_sm', where the 'web'/'news' indicates what type of collection the model was trained on and the 'sm' at the end indicates that we are using the 'small' version of the models\n",
        "- Other models are available here: https://spacy.io/models\n",
        "- The following code calls the python executable instructing it to run the module 'spacy', which in turn download the models. See discussion here: https://stackoverflow.com/questions/46148033/unable-to-load-en-from-spacy-in-jupyter-notebook"
      ]
    },
    {
      "cell_type": "code",
      "execution_count": null,
      "metadata": {
        "id": "dyv-NpFbpdlw"
      },
      "outputs": [],
      "source": [
        "import sys\n",
        "!{sys.executable} -m spacy download en_core_web_sm\n",
        "!{sys.executable} -m spacy download it_core_news_sm;"
      ]
    },
    {
      "cell_type": "markdown",
      "metadata": {
        "id": "yYRlbtvspdlx"
      },
      "source": [
        "We are now ready to import spacy and load a model. Let's start with the English model:"
      ]
    },
    {
      "cell_type": "code",
      "execution_count": null,
      "metadata": {
        "id": "4KHrsza0pdlx"
      },
      "outputs": [],
      "source": [
        "import spacy\n",
        "import en_core_web_sm\n",
        "nlp_model = en_core_web_sm.load()"
      ]
    },
    {
      "cell_type": "markdown",
      "metadata": {
        "id": "jy4K8dRApdlx"
      },
      "source": [
        "Consider the following piece of text:"
      ]
    },
    {
      "cell_type": "code",
      "execution_count": null,
      "metadata": {
        "id": "3MGjLJU0pdlx"
      },
      "outputs": [],
      "source": [
        "text = 'Melbourne is to re-enter Stage 3 lockdown after a record increase in cases. Victorian state premier Daniel Andrews said there was “simply no alternative” to reimposing stay at home restrictions in Australia’s second-biggest city.'\n",
        "# text = \"Good evening, London. Allow me first to apologize for this interruption. I do, like many of you, appreciate the comforts of everyday routine, the security of the familiar, the tranquillity of repetition. I enjoy them as much as any bloke. But in the spirit of commemoration, whereby those important events of the past, usually associated with someone's death or the end of some awful bloody struggle, are celebrated with a nice holiday, I thought we could mark this November the fifth, a day that is sadly no longer remembered, by taking some time out of our daily lives to sit down and have a little chat.\"\n",
        "print(text)"
      ]
    },
    {
      "cell_type": "markdown",
      "metadata": {
        "id": "h_rCI0Hbpdly"
      },
      "source": [
        "Parse the text using the NLP engine:"
      ]
    },
    {
      "cell_type": "code",
      "execution_count": null,
      "metadata": {
        "id": "xmpvXvjapdly"
      },
      "outputs": [],
      "source": [
        "parsed_text = nlp_model(text)\n",
        "print(parsed_text)"
      ]
    },
    {
      "cell_type": "markdown",
      "metadata": {
        "id": "nnXyGOx0pdlz"
      },
      "source": [
        "Did it do something? It looks like it has just output the same text.\n",
        "- Actually, yes. It has parsed the input and built its internal datastructure from it.\n",
        "- Note that the length of the parsed object is in words, not characters:"
      ]
    },
    {
      "cell_type": "code",
      "execution_count": null,
      "metadata": {
        "id": "fbAOI2Mnpdlz"
      },
      "outputs": [],
      "source": [
        "print(f'The length of the original text is {len(text)} chacacters')\n",
        "print(f'The length of the parsed text is {len(parsed_text)} words')"
      ]
    },
    {
      "cell_type": "markdown",
      "metadata": {
        "id": "xImJ-i_Lpdlz"
      },
      "source": [
        "## Part-of-Speech Tagging\n",
        "\n",
        "While parsing the text, spaCy performs part-of-speech (POS) tagging.\n",
        "- We can see the POS tag for each token as follows:"
      ]
    },
    {
      "cell_type": "code",
      "execution_count": null,
      "metadata": {
        "id": "Ho4HEJTLpdlz"
      },
      "outputs": [],
      "source": [
        "[(w,w.pos_) for w in parsed_text]"
      ]
    },
    {
      "cell_type": "markdown",
      "metadata": {
        "id": "YFEzvleepdlz"
      },
      "source": [
        "Who remembers their grammar from high school? What do all those POS symbols mean?\n",
        "- You can find an explanation of the POS tags on this website https://spacy.io/api/annotation in the section \"Universal Part-of-speech Tags\"\n",
        "\n",
        "What can we do with POS tags?\n",
        "- Well, we could select all terms that have a certain tag, such as all adjectives:"
      ]
    },
    {
      "cell_type": "code",
      "execution_count": null,
      "metadata": {
        "id": "6Kcjc28lpdl0"
      },
      "outputs": [],
      "source": [
        "set(w for w in parsed_text if w.pos_=='ADJ')"
      ]
    },
    {
      "cell_type": "markdown",
      "metadata": {
        "id": "ftw5HEYEpdl0"
      },
      "source": [
        "That was a little underwhelming.\n",
        "- Let's try it on Alice in Wonderland chapter 1 text. (You'll need to upload it again to Google Colab)"
      ]
    },
    {
      "cell_type": "code",
      "execution_count": null,
      "metadata": {
        "id": "tGRt3HF8pdl0"
      },
      "outputs": [],
      "source": [
        "adjectives = sorted(set(w.text for w in nlp_model(open(\"docs/Alice_Chapter1.txt\", \"r\").read()) if w.pos_=='ADJ'))\n",
        "print(adjectives)"
      ]
    },
    {
      "cell_type": "markdown",
      "metadata": {
        "id": "Pct1jNdEpdl0"
      },
      "source": [
        "You can see how descriptive a writer Lewis Carroll was!\n",
        "\n",
        "This leads us to one explanation as to why we might want to extract POS tags from text:\n",
        "- They can sometimes be useful for **extracting features** (often handcrafted ones) for certain text classification tasks (such as authorship identification).\n",
        "- This is particularly the case if only a small amount of training data is available.  \n",
        "- For example, in this article (https://towardsdatascience.com/automatically-detect-covid-19-misinformation-f7ceca1dc1c7) hand-crafted features are extracted for classifying covid misinformation.\n",
        "\n",
        "Another reason why we might consider POS tagging is to **reduce ambiguity** in our bag-of-words representation by appending POS tags to word occurrences.\n",
        "- Consider the following two sentences:"
      ]
    },
    {
      "cell_type": "code",
      "execution_count": null,
      "metadata": {
        "id": "2iO992Q-pdl0"
      },
      "outputs": [],
      "source": [
        "ex1 = 'I catch the train to and from work.'       # This is Prof. Mark Carman speaking\n",
        "ex2 = 'I like to train at least 6 times a week.'  # This is Prof. Jacked Carman speaking\n",
        "\n",
        "print(ex1, '     <-- \\'train\\' is a', nlp_model(ex1)[3].pos_)\n",
        "print(ex2, '<-- \\'train\\' is a', nlp_model(ex2)[3].pos_)"
      ]
    },
    {
      "cell_type": "markdown",
      "metadata": {
        "id": "dHlqof06pdl1"
      },
      "source": [
        "The second sentence has nothing to do with trains, despite containing the word 'train'!\n",
        "- We could deal with this issue by appending the POS tag to the observed literal to form vocabulary elements: train_NOUN, train_VERB\n",
        "\n",
        "A final reason why we might think about running POS tagging would be to extract proper nouns from the text, since they refer to real entities that are being discussed in it:"
      ]
    },
    {
      "cell_type": "code",
      "execution_count": null,
      "metadata": {
        "id": "kW4TbHffpdl1"
      },
      "outputs": [],
      "source": [
        "[w.text for w in parsed_text if w.pos_=='PROPN']"
      ]
    },
    {
      "cell_type": "markdown",
      "metadata": {
        "id": "cDl1pPoSpdl1"
      },
      "source": [
        "Shortly though, we will talk about Entity-extraction, which is the task of identifying and categorising the entities discussed in the text."
      ]
    },
    {
      "cell_type": "markdown",
      "metadata": {
        "id": "NDh0iS65pdl1"
      },
      "source": [
        "## Lemmatization\n",
        "\n",
        "While parsing, spaCy also performs lemmatization.\n",
        "- Lemmatization is the process of extracting the 'lemma' for each token, which is the canonical form of the word that would be found in the dictionary, (see https://en.wikipedia.org/wiki/Lemma_(morphology))\n",
        "- Basically, verbs converted to their root form, e.g.: **went, going, goes, gone => go**\n",
        "- And nouns are retuned to singular form: **kittens => kitten**\n",
        "- Lemmatization is a more complicated POS-aware process than stemming (https://en.wikipedia.org/wiki/Stemming). Stemmers simply apply a set of language-specific syntax rules to recover the stem of the word"
      ]
    },
    {
      "cell_type": "code",
      "execution_count": null,
      "metadata": {
        "id": "EevBrQRbpdl1"
      },
      "outputs": [],
      "source": [
        "[(x, x.lemma_) for x in parsed_text]"
      ]
    },
    {
      "cell_type": "markdown",
      "metadata": {
        "id": "IEIoq1RFpdl1"
      },
      "source": [
        "Why would one want to perfom lemmatization? -- Or stemming for that matter?\n",
        "- to **reduce the vocabulary size** and thereby generalise the representation. -- This used to be very important for improving performance of search engine performance (better similarity measures between documents) and also classifiers on small datasets, (before word embeddings came along).\n",
        "- to **look-up information** about the word in a dictionary/ontology, such as WordNet (https://en.wikipedia.org/wiki/WordNet). This used to be an important way to compute semantic similarity between words, but again, word embeddngs probably do a better job."
      ]
    },
    {
      "cell_type": "markdown",
      "metadata": {
        "id": "4vBQ7f0tpdl2"
      },
      "source": [
        "## Dependency Parsing\n",
        "\n",
        "Tradititonally in Natural Language Processing, text is processed in a pipeline that first tokenizes, then POS tags, lemmatizes and finaly dependency parses a piece of text.\n",
        "- The idea with dependency parsing is to determine what function each of the word instances is fulfilling in the sentence.\n",
        "- What is the subject and object of the sentence?\n",
        "- Which noun is each adjective referring to?\n",
        "\n",
        "So while parsing the text, the spaCy model also generates a **dependency parse tree**, which can be displayed using 'displacy':"
      ]
    },
    {
      "cell_type": "code",
      "execution_count": null,
      "metadata": {
        "id": "Dbz57hc5pdl2"
      },
      "outputs": [],
      "source": [
        "from spacy import displacy\n",
        "displacy.render(parsed_text, jupyter=True, style='dep')"
      ]
    },
    {
      "cell_type": "markdown",
      "metadata": {
        "id": "quwWOjbOpdl3"
      },
      "source": [
        "Such dependency trees are interesting for understanding and visualising language (particularly for linguists) and could possibly be used for some downstream tasks (say checking ambiguity in legal documents).  \n",
        "\n",
        "Consider the sentences:\n",
        "- *The girl saw a man carrying a telescope.*\n",
        "- *The girl saw a man with a telescope.*\n",
        "\n",
        "Who had the telescope?"
      ]
    },
    {
      "cell_type": "code",
      "execution_count": null,
      "metadata": {
        "id": "_AxJLNswpdl3"
      },
      "outputs": [],
      "source": [
        "displacy.render(nlp_model('The girl saw a man carrying a telescope.'),jupyter=True,style='dep')"
      ]
    },
    {
      "cell_type": "code",
      "execution_count": null,
      "metadata": {
        "id": "7abgGOdwpdl3"
      },
      "outputs": [],
      "source": [
        "displacy.render(nlp_model('The girl saw a man with a telescope.'),jupyter=True,style='dep')"
      ]
    },
    {
      "cell_type": "markdown",
      "metadata": {
        "id": "_fIZq6zIhPbk"
      },
      "source": [
        "The second sentence is ambiguous: The girl may have made use of her telescope or the man may have been using the girl's telescope...\n",
        "- Language is full of such ambiguities which we as humans naturally deal with using our prior knowledge and abilty to construct mental models of the situations described.\n",
        "- This process is not without its biases:\n",
        "  - *The doctor went over to talk to the nurse. She told him that she had just given the patient 5mg of Vicodin and the child had started convulsing. He listened attentively as she explained what had happened. The doctor was worried that the patient should not be given any more painkillers. The nurse told the doctor not to worry, that the patient was in good hands, and that he would let her know immediately if the child's condition changed.*\n",
        "  - What gender are the doctor and the nurse?"
      ]
    },
    {
      "cell_type": "markdown",
      "metadata": {
        "id": "4uE1efbqpdl3"
      },
      "source": [
        "## Extracting Entities\n",
        "\n",
        "A more important output than the depency parse, from a text mining perspective, is the list of named-entities present in the text\n",
        "- **named entities** are objects in the real world, e.g. persons, products, organizations, locations, etc.\n",
        "  - see https://en.wikipedia.org/wiki/Named_entity\n",
        "- if spacy has found any named entities while parsing the text, we can access them as follows:"
      ]
    },
    {
      "cell_type": "code",
      "execution_count": null,
      "metadata": {
        "id": "irYwH5WVpdl3"
      },
      "outputs": [],
      "source": [
        "parsed_text.ents"
      ]
    },
    {
      "cell_type": "markdown",
      "metadata": {
        "id": "rv6krbXmpdl3"
      },
      "source": [
        "Note that the entities are not single word tokens but short sequences of words: 'Stage 3' and 'Daniel Andrews'.\n",
        "\n",
        "Not only does spacy extract the entities, but also categorises them based on their type:"
      ]
    },
    {
      "cell_type": "code",
      "execution_count": null,
      "metadata": {
        "id": "EXA2FRzXpdl4"
      },
      "outputs": [],
      "source": [
        "print([(ent.text, ent.label_) for ent in parsed_text.ents])"
      ]
    },
    {
      "cell_type": "markdown",
      "metadata": {
        "id": "fyp09Uelpdl4"
      },
      "source": [
        "The city and country locations have been labeled 'GPE' for 'geopolitical entity', while the Premier of Victoria has been correctly identified as a person.\n",
        "- Here is the list of all entity types that spaCy looks for: https://spacy.io/api/annotation#section-named-entities\n",
        "\n",
        "Internally, the output of the Named Entity Recogniser is a sequence annotated with entities using inside-outside-beginning encoding:\n",
        "- see https://en.wikipedia.org/wiki/Inside%E2%80%93outside%E2%80%93beginning_(tagging)\n",
        "- We can print out this labeling as follows:"
      ]
    },
    {
      "cell_type": "code",
      "execution_count": null,
      "metadata": {
        "id": "-E1H-RM6pdl4"
      },
      "outputs": [],
      "source": [
        "[(X, X.ent_iob_, X.ent_type_) for X in parsed_text]"
      ]
    },
    {
      "cell_type": "markdown",
      "metadata": {
        "id": "10tU8n44pdl4"
      },
      "source": [
        "The above format is a bit hard to read though, so spaCy also provides a far more natural visualisation of the tags:"
      ]
    },
    {
      "cell_type": "code",
      "execution_count": null,
      "metadata": {
        "id": "9PmUl2y5pdl4"
      },
      "outputs": [],
      "source": [
        "displacy.render(parsed_text, jupyter=True, style='ent')"
      ]
    },
    {
      "cell_type": "markdown",
      "metadata": {
        "id": "VS1PK7ifpdl5"
      },
      "source": [
        "## Extracting entities from a web document\n",
        "\n",
        "Now that we know how to perform entity recognition on text, let's apply it to a full document"
      ]
    },
    {
      "cell_type": "code",
      "execution_count": null,
      "metadata": {
        "id": "8pY-nN0Zpdl5"
      },
      "outputs": [],
      "source": [
        "url = 'https://www.bbc.com/news/world-latin-america-53319517'\n",
        "#url = 'https://en.wikipedia.org/wiki/Apple_(disambiguation)'\n",
        "\n",
        "import requests\n",
        "html_doc = requests.get(url).text\n",
        "\n",
        "from bs4 import BeautifulSoup\n",
        "parsed_doc = BeautifulSoup(html_doc, 'lxml')"
      ]
    },
    {
      "cell_type": "markdown",
      "metadata": {
        "id": "LRe5AUvCpdl5"
      },
      "source": [
        "Now lets extract the title and paragraph text:"
      ]
    },
    {
      "cell_type": "code",
      "execution_count": null,
      "metadata": {
        "id": "e5YGoQISpdl5"
      },
      "outputs": [],
      "source": [
        "title = parsed_doc.find('title').text\n",
        "paragraphs = [p.text for p in parsed_doc.find_all('p')]\n",
        "\n",
        "# Combine the title and paragraphs into a single text:\n",
        "article_text = title + '\\n\\n' + '\\n'.join(paragraphs)\n",
        "print(article_text)\n",
        "\n",
        "#article_text = parsed_doc.get_text()\n",
        "#print(article_text)"
      ]
    },
    {
      "cell_type": "markdown",
      "metadata": {
        "id": "y_dqist0pdl5"
      },
      "source": [
        "Parse the article to identify the entities and display them:"
      ]
    },
    {
      "cell_type": "code",
      "execution_count": null,
      "metadata": {
        "id": "RMTsfAhYpdl6"
      },
      "outputs": [],
      "source": [
        "parsed_article = nlp_model(article_text)\n",
        "displacy.render(parsed_article,jupyter=True,style='ent')"
      ]
    },
    {
      "cell_type": "markdown",
      "metadata": {
        "id": "6I8_zJQrpdl6"
      },
      "source": [
        "What do you think? Did it work?\n",
        "\n",
        "Let's have a bit of a better look at the entities found\n",
        "- List all the distinct entities found in the article, sorted alphabetically:"
      ]
    },
    {
      "cell_type": "code",
      "execution_count": null,
      "metadata": {
        "id": "SakcaXuypdl6"
      },
      "outputs": [],
      "source": [
        "sorted(set(x.text for x in parsed_article.ents))"
      ]
    },
    {
      "cell_type": "markdown",
      "metadata": {
        "id": "jyGeLXs8pdl6"
      },
      "source": [
        "We can count the number of times each **entity type** occurs:"
      ]
    },
    {
      "cell_type": "code",
      "execution_count": null,
      "metadata": {
        "id": "mcmsbiUkpdl6"
      },
      "outputs": [],
      "source": [
        "from collections import Counter\n",
        "\n",
        "labels = [x.label_ for x in parsed_article.ents]\n",
        "Counter(labels)"
      ]
    },
    {
      "cell_type": "markdown",
      "metadata": {
        "id": "Tb3g9y5Kpdl6"
      },
      "source": [
        "We can also count the number of times each **entity name** occurs"
      ]
    },
    {
      "cell_type": "code",
      "execution_count": null,
      "metadata": {
        "id": "JPdOsoiApdl6"
      },
      "outputs": [],
      "source": [
        "items = [x.text for x in parsed_article.ents]\n",
        "Counter(items).most_common()"
      ]
    },
    {
      "cell_type": "markdown",
      "metadata": {
        "id": "vEV2BJCTpdl7"
      },
      "source": [
        "Note that some of the phrases refer to the same entity, e.g. 'Mr Bolsonaro' and just 'Bolsonaro'.\n",
        "- Entity Linking and Reference Resolution are the NLP problems that deal with resolving the different references to the same entity in the text.\n",
        "\n",
        "If we were only interested in what was being said about Bolsonaro,\n",
        "- we could select only sentences refering to him:"
      ]
    },
    {
      "cell_type": "code",
      "execution_count": null,
      "metadata": {
        "id": "oNXjt46Jpdl7"
      },
      "outputs": [],
      "source": [
        "sentences_containing_Bolsonaro = [x for x in parsed_article.sents if 'Bolsonaro' in x.text]\n",
        "displacy.render(sentences_containing_Bolsonaro,jupyter=True,style='ent')"
      ]
    },
    {
      "cell_type": "markdown",
      "metadata": {
        "id": "XkJvASO9pdl7"
      },
      "source": [
        "## Named Entity Extraction in Italian\n",
        "\n",
        "But wait, SpaCy can speak Italian too!\n",
        "- Let's make use of the pretrained italian model that we downloaded earlier: https://spacy.io/models/it\n",
        "- to recognise entities in an article from 'Il Corriere'\n",
        "\n",
        "First download the article:"
      ]
    },
    {
      "cell_type": "code",
      "execution_count": null,
      "metadata": {
        "id": "BCTkJTsopdl7"
      },
      "outputs": [],
      "source": [
        "url = 'https://www.ansa.it/sito/notizie/mondo/2020/07/07/bolsonaro-ha-i-sintomi-del-coronavirus_40d26967-e377-4455-9b42-83c2756cf5f1.html'\n",
        "html_doc = requests.get(url).text\n",
        "parsed_doc = BeautifulSoup(html_doc, 'lxml')"
      ]
    },
    {
      "cell_type": "markdown",
      "metadata": {
        "id": "rrnqQcMOpdl7"
      },
      "source": [
        "Now let's extract the title and paragraph text:"
      ]
    },
    {
      "cell_type": "code",
      "execution_count": null,
      "metadata": {
        "id": "OIyIysghpdl7"
      },
      "outputs": [],
      "source": [
        "title = parsed_doc.find('title').text\n",
        "paragraphs = [p.text for p in parsed_doc.find_all('p')]\n",
        "\n",
        "# Combine the title and paragraphs into a single text:\n",
        "article_text = title + '\\n\\n' + '\\n'.join(paragraphs)\n",
        "print(article_text)"
      ]
    },
    {
      "cell_type": "markdown",
      "metadata": {
        "id": "eluDQCqxpdl7"
      },
      "source": [
        "Now we'll parse the text of the article with an Italian NLP engine to extract Named Entities.\n",
        "- First load the italian model 'it_core_news_sm' that we downloaded earlier"
      ]
    },
    {
      "cell_type": "code",
      "execution_count": null,
      "metadata": {
        "id": "Qj0IIHlVpdl7"
      },
      "outputs": [],
      "source": [
        "import it_core_news_sm\n",
        "nlp_it = it_core_news_sm.load()"
      ]
    },
    {
      "cell_type": "markdown",
      "metadata": {
        "id": "BcWwDGlypdl8"
      },
      "source": [
        "Parse article and extract the entities:"
      ]
    },
    {
      "cell_type": "code",
      "execution_count": null,
      "metadata": {
        "id": "1X-Kuw6lpdl8"
      },
      "outputs": [],
      "source": [
        "parsed_article = nlp_it(article_text)\n",
        "displacy.render(parsed_article, jupyter=True, style='ent')"
      ]
    },
    {
      "cell_type": "markdown",
      "metadata": {
        "id": "08h69wcxpdl8"
      },
      "source": [
        "That looks not great.\n",
        "- Here are the entities found in the news article:"
      ]
    },
    {
      "cell_type": "code",
      "execution_count": null,
      "metadata": {
        "id": "UKefi_fspdl8"
      },
      "outputs": [],
      "source": [
        "sorted(set(x.text for x in parsed_article.ents))"
      ]
    },
    {
      "cell_type": "markdown",
      "metadata": {
        "id": "8GNZaLqN4Dx-"
      },
      "source": [
        "Alterantively you can use Stanza (https://stanfordnlp.github.io/stanza/). It's very similar to spaCy:\n",
        "- Python package\n",
        "- Supports multiple languages\n",
        "- Uses deep neural network modules\n",
        "\n",
        "Let's start installing the library"
      ]
    },
    {
      "cell_type": "code",
      "execution_count": null,
      "metadata": {
        "id": "a6JmKZ3xLPwI"
      },
      "outputs": [],
      "source": [
        "import locale\n",
        "\n",
        "def get_pref_encoding(*args, **kwargs):\n",
        "    return \"UTF-8\"\n",
        "\n",
        "\n",
        "locale.getpreferredencoding = get_pref_encoding\n",
        "!pip install stanza"
      ]
    },
    {
      "cell_type": "markdown",
      "metadata": {
        "id": "NazOsrqKLgtW"
      },
      "source": [
        "Now we can import Stanza and create a pipeline for Italian"
      ]
    },
    {
      "cell_type": "code",
      "execution_count": null,
      "metadata": {
        "id": "X2vbIhiQLfhH"
      },
      "outputs": [],
      "source": [
        "import stanza\n",
        "\n",
        "stanza_nlp_model = stanza.Pipeline(lang='it', processors='tokenize,ner')"
      ]
    },
    {
      "cell_type": "markdown",
      "metadata": {
        "id": "aN8vExE_MWGK"
      },
      "source": [
        "As before we need to parse the document"
      ]
    },
    {
      "cell_type": "code",
      "execution_count": null,
      "metadata": {
        "id": "OHqxZTBALfm7"
      },
      "outputs": [],
      "source": [
        "stanza_parsed_article = stanza_nlp_model(article_text)"
      ]
    },
    {
      "cell_type": "markdown",
      "metadata": {
        "id": "XHx67HKdMtNi"
      },
      "source": [
        "Given a document, Stanza breaks it into sentences and then tokens.\n",
        "For each token adds the tags using the sleected processors (here we are using only the NER processors).\n",
        "\n",
        "Let's give a look at the identified entities:"
      ]
    },
    {
      "cell_type": "code",
      "execution_count": null,
      "metadata": {
        "id": "Cw98dV1yLfsu"
      },
      "outputs": [],
      "source": [
        "for sentence in stanza_parsed_article.sentences:\n",
        "    for entity in sentence.ents:  # Hello, Treebeard!\n",
        "        print(f\"{entity.text}: {entity.type}\")"
      ]
    },
    {
      "cell_type": "markdown",
      "metadata": {
        "id": "9LDtG1YcN__S"
      },
      "source": [
        "That's a bit better than before, don't you think?"
      ]
    },
    {
      "cell_type": "markdown",
      "metadata": {
        "id": "pzFM8cAUpdl8"
      },
      "source": [
        "## Fine-tuning your own NER Model\n",
        "\n",
        "What if you want to update the Named Entity Extraction model yourself in order to customize it to your set of entities? We'll have a look at that now based on:\n",
        "- this instructions page: https://spacy.io/usage/training#ner\n",
        "- and this blog post: https://towardsdatascience.com/custom-named-entity-recognition-using-spacy-7140ebbb3718\n",
        "\n",
        "In order to fine-tune the model, we need to prepare data in the following format:\n",
        "- a piece of text,\n",
        "- plus a list of entity types that occur it along with their positions."
      ]
    },
    {
      "cell_type": "code",
      "execution_count": null,
      "metadata": {
        "id": "d8aaj2uepdl8"
      },
      "outputs": [],
      "source": [
        "my_data = [\n",
        "    (\"Have you heard of an associate professor from the Politecnico di Milano called Mark Carman?\", {\"entities\": [(50, 71, \"ORG\"),(79, 90, \"PERSON\")]}),\n",
        "    (\"No, I haven't, but I don't know many people at the Politecnico. What does he work on?\", {\"entities\": [(51, 62, \"ORG\")]}),\n",
        "    (\"Mainly machine learning and text mining. I met him a couple of years ago at SIGIR in Tokyo.\", {\"entities\": [(76, 81, \"EVENT\"),(85, 90, \"GPE\")]}),\n",
        "]\n",
        "my_data"
      ]
    },
    {
      "cell_type": "markdown",
      "metadata": {
        "id": "bnVIriSEpdl9"
      },
      "source": [
        "Where would this data come from?\n",
        "- either created manually, perhaps by searching for known individuals in a text collection,\n",
        "- or by using an annotation tool such as https://doccano.herokuapp.com/, see for example: https://medium.com/@justindavies/training-spacy-ner-models-with-doccano-8d8203e29bfa\n"
      ]
    },
    {
      "cell_type": "markdown",
      "metadata": {
        "id": "1s9T3Whe5lZJ"
      },
      "source": [
        "The following code comes from here: https://github.com/explosion/spaCy/blob/master/examples/training/train_ner.py\n",
        "- The only change made was to remove the training data\n",
        "\n",
        "Before starting we need to install the plac package"
      ]
    },
    {
      "cell_type": "code",
      "execution_count": null,
      "metadata": {
        "id": "P057B5jUQjqM"
      },
      "outputs": [],
      "source": [
        "!pip install plac"
      ]
    },
    {
      "cell_type": "markdown",
      "metadata": {
        "id": "2-oMt4jRQj2k"
      },
      "source": [
        "Now we define function with the training loop:"
      ]
    },
    {
      "cell_type": "code",
      "execution_count": null,
      "metadata": {
        "id": "jVjhWJ1Zpdl9"
      },
      "outputs": [],
      "source": [
        "from __future__ import unicode_literals, print_function\n",
        "\n",
        "import plac\n",
        "import random\n",
        "import warnings\n",
        "from pathlib import Path\n",
        "import spacy\n",
        "from spacy.util import minibatch, compounding\n",
        "from spacy.training.example import Example\n",
        "\n",
        "\n",
        "@plac.annotations(\n",
        "    model=(\"Model name. Defaults to blank 'en' model.\", \"option\", \"m\", str),\n",
        "    output_dir=(\"Optional output directory\", \"option\", \"o\", Path),\n",
        "    n_iter=(\"Number of training iterations\", \"option\", \"n\", int),\n",
        ")\n",
        "def main(model=None, output_dir=None, n_iter=100):\n",
        "    \"\"\"Load the model, set up the pipeline and train the entity recognizer.\"\"\"\n",
        "    if model is not None:\n",
        "        nlp = spacy.load(model)  # load existing spaCy model\n",
        "        print(\"Loaded model '%s'\" % model)\n",
        "    else:\n",
        "        nlp = spacy.blank(\"en\")  # create blank Language class\n",
        "        print(\"Created blank 'en' model\")\n",
        "\n",
        "    # create the built-in pipeline components and add them to the pipeline\n",
        "    # nlp.create_pipe works for built-ins that are registered with spaCy\n",
        "    if \"ner\" not in nlp.pipe_names:\n",
        "        ner = nlp.create_pipe(\"ner\")\n",
        "        nlp.add_pipe(ner, last=True)\n",
        "    # otherwise, get it so we can add labels\n",
        "    else:\n",
        "        ner = nlp.get_pipe(\"ner\")\n",
        "\n",
        "    # add labels\n",
        "    for _, annotations in TRAIN_DATA:\n",
        "        for ent in annotations.get(\"entities\"):\n",
        "            ner.add_label(ent[2])\n",
        "\n",
        "    # get names of other pipes to disable them during training\n",
        "    pipe_exceptions = [\"ner\", \"trf_wordpiecer\", \"trf_tok2vec\"]\n",
        "    other_pipes = [pipe for pipe in nlp.pipe_names if pipe not in pipe_exceptions]\n",
        "    # only train NER\n",
        "    with nlp.disable_pipes(*other_pipes), warnings.catch_warnings():\n",
        "        # show warnings for misaligned entity spans once\n",
        "        warnings.filterwarnings(\"once\", category=UserWarning, module='spacy')\n",
        "\n",
        "        # reset and initialize the weights randomly – but only if we're\n",
        "        # training a new model\n",
        "        if model is None:\n",
        "            nlp.begin_training()\n",
        "        for itn in range(n_iter):\n",
        "            random.shuffle(TRAIN_DATA)\n",
        "            losses = {}\n",
        "            # batch up the examples using spaCy's minibatch\n",
        "            batches = minibatch(TRAIN_DATA, size=compounding(4.0, 32.0, 1.001))\n",
        "            for batch in batches:\n",
        "                # Create example\n",
        "                examples = [\n",
        "                    Example.from_dict(nlp.make_doc(text), annotation)\n",
        "                    for text, annotation in batch\n",
        "                ]\n",
        "                # Update the model\n",
        "                nlp.update(\n",
        "                    examples,   # batch of texts and annotations\n",
        "                    drop=0.5,  # dropout - make it harder to memorise data\n",
        "                    losses=losses,\n",
        "                )\n",
        "            print(\"Losses\", losses)\n",
        "\n",
        "    # test the trained model\n",
        "    for text, _ in TRAIN_DATA:\n",
        "        doc = nlp(text)\n",
        "        print(\"Entities\", [(ent.text, ent.label_) for ent in doc.ents])\n",
        "        print(\"Tokens\", [(t.text, t.ent_type_, t.ent_iob) for t in doc])\n",
        "\n",
        "    # save model to output directory\n",
        "    if output_dir is not None:\n",
        "        output_dir = Path(output_dir)\n",
        "        if not output_dir.exists():\n",
        "            output_dir.mkdir()\n",
        "        nlp.to_disk(output_dir)\n",
        "        print(\"Saved model to\", output_dir)\n",
        "\n",
        "        # test the saved model\n",
        "        print(\"Loading from\", output_dir)\n",
        "        nlp2 = spacy.load(output_dir)\n",
        "        for text, _ in TRAIN_DATA:\n",
        "            doc = nlp2(text)\n",
        "            print(\"Entities\", [(ent.text, ent.label_) for ent in doc.ents])\n",
        "            print(\"Tokens\", [(t.text, t.ent_type_, t.ent_iob) for t in doc])"
      ]
    },
    {
      "cell_type": "markdown",
      "metadata": {
        "id": "O1pM_VOIpdl9"
      },
      "source": [
        "Once the above model has been defined, we can update and save the model\n",
        "- Note that this code doesn't currently run in Google colab."
      ]
    },
    {
      "cell_type": "code",
      "execution_count": null,
      "metadata": {
        "id": "o1cpkZGWpdl9"
      },
      "outputs": [],
      "source": [
        "TRAIN_DATA=my_data  # The method expects the training data to have this name\n",
        "main(model='en_core_web_sm',output_dir='spacy_model',n_iter=5)"
      ]
    },
    {
      "cell_type": "markdown",
      "metadata": {
        "id": "MlicBTgepdl-"
      },
      "source": [
        "## Entity Linking in spaCy\n",
        "\n",
        "We don't want to just find entity mentions in a document but link them to a known entity in a knowledge base.\n",
        "- The task of linking the entity mentions to the corresponding entity in the knowledge base is called 'Entity Linking'.\n",
        "- I don't have time here, but watch this video to learn more:\n",
        "https://spacy.io/universe/project/video-spacy-irl-entity-linking"
      ]
    },
    {
      "cell_type": "code",
      "execution_count": null,
      "metadata": {
        "id": "_BKB-yMKpdl-"
      },
      "outputs": [],
      "source": [
        "# TODO"
      ]
    }
  ],
  "metadata": {
    "accelerator": "GPU",
    "colab": {
      "provenance": [],
      "include_colab_link": true
    },
    "gpuClass": "standard",
    "kernelspec": {
      "display_name": "Python 3 (ipykernel)",
      "language": "python",
      "name": "python3"
    },
    "language_info": {
      "codemirror_mode": {
        "name": "ipython",
        "version": 3
      },
      "file_extension": ".py",
      "mimetype": "text/x-python",
      "name": "python",
      "nbconvert_exporter": "python",
      "pygments_lexer": "ipython3",
      "version": "3.12.2"
    }
  },
  "nbformat": 4,
  "nbformat_minor": 0
}