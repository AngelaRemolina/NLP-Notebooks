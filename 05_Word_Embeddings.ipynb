{
  "cells": [
    {
      "cell_type": "markdown",
      "metadata": {
        "id": "view-in-github",
        "colab_type": "text"
      },
      "source": [
        "<a href=\"https://colab.research.google.com/github/AngelaRemolina/NLP-Notebooks/blob/main/05_Word_Embeddings.ipynb\" target=\"_parent\"><img src=\"https://colab.research.google.com/assets/colab-badge.svg\" alt=\"Open In Colab\"/></a>"
      ]
    },
    {
      "cell_type": "markdown",
      "metadata": {
        "id": "auM3jLkGYHk5"
      },
      "source": [
        "# Word Embeddings\n",
        "\n",
        "In this session we will make use of Word2Vec to learn distributed representations of words based on the context within which they appear in sentences."
      ]
    },
    {
      "cell_type": "markdown",
      "metadata": {
        "id": "bGB2KQ4-oYu9"
      },
      "source": [
        "**Optional for Colab users**\n",
        "\n",
        "Before starting, we can set up the connection with the Google Dive storage, to keep there our documents.\n",
        "Just execute the following passages:"
      ]
    },
    {
      "cell_type": "code",
      "execution_count": 1,
      "metadata": {
        "colab": {
          "base_uri": "https://localhost:8080/"
        },
        "id": "U1_h4bJKoYu_",
        "outputId": "114d3957-a379-4ebb-9953-8bdac84e03f4"
      },
      "outputs": [
        {
          "output_type": "stream",
          "name": "stdout",
          "text": [
            "Mounted at /content/drive\n"
          ]
        }
      ],
      "source": [
        "from google.colab import drive\n",
        "drive.mount('/content/drive')"
      ]
    },
    {
      "cell_type": "markdown",
      "metadata": {
        "id": "amCBJFPDoYvD"
      },
      "source": [
        "Make sure that the variable path contains the correct sequence of folders separate by a `'/'` to get to your lecture files"
      ]
    },
    {
      "cell_type": "code",
      "execution_count": 2,
      "metadata": {
        "colab": {
          "base_uri": "https://localhost:8080/",
          "height": 35
        },
        "id": "TXZh1md1oYvE",
        "outputId": "49a8ec50-0748-4771-9c99-5116e8208182"
      },
      "outputs": [
        {
          "output_type": "execute_result",
          "data": {
            "text/plain": [
              "'/content/drive/MyDrive/Colab Notebooks/NLP/Practical_05'"
            ],
            "application/vnd.google.colaboratory.intrinsic+json": {
              "type": "string"
            }
          },
          "metadata": {},
          "execution_count": 2
        }
      ],
      "source": [
        "import os\n",
        "\n",
        "path = 'Colab Notebooks/NLP/Practical_05'\n",
        "\n",
        "os.chdir(f'/content/drive/MyDrive/{path}')\n",
        "os.getcwd()"
      ]
    },
    {
      "cell_type": "markdown",
      "metadata": {
        "id": "DPtKB1FNYHlH"
      },
      "source": [
        "## Learning word embeddings\n",
        "\n",
        "We'll first try to learn word embeddings using the Word2Vec implementation provided by the gensim package.\n",
        "- Information on gensim's word2vec implementation is available here: https://radimrehurek.com/gensim/models/word2vec.html\n",
        "- First install the package using pip:"
      ]
    },
    {
      "cell_type": "code",
      "execution_count": 3,
      "metadata": {
        "colab": {
          "base_uri": "https://localhost:8080/"
        },
        "id": "TmJqt2NRYHlH",
        "outputId": "fa9dde1f-a4e1-4a65-d83e-879ac2371ca3"
      },
      "outputs": [
        {
          "output_type": "stream",
          "name": "stdout",
          "text": [
            "Requirement already satisfied: gensim in /usr/local/lib/python3.10/dist-packages (4.3.2)\n",
            "Requirement already satisfied: numpy>=1.18.5 in /usr/local/lib/python3.10/dist-packages (from gensim) (1.25.2)\n",
            "Requirement already satisfied: scipy>=1.7.0 in /usr/local/lib/python3.10/dist-packages (from gensim) (1.11.4)\n",
            "Requirement already satisfied: smart-open>=1.8.1 in /usr/local/lib/python3.10/dist-packages (from gensim) (6.4.0)\n"
          ]
        }
      ],
      "source": [
        "!pip install --upgrade gensim"
      ]
    },
    {
      "cell_type": "markdown",
      "metadata": {
        "id": "KdrV0qU6YHlH"
      },
      "source": [
        "We will build a Word2Vec embedding using the 20 Newsgroup data:"
      ]
    },
    {
      "cell_type": "code",
      "execution_count": 4,
      "metadata": {
        "id": "v_erNR7XIrDh",
        "colab": {
          "base_uri": "https://localhost:8080/",
          "height": 87
        },
        "outputId": "7a7694e1-572c-46a4-b727-b63e255e0794"
      },
      "outputs": [
        {
          "output_type": "execute_result",
          "data": {
            "text/plain": [
              "'I was wondering if anyone out there could enlighten me on this car I saw\\nthe other day. It was a 2-door sports car, looked to be from the late 60s/\\nearly 70s. It was called a Bricklin. The doors were really small. In addition,\\nthe front bumper was separate from the rest of the body. This is \\nall I know. If anyone can tellme a model name, engine specs, years\\nof production, where this car is made, history, or whatever info you\\nhave on this funky looking car, please e-mail.'"
            ],
            "application/vnd.google.colaboratory.intrinsic+json": {
              "type": "string"
            }
          },
          "metadata": {},
          "execution_count": 4
        }
      ],
      "source": [
        "from sklearn.datasets import fetch_20newsgroups\n",
        "\n",
        "dataset_train = fetch_20newsgroups(subset='train', remove=('headers', 'footers', 'quotes'))\n",
        "dataset_test = fetch_20newsgroups(subset='test', remove=('headers', 'footers', 'quotes'))\n",
        "\n",
        "dataset_train.data[0]\n"
      ]
    },
    {
      "cell_type": "markdown",
      "metadata": {
        "id": "qTTluJ3TYHlH"
      },
      "source": [
        "In order to train Word2Vec on the data we first need to convert it to the right format.\n",
        "- For training Word2Vec, it is usual to **separate data into individual sentences** and then tokenize those sentences separately\n",
        "- So let's use regular expressions to remove the end-of-line characters from each document and then split the documents into sentences using a regular expression that looks for question marks, exclamation marks, and periods, followed by a space:"
      ]
    },
    {
      "cell_type": "code",
      "execution_count": 5,
      "metadata": {
        "colab": {
          "base_uri": "https://localhost:8080/"
        },
        "id": "_jCPB46UYHlH",
        "outputId": "d464177d-e7b8-4a6a-f1a0-0c16c7b5da36"
      },
      "outputs": [
        {
          "output_type": "execute_result",
          "data": {
            "text/plain": [
              "[['I was wondering if anyone out there could enlighten me on this car I saw the other day',\n",
              "  'It was a 2-door sports car, looked to be from the late 60s/ early 70s',\n",
              "  'It was called a Bricklin',\n",
              "  'The doors were really small',\n",
              "  'In addition, the front bumper was separate from the rest of the body',\n",
              "  'This is  all I know',\n",
              "  'If anyone can tellme a model name, engine specs, years of production, where this car is made, history, or whatever info you have on this funky looking car, please e-mail.'],\n",
              " ['A fair number of brave souls who upgraded their SI clock oscillator have shared their experiences for this poll',\n",
              "  'Please send a brief message detailing your experiences with the procedure',\n",
              "  'Top speed attained, CPU rated speed, add on cards and adapters, heat sinks, hour of usage per day, floppy disk functionality with 800 and 1.4 m floppies are especially requested',\n",
              "  \" I will be summarizing in the next two days, so please add to the network knowledge base if you have done the clock upgrade and haven't answered this poll\",\n",
              "  'Thanks.'],\n",
              " ['well folks, my mac plus finally gave up the ghost this weekend after starting life as a 512k way back in 1985',\n",
              "  \" sooo, i'm in the market for a new machine a bit sooner than i intended to be..\",\n",
              "  \" i'm looking into picking up a powerbook 160 or maybe 180 and have a bunch of questions that (hopefully) somebody can answer:  * does anybody know any dirt on when the next round of powerbook introductions are expected\",\n",
              "  ' i\\'d heard the 185c was supposed to make an appearence \"this summer\" but haven\\'t heard anymore on it - and since i don\\'t have access to macleak, i was wondering if anybody out there had more info..',\n",
              "  \" * has anybody heard rumors about price drops to the powerbook line like the ones the duo's just went through recently\",\n",
              "  \" * what's the impression of the display on the 180\",\n",
              "  ' i could probably swing a 180 if i got the 80Mb disk rather than the 120, but i don\\'t really have a feel for how much \"better\" the display is (yea, it looks great in the store, but is that all \"wow\" or is it really that good?)',\n",
              "  ' could i solicit some opinions of people who use the 160 and 180 day-to-day on if its worth taking the disk size and money hit to get the active display',\n",
              "  \" (i realize this is a real subjective question, but i've only played around with the machines in a computer store breifly and figured the opinions of somebody who actually uses the machine daily might prove helpful)\",\n",
              "  ' * how well does hellcats perform',\n",
              "  \" ;)  thanks a bunch in advance for any info - if you could email, i'll post a summary (news reading time is at a premium with finals just around the corner..\",\n",
              "  ':( ) -- Tom Willis  \\\\      \\\\    Purdue Electrical Engineering']]"
            ]
          },
          "metadata": {},
          "execution_count": 5
        }
      ],
      "source": [
        "import re\n",
        "\n",
        "# remove newline characters\n",
        "docs = [re.sub('\\n', ' ', doc) for doc in dataset_train.data]\n",
        "# remove email addresses\n",
        "docs = [re.sub('[a-zA-Z0-9._%+-]+@[a-zA-Z0-9.-]+\\.[a-zA-Z]{2,}', '', doc) for doc in docs]\n",
        "# split sentences\n",
        "sentences = [re.split('[?!.]\\s', doc) for doc in docs]\n",
        "sentences[:3]"
      ]
    },
    {
      "cell_type": "markdown",
      "metadata": {
        "id": "FIucFhmVYHlI"
      },
      "source": [
        "Above, we've printed out the first two documents, which have been split into arrays of sentences.\n",
        "- We'll need to flatten the structure into one big array of sentences (remove the distinction between documents) before providing it to Word2Vec.\n",
        "- We can do that using the flatten command from the pandas library:"
      ]
    },
    {
      "cell_type": "code",
      "execution_count": 6,
      "metadata": {
        "colab": {
          "base_uri": "https://localhost:8080/"
        },
        "id": "HB2YTCX1YHlI",
        "outputId": "b5bf7e5f-6055-453b-9150-80a5c4dc9a7f"
      },
      "outputs": [
        {
          "output_type": "execute_result",
          "data": {
            "text/plain": [
              "['I was wondering if anyone out there could enlighten me on this car I saw the other day',\n",
              " 'It was a 2-door sports car, looked to be from the late 60s/ early 70s',\n",
              " 'It was called a Bricklin',\n",
              " 'The doors were really small',\n",
              " 'In addition, the front bumper was separate from the rest of the body',\n",
              " 'This is  all I know',\n",
              " 'If anyone can tellme a model name, engine specs, years of production, where this car is made, history, or whatever info you have on this funky looking car, please e-mail.',\n",
              " 'A fair number of brave souls who upgraded their SI clock oscillator have shared their experiences for this poll',\n",
              " 'Please send a brief message detailing your experiences with the procedure',\n",
              " 'Top speed attained, CPU rated speed, add on cards and adapters, heat sinks, hour of usage per day, floppy disk functionality with 800 and 1.4 m floppies are especially requested',\n",
              " \" I will be summarizing in the next two days, so please add to the network knowledge base if you have done the clock upgrade and haven't answered this poll\",\n",
              " 'Thanks.',\n",
              " 'well folks, my mac plus finally gave up the ghost this weekend after starting life as a 512k way back in 1985',\n",
              " \" sooo, i'm in the market for a new machine a bit sooner than i intended to be..\",\n",
              " \" i'm looking into picking up a powerbook 160 or maybe 180 and have a bunch of questions that (hopefully) somebody can answer:  * does anybody know any dirt on when the next round of powerbook introductions are expected\",\n",
              " ' i\\'d heard the 185c was supposed to make an appearence \"this summer\" but haven\\'t heard anymore on it - and since i don\\'t have access to macleak, i was wondering if anybody out there had more info..',\n",
              " \" * has anybody heard rumors about price drops to the powerbook line like the ones the duo's just went through recently\",\n",
              " \" * what's the impression of the display on the 180\",\n",
              " ' i could probably swing a 180 if i got the 80Mb disk rather than the 120, but i don\\'t really have a feel for how much \"better\" the display is (yea, it looks great in the store, but is that all \"wow\" or is it really that good?)',\n",
              " ' could i solicit some opinions of people who use the 160 and 180 day-to-day on if its worth taking the disk size and money hit to get the active display']"
            ]
          },
          "metadata": {},
          "execution_count": 6
        }
      ],
      "source": [
        "from pandas.core.common import flatten\n",
        "\n",
        "sentences = list(flatten(sentences))\n",
        "sentences[:20]"
      ]
    },
    {
      "cell_type": "markdown",
      "metadata": {
        "id": "OAQ0LlmEYHlI"
      },
      "source": [
        "Now we can proceed to do some cleaning of the data:\n",
        "- remove non-letter characters from each sentence\n",
        "- lowercase\n",
        "- tokenize the sentences based on whitespace\n",
        "- remove any sentence with length less than 2 since it won't be useful for training Word2Vec."
      ]
    },
    {
      "cell_type": "code",
      "execution_count": 7,
      "metadata": {
        "colab": {
          "base_uri": "https://localhost:8080/"
        },
        "id": "kgpm3IvQYHlI",
        "outputId": "e6a600c4-c6b8-4524-da42-4d9fb12720dc"
      },
      "outputs": [
        {
          "output_type": "stream",
          "name": "stdout",
          "text": [
            "['i', 'was', 'wondering', 'if', 'anyone', 'out', 'there', 'could', 'enlighten', 'me', 'on', 'this', 'car', 'i', 'saw', 'the', 'other', 'day']\n",
            "['it', 'was', 'a', '2', 'door', 'sports', 'car', 'looked', 'to', 'be', 'from', 'the', 'late', '60s', 'early', '70s']\n",
            "['it', 'was', 'called', 'a', 'bricklin']\n",
            "['the', 'doors', 'were', 'really', 'small']\n",
            "['in', 'addition', 'the', 'front', 'bumper', 'was', 'separate', 'from', 'the', 'rest', 'of', 'the', 'body']\n",
            "['this', 'is', 'all', 'i', 'know']\n",
            "['if', 'anyone', 'can', 'tellme', 'a', 'model', 'name', 'engine', 'specs', 'years', 'of', 'production', 'where', 'this', 'car', 'is', 'made', 'history', 'or', 'whatever', 'info', 'you', 'have', 'on', 'this', 'funky', 'looking', 'car', 'please', 'e', 'mail']\n",
            "['a', 'fair', 'number', 'of', 'brave', 'souls', 'who', 'upgraded', 'their', 'si', 'clock', 'oscillator', 'have', 'shared', 'their', 'experiences', 'for', 'this', 'poll']\n",
            "['please', 'send', 'a', 'brief', 'message', 'detailing', 'your', 'experiences', 'with', 'the', 'procedure']\n",
            "['top', 'speed', 'attained', 'cpu', 'rated', 'speed', 'add', 'on', 'cards', 'and', 'adapters', 'heat', 'sinks', 'hour', 'of', 'usage', 'per', 'day', 'floppy', 'disk', 'functionality', 'with', '800', 'and', '1', '4', 'm', 'floppies', 'are', 'especially', 'requested']\n"
          ]
        }
      ],
      "source": [
        "tokenized_sentences = [re.sub('\\W', ' ', sentence).lower().split() for sentence in sentences]\n",
        "# remove sentences that are only 1 word long\n",
        "tokenized_sentences = [sentence for sentence in tokenized_sentences if len(sentence) > 1]\n",
        "\n",
        "for sentence in tokenized_sentences[:10]:\n",
        "    print(sentence)"
      ]
    },
    {
      "cell_type": "markdown",
      "metadata": {
        "id": "_xYG3RKRYHlI"
      },
      "source": [
        "Finally we have the data in the right format for training Word2Vec, so we can provide it to the algorithm. For parameters, we set:\n",
        "- the embedding size to be 30,\n",
        "- the minimum count for any vocabulary term to be 5\n",
        "- the size of the context window to 10."
      ]
    },
    {
      "cell_type": "code",
      "execution_count": 8,
      "metadata": {
        "id": "fXolbjAXYHlJ"
      },
      "outputs": [],
      "source": [
        "from gensim.models.word2vec import Word2Vec\n",
        "\n",
        "model = Word2Vec(tokenized_sentences, vector_size=30, min_count=5, window=10)"
      ]
    },
    {
      "cell_type": "markdown",
      "metadata": {
        "id": "3BP16EM3YHlJ"
      },
      "source": [
        "Let's see how big the vocabulary is that Word2Vec ended up using, i.e. how many word vectors did it learn:"
      ]
    },
    {
      "cell_type": "code",
      "execution_count": 9,
      "metadata": {
        "colab": {
          "base_uri": "https://localhost:8080/"
        },
        "id": "Z7ZYKyxcYHlJ",
        "outputId": "948e65c7-7e77-4e1f-d843-4c57106ef1cb"
      },
      "outputs": [
        {
          "output_type": "execute_result",
          "data": {
            "text/plain": [
              "22069"
            ]
          },
          "metadata": {},
          "execution_count": 9
        }
      ],
      "source": [
        "len(model.wv)"
      ]
    },
    {
      "cell_type": "markdown",
      "metadata": {
        "id": "DHRbIkEYYHlJ"
      },
      "source": [
        "## Inspecting embeddings and finding similar words\n",
        "\n",
        "Now that we have a word2vec model trained, what can we do with it?\n",
        "- Let's print out one of the vectors to see what it looks like:"
      ]
    },
    {
      "cell_type": "code",
      "execution_count": 10,
      "metadata": {
        "colab": {
          "base_uri": "https://localhost:8080/"
        },
        "id": "1XJtGX3YYHlJ",
        "outputId": "9289ddbb-553e-4c9a-ef19-853bb4b80987"
      },
      "outputs": [
        {
          "output_type": "execute_result",
          "data": {
            "text/plain": [
              "array([ 0.09159379,  0.13848826,  1.5809828 , -2.373885  ,  3.7365894 ,\n",
              "       -1.1293814 , -0.40256456, -0.9338665 , -1.1309097 , -2.1509056 ,\n",
              "       -0.8682739 ,  0.32195047,  1.890182  ,  0.40998068,  0.602432  ,\n",
              "       -1.2377931 ,  4.038367  , -2.3386605 ,  2.0709677 , -1.019011  ,\n",
              "        1.5283409 ,  1.0618249 , -1.3026303 , -1.4588925 ,  1.6232762 ,\n",
              "       -1.464436  ,  1.0263498 ,  0.8471696 ,  2.0900612 ,  0.48745924],\n",
              "      dtype=float32)"
            ]
          },
          "metadata": {},
          "execution_count": 10
        }
      ],
      "source": [
        "term = 'car'\n",
        "model.wv[term]"
      ]
    },
    {
      "cell_type": "markdown",
      "metadata": {
        "id": "jAcJZJmyYHlJ"
      },
      "source": [
        "Unlike LDA's document topic vector, this one has both positive and negative values.\n",
        "\n",
        "We could now use the model to compute similarities between terms based on their cosine distance in the embedding space.\n",
        "- Try modifying the terms below to see what their closest neighbouring terms are:\n",
        "  - Some good terms to try are: hockey, mouse, god, microsoft, clinton, bush, etc.\n",
        "  - (If yuo see an error, that is because the term you chose is not in the dictionary.)"
      ]
    },
    {
      "cell_type": "code",
      "execution_count": 11,
      "metadata": {
        "colab": {
          "base_uri": "https://localhost:8080/"
        },
        "id": "Ej6ij-9-YHlK",
        "outputId": "388efba2-e3de-4c34-c4e0-6501f0394d9c"
      },
      "outputs": [
        {
          "output_type": "execute_result",
          "data": {
            "text/plain": [
              "[('president', 0.8974578976631165),\n",
              " ('administration', 0.8790305256843567),\n",
              " ('initiative', 0.760590136051178),\n",
              " ('bush', 0.7575047612190247),\n",
              " ('official', 0.7512015700340271),\n",
              " ('stimulus', 0.7344679236412048),\n",
              " ('bill', 0.7127745747566223),\n",
              " ('secretary', 0.7126769423484802),\n",
              " ('congress', 0.6922988295555115),\n",
              " ('decision', 0.6791836023330688)]"
            ]
          },
          "metadata": {},
          "execution_count": 11
        }
      ],
      "source": [
        "# term = 'gun'\n",
        "# term = 'microsoft'\n",
        "term ='clinton'\n",
        "\n",
        "model.wv.most_similar(term)"
      ]
    },
    {
      "cell_type": "markdown",
      "metadata": {
        "id": "ldnMBi7qYHlK"
      },
      "source": [
        "Do the similar terms agree with your intuition?"
      ]
    },
    {
      "cell_type": "markdown",
      "metadata": {
        "id": "Y4Su5jmKYHlK"
      },
      "source": [
        "## Visualising the embedding vectors using t-SNE\n",
        "\n",
        "We'll now visualise some of the word vectors in a 3 dimensional space using t-SNE.\n",
        "\n",
        "The vocabulary of word vectors is quite large (around 25,000). Giving them all to t-SNE will cause it to take far too long to converge.\n",
        "- So let's first choose a random subset of 500 terms to show:"
      ]
    },
    {
      "cell_type": "code",
      "execution_count": 12,
      "metadata": {
        "colab": {
          "base_uri": "https://localhost:8080/"
        },
        "id": "X3GC2wXgYHlK",
        "outputId": "299795e6-f7d9-48ca-92c6-3d9977b0621a"
      },
      "outputs": [
        {
          "output_type": "stream",
          "name": "stdout",
          "text": [
            "['hooking', 'woods', 'perform', 'indiscriminately', 'electronically', '29th', 'conferencing', 'escrow', 'rapes', 'crazy', 'xli', 'miniscule', 'beaufait', 'marketing', 'amusement', 'attack', 'icol', 'dont', 'legion', 'ndw', 'discretionary', 'novels', 'procurement', 'diplomacy', 'thereof', 'carry', 'revolutionary', 'limited', 'titan', 'lists', 'massager', 'keyboard', 'others', 'personalities', 'macx', 'baseman', 'palace', '636', 'originating', 'noticing', 'thrust', 'typist', 'jurk', 'killer', 'failure', 'iv', 'drugs', '889', 'protestants', 'generalize', 'development', 'meanings', 'accusations', 'neccessary', 'lump', 'auditorium', 'ons', 'polyanna', 'feedback', 'easiest', 'khz', 'chronicle', 'kept', 'extent', 'problematic', 'errors', 'phases', 'arcade', 'horn', 'tsn', 'r4c', 'float', 'zt', 'obscurity', 'easy', 'ohms', 'colitis', 'directory', 'darling', 'proverbial', 'transferable', '10', 'f4', 'chuckle', 'nx2000', 'creates', 'attended', 'dwarf', 'jersey', 'credited', 'nba', 'pmf9l3', 'exitval', 'robotics', 'zoroastrianism', 'dream', 'worse', '1980s', 'madison', 'available', 'burning', 'hitting', 'fleet', 'distributing', 'olympus', 'agendas', '2mb', '16h', 'mc8v', 'scam', 'recorder', 'qveiq', 'needles', 'mdt', 'wright', 'elastic', 'keymap', 'puzzled', 'prophet', 'curses', 'verbal', 'astemizole', 'goat', 'suspects', 'pot', '214', 'negotiated', 'stood', 'imperfect', 'semiautomatic', 'blocks', 'jeremy', 'stanford', 'readme', 'closure', 'militello', 'formal', 'suv', 'goaltending', 'securing', 'rumours', 'sun4', 'economic', 'j1d', 'threw', 'cop', 'pbs', 'pixel', 'wilkinson', 'boxscores', '86yd', 'enviroment', 'sane', 'eurocrypt', 'intensify', 'terry', 'trimmed', 'financial', 'luke', 'asset', 'specialize', 'm34u', 'q5m', 'appreciated', 'negation', 'matt', 'paseo', 'pays', 'fixing', 'osiris', 'mc8', 'fitting', 'sao', 'performance', 'xtianity', 'say', 'britain', 'mouth', 'commodity', 'identifier', 'arbitrary', 'angular', 'turned', 'envy', 'skeptics', 'talented', 'openwinhome', 'mk145', 'nutek', '63q', 'route', 'limbaugh', 'surprise', 'fredrik', 'indians', 'indicates', '61d', 'rode', 'huntington', 'await', 'counterparts', 'ksc', 'approached', 'circulation', 'og', 'shaped', 'triangle', 'compuadd', 'lock', 'evrak', 'lacked', 'tnt', 'participants', 'e22u', 'graphing', 'reaction', 'dotted', 'wavefront', 'shooter', 'eklund', 'ashtray', 'dick', 'ide', 'win3', 'worked', 'invalidate', '1000', 'brainwashed', 'gant', 'din', 'particularly', 'ulysses', 'danny', '1930', '15', '4mb', 'appliances', 'peacefull', 'commission', 'computational', 'hogue', 'revoked', 'heretical', 'zf', 'philadelphia', '5th', 'receptacles', 'poland', 'brass', 'honoured', 'offline', 'undermine', 'pity', 'launches', 'quantized', 'hack', 'houda', '475', 'outskirts', 'klonopin', 'crook', 'armature', 'embedding', 'village', 'processed', 'export', 'btz', 'cloud', 'underdog', 'consultant', 'tga', '653', 'specifications', 'originated', 'trinitarianism', 'harley', 'construed', 'underlining', 'pine', 'ets', 'j9', 'charley', 'don', 'excluding', 'tries', 'lefebvre', 'ordering', 'mkfontdir', 'abdullah', 'coordinated', 'jumping', 'lightning', 'bayonet', 'proceeded', 'viper', 'backrest', 'mnki', 'bozos', 'lankford', 'possibly', 'zqr', 'diary', 'shoddy', 'screamed', 'overpass', 'typos', 'reputable', 'church', 'rubber', 'cohen', 'warp', 'supplier', '88', 'lay', 'threats', 'booting', 'averaged', 'workplace', 'forsberg', 'exist', 'hips', 'secret', 'felix', 'must', 'assailant', 'disgrace', 'xwindow', 'ford', 'realizes', 'momesso', 'initialization', 'equations', 'neon', 'csd', '30', '508', 'hzd', 'researching', 'melbourne', 'announcing', 'ky', 'rauser', '111', 'emulate', 'across', 'waited', 'real', 'entails', 'canon', 'authoritative', 'asw', 'militants', 'lk8', 'devil', 'xvgr', 'williams', 'penetrate', 'billingham', 'distrust', 'pmfq', 'teen', 'gaudreau', 'choosing', 'glorious', 'conversation', 'desirable', 'mgr', 'amendments', 'informal', 'account', 'torque', 'kh', 'schedule', 'brendan', 'lazarus', 'sx', 'i7', 'fwd', 'msu', 'writings', 'swung', 'engine', 'situated', 'congregation', 'principles', 'solid', '99s', 'banning', 'clarke', 'powering', 'resting', 'i9', 'piano', 'native', 'inadequate', '6m', 'reliable', 'speaking', 'presses', 'yk', 'sustaining', 'gui', '169', 'semantics', 'corpus', 'updates', 'batch', 'bans', 'matters', 'sweat', '9hl', 'eavesdrop', 'pluggers', 'rlg', 'prejudice', 'newsweek', 'follower', 'nnn', 'kidney', 'hits', 'dx2', '03', 'rinks', 'jb', 'air', 'whip', 'pressure', 'restores', 'clinic', 'snakes', 'incurred', 'string', 'heterosexuals', 'litani', 'adjust', 'yf9f9f9', 'hears', 'peak', 'qr', 'hazards', 're', 'valid', 'bn', 'not', 'gray', 'polyray', '0r', 'peninsula', 'xcopyarea', 'dozen', 'misused', 'carew', 'absolute', 'q8', 'difficulties', 'polar', 'immunity', 'bits', 'formed', 'reset', 'links', 'paragraph', '1995', '3z', 'slaughtered', 'moments', 'newsletters', 'image', 'greyscale', 'msdos', 'tract', 'corelscsi', 'booster', 'fatigue', 'chen', 'rk7', 'collapse', 'moved', 'tennessee', 'ia', 'concerns', 'fillibuster', 'subsidizing', '1d3hz', 'lousy', 'to', 'prayed', 'reichel', 'treaties', 'workaround', 'perl', 'railway', 'puts', 'nlns', '926', 'oldword', 'findings', 'delta', 'hassan', 'windowed']\n"
          ]
        }
      ],
      "source": [
        "import random\n",
        "\n",
        "sample = random.sample(list(model.wv.key_to_index), 500)\n",
        "print(sample)"
      ]
    },
    {
      "cell_type": "markdown",
      "metadata": {
        "id": "tb51ZnSpYHlK"
      },
      "source": [
        "Now we'll get the word vectors for the sampled terms:"
      ]
    },
    {
      "cell_type": "code",
      "execution_count": 13,
      "metadata": {
        "colab": {
          "base_uri": "https://localhost:8080/"
        },
        "id": "wdIlwUjaYHlK",
        "outputId": "f6841536-541f-4ba4-bfb0-bc3a542a15e6"
      },
      "outputs": [
        {
          "output_type": "execute_result",
          "data": {
            "text/plain": [
              "array([[-0.07644834, -0.17643404,  0.25691682, ..., -0.09160868,\n",
              "        -0.1492582 ,  0.37475684],\n",
              "       [ 0.10601082, -0.15189682,  0.0909326 , ..., -0.08849005,\n",
              "        -0.07071807,  0.12245083],\n",
              "       [-0.20980282, -0.5613023 , -0.54533225, ...,  0.49511147,\n",
              "         0.01153575,  0.20157671],\n",
              "       ...,\n",
              "       [ 0.35076195,  0.14164649, -0.06602896, ..., -0.6157514 ,\n",
              "         0.1549917 ,  0.8524257 ],\n",
              "       [-0.02152645,  0.03009312,  0.00730832, ..., -0.11467482,\n",
              "        -0.00909594, -0.02977847],\n",
              "       [-0.09079164, -0.06468175,  0.09129557, ...,  0.10720439,\n",
              "         0.02754559,  0.01106972]], dtype=float32)"
            ]
          },
          "metadata": {},
          "execution_count": 13
        }
      ],
      "source": [
        "word_vectors = model.wv[sample]\n",
        "word_vectors"
      ]
    },
    {
      "cell_type": "markdown",
      "metadata": {
        "id": "GPKDpTt9YHlK"
      },
      "source": [
        "And we'll provide the vectors to TSNE to fit a model and transform the data to 3 dimensions:"
      ]
    },
    {
      "cell_type": "code",
      "execution_count": 14,
      "metadata": {
        "id": "TdSwKpggYHlK"
      },
      "outputs": [],
      "source": [
        "from sklearn.manifold import TSNE\n",
        "\n",
        "tsne = TSNE(n_components=3, n_iter=2000)\n",
        "tsne_embedding = tsne.fit_transform(word_vectors)"
      ]
    },
    {
      "cell_type": "markdown",
      "metadata": {
        "id": "HWDA5VAFYHlL"
      },
      "source": [
        "Now transform the data into 3 columns (for x, y, and z):"
      ]
    },
    {
      "cell_type": "code",
      "execution_count": 15,
      "metadata": {
        "id": "F-ubEgoDYHlL"
      },
      "outputs": [],
      "source": [
        "import numpy as np\n",
        "\n",
        "x, y, z = np.transpose(tsne_embedding)"
      ]
    },
    {
      "cell_type": "markdown",
      "metadata": {
        "id": "2RQtluK0YHlL"
      },
      "source": [
        "And generate the 3d plot:"
      ]
    },
    {
      "cell_type": "code",
      "execution_count": 16,
      "metadata": {
        "colab": {
          "base_uri": "https://localhost:8080/"
        },
        "id": "ePQ0AI7EoYvb",
        "outputId": "c158dd87-2f30-4fc1-d5da-b5939eb31633"
      },
      "outputs": [
        {
          "output_type": "stream",
          "name": "stdout",
          "text": [
            "Requirement already satisfied: plotly in /usr/local/lib/python3.10/dist-packages (5.15.0)\n",
            "Requirement already satisfied: tenacity>=6.2.0 in /usr/local/lib/python3.10/dist-packages (from plotly) (8.2.3)\n",
            "Requirement already satisfied: packaging in /usr/local/lib/python3.10/dist-packages (from plotly) (24.0)\n"
          ]
        }
      ],
      "source": [
        "!pip install plotly"
      ]
    },
    {
      "cell_type": "code",
      "execution_count": 17,
      "metadata": {
        "colab": {
          "base_uri": "https://localhost:8080/",
          "height": 542
        },
        "id": "Addk422Dt_IW",
        "outputId": "f9eafb43-ea95-49a1-b72f-e73028ff0a99"
      },
      "outputs": [
        {
          "output_type": "display_data",
          "data": {
            "text/html": [
              "<html>\n",
              "<head><meta charset=\"utf-8\" /></head>\n",
              "<body>\n",
              "    <div>            <script src=\"https://cdnjs.cloudflare.com/ajax/libs/mathjax/2.7.5/MathJax.js?config=TeX-AMS-MML_SVG\"></script><script type=\"text/javascript\">if (window.MathJax && window.MathJax.Hub && window.MathJax.Hub.Config) {window.MathJax.Hub.Config({SVG: {font: \"STIX-Web\"}});}</script>                <script type=\"text/javascript\">window.PlotlyConfig = {MathJaxConfig: 'local'};</script>\n",
              "        <script charset=\"utf-8\" src=\"https://cdn.plot.ly/plotly-2.24.1.min.js\"></script>                <div id=\"98dca971-8b68-4099-8aba-2403ec7fbf00\" class=\"plotly-graph-div\" style=\"height:525px; width:100%;\"></div>            <script type=\"text/javascript\">                                    window.PLOTLYENV=window.PLOTLYENV || {};                                    if (document.getElementById(\"98dca971-8b68-4099-8aba-2403ec7fbf00\")) {                    Plotly.newPlot(                        \"98dca971-8b68-4099-8aba-2403ec7fbf00\",                        [{\"hovertemplate\":\"x=%{x}\\u003cbr\\u003ey=%{y}\\u003cbr\\u003ez=%{z}\\u003cextra\\u003e\\u003c\\u002fextra\\u003e\",\"legendgroup\":\"\",\"marker\":{\"color\":\"#636efa\",\"symbol\":\"circle\",\"line\":{\"width\":2},\"size\":3},\"mode\":\"markers\",\"name\":\"\",\"scene\":\"scene\",\"showlegend\":false,\"x\":[30.373611450195312,-10.951725006103516,73.38450622558594,-75.55948638916016,2.042900562286377,-43.051475524902344,-20.66560935974121,-22.83895492553711,-24.293561935424805,-73.61024475097656,14.861703872680664,-25.300443649291992,-28.848033905029297,-4.80512809753418,3.4725940227508545,-31.90430450439453,-6.49594783782959,-84.63407897949219,-23.04078483581543,49.595458984375,-60.1229248046875,-62.39081573486328,-39.401649475097656,-21.913476943969727,-37.24204635620117,79.14128875732422,-19.914182662963867,75.59222412109375,27.636341094970703,40.68932342529297,-13.239139556884766,79.5177001953125,-53.41816329956055,-61.87260437011719,35.50934982299805,-20.902223587036133,-41.41535568237305,7.452727794647217,3.64552640914917,78.01996612548828,-13.202970504760742,-22.421314239501953,-17.294397354125977,-3.456918954849243,-38.59730529785156,74.44194793701172,-41.063720703125,6.362463474273682,-76.90087890625,-27.459165573120117,-12.333867073059082,-56.02744674682617,-50.48509979248047,-61.8065071105957,-17.84454345703125,31.68302345275879,-26.112751007080078,-15.063027381896973,-16.907861709594727,29.29998207092285,45.55335235595703,-2.038112163543701,-16.225631713867188,-52.597625732421875,-44.77185821533203,50.236175537109375,-5.021525859832764,29.898269653320312,31.65294075012207,-6.705241680145264,32.27852249145508,29.730276107788086,7.447074890136719,-72.8111572265625,79.95653533935547,47.038818359375,-61.03728103637695,62.93071365356445,22.530420303344727,-45.89410400390625,-4.175370216369629,80.63007354736328,33.809959411621094,-6.4099650382995605,12.350878715515137,52.74011993408203,-1.6706527471542358,0.29708194732666016,65.84370422363281,26.01622200012207,-11.086423873901367,17.94367218017578,-19.171436309814453,5.545258522033691,-39.498287200927734,22.031829833984375,65.61506652832031,-15.560710906982422,23.206560134887695,61.802940368652344,-9.801216125488281,41.67151641845703,7.499233722686768,29.057716369628906,-8.784769058227539,-52.3118896484375,76.71454620361328,8.200830459594727,45.47257614135742,-36.954429626464844,29.241004943847656,2.669452428817749,3.175302028656006,-3.587674140930176,9.112217903137207,-33.81709289550781,19.113418579101562,-3.558377504348755,-44.402523040771484,18.99135398864746,-37.95560836791992,-40.9434814453125,-19.423828125,-61.444087982177734,-13.033038139343262,60.98439025878906,-10.690505027770996,-28.71225929260254,-54.1378059387207,-18.390705108642578,17.172847747802734,26.663814544677734,54.909400939941406,47.96427536010742,5.794007301330566,7.8563642501831055,-47.66452407836914,-17.04886817932129,-27.003753662109375,-37.305259704589844,-29.749834060668945,35.41731262207031,-30.143882751464844,35.07048416137695,-1.4474892616271973,18.438796997070312,26.59878921508789,73.15703582763672,-14.974782943725586,-22.5329647064209,33.595218658447266,-21.03677749633789,-88.63780975341797,-7.069422245025635,-45.57634735107422,36.17123794555664,7.053853988647461,-14.104222297668457,-20.784252166748047,-43.62398147583008,-40.88124465942383,42.850547790527344,39.03463363647461,-12.384978294372559,-7.592886447906494,-11.595015525817871,2.06907057762146,-18.5118465423584,30.374666213989258,2.8699820041656494,59.42345428466797,-8.972766876220703,-1.329197645187378,71.9964370727539,-48.38038635253906,84.24468994140625,-13.280038833618164,13.679116249084473,-3.0591135025024414,3.0000956058502197,65.06254577636719,-9.451201438903809,-11.99753189086914,-25.334142684936523,-38.17326736450195,-27.08379364013672,0.5318890810012817,16.863222122192383,-0.13663631677627563,11.202524185180664,25.298316955566406,-50.87269592285156,14.922568321228027,5.805556774139404,42.69759750366211,-64.0546646118164,-1.6515424251556396,4.994663715362549,-3.478785514831543,-39.643821716308594,47.69316482543945,-7.36693811416626,-20.305309295654297,-56.54432678222656,26.162364959716797,50.206546783447266,14.553756713867188,14.871315002441406,50.14567947387695,-11.198357582092285,-92.2688980102539,23.33835792541504,-17.245582580566406,17.66633415222168,12.58702278137207,-56.966251373291016,4.236966133117676,0.4416150748729706,-26.35416030883789,52.26383972167969,-8.50983715057373,-65.4021987915039,90.16524505615234,50.252464294433594,-15.161046028137207,-46.90290451049805,52.159576416015625,-63.95103073120117,-25.398300170898438,1.1494364738464355,-34.802371978759766,-25.687686920166016,36.40269088745117,-18.87940216064453,86.38958740234375,70.08236694335938,-2.4649245738983154,-28.28238868713379,7.860217094421387,14.668387413024902,13.067489624023438,-13.256072998046875,-71.43531036376953,-20.29789924621582,80.0602798461914,47.88248062133789,29.736879348754883,-52.285465240478516,18.49039077758789,-44.66657638549805,-10.500134468078613,-25.87581443786621,-64.17477416992188,27.513832092285156,-7.735538482666016,53.469764709472656,-6.878447532653809,-13.78242301940918,-66.80741882324219,-55.281402587890625,-41.45397186279297,-11.469120025634766,17.656253814697266,-17.09393310546875,18.526126861572266,65.79585266113281,-53.8099365234375,-15.63375473022461,-17.798189163208008,17.835168838500977,27.480728149414062,37.984928131103516,41.90512466430664,-51.61742401123047,-65.01004791259766,21.56941032409668,-81.02897644042969,-45.345367431640625,8.036477088928223,10.778285026550293,44.90608215332031,-81.54767608642578,-96.2805404663086,-30.526567459106445,48.876956939697266,10.946138381958008,15.860292434692383,20.502954483032227,-43.234947204589844,-27.809171676635742,-42.3472900390625,39.114173889160156,18.208709716796875,-21.14468765258789,72.08264923095703,39.22248458862305,7.154025554656982,-34.38774490356445,9.518385887145996,80.62911987304688,22.851558685302734,-48.02474594116211,-47.14706039428711,-39.51765060424805,-38.75636672973633,-2.308243751525879,-73.12908935546875,-44.59120559692383,49.756507873535156,26.251441955566406,11.796910285949707,-4.940749645233154,72.60346221923828,-6.30943489074707,-50.613311767578125,27.19208526611328,-15.959929466247559,11.88251781463623,-0.7694334983825684,88.48950958251953,29.684053421020508,-21.207345962524414,-6.142289638519287,80.23976135253906,-37.768795013427734,-31.248600006103516,18.790180206298828,37.723297119140625,-57.64345932006836,-7.1590962409973145,42.00712203979492,13.237646102905273,23.638032913208008,13.575486183166504,77.12057495117188,50.054115295410156,19.232540130615234,12.922490119934082,19.55445098876953,28.513484954833984,40.951934814453125,-26.841224670410156,54.962799072265625,33.053245544433594,9.517292022705078,12.828047752380371,93.11603546142578,-22.32038688659668,-50.92984390258789,-35.457035064697266,20.143869400024414,-2.9477908611297607,64.32023620605469,-47.31227111816406,1.596035361289978,43.32408142089844,-14.88571834564209,19.247333526611328,-48.02006149291992,58.19340515136719,-20.70075225830078,13.33769416809082,-70.7109603881836,-33.568729400634766,-77.82756042480469,-55.3496208190918,5.734938621520996,-23.616832733154297,-25.285877227783203,-67.57785034179688,46.08964157104492,75.65184783935547,36.61611557006836,-25.73881721496582,-60.8105583190918,56.53904342651367,44.420833587646484,-8.425199508666992,21.374862670898438,-33.859134674072266,-33.299285888671875,86.01870727539062,-39.751712799072266,-70.2591552734375,-30.98415184020996,38.103660583496094,24.716304779052734,-30.372724533081055,59.74888229370117,-0.4037286639213562,-15.939464569091797,-28.741317749023438,-54.16511154174805,-11.691203117370605,-37.7608757019043,14.140544891357422,75.7461929321289,-42.21443557739258,-12.910079002380371,14.009687423706055,-47.88093948364258,48.791595458984375,50.58536148071289,-0.8358001112937927,-32.214073181152344,28.87542724609375,44.65058135986328,-59.8420295715332,-67.92887115478516,-14.378588676452637,2.3903067111968994,54.30751037597656,-29.9495849609375,-69.98456573486328,-32.63404083251953,0.7621504068374634,-41.96910095214844,11.140554428100586,28.268665313720703,34.514522552490234,73.72969818115234,84.39971160888672,-9.502696990966797,59.45067596435547,1.9509080648422241,32.8127326965332,-10.033631324768066,20.206750869750977,-78.25000762939453,-40.30208206176758,-34.17207336425781,59.57011795043945,-40.82823944091797,-49.86249923706055,55.198631286621094,41.48627471923828,-45.40517807006836,45.09183120727539,71.0226821899414,-7.068404674530029,-30.450300216674805,88.69835662841797,88.52881622314453,102.26087951660156,42.311519622802734,10.401297569274902,46.72323989868164,5.761197090148926,29.510711669921875,25.3842830657959,-55.654422760009766,-25.939844131469727,87.72450256347656,12.563359260559082,-34.922061920166016,4.616620063781738,-55.69893264770508,77.75115203857422,-3.093554973602295,40.20632553100586,24.48302459716797,-40.74372863769531,36.412227630615234,24.215452194213867,-2.8757104873657227,-9.987372398376465,-11.86396312713623,70.2505111694336,20.822370529174805,59.82387924194336,-44.73624801635742,-0.3659718930721283,29.52859115600586,-33.9195442199707,-21.354001998901367,47.197601318359375,-25.95299530029297,-9.404669761657715,-25.279829025268555,43.95787811279297,-30.826757431030273,-33.038639068603516,-20.049348831176758,32.620784759521484,4.759586811065674,96.79933166503906,-54.714088439941406,12.268207550048828,-66.5876235961914,34.96479797363281,19.616430282592773,-52.39189529418945,-32.96919250488281,-0.9138888716697693,22.825956344604492,30.0594539642334,2.607029914855957,20.276254653930664,-45.09782791137695,22.069746017456055],\"y\":[24.396615982055664,28.156137466430664,24.017780303955078,-19.813976287841797,-33.253013610839844,64.16329193115234,-48.05651092529297,-22.84172248840332,26.376413345336914,16.321327209472656,-41.88446044921875,4.080768585205078,51.89523696899414,-43.647422790527344,-22.773836135864258,-7.244113922119141,-31.793081283569336,18.5527286529541,50.22233200073242,-51.969539642333984,-9.730290412902832,20.77152442932129,-35.441184997558594,17.319778442382812,-25.1727294921875,32.57185363769531,-2.553673028945923,-20.632143020629883,-35.23390579223633,-56.72323989868164,-35.755985260009766,-57.70756530761719,-44.50297546386719,-25.507831573486328,-52.218204498291016,61.61119842529297,60.788482666015625,32.632057189941406,-28.61326026916504,-12.33652400970459,-2.5475687980651855,-43.67143630981445,7.586874485015869,25.02845573425293,-6.868382453918457,5.264897346496582,-42.38344192504883,11.254582405090332,16.831480026245117,-26.308225631713867,-34.05876922607422,-38.29344177246094,25.601818084716797,-37.973995208740234,-18.799909591674805,-7.533390998840332,-26.350849151611328,-11.194459915161133,-56.957611083984375,-10.698348045349121,16.455547332763672,75.70719909667969,53.05465316772461,-20.073177337646484,-32.698333740234375,-68.858642578125,-1.6660746335983276,11.120389938354492,40.63603210449219,28.736465454101562,37.89678955078125,-30.604280471801758,-4.067701816558838,-17.97089385986328,-8.147076606750488,-3.728891372680664,-9.911672592163086,-68.8829116821289,31.541500091552734,48.181766510009766,0.3895570635795593,-32.82084274291992,37.945987701416016,8.066493034362793,33.722129821777344,-30.224355697631836,83.58892822265625,-60.884765625,-1.3938441276550293,71.36648559570312,43.09990310668945,41.42289733886719,-9.046492576599121,-36.676475524902344,18.948354721069336,68.79226684570312,14.210565567016602,11.862334251403809,-9.620258331298828,-64.19630432128906,29.74399185180664,52.29534912109375,26.313039779663086,-13.491719245910645,-54.806549072265625,-27.885910034179688,-42.29134750366211,5.78420352935791,7.842543601989746,-46.70787811279297,-53.11458969116211,30.29473114013672,5.800415515899658,19.42247772216797,-8.352031707763672,-14.725600242614746,-38.627037048339844,-34.81869125366211,26.668813705444336,-26.42043113708496,-21.580997467041016,-34.03433609008789,13.746726989746094,2.9452404975891113,22.67548370361328,-19.471406936645508,0.04527837783098221,48.5112419128418,7.411890506744385,-42.119873046875,-65.58659362792969,-8.538702964782715,-35.15227508544922,-58.665855407714844,-11.7621431350708,55.8160400390625,-36.221073150634766,-46.68047332763672,18.393596649169922,-53.49805450439453,15.318272590637207,-45.97538375854492,-31.5921630859375,19.861286163330078,49.21799087524414,59.37971115112305,-35.795467376708984,-59.173187255859375,43.56315231323242,42.35307693481445,30.871326446533203,-32.08616256713867,1.1927627325057983,41.616668701171875,-53.62538146972656,9.30522632598877,-6.45363187789917,-37.43642807006836,75.2535629272461,6.620495796203613,-19.924335479736328,44.16516876220703,25.561662673950195,-62.31568145751953,10.987222671508789,66.28130340576172,28.212427139282227,-28.8228759765625,-19.58852195739746,1.4638615846633911,21.962543487548828,-16.734729766845703,-45.71791076660156,-43.707122802734375,-5.370356559753418,47.83305740356445,5.241117000579834,77.05030822753906,-17.013837814331055,-50.64793014526367,-15.669720649719238,-20.387168884277344,64.31476593017578,16.226116180419922,9.385403633117676,71.6500015258789,51.32236099243164,23.867979049682617,-7.3414835929870605,17.362796783447266,-59.14622116088867,17.04649543762207,75.5750732421875,41.16044235229492,9.234750747680664,-25.660253524780273,13.394868850708008,61.3388671875,42.184207916259766,-13.516976356506348,-2.935133457183838,11.254663467407227,44.66858673095703,64.85147857666016,18.82252311706543,-19.3776912689209,-12.06264591217041,-24.579696655273438,51.42254638671875,38.01498031616211,-2.2052059173583984,11.458041191101074,-25.32622718811035,26.70253562927246,-38.65522384643555,-5.919628143310547,11.216694831848145,-32.321983337402344,49.8594856262207,1.614611268043518,-0.5508804321289062,24.95157241821289,-48.77232360839844,-52.04545974731445,66.19450378417969,-25.560462951660156,-30.165441513061523,-12.088955879211426,32.054908752441406,-62.440242767333984,-49.82575988769531,-57.56721115112305,1.1323356628417969,62.98917770385742,-24.09993553161621,-50.24093246459961,-34.56618881225586,15.329960823059082,-22.48445701599121,-42.721923828125,25.451248168945312,18.33131217956543,-5.673472881317139,5.23058557510376,-0.6627529859542847,-8.965635299682617,-63.62549591064453,57.15550231933594,49.98357009887695,34.33277130126953,-64.78547668457031,-6.586747169494629,25.365337371826172,-50.3726921081543,-58.887908935546875,-25.323944091796875,32.807987213134766,19.112476348876953,7.530281066894531,35.22642517089844,22.349496841430664,1.9682121276855469,-50.152313232421875,19.578582763671875,-56.45943069458008,-57.43229293823242,18.613311767578125,-31.992074966430664,-0.17954809963703156,-21.313310623168945,-39.095584869384766,-5.558286666870117,-48.413673400878906,-15.438319206237793,-22.385787963867188,2.658517360687256,-25.24655532836914,-3.16184663772583,48.04397201538086,-4.162187576293945,35.265316009521484,27.193113327026367,17.353540420532227,-57.52738571166992,36.629859924316406,38.32038116455078,-8.308709144592285,-14.797041893005371,23.6319637298584,-33.109596252441406,45.938167572021484,-2.353712558746338,13.685720443725586,31.418941497802734,-38.051025390625,59.364681243896484,37.72118377685547,-16.449283599853516,46.43873596191406,21.091156005859375,6.312143325805664,41.56571578979492,-25.530086517333984,25.725465774536133,59.37575149536133,-31.88321876525879,17.85857582092285,0.4804230332374573,43.1568489074707,6.7981977462768555,-10.585379600524902,-5.759350299835205,-8.586528778076172,46.637882232666016,-22.45345115661621,-45.575523376464844,65.43714904785156,-24.169519424438477,52.276885986328125,36.143619537353516,-31.11394500732422,-15.96316909790039,61.2823371887207,-13.274173736572266,-8.816347122192383,15.307034492492676,-21.598312377929688,21.016162872314453,41.185218811035156,38.963138580322266,-40.43070602416992,-47.98218536376953,5.035391330718994,63.21453857421875,-29.276840209960938,-19.62862205505371,6.910616397857666,-40.11235046386719,-20.979516983032227,-18.186120986938477,26.16752815246582,-9.237456321716309,-6.385166168212891,-32.25551223754883,39.021331787109375,57.510066986083984,9.685336112976074,-14.863699913024902,-44.11603927612305,2.022751808166504,-11.744239807128906,6.755552768707275,24.794292449951172,32.7413215637207,-47.2796745300293,12.185765266418457,-10.594354629516602,14.65927505493164,-16.203243255615234,48.41141128540039,43.58761978149414,19.787555694580078,47.7452507019043,17.64826202392578,-29.282257080078125,-43.01914978027344,-40.97822189331055,-10.72630500793457,2.53930926322937,-24.395456314086914,33.73198699951172,31.004364013671875,-24.126441955566406,55.84990310668945,25.746517181396484,-0.007627332117408514,24.275775909423828,-14.004287719726562,60.444766998291016,0.6163134574890137,76.6591567993164,-54.19532775878906,-50.089439392089844,38.52090072631836,-17.115577697753906,-46.0640869140625,36.3579216003418,-25.66132354736328,6.390212535858154,-16.39056396484375,59.1236572265625,0.11519616842269897,41.415340423583984,-15.113130569458008,-33.92578125,22.679454803466797,5.628949165344238,12.955860137939453,-3.619072914123535,4.9602179527282715,0.9227662086486816,-37.62068176269531,-0.6074814200401306,13.716557502746582,2.3921737670898438,-40.65411376953125,-55.97050857543945,-37.727359771728516,-13.104032516479492,-20.20065689086914,3.839653730392456,65.10578918457031,-2.47542667388916,-11.054166793823242,-15.525984764099121,16.074756622314453,-12.487858772277832,-18.312833786010742,15.6329927444458,44.814208984375,-36.96356201171875,-6.274520397186279,19.414318084716797,37.08757400512695,-2.489697217941284,59.87749481201172,-3.9214515686035156,18.725008010864258,45.85657501220703,14.955900192260742,-30.471677780151367,-68.1300277709961,17.84037971496582,-7.26030969619751,23.366731643676758,17.37232780456543,-4.14954948425293,-16.996566772460938,15.903682708740234,-19.190101623535156,58.569278717041016,13.26678466796875,31.157482147216797,26.565292358398438,-33.723297119140625,-6.810993671417236,38.531410217285156,58.64006805419922,-41.80967330932617,48.458553314208984,-26.538021087646484,14.344398498535156,29.97974967956543,-14.751254081726074,-43.22976303100586,-47.28725814819336,-5.656978607177734,-70.79521179199219,-6.100401401519775,-65.76345825195312,-52.99411392211914,70.15455627441406,-29.82904624938965,23.04119300842285,18.142799377441406,52.186119079589844,-53.30381774902344,-70.61949157714844,0.2397160530090332,-51.19249725341797,-5.545735836029053,-23.97345733642578,-35.08670425415039,34.09916305541992,31.696250915527344,43.385780334472656,-12.896028518676758,48.769351959228516,28.368913650512695,49.01809310913086,-42.981929779052734,5.123030662536621,-26.111345291137695,10.073081970214844,42.217002868652344,-4.4418559074401855,17.882543563842773,17.057933807373047,2.820204734802246,-55.6792106628418,-27.616443634033203,4.002803802490234,45.71835708618164,61.14834976196289,33.840850830078125,31.337167739868164,-38.6585578918457,-40.73432922363281,5.064754009246826,-36.763084411621094],\"z\":[-29.566904067993164,-18.04790496826172,-37.07250213623047,39.6514892578125,-42.1840934753418,32.1693229675293,43.40256881713867,-112.5985336303711,0.8430248498916626,-42.841373443603516,1.185002088546753,31.743309020996094,37.895408630371094,-55.281944274902344,105.7615737915039,-96.67768096923828,46.662803649902344,-14.686566352844238,23.2044734954834,31.05082893371582,89.99071502685547,36.16094207763672,46.139530181884766,97.5946044921875,-63.94746017456055,-45.7683219909668,-75.31420135498047,-24.774017333984375,-92.72183227539062,-48.840328216552734,57.56266784667969,-21.476125717163086,-85.72453308105469,19.06942367553711,32.21041488647461,63.65673828125,16.862943649291992,19.52979850769043,9.703991889953613,-265.0692138671875,-39.489078521728516,77.1133804321289,81.8100814819336,-39.8518180847168,-60.381221771240234,30.544647216796875,-83.46409606933594,-11.91809368133545,26.468473434448242,92.70848083496094,-94.88650512695312,5.928251266479492,-11.932901382446289,60.660682678222656,100.31061553955078,81.67745208740234,45.98590087890625,40.87739181518555,-40.89989471435547,32.405757904052734,91.9236068725586,17.921964645385742,-81.45700073242188,-70.51680755615234,-17.319108963012695,6.388195514678955,114.30233001708984,-2.542968273162842,-30.241239547729492,62.566654205322266,82.56016540527344,7.326657295227051,13.256223678588867,66.08561706542969,-7.479132652282715,-2.8653340339660645,56.12205505371094,-44.47773742675781,-16.187549591064453,-25.8361759185791,78.005615234375,-72.26387786865234,41.28055191040039,39.915565490722656,47.16130447387695,-0.47704967856407166,7.120921611785889,-13.636465072631836,-86.54017639160156,17.826324462890625,-28.152631759643555,94.78042602539062,21.424991607666016,-21.87679100036621,-24.30000877380371,-31.54688835144043,-4.356419563293457,-40.467098236083984,-71.0308837890625,-59.26879119873047,-76.5268325805664,-44.4156494140625,-69.04268646240234,61.629390716552734,-19.76637077331543,50.1690673828125,3.422560453414917,26.908227920532227,45.65511703491211,43.95191192626953,74.30292510986328,86.11659240722656,-47.129539489746094,73.6200942993164,-62.14540100097656,21.024829864501953,26.08640480041504,76.10665893554688,-74.79000091552734,50.00845718383789,-25.92768669128418,87.61052703857422,66.3504867553711,37.20579147338867,-55.17890548706055,-56.28273391723633,-6.03803825378418,-64.73885345458984,-20.751218795776367,-9.245893478393555,-41.329132080078125,-40.50238037109375,-51.43669891357422,-33.6530647277832,-39.9041633605957,-6.141606330871582,-55.371490478515625,99.59111785888672,33.42237091064453,27.619220733642578,77.6209487915039,-19.338462829589844,-88.95062255859375,45.6552734375,-81.5916519165039,-40.476810455322266,107.6658706665039,-7.745776176452637,-12.325117111206055,47.89875793457031,93.69609069824219,13.305587768554688,45.97370147705078,19.629552841186523,53.98116683959961,-57.46916961669922,31.960758209228516,-72.423828125,-34.26432800292969,40.53306198120117,60.53279113769531,65.816162109375,32.2735595703125,-55.627017974853516,94.42203521728516,-32.81002426147461,-4.937647342681885,-29.32718849182129,-12.23101806640625,95.7301025390625,34.29644012451172,-39.98183822631836,-6.474245071411133,-11.527192115783691,28.247568130493164,-17.79564094543457,-87.20963287353516,-46.044368743896484,84.78699493408203,33.450035095214844,-18.749269485473633,24.227134704589844,-91.39933013916016,-24.88496971130371,105.64115142822266,-2.5359885692596436,75.84252166748047,82.9999008178711,68.93334197998047,70.70718383789062,-15.305413246154785,-58.68197250366211,-25.142921447753906,6.006308555603027,-89.19801330566406,-24.74413299560547,58.262142181396484,-63.87895584106445,31.420482635498047,1.7938534021377563,11.903044700622559,-14.84194564819336,-43.54304122924805,10.7890625,35.34891891479492,28.546117782592773,-85.02654266357422,96.15916442871094,-56.1540641784668,92.72513580322266,17.512304306030273,93.19522094726562,-73.48319244384766,96.62081909179688,40.079959869384766,-65.20789337158203,-30.159852981567383,-7.028181552886963,73.48604583740234,-80.80028533935547,26.649492263793945,-49.629905700683594,-15.396617889404297,-22.927993774414062,-77.0941390991211,26.186115264892578,-81.38993835449219,34.95771789550781,63.28792953491211,10.720314979553223,-75.82028198242188,9.651290893554688,-27.246545791625977,17.265718460083008,-78.28570556640625,5.863105773925781,23.714113235473633,-5.248862266540527,-69.12887573242188,-56.44597625732422,-31.17171859741211,44.914398193359375,-18.427907943725586,-20.124353408813477,-75.20138549804688,-90.78968048095703,27.26436996459961,35.08700180053711,-0.08132574707269669,22.683671951293945,31.885887145996094,60.454811096191406,-27.362661361694336,-65.40900421142578,63.1534309387207,60.3060188293457,9.737351417541504,-0.0448133759200573,64.61871337890625,10.241963386535645,48.605918884277344,12.421090126037598,41.876922607421875,-90.43560028076172,19.088167190551758,-47.3861198425293,82.70301055908203,-53.45913314819336,111.63714599609375,-47.23746109008789,-18.151472091674805,-55.153133392333984,-8.037130355834961,-19.967220306396484,7.363977909088135,-50.55952453613281,5.993587493896484,95.05679321289062,18.497196197509766,86.54285430908203,84.17452239990234,5.511854648590088,-19.357234954833984,-15.52066421508789,-14.12292194366455,-46.757789611816406,-20.838905334472656,12.171954154968262,-40.8004150390625,-5.584111213684082,-2.5738415718078613,-82.77136993408203,-81.47278594970703,-56.17024230957031,21.276235580444336,-7.04985237121582,75.70532989501953,83.83122253417969,-34.5105094909668,-27.968151092529297,65.50162506103516,62.76345443725586,71.2344741821289,80.46157836914062,50.99309539794922,95.13983917236328,-0.12830224633216858,-97.31170654296875,-35.4149055480957,-34.65040969848633,101.68498992919922,-21.993091583251953,-71.32786560058594,-66.71392059326172,-45.71350860595703,62.625728607177734,42.43898391723633,-11.941739082336426,7.344128131866455,-15.017448425292969,30.84139060974121,-101.94558715820312,-11.312729835510254,7.401208877563477,47.09638214111328,60.480567932128906,82.39832305908203,-49.088871002197266,-27.606687545776367,-2.34053897857666,16.34405517578125,-44.542724609375,17.490049362182617,53.0766487121582,-83.07288360595703,-50.246334075927734,52.72942352294922,92.2160415649414,-63.9830436706543,98.29684448242188,17.31502914428711,94.6961441040039,-61.33113098144531,52.54082489013672,-88.30864715576172,-69.08165740966797,-2.8831307888031006,1.6080141067504883,-41.61266326904297,-11.613954544067383,-5.280274391174316,-68.24016571044922,43.941810607910156,-56.3502197265625,15.313196182250977,-66.47048950195312,84.908203125,-22.314321517944336,45.80558395385742,50.411399841308594,3.68442440032959,-41.85054016113281,-20.054271697998047,-46.661903381347656,-56.9448127746582,-18.821243286132812,60.582706451416016,-19.651405334472656,-50.46403503417969,-71.96167755126953,-29.20535659790039,30.8430233001709,-97.71456146240234,-16.370555877685547,51.88761901855469,-37.721519470214844,55.17737579345703,12.995779991149902,67.0865478515625,-78.58372497558594,38.504268646240234,-1.9391289949417114,13.922033309936523,37.12779998779297,-81.95008850097656,-82.81964874267578,61.65892028808594,-50.77540969848633,-69.89607238769531,45.940208435058594,-3.545522689819336,10.95418643951416,43.89834213256836,-54.752601623535156,-41.376712799072266,56.43417739868164,-8.352789878845215,-77.10041809082031,57.53043746948242,38.687828063964844,84.04280853271484,-12.253708839416504,-52.612281799316406,111.55852508544922,-32.20523452758789,-48.49090576171875,4.550741195678711,40.083133697509766,-36.96559143066406,69.37968444824219,55.90446853637695,-4.967484474182129,79.35726928710938,-3.5074446201324463,-37.999210357666016,7.948816776275635,105.7995834350586,23.386280059814453,-67.20777130126953,-53.87287902832031,31.27263832092285,-62.933738708496094,23.631053924560547,21.723522186279297,-105.17411804199219,-20.673906326293945,-100.60516357421875,3.4369029998779297,27.25971221923828,18.140548706054688,61.0552864074707,-9.176884651184082,1.376222014427185,62.80982208251953,-26.05139923095703,68.5560302734375,10.255910873413086,-79.89116668701172,27.56703758239746,-10.825541496276855,-84.50548553466797,-17.103179931640625,29.63213348388672,-13.370686531066895,-30.584165573120117,-1.6166155338287354,40.380924224853516,39.00468444824219,11.668285369873047,-76.4740219116211,-6.6330461502075195,13.130256652832031,-2.6864166259765625,62.282371520996094,-33.65391159057617,-31.30835723876953,-6.331079006195068,-1.3970143795013428,-76.56037902832031,-10.406012535095215,-36.712100982666016,-51.59019088745117,-67.11791229248047,63.99454879760742,-79.26995849609375,-50.734344482421875,25.76945686340332,-23.083417892456055,110.2708969116211,-36.795143127441406,-40.206138610839844,62.83307647705078,-75.24308013916016,-20.049510955810547,18.906505584716797,27.024904251098633,-59.19765853881836,-93.62772369384766,-32.26964569091797,49.40407180786133,-55.98506546020508,90.60467529296875,30.880451202392578,54.93851089477539,-20.020051956176758,-5.1090850830078125,20.714622497558594,-54.58812713623047,19.229141235351562,48.657737731933594,-33.308265686035156,53.371185302734375,-51.75103759765625,27.626554489135742,18.524747848510742,108.4540786743164,-71.27849578857422,-84.8093490600586,64.90530395507812,67.91658782958984],\"type\":\"scatter3d\"}],                        {\"template\":{\"data\":{\"histogram2dcontour\":[{\"type\":\"histogram2dcontour\",\"colorbar\":{\"outlinewidth\":0,\"ticks\":\"\"},\"colorscale\":[[0.0,\"#0d0887\"],[0.1111111111111111,\"#46039f\"],[0.2222222222222222,\"#7201a8\"],[0.3333333333333333,\"#9c179e\"],[0.4444444444444444,\"#bd3786\"],[0.5555555555555556,\"#d8576b\"],[0.6666666666666666,\"#ed7953\"],[0.7777777777777778,\"#fb9f3a\"],[0.8888888888888888,\"#fdca26\"],[1.0,\"#f0f921\"]]}],\"choropleth\":[{\"type\":\"choropleth\",\"colorbar\":{\"outlinewidth\":0,\"ticks\":\"\"}}],\"histogram2d\":[{\"type\":\"histogram2d\",\"colorbar\":{\"outlinewidth\":0,\"ticks\":\"\"},\"colorscale\":[[0.0,\"#0d0887\"],[0.1111111111111111,\"#46039f\"],[0.2222222222222222,\"#7201a8\"],[0.3333333333333333,\"#9c179e\"],[0.4444444444444444,\"#bd3786\"],[0.5555555555555556,\"#d8576b\"],[0.6666666666666666,\"#ed7953\"],[0.7777777777777778,\"#fb9f3a\"],[0.8888888888888888,\"#fdca26\"],[1.0,\"#f0f921\"]]}],\"heatmap\":[{\"type\":\"heatmap\",\"colorbar\":{\"outlinewidth\":0,\"ticks\":\"\"},\"colorscale\":[[0.0,\"#0d0887\"],[0.1111111111111111,\"#46039f\"],[0.2222222222222222,\"#7201a8\"],[0.3333333333333333,\"#9c179e\"],[0.4444444444444444,\"#bd3786\"],[0.5555555555555556,\"#d8576b\"],[0.6666666666666666,\"#ed7953\"],[0.7777777777777778,\"#fb9f3a\"],[0.8888888888888888,\"#fdca26\"],[1.0,\"#f0f921\"]]}],\"heatmapgl\":[{\"type\":\"heatmapgl\",\"colorbar\":{\"outlinewidth\":0,\"ticks\":\"\"},\"colorscale\":[[0.0,\"#0d0887\"],[0.1111111111111111,\"#46039f\"],[0.2222222222222222,\"#7201a8\"],[0.3333333333333333,\"#9c179e\"],[0.4444444444444444,\"#bd3786\"],[0.5555555555555556,\"#d8576b\"],[0.6666666666666666,\"#ed7953\"],[0.7777777777777778,\"#fb9f3a\"],[0.8888888888888888,\"#fdca26\"],[1.0,\"#f0f921\"]]}],\"contourcarpet\":[{\"type\":\"contourcarpet\",\"colorbar\":{\"outlinewidth\":0,\"ticks\":\"\"}}],\"contour\":[{\"type\":\"contour\",\"colorbar\":{\"outlinewidth\":0,\"ticks\":\"\"},\"colorscale\":[[0.0,\"#0d0887\"],[0.1111111111111111,\"#46039f\"],[0.2222222222222222,\"#7201a8\"],[0.3333333333333333,\"#9c179e\"],[0.4444444444444444,\"#bd3786\"],[0.5555555555555556,\"#d8576b\"],[0.6666666666666666,\"#ed7953\"],[0.7777777777777778,\"#fb9f3a\"],[0.8888888888888888,\"#fdca26\"],[1.0,\"#f0f921\"]]}],\"surface\":[{\"type\":\"surface\",\"colorbar\":{\"outlinewidth\":0,\"ticks\":\"\"},\"colorscale\":[[0.0,\"#0d0887\"],[0.1111111111111111,\"#46039f\"],[0.2222222222222222,\"#7201a8\"],[0.3333333333333333,\"#9c179e\"],[0.4444444444444444,\"#bd3786\"],[0.5555555555555556,\"#d8576b\"],[0.6666666666666666,\"#ed7953\"],[0.7777777777777778,\"#fb9f3a\"],[0.8888888888888888,\"#fdca26\"],[1.0,\"#f0f921\"]]}],\"mesh3d\":[{\"type\":\"mesh3d\",\"colorbar\":{\"outlinewidth\":0,\"ticks\":\"\"}}],\"scatter\":[{\"fillpattern\":{\"fillmode\":\"overlay\",\"size\":10,\"solidity\":0.2},\"type\":\"scatter\"}],\"parcoords\":[{\"type\":\"parcoords\",\"line\":{\"colorbar\":{\"outlinewidth\":0,\"ticks\":\"\"}}}],\"scatterpolargl\":[{\"type\":\"scatterpolargl\",\"marker\":{\"colorbar\":{\"outlinewidth\":0,\"ticks\":\"\"}}}],\"bar\":[{\"error_x\":{\"color\":\"#2a3f5f\"},\"error_y\":{\"color\":\"#2a3f5f\"},\"marker\":{\"line\":{\"color\":\"#E5ECF6\",\"width\":0.5},\"pattern\":{\"fillmode\":\"overlay\",\"size\":10,\"solidity\":0.2}},\"type\":\"bar\"}],\"scattergeo\":[{\"type\":\"scattergeo\",\"marker\":{\"colorbar\":{\"outlinewidth\":0,\"ticks\":\"\"}}}],\"scatterpolar\":[{\"type\":\"scatterpolar\",\"marker\":{\"colorbar\":{\"outlinewidth\":0,\"ticks\":\"\"}}}],\"histogram\":[{\"marker\":{\"pattern\":{\"fillmode\":\"overlay\",\"size\":10,\"solidity\":0.2}},\"type\":\"histogram\"}],\"scattergl\":[{\"type\":\"scattergl\",\"marker\":{\"colorbar\":{\"outlinewidth\":0,\"ticks\":\"\"}}}],\"scatter3d\":[{\"type\":\"scatter3d\",\"line\":{\"colorbar\":{\"outlinewidth\":0,\"ticks\":\"\"}},\"marker\":{\"colorbar\":{\"outlinewidth\":0,\"ticks\":\"\"}}}],\"scattermapbox\":[{\"type\":\"scattermapbox\",\"marker\":{\"colorbar\":{\"outlinewidth\":0,\"ticks\":\"\"}}}],\"scatterternary\":[{\"type\":\"scatterternary\",\"marker\":{\"colorbar\":{\"outlinewidth\":0,\"ticks\":\"\"}}}],\"scattercarpet\":[{\"type\":\"scattercarpet\",\"marker\":{\"colorbar\":{\"outlinewidth\":0,\"ticks\":\"\"}}}],\"carpet\":[{\"aaxis\":{\"endlinecolor\":\"#2a3f5f\",\"gridcolor\":\"white\",\"linecolor\":\"white\",\"minorgridcolor\":\"white\",\"startlinecolor\":\"#2a3f5f\"},\"baxis\":{\"endlinecolor\":\"#2a3f5f\",\"gridcolor\":\"white\",\"linecolor\":\"white\",\"minorgridcolor\":\"white\",\"startlinecolor\":\"#2a3f5f\"},\"type\":\"carpet\"}],\"table\":[{\"cells\":{\"fill\":{\"color\":\"#EBF0F8\"},\"line\":{\"color\":\"white\"}},\"header\":{\"fill\":{\"color\":\"#C8D4E3\"},\"line\":{\"color\":\"white\"}},\"type\":\"table\"}],\"barpolar\":[{\"marker\":{\"line\":{\"color\":\"#E5ECF6\",\"width\":0.5},\"pattern\":{\"fillmode\":\"overlay\",\"size\":10,\"solidity\":0.2}},\"type\":\"barpolar\"}],\"pie\":[{\"automargin\":true,\"type\":\"pie\"}]},\"layout\":{\"autotypenumbers\":\"strict\",\"colorway\":[\"#636efa\",\"#EF553B\",\"#00cc96\",\"#ab63fa\",\"#FFA15A\",\"#19d3f3\",\"#FF6692\",\"#B6E880\",\"#FF97FF\",\"#FECB52\"],\"font\":{\"color\":\"#2a3f5f\"},\"hovermode\":\"closest\",\"hoverlabel\":{\"align\":\"left\"},\"paper_bgcolor\":\"white\",\"plot_bgcolor\":\"#E5ECF6\",\"polar\":{\"bgcolor\":\"#E5ECF6\",\"angularaxis\":{\"gridcolor\":\"white\",\"linecolor\":\"white\",\"ticks\":\"\"},\"radialaxis\":{\"gridcolor\":\"white\",\"linecolor\":\"white\",\"ticks\":\"\"}},\"ternary\":{\"bgcolor\":\"#E5ECF6\",\"aaxis\":{\"gridcolor\":\"white\",\"linecolor\":\"white\",\"ticks\":\"\"},\"baxis\":{\"gridcolor\":\"white\",\"linecolor\":\"white\",\"ticks\":\"\"},\"caxis\":{\"gridcolor\":\"white\",\"linecolor\":\"white\",\"ticks\":\"\"}},\"coloraxis\":{\"colorbar\":{\"outlinewidth\":0,\"ticks\":\"\"}},\"colorscale\":{\"sequential\":[[0.0,\"#0d0887\"],[0.1111111111111111,\"#46039f\"],[0.2222222222222222,\"#7201a8\"],[0.3333333333333333,\"#9c179e\"],[0.4444444444444444,\"#bd3786\"],[0.5555555555555556,\"#d8576b\"],[0.6666666666666666,\"#ed7953\"],[0.7777777777777778,\"#fb9f3a\"],[0.8888888888888888,\"#fdca26\"],[1.0,\"#f0f921\"]],\"sequentialminus\":[[0.0,\"#0d0887\"],[0.1111111111111111,\"#46039f\"],[0.2222222222222222,\"#7201a8\"],[0.3333333333333333,\"#9c179e\"],[0.4444444444444444,\"#bd3786\"],[0.5555555555555556,\"#d8576b\"],[0.6666666666666666,\"#ed7953\"],[0.7777777777777778,\"#fb9f3a\"],[0.8888888888888888,\"#fdca26\"],[1.0,\"#f0f921\"]],\"diverging\":[[0,\"#8e0152\"],[0.1,\"#c51b7d\"],[0.2,\"#de77ae\"],[0.3,\"#f1b6da\"],[0.4,\"#fde0ef\"],[0.5,\"#f7f7f7\"],[0.6,\"#e6f5d0\"],[0.7,\"#b8e186\"],[0.8,\"#7fbc41\"],[0.9,\"#4d9221\"],[1,\"#276419\"]]},\"xaxis\":{\"gridcolor\":\"white\",\"linecolor\":\"white\",\"ticks\":\"\",\"title\":{\"standoff\":15},\"zerolinecolor\":\"white\",\"automargin\":true,\"zerolinewidth\":2},\"yaxis\":{\"gridcolor\":\"white\",\"linecolor\":\"white\",\"ticks\":\"\",\"title\":{\"standoff\":15},\"zerolinecolor\":\"white\",\"automargin\":true,\"zerolinewidth\":2},\"scene\":{\"xaxis\":{\"backgroundcolor\":\"#E5ECF6\",\"gridcolor\":\"white\",\"linecolor\":\"white\",\"showbackground\":true,\"ticks\":\"\",\"zerolinecolor\":\"white\",\"gridwidth\":2},\"yaxis\":{\"backgroundcolor\":\"#E5ECF6\",\"gridcolor\":\"white\",\"linecolor\":\"white\",\"showbackground\":true,\"ticks\":\"\",\"zerolinecolor\":\"white\",\"gridwidth\":2},\"zaxis\":{\"backgroundcolor\":\"#E5ECF6\",\"gridcolor\":\"white\",\"linecolor\":\"white\",\"showbackground\":true,\"ticks\":\"\",\"zerolinecolor\":\"white\",\"gridwidth\":2}},\"shapedefaults\":{\"line\":{\"color\":\"#2a3f5f\"}},\"annotationdefaults\":{\"arrowcolor\":\"#2a3f5f\",\"arrowhead\":0,\"arrowwidth\":1},\"geo\":{\"bgcolor\":\"white\",\"landcolor\":\"#E5ECF6\",\"subunitcolor\":\"white\",\"showland\":true,\"showlakes\":true,\"lakecolor\":\"white\"},\"title\":{\"x\":0.05},\"mapbox\":{\"style\":\"light\"}}},\"scene\":{\"domain\":{\"x\":[0.0,1.0],\"y\":[0.0,1.0]},\"xaxis\":{\"title\":{\"text\":\"x\"}},\"yaxis\":{\"title\":{\"text\":\"y\"}},\"zaxis\":{\"title\":{\"text\":\"z\"}}},\"legend\":{\"tracegroupgap\":0},\"margin\":{\"t\":60}},                        {\"responsive\": true}                    ).then(function(){\n",
              "                            \n",
              "var gd = document.getElementById('98dca971-8b68-4099-8aba-2403ec7fbf00');\n",
              "var x = new MutationObserver(function (mutations, observer) {{\n",
              "        var display = window.getComputedStyle(gd).display;\n",
              "        if (!display || display === 'none') {{\n",
              "            console.log([gd, 'removed!']);\n",
              "            Plotly.purge(gd);\n",
              "            observer.disconnect();\n",
              "        }}\n",
              "}});\n",
              "\n",
              "// Listen for the removal of the full notebook cells\n",
              "var notebookContainer = gd.closest('#notebook-container');\n",
              "if (notebookContainer) {{\n",
              "    x.observe(notebookContainer, {childList: true});\n",
              "}}\n",
              "\n",
              "// Listen for the clearing of the current output cell\n",
              "var outputEl = gd.closest('.output');\n",
              "if (outputEl) {{\n",
              "    x.observe(outputEl, {childList: true});\n",
              "}}\n",
              "\n",
              "                        })                };                            </script>        </div>\n",
              "</body>\n",
              "</html>"
            ]
          },
          "metadata": {}
        }
      ],
      "source": [
        "import plotly.express as px\n",
        "\n",
        "fig = px.scatter_3d(x=x, y=y, z=z)\n",
        "fig.update_traces(marker=dict(size=3,line=dict(width=2)))\n",
        "fig.show()"
      ]
    },
    {
      "cell_type": "markdown",
      "metadata": {
        "id": "b4AIuIruYHlL"
      },
      "source": [
        "Well that's a not a particularly interesting 3d plot!\n",
        "- How about we label some of the points on the graph to see what words they correspond to:"
      ]
    },
    {
      "cell_type": "code",
      "execution_count": 18,
      "metadata": {
        "colab": {
          "base_uri": "https://localhost:8080/",
          "height": 542
        },
        "id": "nwF1aJAQy9YY",
        "outputId": "6aa76714-b7d2-4685-b025-c22d3dffdf82"
      },
      "outputs": [
        {
          "output_type": "display_data",
          "data": {
            "text/html": [
              "<html>\n",
              "<head><meta charset=\"utf-8\" /></head>\n",
              "<body>\n",
              "    <div>            <script src=\"https://cdnjs.cloudflare.com/ajax/libs/mathjax/2.7.5/MathJax.js?config=TeX-AMS-MML_SVG\"></script><script type=\"text/javascript\">if (window.MathJax && window.MathJax.Hub && window.MathJax.Hub.Config) {window.MathJax.Hub.Config({SVG: {font: \"STIX-Web\"}});}</script>                <script type=\"text/javascript\">window.PlotlyConfig = {MathJaxConfig: 'local'};</script>\n",
              "        <script charset=\"utf-8\" src=\"https://cdn.plot.ly/plotly-2.24.1.min.js\"></script>                <div id=\"c9537982-341a-4403-94f4-624ee6919b8a\" class=\"plotly-graph-div\" style=\"height:525px; width:100%;\"></div>            <script type=\"text/javascript\">                                    window.PLOTLYENV=window.PLOTLYENV || {};                                    if (document.getElementById(\"c9537982-341a-4403-94f4-624ee6919b8a\")) {                    Plotly.newPlot(                        \"c9537982-341a-4403-94f4-624ee6919b8a\",                        [{\"hovertemplate\":\"x=%{x}\\u003cbr\\u003ey=%{y}\\u003cbr\\u003ez=%{z}\\u003cbr\\u003etext=%{text}\\u003cextra\\u003e\\u003c\\u002fextra\\u003e\",\"legendgroup\":\"\",\"marker\":{\"color\":\"#636efa\",\"symbol\":\"circle\",\"line\":{\"width\":2},\"size\":3},\"mode\":\"markers+text\",\"name\":\"\",\"scene\":\"scene\",\"showlegend\":false,\"text\":[\"hooking\",\"woods\",\"perform\",\"indiscriminately\",\"electronically\",\"29th\",\"conferencing\",\"escrow\",\"rapes\",\"crazy\",\"xli\",\"miniscule\",\"beaufait\",\"marketing\",\"amusement\",\"attack\",\"icol\",\"dont\",\"legion\",\"ndw\",\"discretionary\",\"novels\",\"procurement\",\"diplomacy\",\"thereof\",\"carry\",\"revolutionary\",\"limited\",\"titan\",\"lists\",\"massager\",\"keyboard\",\"others\",\"personalities\",\"macx\",\"baseman\",\"palace\",\"636\",\"originating\",\"noticing\",\"thrust\",\"typist\",\"jurk\",\"killer\",\"failure\",\"iv\",\"drugs\",\"889\",\"protestants\",\"generalize\",\"development\",\"meanings\",\"accusations\",\"neccessary\",\"lump\",\"auditorium\",\"ons\",\"polyanna\",\"feedback\",\"easiest\",\"khz\",\"chronicle\",\"kept\",\"extent\",\"problematic\",\"errors\",\"phases\",\"arcade\",\"horn\",\"tsn\",\"r4c\",\"float\",\"zt\",\"obscurity\",\"easy\",\"ohms\",\"colitis\",\"directory\",\"darling\",\"proverbial\",\"transferable\",\"10\",\"f4\",\"chuckle\",\"nx2000\",\"creates\",\"attended\",\"dwarf\",\"jersey\",\"credited\",\"nba\",\"pmf9l3\",\"exitval\",\"robotics\",\"zoroastrianism\",\"dream\",\"worse\",\"1980s\",\"madison\",\"available\",\"burning\",\"hitting\",\"fleet\",\"distributing\",\"olympus\",\"agendas\",\"2mb\",\"16h\",\"mc8v\",\"scam\",\"recorder\",\"qveiq\",\"needles\",\"mdt\",\"wright\",\"elastic\",\"keymap\",\"puzzled\",\"prophet\",\"curses\",\"verbal\",\"astemizole\",\"goat\",\"suspects\",\"pot\",\"214\",\"negotiated\",\"stood\",\"imperfect\",\"semiautomatic\",\"blocks\",\"jeremy\",\"stanford\",\"readme\",\"closure\",\"militello\",\"formal\",\"suv\",\"goaltending\",\"securing\",\"rumours\",\"sun4\",\"economic\",\"j1d\",\"threw\",\"cop\",\"pbs\",\"pixel\",\"wilkinson\",\"boxscores\",\"86yd\",\"enviroment\",\"sane\",\"eurocrypt\",\"intensify\",\"terry\",\"trimmed\",\"financial\",\"luke\",\"asset\",\"specialize\",\"m34u\",\"q5m\",\"appreciated\",\"negation\",\"matt\",\"paseo\",\"pays\",\"fixing\",\"osiris\",\"mc8\",\"fitting\",\"sao\",\"performance\",\"xtianity\",\"say\",\"britain\",\"mouth\",\"commodity\",\"identifier\",\"arbitrary\",\"angular\",\"turned\",\"envy\",\"skeptics\",\"talented\",\"openwinhome\",\"mk145\",\"nutek\",\"63q\",\"route\",\"limbaugh\",\"surprise\",\"fredrik\",\"indians\",\"indicates\",\"61d\",\"rode\",\"huntington\",\"await\"],\"x\":[30.373611450195312,-10.951725006103516,73.38450622558594,-75.55948638916016,2.042900562286377,-43.051475524902344,-20.66560935974121,-22.83895492553711,-24.293561935424805,-73.61024475097656,14.861703872680664,-25.300443649291992,-28.848033905029297,-4.80512809753418,3.4725940227508545,-31.90430450439453,-6.49594783782959,-84.63407897949219,-23.04078483581543,49.595458984375,-60.1229248046875,-62.39081573486328,-39.401649475097656,-21.913476943969727,-37.24204635620117,79.14128875732422,-19.914182662963867,75.59222412109375,27.636341094970703,40.68932342529297,-13.239139556884766,79.5177001953125,-53.41816329956055,-61.87260437011719,35.50934982299805,-20.902223587036133,-41.41535568237305,7.452727794647217,3.64552640914917,78.01996612548828,-13.202970504760742,-22.421314239501953,-17.294397354125977,-3.456918954849243,-38.59730529785156,74.44194793701172,-41.063720703125,6.362463474273682,-76.90087890625,-27.459165573120117,-12.333867073059082,-56.02744674682617,-50.48509979248047,-61.8065071105957,-17.84454345703125,31.68302345275879,-26.112751007080078,-15.063027381896973,-16.907861709594727,29.29998207092285,45.55335235595703,-2.038112163543701,-16.225631713867188,-52.597625732421875,-44.77185821533203,50.236175537109375,-5.021525859832764,29.898269653320312,31.65294075012207,-6.705241680145264,32.27852249145508,29.730276107788086,7.447074890136719,-72.8111572265625,79.95653533935547,47.038818359375,-61.03728103637695,62.93071365356445,22.530420303344727,-45.89410400390625,-4.175370216369629,80.63007354736328,33.809959411621094,-6.4099650382995605,12.350878715515137,52.74011993408203,-1.6706527471542358,0.29708194732666016,65.84370422363281,26.01622200012207,-11.086423873901367,17.94367218017578,-19.171436309814453,5.545258522033691,-39.498287200927734,22.031829833984375,65.61506652832031,-15.560710906982422,23.206560134887695,61.802940368652344,-9.801216125488281,41.67151641845703,7.499233722686768,29.057716369628906,-8.784769058227539,-52.3118896484375,76.71454620361328,8.200830459594727,45.47257614135742,-36.954429626464844,29.241004943847656,2.669452428817749,3.175302028656006,-3.587674140930176,9.112217903137207,-33.81709289550781,19.113418579101562,-3.558377504348755,-44.402523040771484,18.99135398864746,-37.95560836791992,-40.9434814453125,-19.423828125,-61.444087982177734,-13.033038139343262,60.98439025878906,-10.690505027770996,-28.71225929260254,-54.1378059387207,-18.390705108642578,17.172847747802734,26.663814544677734,54.909400939941406,47.96427536010742,5.794007301330566,7.8563642501831055,-47.66452407836914,-17.04886817932129,-27.003753662109375,-37.305259704589844,-29.749834060668945,35.41731262207031,-30.143882751464844,35.07048416137695,-1.4474892616271973,18.438796997070312,26.59878921508789,73.15703582763672,-14.974782943725586,-22.5329647064209,33.595218658447266,-21.03677749633789,-88.63780975341797,-7.069422245025635,-45.57634735107422,36.17123794555664,7.053853988647461,-14.104222297668457,-20.784252166748047,-43.62398147583008,-40.88124465942383,42.850547790527344,39.03463363647461,-12.384978294372559,-7.592886447906494,-11.595015525817871,2.06907057762146,-18.5118465423584,30.374666213989258,2.8699820041656494,59.42345428466797,-8.972766876220703,-1.329197645187378,71.9964370727539,-48.38038635253906,84.24468994140625,-13.280038833618164,13.679116249084473,-3.0591135025024414,3.0000956058502197,65.06254577636719,-9.451201438903809,-11.99753189086914,-25.334142684936523,-38.17326736450195,-27.08379364013672,0.5318890810012817,16.863222122192383,-0.13663631677627563,11.202524185180664,25.298316955566406,-50.87269592285156,14.922568321228027,5.805556774139404,42.69759750366211,-64.0546646118164,-1.6515424251556396,4.994663715362549,-3.478785514831543,-39.643821716308594],\"y\":[24.396615982055664,28.156137466430664,24.017780303955078,-19.813976287841797,-33.253013610839844,64.16329193115234,-48.05651092529297,-22.84172248840332,26.376413345336914,16.321327209472656,-41.88446044921875,4.080768585205078,51.89523696899414,-43.647422790527344,-22.773836135864258,-7.244113922119141,-31.793081283569336,18.5527286529541,50.22233200073242,-51.969539642333984,-9.730290412902832,20.77152442932129,-35.441184997558594,17.319778442382812,-25.1727294921875,32.57185363769531,-2.553673028945923,-20.632143020629883,-35.23390579223633,-56.72323989868164,-35.755985260009766,-57.70756530761719,-44.50297546386719,-25.507831573486328,-52.218204498291016,61.61119842529297,60.788482666015625,32.632057189941406,-28.61326026916504,-12.33652400970459,-2.5475687980651855,-43.67143630981445,7.586874485015869,25.02845573425293,-6.868382453918457,5.264897346496582,-42.38344192504883,11.254582405090332,16.831480026245117,-26.308225631713867,-34.05876922607422,-38.29344177246094,25.601818084716797,-37.973995208740234,-18.799909591674805,-7.533390998840332,-26.350849151611328,-11.194459915161133,-56.957611083984375,-10.698348045349121,16.455547332763672,75.70719909667969,53.05465316772461,-20.073177337646484,-32.698333740234375,-68.858642578125,-1.6660746335983276,11.120389938354492,40.63603210449219,28.736465454101562,37.89678955078125,-30.604280471801758,-4.067701816558838,-17.97089385986328,-8.147076606750488,-3.728891372680664,-9.911672592163086,-68.8829116821289,31.541500091552734,48.181766510009766,0.3895570635795593,-32.82084274291992,37.945987701416016,8.066493034362793,33.722129821777344,-30.224355697631836,83.58892822265625,-60.884765625,-1.3938441276550293,71.36648559570312,43.09990310668945,41.42289733886719,-9.046492576599121,-36.676475524902344,18.948354721069336,68.79226684570312,14.210565567016602,11.862334251403809,-9.620258331298828,-64.19630432128906,29.74399185180664,52.29534912109375,26.313039779663086,-13.491719245910645,-54.806549072265625,-27.885910034179688,-42.29134750366211,5.78420352935791,7.842543601989746,-46.70787811279297,-53.11458969116211,30.29473114013672,5.800415515899658,19.42247772216797,-8.352031707763672,-14.725600242614746,-38.627037048339844,-34.81869125366211,26.668813705444336,-26.42043113708496,-21.580997467041016,-34.03433609008789,13.746726989746094,2.9452404975891113,22.67548370361328,-19.471406936645508,0.04527837783098221,48.5112419128418,7.411890506744385,-42.119873046875,-65.58659362792969,-8.538702964782715,-35.15227508544922,-58.665855407714844,-11.7621431350708,55.8160400390625,-36.221073150634766,-46.68047332763672,18.393596649169922,-53.49805450439453,15.318272590637207,-45.97538375854492,-31.5921630859375,19.861286163330078,49.21799087524414,59.37971115112305,-35.795467376708984,-59.173187255859375,43.56315231323242,42.35307693481445,30.871326446533203,-32.08616256713867,1.1927627325057983,41.616668701171875,-53.62538146972656,9.30522632598877,-6.45363187789917,-37.43642807006836,75.2535629272461,6.620495796203613,-19.924335479736328,44.16516876220703,25.561662673950195,-62.31568145751953,10.987222671508789,66.28130340576172,28.212427139282227,-28.8228759765625,-19.58852195739746,1.4638615846633911,21.962543487548828,-16.734729766845703,-45.71791076660156,-43.707122802734375,-5.370356559753418,47.83305740356445,5.241117000579834,77.05030822753906,-17.013837814331055,-50.64793014526367,-15.669720649719238,-20.387168884277344,64.31476593017578,16.226116180419922,9.385403633117676,71.6500015258789,51.32236099243164,23.867979049682617,-7.3414835929870605,17.362796783447266,-59.14622116088867,17.04649543762207,75.5750732421875,41.16044235229492,9.234750747680664,-25.660253524780273,13.394868850708008,61.3388671875,42.184207916259766,-13.516976356506348],\"z\":[-29.566904067993164,-18.04790496826172,-37.07250213623047,39.6514892578125,-42.1840934753418,32.1693229675293,43.40256881713867,-112.5985336303711,0.8430248498916626,-42.841373443603516,1.185002088546753,31.743309020996094,37.895408630371094,-55.281944274902344,105.7615737915039,-96.67768096923828,46.662803649902344,-14.686566352844238,23.2044734954834,31.05082893371582,89.99071502685547,36.16094207763672,46.139530181884766,97.5946044921875,-63.94746017456055,-45.7683219909668,-75.31420135498047,-24.774017333984375,-92.72183227539062,-48.840328216552734,57.56266784667969,-21.476125717163086,-85.72453308105469,19.06942367553711,32.21041488647461,63.65673828125,16.862943649291992,19.52979850769043,9.703991889953613,-265.0692138671875,-39.489078521728516,77.1133804321289,81.8100814819336,-39.8518180847168,-60.381221771240234,30.544647216796875,-83.46409606933594,-11.91809368133545,26.468473434448242,92.70848083496094,-94.88650512695312,5.928251266479492,-11.932901382446289,60.660682678222656,100.31061553955078,81.67745208740234,45.98590087890625,40.87739181518555,-40.89989471435547,32.405757904052734,91.9236068725586,17.921964645385742,-81.45700073242188,-70.51680755615234,-17.319108963012695,6.388195514678955,114.30233001708984,-2.542968273162842,-30.241239547729492,62.566654205322266,82.56016540527344,7.326657295227051,13.256223678588867,66.08561706542969,-7.479132652282715,-2.8653340339660645,56.12205505371094,-44.47773742675781,-16.187549591064453,-25.8361759185791,78.005615234375,-72.26387786865234,41.28055191040039,39.915565490722656,47.16130447387695,-0.47704967856407166,7.120921611785889,-13.636465072631836,-86.54017639160156,17.826324462890625,-28.152631759643555,94.78042602539062,21.424991607666016,-21.87679100036621,-24.30000877380371,-31.54688835144043,-4.356419563293457,-40.467098236083984,-71.0308837890625,-59.26879119873047,-76.5268325805664,-44.4156494140625,-69.04268646240234,61.629390716552734,-19.76637077331543,50.1690673828125,3.422560453414917,26.908227920532227,45.65511703491211,43.95191192626953,74.30292510986328,86.11659240722656,-47.129539489746094,73.6200942993164,-62.14540100097656,21.024829864501953,26.08640480041504,76.10665893554688,-74.79000091552734,50.00845718383789,-25.92768669128418,87.61052703857422,66.3504867553711,37.20579147338867,-55.17890548706055,-56.28273391723633,-6.03803825378418,-64.73885345458984,-20.751218795776367,-9.245893478393555,-41.329132080078125,-40.50238037109375,-51.43669891357422,-33.6530647277832,-39.9041633605957,-6.141606330871582,-55.371490478515625,99.59111785888672,33.42237091064453,27.619220733642578,77.6209487915039,-19.338462829589844,-88.95062255859375,45.6552734375,-81.5916519165039,-40.476810455322266,107.6658706665039,-7.745776176452637,-12.325117111206055,47.89875793457031,93.69609069824219,13.305587768554688,45.97370147705078,19.629552841186523,53.98116683959961,-57.46916961669922,31.960758209228516,-72.423828125,-34.26432800292969,40.53306198120117,60.53279113769531,65.816162109375,32.2735595703125,-55.627017974853516,94.42203521728516,-32.81002426147461,-4.937647342681885,-29.32718849182129,-12.23101806640625,95.7301025390625,34.29644012451172,-39.98183822631836,-6.474245071411133,-11.527192115783691,28.247568130493164,-17.79564094543457,-87.20963287353516,-46.044368743896484,84.78699493408203,33.450035095214844,-18.749269485473633,24.227134704589844,-91.39933013916016,-24.88496971130371,105.64115142822266,-2.5359885692596436,75.84252166748047,82.9999008178711,68.93334197998047,70.70718383789062,-15.305413246154785,-58.68197250366211,-25.142921447753906,6.006308555603027,-89.19801330566406,-24.74413299560547,58.262142181396484,-63.87895584106445,31.420482635498047,1.7938534021377563],\"type\":\"scatter3d\",\"textfont\":{\"size\":10}}],                        {\"template\":{\"data\":{\"histogram2dcontour\":[{\"type\":\"histogram2dcontour\",\"colorbar\":{\"outlinewidth\":0,\"ticks\":\"\"},\"colorscale\":[[0.0,\"#0d0887\"],[0.1111111111111111,\"#46039f\"],[0.2222222222222222,\"#7201a8\"],[0.3333333333333333,\"#9c179e\"],[0.4444444444444444,\"#bd3786\"],[0.5555555555555556,\"#d8576b\"],[0.6666666666666666,\"#ed7953\"],[0.7777777777777778,\"#fb9f3a\"],[0.8888888888888888,\"#fdca26\"],[1.0,\"#f0f921\"]]}],\"choropleth\":[{\"type\":\"choropleth\",\"colorbar\":{\"outlinewidth\":0,\"ticks\":\"\"}}],\"histogram2d\":[{\"type\":\"histogram2d\",\"colorbar\":{\"outlinewidth\":0,\"ticks\":\"\"},\"colorscale\":[[0.0,\"#0d0887\"],[0.1111111111111111,\"#46039f\"],[0.2222222222222222,\"#7201a8\"],[0.3333333333333333,\"#9c179e\"],[0.4444444444444444,\"#bd3786\"],[0.5555555555555556,\"#d8576b\"],[0.6666666666666666,\"#ed7953\"],[0.7777777777777778,\"#fb9f3a\"],[0.8888888888888888,\"#fdca26\"],[1.0,\"#f0f921\"]]}],\"heatmap\":[{\"type\":\"heatmap\",\"colorbar\":{\"outlinewidth\":0,\"ticks\":\"\"},\"colorscale\":[[0.0,\"#0d0887\"],[0.1111111111111111,\"#46039f\"],[0.2222222222222222,\"#7201a8\"],[0.3333333333333333,\"#9c179e\"],[0.4444444444444444,\"#bd3786\"],[0.5555555555555556,\"#d8576b\"],[0.6666666666666666,\"#ed7953\"],[0.7777777777777778,\"#fb9f3a\"],[0.8888888888888888,\"#fdca26\"],[1.0,\"#f0f921\"]]}],\"heatmapgl\":[{\"type\":\"heatmapgl\",\"colorbar\":{\"outlinewidth\":0,\"ticks\":\"\"},\"colorscale\":[[0.0,\"#0d0887\"],[0.1111111111111111,\"#46039f\"],[0.2222222222222222,\"#7201a8\"],[0.3333333333333333,\"#9c179e\"],[0.4444444444444444,\"#bd3786\"],[0.5555555555555556,\"#d8576b\"],[0.6666666666666666,\"#ed7953\"],[0.7777777777777778,\"#fb9f3a\"],[0.8888888888888888,\"#fdca26\"],[1.0,\"#f0f921\"]]}],\"contourcarpet\":[{\"type\":\"contourcarpet\",\"colorbar\":{\"outlinewidth\":0,\"ticks\":\"\"}}],\"contour\":[{\"type\":\"contour\",\"colorbar\":{\"outlinewidth\":0,\"ticks\":\"\"},\"colorscale\":[[0.0,\"#0d0887\"],[0.1111111111111111,\"#46039f\"],[0.2222222222222222,\"#7201a8\"],[0.3333333333333333,\"#9c179e\"],[0.4444444444444444,\"#bd3786\"],[0.5555555555555556,\"#d8576b\"],[0.6666666666666666,\"#ed7953\"],[0.7777777777777778,\"#fb9f3a\"],[0.8888888888888888,\"#fdca26\"],[1.0,\"#f0f921\"]]}],\"surface\":[{\"type\":\"surface\",\"colorbar\":{\"outlinewidth\":0,\"ticks\":\"\"},\"colorscale\":[[0.0,\"#0d0887\"],[0.1111111111111111,\"#46039f\"],[0.2222222222222222,\"#7201a8\"],[0.3333333333333333,\"#9c179e\"],[0.4444444444444444,\"#bd3786\"],[0.5555555555555556,\"#d8576b\"],[0.6666666666666666,\"#ed7953\"],[0.7777777777777778,\"#fb9f3a\"],[0.8888888888888888,\"#fdca26\"],[1.0,\"#f0f921\"]]}],\"mesh3d\":[{\"type\":\"mesh3d\",\"colorbar\":{\"outlinewidth\":0,\"ticks\":\"\"}}],\"scatter\":[{\"fillpattern\":{\"fillmode\":\"overlay\",\"size\":10,\"solidity\":0.2},\"type\":\"scatter\"}],\"parcoords\":[{\"type\":\"parcoords\",\"line\":{\"colorbar\":{\"outlinewidth\":0,\"ticks\":\"\"}}}],\"scatterpolargl\":[{\"type\":\"scatterpolargl\",\"marker\":{\"colorbar\":{\"outlinewidth\":0,\"ticks\":\"\"}}}],\"bar\":[{\"error_x\":{\"color\":\"#2a3f5f\"},\"error_y\":{\"color\":\"#2a3f5f\"},\"marker\":{\"line\":{\"color\":\"#E5ECF6\",\"width\":0.5},\"pattern\":{\"fillmode\":\"overlay\",\"size\":10,\"solidity\":0.2}},\"type\":\"bar\"}],\"scattergeo\":[{\"type\":\"scattergeo\",\"marker\":{\"colorbar\":{\"outlinewidth\":0,\"ticks\":\"\"}}}],\"scatterpolar\":[{\"type\":\"scatterpolar\",\"marker\":{\"colorbar\":{\"outlinewidth\":0,\"ticks\":\"\"}}}],\"histogram\":[{\"marker\":{\"pattern\":{\"fillmode\":\"overlay\",\"size\":10,\"solidity\":0.2}},\"type\":\"histogram\"}],\"scattergl\":[{\"type\":\"scattergl\",\"marker\":{\"colorbar\":{\"outlinewidth\":0,\"ticks\":\"\"}}}],\"scatter3d\":[{\"type\":\"scatter3d\",\"line\":{\"colorbar\":{\"outlinewidth\":0,\"ticks\":\"\"}},\"marker\":{\"colorbar\":{\"outlinewidth\":0,\"ticks\":\"\"}}}],\"scattermapbox\":[{\"type\":\"scattermapbox\",\"marker\":{\"colorbar\":{\"outlinewidth\":0,\"ticks\":\"\"}}}],\"scatterternary\":[{\"type\":\"scatterternary\",\"marker\":{\"colorbar\":{\"outlinewidth\":0,\"ticks\":\"\"}}}],\"scattercarpet\":[{\"type\":\"scattercarpet\",\"marker\":{\"colorbar\":{\"outlinewidth\":0,\"ticks\":\"\"}}}],\"carpet\":[{\"aaxis\":{\"endlinecolor\":\"#2a3f5f\",\"gridcolor\":\"white\",\"linecolor\":\"white\",\"minorgridcolor\":\"white\",\"startlinecolor\":\"#2a3f5f\"},\"baxis\":{\"endlinecolor\":\"#2a3f5f\",\"gridcolor\":\"white\",\"linecolor\":\"white\",\"minorgridcolor\":\"white\",\"startlinecolor\":\"#2a3f5f\"},\"type\":\"carpet\"}],\"table\":[{\"cells\":{\"fill\":{\"color\":\"#EBF0F8\"},\"line\":{\"color\":\"white\"}},\"header\":{\"fill\":{\"color\":\"#C8D4E3\"},\"line\":{\"color\":\"white\"}},\"type\":\"table\"}],\"barpolar\":[{\"marker\":{\"line\":{\"color\":\"#E5ECF6\",\"width\":0.5},\"pattern\":{\"fillmode\":\"overlay\",\"size\":10,\"solidity\":0.2}},\"type\":\"barpolar\"}],\"pie\":[{\"automargin\":true,\"type\":\"pie\"}]},\"layout\":{\"autotypenumbers\":\"strict\",\"colorway\":[\"#636efa\",\"#EF553B\",\"#00cc96\",\"#ab63fa\",\"#FFA15A\",\"#19d3f3\",\"#FF6692\",\"#B6E880\",\"#FF97FF\",\"#FECB52\"],\"font\":{\"color\":\"#2a3f5f\"},\"hovermode\":\"closest\",\"hoverlabel\":{\"align\":\"left\"},\"paper_bgcolor\":\"white\",\"plot_bgcolor\":\"#E5ECF6\",\"polar\":{\"bgcolor\":\"#E5ECF6\",\"angularaxis\":{\"gridcolor\":\"white\",\"linecolor\":\"white\",\"ticks\":\"\"},\"radialaxis\":{\"gridcolor\":\"white\",\"linecolor\":\"white\",\"ticks\":\"\"}},\"ternary\":{\"bgcolor\":\"#E5ECF6\",\"aaxis\":{\"gridcolor\":\"white\",\"linecolor\":\"white\",\"ticks\":\"\"},\"baxis\":{\"gridcolor\":\"white\",\"linecolor\":\"white\",\"ticks\":\"\"},\"caxis\":{\"gridcolor\":\"white\",\"linecolor\":\"white\",\"ticks\":\"\"}},\"coloraxis\":{\"colorbar\":{\"outlinewidth\":0,\"ticks\":\"\"}},\"colorscale\":{\"sequential\":[[0.0,\"#0d0887\"],[0.1111111111111111,\"#46039f\"],[0.2222222222222222,\"#7201a8\"],[0.3333333333333333,\"#9c179e\"],[0.4444444444444444,\"#bd3786\"],[0.5555555555555556,\"#d8576b\"],[0.6666666666666666,\"#ed7953\"],[0.7777777777777778,\"#fb9f3a\"],[0.8888888888888888,\"#fdca26\"],[1.0,\"#f0f921\"]],\"sequentialminus\":[[0.0,\"#0d0887\"],[0.1111111111111111,\"#46039f\"],[0.2222222222222222,\"#7201a8\"],[0.3333333333333333,\"#9c179e\"],[0.4444444444444444,\"#bd3786\"],[0.5555555555555556,\"#d8576b\"],[0.6666666666666666,\"#ed7953\"],[0.7777777777777778,\"#fb9f3a\"],[0.8888888888888888,\"#fdca26\"],[1.0,\"#f0f921\"]],\"diverging\":[[0,\"#8e0152\"],[0.1,\"#c51b7d\"],[0.2,\"#de77ae\"],[0.3,\"#f1b6da\"],[0.4,\"#fde0ef\"],[0.5,\"#f7f7f7\"],[0.6,\"#e6f5d0\"],[0.7,\"#b8e186\"],[0.8,\"#7fbc41\"],[0.9,\"#4d9221\"],[1,\"#276419\"]]},\"xaxis\":{\"gridcolor\":\"white\",\"linecolor\":\"white\",\"ticks\":\"\",\"title\":{\"standoff\":15},\"zerolinecolor\":\"white\",\"automargin\":true,\"zerolinewidth\":2},\"yaxis\":{\"gridcolor\":\"white\",\"linecolor\":\"white\",\"ticks\":\"\",\"title\":{\"standoff\":15},\"zerolinecolor\":\"white\",\"automargin\":true,\"zerolinewidth\":2},\"scene\":{\"xaxis\":{\"backgroundcolor\":\"#E5ECF6\",\"gridcolor\":\"white\",\"linecolor\":\"white\",\"showbackground\":true,\"ticks\":\"\",\"zerolinecolor\":\"white\",\"gridwidth\":2},\"yaxis\":{\"backgroundcolor\":\"#E5ECF6\",\"gridcolor\":\"white\",\"linecolor\":\"white\",\"showbackground\":true,\"ticks\":\"\",\"zerolinecolor\":\"white\",\"gridwidth\":2},\"zaxis\":{\"backgroundcolor\":\"#E5ECF6\",\"gridcolor\":\"white\",\"linecolor\":\"white\",\"showbackground\":true,\"ticks\":\"\",\"zerolinecolor\":\"white\",\"gridwidth\":2}},\"shapedefaults\":{\"line\":{\"color\":\"#2a3f5f\"}},\"annotationdefaults\":{\"arrowcolor\":\"#2a3f5f\",\"arrowhead\":0,\"arrowwidth\":1},\"geo\":{\"bgcolor\":\"white\",\"landcolor\":\"#E5ECF6\",\"subunitcolor\":\"white\",\"showland\":true,\"showlakes\":true,\"lakecolor\":\"white\"},\"title\":{\"x\":0.05},\"mapbox\":{\"style\":\"light\"}}},\"scene\":{\"domain\":{\"x\":[0.0,1.0],\"y\":[0.0,1.0]},\"xaxis\":{\"title\":{\"text\":\"x\"}},\"yaxis\":{\"title\":{\"text\":\"y\"}},\"zaxis\":{\"title\":{\"text\":\"z\"}}},\"legend\":{\"tracegroupgap\":0},\"margin\":{\"t\":60}},                        {\"responsive\": true}                    ).then(function(){\n",
              "                            \n",
              "var gd = document.getElementById('c9537982-341a-4403-94f4-624ee6919b8a');\n",
              "var x = new MutationObserver(function (mutations, observer) {{\n",
              "        var display = window.getComputedStyle(gd).display;\n",
              "        if (!display || display === 'none') {{\n",
              "            console.log([gd, 'removed!']);\n",
              "            Plotly.purge(gd);\n",
              "            observer.disconnect();\n",
              "        }}\n",
              "}});\n",
              "\n",
              "// Listen for the removal of the full notebook cells\n",
              "var notebookContainer = gd.closest('#notebook-container');\n",
              "if (notebookContainer) {{\n",
              "    x.observe(notebookContainer, {childList: true});\n",
              "}}\n",
              "\n",
              "// Listen for the clearing of the current output cell\n",
              "var outputEl = gd.closest('.output');\n",
              "if (outputEl) {{\n",
              "    x.observe(outputEl, {childList: true});\n",
              "}}\n",
              "\n",
              "                        })                };                            </script>        </div>\n",
              "</body>\n",
              "</html>"
            ]
          },
          "metadata": {}
        }
      ],
      "source": [
        "fig = px.scatter_3d(x=x[:200],y=y[:200],z=z[:200],text=sample[:200])\n",
        "fig.update_traces(marker=dict(size=3,line=dict(width=2)),textfont_size=10)\n",
        "fig.show()"
      ]
    },
    {
      "cell_type": "markdown",
      "metadata": {
        "id": "Pr1QqmH9YHlL"
      },
      "source": [
        "Let's extend the random set of terms with a set of colours to see if they cluster:"
      ]
    },
    {
      "cell_type": "code",
      "execution_count": 19,
      "metadata": {
        "id": "K_z7NLqgYHlL"
      },
      "outputs": [],
      "source": [
        "# Add some specific terms to sample:\n",
        "colours = ['red','green','blue','orange','yellow','purple','pink','cream','brown','black','white','gray']\n",
        "\n",
        "word_vectors = model.wv[colours+sample]\n",
        "\n",
        "tsne = TSNE(n_components=3)\n",
        "tsne_embedding = tsne.fit_transform(word_vectors)\n",
        "\n",
        "x, y, z = np.transpose(tsne_embedding)"
      ]
    },
    {
      "cell_type": "code",
      "execution_count": 20,
      "metadata": {
        "colab": {
          "base_uri": "https://localhost:8080/",
          "height": 542
        },
        "id": "fOBvqtDE-HZL",
        "outputId": "4c992392-c2e2-4d0b-fef8-1aad2a4dba04"
      },
      "outputs": [
        {
          "output_type": "display_data",
          "data": {
            "text/html": [
              "<html>\n",
              "<head><meta charset=\"utf-8\" /></head>\n",
              "<body>\n",
              "    <div>            <script src=\"https://cdnjs.cloudflare.com/ajax/libs/mathjax/2.7.5/MathJax.js?config=TeX-AMS-MML_SVG\"></script><script type=\"text/javascript\">if (window.MathJax && window.MathJax.Hub && window.MathJax.Hub.Config) {window.MathJax.Hub.Config({SVG: {font: \"STIX-Web\"}});}</script>                <script type=\"text/javascript\">window.PlotlyConfig = {MathJaxConfig: 'local'};</script>\n",
              "        <script charset=\"utf-8\" src=\"https://cdn.plot.ly/plotly-2.24.1.min.js\"></script>                <div id=\"8efcdd92-b3fa-4148-9070-cb2ef1dbb94a\" class=\"plotly-graph-div\" style=\"height:525px; width:100%;\"></div>            <script type=\"text/javascript\">                                    window.PLOTLYENV=window.PLOTLYENV || {};                                    if (document.getElementById(\"8efcdd92-b3fa-4148-9070-cb2ef1dbb94a\")) {                    Plotly.newPlot(                        \"8efcdd92-b3fa-4148-9070-cb2ef1dbb94a\",                        [{\"hovertemplate\":\"x=%{x}\\u003cbr\\u003ey=%{y}\\u003cbr\\u003ez=%{z}\\u003cbr\\u003etext=%{text}\\u003cextra\\u003e\\u003c\\u002fextra\\u003e\",\"legendgroup\":\"\",\"marker\":{\"color\":\"#636efa\",\"symbol\":\"circle\",\"line\":{\"width\":2},\"size\":3},\"mode\":\"markers+text\",\"name\":\"\",\"scene\":\"scene\",\"showlegend\":false,\"text\":[\"red\",\"green\",\"blue\",\"orange\",\"yellow\",\"purple\",\"pink\",\"cream\",\"brown\",\"black\",\"white\",\"gray\",null,null,null,null,null,null,null,null,null,null,null,null,null,null,null,null,null,null,null,null,null,null,null,null,null,null,null,null,null,null,null,null,null,null,null,null,null,null,null,null,null,null,null,null,null,null,null,null,null,null,null,null,null,null,null,null,null,null,null,null,null,null,null,null,null,null,null,null,null,null,null,null,null,null,null,null,null,null,null,null,null,null,null,null,null,null,null,null,null,null,null,null,null,null,null,null,null,null,null,null,null,null,null,null,null,null,null,null,null,null,null,null,null,null,null,null,null,null,null,null,null,null,null,null,null,null,null,null,null,null,null,null,null,null,null,null,null,null,null,null,null,null,null,null,null,null,null,null,null,null,null,null,null,null,null,null,null,null,null,null,null,null,null,null,null,null,null,null,null,null,null,null,null,null,null,null,null,null,null,null,null,null,null,null,null,null,null,null,null,null,null,null,null,null,null,null,null,null,null,null,null,null,null,null,null,null,null,null,null,null,null,null,null,null,null,null,null,null,null,null,null,null,null,null,null,null,null,null,null,null,null,null,null,null,null,null,null,null,null,null,null,null,null,null,null,null,null,null,null,null,null,null,null,null,null,null,null,null,null,null,null,null,null,null,null,null,null,null,null,null,null,null,null,null,null,null,null,null,null,null,null,null,null,null,null,null,null,null,null,null,null,null,null,null,null,null,null,null,null,null,null,null,null,null,null,null,null,null,null,null,null,null,null,null,null,null,null,null,null,null,null,null,null,null,null,null,null,null,null,null,null,null,null,null,null,null,null,null,null,null,null,null,null,null,null,null,null,null,null,null,null,null,null,null,null,null,null,null,null,null,null,null,null,null,null,null,null,null,null,null,null,null,null,null,null,null,null,null,null,null,null,null,null,null,null,null,null,null,null,null,null,null,null,null,null,null,null,null,null,null,null,null,null,null,null,null,null,null,null,null,null,null,null,null,null,null,null,null,null,null,null,null,null,null,null,null,null,null,null,null,null,null,null,null,null,null,null,null,null,null,null,null,null,null,null,null,null,null,null,null,null,null,null,null,null,null,null,null,null,null,null,null,null,null,null,null,null,null,null,null,null,null,null,null,null,null,null,null,null,null,null,null,null,null,null,null,null,null,null,null,null,null,null,null,null,null,null,null,null,null],\"x\":[-53.34968185424805,-49.24900436401367,-48.40224075317383,-29.503286361694336,-26.082138061523438,46.22617721557617,-31.705886840820312,-0.47348254919052124,-57.56005096435547,-50.26353073120117,-59.076904296875,-16.973875045776367,-17.20562171936035,-13.367338180541992,-13.861834526062012,27.093238830566406,-20.825998306274414,42.84923553466797,33.36420440673828,-47.25226974487305,4.568195343017578,-16.628976821899414,0.4971569776535034,16.598573684692383,38.9305419921875,-31.41493797302246,40.59708786010742,-48.15432357788086,23.566553115844727,2.543295383453369,14.151578903198242,9.584054946899414,51.39162063598633,30.632312774658203,38.15977096557617,61.652496337890625,-28.455429077148438,-13.10627555847168,-41.561553955078125,-15.039008140563965,-43.7798957824707,-29.013471603393555,26.43496322631836,-13.347698211669922,-25.6253604888916,14.774116516113281,12.439126968383789,28.604900360107422,-2.176973581314087,-2.8937900066375732,3.31071400642395,-229.23854064941406,-26.002273559570312,56.192626953125,45.1119499206543,-22.80817413330078,-24.052074432373047,-7.694524765014648,-28.27952003479004,-10.97153091430664,27.12005615234375,59.54471969604492,-41.70283126831055,5.903071880340576,-5.516781806945801,38.647117614746094,54.73920440673828,24.000276565551758,24.110492706298828,23.912546157836914,-22.961626052856445,11.17646312713623,49.7226676940918,6.25021505355835,-51.853233337402344,-26.138334274291992,-10.327214241027832,-3.7695088386535645,46.16360855102539,-0.5361699461936951,-16.394546508789062,44.04515075683594,42.69880294799805,-0.05044728145003319,4.975020885467529,32.28374099731445,-10.051102638244629,-4.739640712738037,29.722963333129883,-29.318220138549805,-14.460521697998047,-4.425306797027588,39.04141616821289,-55.41474151611328,27.887266159057617,21.574644088745117,38.6650505065918,-5.84371280670166,2.49778413772583,-15.493762969970703,-59.728736877441406,7.922380447387695,-12.646262168884277,38.2689323425293,10.219435691833496,-12.147502899169922,-8.814939498901367,-21.09368133544922,-16.24239158630371,-24.755523681640625,-36.27359390258789,-32.415306091308594,-48.00838088989258,-26.614870071411133,-48.202728271484375,40.08407211303711,-14.398199081420898,38.23006820678711,0.48138657212257385,13.280150413513184,27.00562858581543,38.78397750854492,26.564577102661133,48.91005325317383,-23.72450828552246,43.383567810058594,-28.31913948059082,16.174762725830078,11.911811828613281,50.1317138671875,-39.659122467041016,27.281810760498047,-9.101104736328125,65.052490234375,44.06990051269531,28.253416061401367,-32.704280853271484,-44.244407653808594,-15.838471412658691,-36.96486282348633,7.015283584594727,-13.079668998718262,-20.709209442138672,-27.099700927734375,-38.559181213378906,-21.327253341674805,-33.57405471801758,-6.015840530395508,-28.34809684753418,31.33644676208496,16.10112762451172,31.728439331054688,50.66777801513672,-12.326481819152832,-36.07401657104492,24.987506866455078,-49.2606201171875,-25.73583984375,36.469383239746094,-6.459991455078125,-4.924654006958008,40.28010559082031,49.387603759765625,17.17204475402832,23.16130256652832,4.619029521942139,43.988914489746094,-38.81321716308594,15.93559455871582,-36.33360290527344,-18.80565071105957,21.32895851135254,32.02547836303711,35.503211975097656,19.52154541015625,-29.091835021972656,53.975067138671875,-20.083820343017578,-5.6490654945373535,-9.46323013305664,-9.489709854125977,48.98455810546875,17.235944747924805,-27.74005699157715,-10.061924934387207,-7.753044128417969,20.047887802124023,-6.579648017883301,-49.554969787597656,-27.6855525970459,35.847923278808594,11.441445350646973,-16.740638732910156,10.171850204467773,-58.77096176147461,-12.08989429473877,60.45512008666992,8.353221893310547,54.283931732177734,44.30451583862305,33.916961669921875,39.86750793457031,-9.291205406188965,-28.72661781311035,-16.00527000427246,-2.6812829971313477,-54.54546356201172,-4.662917613983154,34.24284744262695,-38.4150276184082,7.37680721282959,5.563626289367676,3.411349058151245,-9.223725318908691,-21.69893455505371,1.7793381214141846,18.378009796142578,2.398414373397827,-37.342063903808594,36.16485595703125,-32.33755874633789,55.823509216308594,14.989073753356934,49.907283782958984,-36.915008544921875,45.7420539855957,20.22328758239746,-28.365320205688477,-18.26175880432129,-4.369186878204346,30.547359466552734,-51.8137321472168,13.16721248626709,-18.85284996032715,-8.613029479980469,-14.50812816619873,-54.31355667114258,18.068700790405273,-45.142173767089844,28.536178588867188,36.12236785888672,6.985581874847412,-23.253786087036133,24.68822479248047,-21.881080627441406,11.07065486907959,-60.450435638427734,1.1629610061645508,10.645318031311035,10.553529739379883,-33.90793228149414,-30.360904693603516,-20.992300033569336,23.712352752685547,3.8479020595550537,-8.51988697052002,-61.64057922363281,-52.246849060058594,12.919759750366211,38.38414764404297,-8.75205135345459,21.140554428100586,17.90951156616211,36.90696716308594,-6.984928607940674,-34.42078399658203,44.550872802734375,16.01652717590332,4.405162811279297,1.9559992551803589,21.168718338012695,14.642273902893066,27.0900821685791,3.7331252098083496,18.123674392700195,-55.33589172363281,16.014352798461914,-25.66927719116211,58.717132568359375,-27.481809616088867,44.017696380615234,-25.149438858032227,-15.701864242553711,-36.42583465576172,-7.138805866241455,-5.708152770996094,13.891151428222656,-24.736696243286133,17.877897262573242,51.084983825683594,1.0333404541015625,43.031593322753906,46.24018859863281,9.818937301635742,1.3311426639556885,-23.834012985229492,-9.956066131591797,-29.31473731994629,-14.399321556091309,3.4768240451812744,-36.06827926635742,-13.874773979187012,5.219437599182129,-48.504276275634766,-48.610694885253906,-31.047014236450195,9.213739395141602,-1.151246428489685,50.421302795410156,54.73679733276367,-23.314868927001953,-12.688689231872559,31.852924346923828,26.620033264160156,29.79582977294922,55.5224609375,46.148868560791016,33.98859405517578,6.257409572601318,-50.489418029785156,-22.37377166748047,-27.68394660949707,44.11587142944336,-16.474515914916992,-55.82787322998047,-44.07465744018555,-19.571918487548828,23.051218032836914,35.20235824584961,-7.368427753448486,1.6349620819091797,-9.152222633361816,8.32121467590332,-47.34040069580078,1.1001763343811035,-2.5392186641693115,41.06354904174805,39.14312744140625,28.940319061279297,-39.56570816040039,-4.349936485290527,-0.8503904342651367,3.2700796127319336,-25.245769500732422,0.8267484903335571,20.221357345581055,-58.413734436035156,-41.10419464111328,27.99176597595215,29.671981811523438,-32.90629577636719,40.66086959838867,11.653202056884766,50.951385498046875,-42.3569450378418,25.692855834960938,-51.578250885009766,-40.898128509521484,-12.135499954223633,-0.7247928977012634,-25.490324020385742,-3.569791316986084,-5.777185916900635,-41.12472152709961,20.80660057067871,-37.494136810302734,6.83146858215332,-44.665077209472656,45.83738327026367,-13.740983963012695,37.076744079589844,30.424758911132812,1.3029612302780151,-24.585186004638672,-0.6623085737228394,-34.756492614746094,-13.440279006958008,-11.536043167114258,24.42576789855957,-9.173009872436523,-18.39494514465332,-26.704504013061523,-16.597702026367188,-20.34330940246582,-48.23655700683594,8.059124946594238,26.297693252563477,-33.809661865234375,23.057613372802734,9.571693420410156,38.28597640991211,-41.3249397277832,43.02031707763672,-2.115804433822632,26.098363876342773,37.616233825683594,-38.23763656616211,-36.520626068115234,41.06741714477539,-23.402313232421875,-49.649803161621094,22.372461318969727,1.9906063079833984,7.348945140838623,34.29365158081055,-26.163097381591797,-24.70134735107422,37.43191909790039,-15.878254890441895,-41.995628356933594,33.746299743652344,19.978008270263672,45.451900482177734,-11.0693359375,-37.15522384643555,53.882015228271484,-16.45256996154785,-27.37090492248535,-0.48402121663093567,46.32491683959961,-1.0755319595336914,36.886531829833984,31.57793426513672,7.065584659576416,47.725589752197266,7.8275628089904785,-16.287382125854492,-0.09895029664039612,57.17606735229492,11.619868278503418,-42.04917907714844,-33.16512680053711,13.823920249938965,-58.22032928466797,6.604701519012451,13.162686347961426,-50.83419418334961,-8.0520658493042,-49.64711380004883,2.3549065589904785,37.58190155029297,14.05279541015625,36.89565658569336,-9.253487586975098,17.155420303344727,28.045679092407227,-12.95151138305664,30.027868270874023,8.935779571533203,-45.829898834228516,-12.024016380310059,-5.028054237365723,-48.662540435791016,-13.613306045532227,-42.34756088256836,-15.475909233093262,-16.973875045776367,-6.093082427978516,25.096248626708984,14.28046989440918,5.662458419799805,-42.996665954589844,-2.6781845092773438,8.328495025634766,-5.425601482391357,35.667354583740234,-23.28129768371582,-18.40247344970703,2.6073646545410156,-3.4294614791870117,-46.86177444458008,-4.061386585235596,-20.914634704589844,-29.813945770263672,-36.80889892578125,38.25981903076172,-47.3155403137207,-18.192909240722656,15.363637924194336,-15.448193550109863,52.934486389160156,-20.858253479003906,-16.047513961791992,31.932933807373047,-35.20383834838867,-7.74880313873291,11.724918365478516,19.709932327270508,-21.111324310302734,-56.956722259521484,-14.685314178466797,32.62461471557617,-18.608661651611328,44.0495719909668,17.210208892822266,30.167499542236328,-5.199009895324707,-8.015682220458984,22.008934020996094,-30.337427139282227,19.93724822998047,14.415916442871094,-23.185911178588867,23.796539306640625,-40.266578674316406,8.992156982421875,-0.744215190410614,55.4958381652832,-37.043914794921875,-38.19601821899414,22.486970901489258,27.391029357910156],\"y\":[-2.227078676223755,-11.873188018798828,-6.9304656982421875,-5.384202480316162,-4.293373107910156,-5.3405985832214355,9.224690437316895,5.4476447105407715,-10.777281761169434,3.7313742637634277,12.696283340454102,-39.24837875366211,-3.133192539215088,-5.014728546142578,33.301971435546875,3.5065457820892334,-22.501039505004883,8.143028259277344,-21.484577178955078,34.97322463989258,-1.2138131856918335,26.40213394165039,-25.67635154724121,-2.777754306793213,-2.0319392681121826,-21.051603317260742,-27.626699447631836,32.91376876831055,-16.633392333984375,19.56942367553711,-11.228106498718262,-23.80497169494629,-11.491790771484375,13.710206031799316,-11.198352813720703,-10.998140335083008,29.717832565307617,36.666996002197266,22.590713500976562,-25.364656448364258,-27.134294509887695,-33.44538116455078,-11.053278923034668,-52.60209655761719,51.45375442504883,22.694671630859375,-24.66603660583496,-1.6905138492584229,-28.49958038330078,-16.268997192382812,-15.551996231079102,-2.966660499572754,9.009273529052734,-11.344902038574219,1.3330503702163696,4.026556968688965,28.687469482421875,-4.034877300262451,45.60586929321289,-3.097205400466919,22.058555603027344,-2.7125589847564697,42.45579528808594,27.81358528137207,20.539182662963867,-1.3231233358383179,-6.587936878204346,-25.643722534179688,-2.19590163230896,1.0106806755065918,-21.674646377563477,0.1708829700946808,39.62603759765625,-20.09636878967285,0.7298996448516846,37.86317825317383,27.340116500854492,-33.220951080322266,-19.349761962890625,-6.304603576660156,2.2925562858581543,12.195097923278809,33.598148345947266,-23.055767059326172,13.600079536437988,-27.944782257080078,-12.515832901000977,-40.3549919128418,-5.0365142822265625,-47.02968978881836,7.826592922210693,33.44085693359375,-7.527002811431885,-32.64902114868164,37.12914276123047,9.4185209274292,24.688302993774414,-21.47046661376953,-17.799333572387695,-16.923526763916016,-14.540125846862793,3.435016632080078,1.3528187274932861,25.08304214477539,1.6414021253585815,-24.117841720581055,14.667720794677734,18.86372947692871,44.82084274291992,2.9986572265625,-7.202691555023193,-46.82416915893555,9.668671607971191,2.323000192642212,-0.7220615744590759,-21.57757568359375,-12.24411678314209,-3.266145944595337,-48.39533615112305,15.792652130126953,24.9223575592041,-17.518892288208008,-17.087581634521484,16.063573837280273,12.447042465209961,11.184179306030273,-6.055408954620361,17.41065216064453,-29.447059631347656,-18.000396728515625,32.74280548095703,-29.870027542114258,21.52308464050293,2.928450584411621,2.1813135147094727,4.422196388244629,6.101020336151123,-22.100324630737305,14.861391067504883,28.753414154052734,34.99293899536133,-28.087329864501953,-38.66310501098633,-12.009095191955566,-29.07964324951172,-34.97091293334961,6.178404331207275,-8.447507858276367,30.61031723022461,-38.72016525268555,-8.43563175201416,-15.443693161010742,1.8902250528335571,-27.868778228759766,41.294185638427734,30.44226837158203,-1.3440399169921875,15.981977462768555,-38.541542053222656,-48.85399627685547,0.05323362350463867,-10.272710800170898,30.936628341674805,-15.299156188964844,24.659440994262695,-13.458905220031738,-14.918081283569336,-2.5733888149261475,9.684515953063965,24.238693237304688,-14.950389862060547,-3.8514046669006348,-5.737627029418945,39.608619689941406,34.39469528198242,-21.722579956054688,-13.997467041015625,-9.299113273620605,-4.44214391708374,9.980932235717773,-14.39652156829834,-17.05206871032715,43.565086364746094,12.445653915405273,-20.983196258544922,-46.572044372558594,2.7550745010375977,49.81840133666992,19.884416580200195,25.967695236206055,-16.875625610351562,-21.79012680053711,-20.142414093017578,-7.653806209564209,4.568506717681885,8.611910820007324,-16.268198013305664,7.250792980194092,22.666982650756836,22.425395965576172,-4.376317024230957,17.740034103393555,-31.25057029724121,23.01239013671875,21.759178161621094,-10.553956985473633,-5.2960734367370605,35.26417541503906,10.636296272277832,-1.7256108522415161,-19.41788673400879,21.97111701965332,-40.48268508911133,0.051063332706689835,4.004489898681641,-35.972877502441406,27.190322875976562,-9.827657699584961,0.8865047693252563,-27.388729095458984,-1.8172513246536255,11.552373886108398,15.296486854553223,28.811298370361328,26.962316513061523,24.749971389770508,-27.017438888549805,36.539466857910156,2.796907424926758,-19.632326126098633,-4.9553656578063965,-11.926318168640137,7.08405876159668,19.29767417907715,-57.0536994934082,-34.51325607299805,-0.24026118218898773,16.978271484375,-26.480239868164062,6.028468132019043,2.162639617919922,-30.5118408203125,43.133628845214844,-20.774038314819336,-6.3374457359313965,-10.789358139038086,-28.74514389038086,-45.47223663330078,-16.16411018371582,2.202306032180786,-10.073969841003418,-29.225967407226562,-2.6067817211151123,8.307908058166504,37.29011154174805,9.101033210754395,-15.841670989990234,-15.064598083496094,-31.94049835205078,11.797595977783203,-14.238266944885254,25.938844680786133,-31.970335006713867,4.45959997177124,21.129230499267578,-30.889719009399414,-32.35660934448242,-4.349100112915039,-7.349460124969482,-7.2337422370910645,-5.973147392272949,21.568994522094727,22.46584129333496,6.226140022277832,-20.88184356689453,13.896093368530273,-37.39125061035156,-44.866661071777344,2.0147480964660645,20.060091018676758,-12.798783302307129,-14.180537223815918,-23.383169174194336,-9.746627807617188,-27.625192642211914,26.841949462890625,27.871854782104492,-14.334317207336426,35.44147491455078,-4.421220302581787,-17.267885208129883,-15.384971618652344,36.96388626098633,24.360076904296875,22.295080184936523,-17.863548278808594,-5.695100784301758,13.375154495239258,-12.015531539916992,10.221028327941895,19.605789184570312,-28.92322540283203,15.176222801208496,-9.010302543640137,5.664417266845703,7.279206275939941,-44.229915618896484,15.593297958374023,20.28868865966797,2.498789072036743,9.871538162231445,38.14570617675781,20.318424224853516,7.0265984535217285,-12.389307022094727,6.263355255126953,0.44702497124671936,-23.39518165588379,21.052886962890625,36.718929290771484,-4.457122325897217,-3.612769603729248,-24.314268112182617,-2.0055880546569824,-18.676607131958008,5.718735694885254,28.962417602539062,-19.3523006439209,-4.7972002029418945,-17.24660301208496,-10.82443618774414,49.0921630859375,-33.698909759521484,32.96421813964844,-4.787787914276123,-16.53202247619629,7.009383678436279,3.0735998153686523,-24.454574584960938,0.5948724150657654,29.69637680053711,-2.4036386013031006,-20.51171875,-30.23529624938965,4.295556545257568,-27.575851440429688,-29.229581832885742,-21.784847259521484,18.77395248413086,-30.858444213867188,-12.648191452026367,-30.020206451416016,36.103824615478516,-5.037686824798584,-14.290447235107422,-29.2696590423584,-8.216437339782715,-6.3462419509887695,47.788246154785156,15.202751159667969,32.307098388671875,16.877668380737305,-10.03494644165039,13.450854301452637,44.46288299560547,23.213607788085938,-23.613496780395508,-3.73227596282959,-6.08438777923584,1.4218806028366089,1.7084367275238037,49.324310302734375,4.653927326202393,2.5925161838531494,35.58613967895508,18.455310821533203,23.1997127532959,35.35330581665039,-11.529620170593262,7.917448043823242,15.118040084838867,45.808006286621094,-6.1451921463012695,2.3250913619995117,-20.254179000854492,-2.2453832626342773,11.8945894241333,-13.225828170776367,31.301769256591797,-0.5369706749916077,34.42089080810547,28.798330307006836,3.7826907634735107,-54.813018798828125,-12.424392700195312,13.791272163391113,33.05543518066406,-33.64561462402344,31.337007522583008,24.298667907714844,-10.813087463378906,-2.0265841484069824,1.411141037940979,14.672779083251953,12.242377281188965,19.02717399597168,21.911222457885742,21.328651428222656,41.720096588134766,32.089385986328125,5.654225826263428,16.916112899780273,-5.356571674346924,-27.00200080871582,-10.995453834533691,-23.384159088134766,12.15168571472168,-26.336776733398438,-30.703868865966797,-1.4375126361846924,43.86545181274414,-9.57015609741211,9.794516563415527,17.539552688598633,4.214404106140137,31.191883087158203,20.328369140625,-2.798578977584839,0.3585816025733948,11.241399765014648,4.2402663230896,2.9958527088165283,-46.7675895690918,-21.527353286743164,-7.6926774978637695,47.23057556152344,20.703140258789062,17.470598220825195,22.864147186279297,-0.0787186324596405,16.29860496520996,11.767791748046875,-9.150203704833984,-42.55259323120117,4.469537734985352,-10.716272354125977,-13.09841537475586,29.321155548095703,24.20077133178711,-18.212610244750977,0.38486966490745544,-11.398094177246094,7.765524864196777,42.47614669799805,-29.41385841369629,52.852027893066406,-39.24837875366211,-4.054893493652344,41.482887268066406,-23.1038761138916,-20.348979949951172,-14.609570503234863,27.48387336730957,10.361187934875488,48.773494720458984,-17.50544548034668,23.237468719482422,-27.613035202026367,26.38405990600586,-51.188385009765625,17.656415939331055,-34.62956237792969,-32.5714225769043,-6.955380916595459,-20.518709182739258,25.94117546081543,9.067096710205078,11.029818534851074,-25.84518051147461,-50.084468841552734,16.45648193359375,-42.0840950012207,17.78883934020996,-10.463773727416992,-25.510433197021484,9.632055282592773,-8.050844192504883,44.42859649658203,25.755674362182617,0.1378333568572998,5.869998455047607,42.17531204223633,31.392210006713867,-1.648349642753601,-8.08748722076416,26.047996520996094,4.472256660461426,-5.049592018127441,15.213616371154785,3.4471077919006348,14.090176582336426,-15.575653076171875,-20.4298038482666,-10.090752601623535,22.02212142944336,-21.925640106201172,-24.381664276123047,25.579511642456055,16.2243709564209,-24.93331527709961,-15.300302505493164,-19.98606300354004],\"z\":[23.8179874420166,24.2901611328125,26.75147247314453,15.940583229064941,22.063785552978516,18.116851806640625,6.9483418464660645,-11.285285949707031,11.674532890319824,26.20796775817871,-14.358500480651855,34.22061538696289,17.31591796875,-20.80599021911621,-23.282611846923828,-29.712207794189453,4.280627727508545,33.42401123046875,-15.367446899414062,-23.865327835083008,-11.253031730651855,17.59904670715332,3.7480716705322266,2.8424201011657715,31.36865997314453,4.515650749206543,-2.901578664779663,-9.502083778381348,0.2584168016910553,24.502574920654297,-24.351558685302734,29.778589248657227,-15.484880447387695,-13.578276634216309,-21.6499080657959,-5.1779890060424805,-11.294790267944336,-29.761211395263672,-6.429412364959717,42.667259216308594,-14.406220436096191,18.72809600830078,3.3722922801971436,19.553409576416016,-7.242745876312256,-27.33417320251465,22.584300994873047,31.214374542236328,-28.11200523376465,-14.568182945251465,2.3780553340911865,-0.10217882692813873,-13.615854263305664,20.1632022857666,4.144784450531006,-4.973301410675049,-26.831932067871094,-51.196388244628906,-4.463374614715576,-0.4412170946598053,-19.187902450561523,3.9859626293182373,-15.597931861877441,-29.90717887878418,-20.20415496826172,-31.571666717529297,9.114421844482422,-10.020313262939453,-2.456993818283081,7.727619171142578,23.949007034301758,14.807904243469238,-8.125824928283691,-36.05050277709961,-29.73250961303711,-16.204082489013672,3.1086559295654297,30.921669006347656,-7.91157341003418,19.95046615600586,24.960798263549805,15.761870384216309,-3.0692453384399414,12.673230171203613,10.518333435058594,-27.474483489990234,43.8456916809082,-5.6594438552856445,-19.92987060546875,19.448936462402344,15.82435417175293,20.322345733642578,1.1825971603393555,7.188441753387451,17.73013687133789,2.759439706802368,20.1127986907959,29.95143699645996,-41.762733459472656,-14.481440544128418,4.256460666656494,32.13833236694336,-28.38077163696289,-7.416762828826904,6.763157844543457,-0.29633694887161255,-14.060362815856934,32.145851135253906,8.660982131958008,-17.541770935058594,-5.680739402770996,11.477104187011719,-16.109968185424805,32.37272262573242,-10.982321739196777,20.218544006347656,-9.858341217041016,-22.033458709716797,25.4459285736084,8.38772964477539,17.696495056152344,-21.97149658203125,30.603862762451172,1.1361955404281616,5.684671401977539,8.122101783752441,-11.460417747497559,-1.3248193264007568,12.5600004196167,14.404903411865234,13.425821304321289,17.007152557373047,-2.7811174392700195,-0.15595363080501556,14.618600845336914,-13.563799858093262,-21.312807083129883,12.090580940246582,-39.213706970214844,25.221208572387695,-4.200072288513184,-14.960904121398926,1.5212883949279785,2.673542022705078,13.003028869628906,22.033931732177734,-1.3507115840911865,-31.222030639648438,-2.4319474697113037,-11.951159477233887,8.179558753967285,-30.046356201171875,9.374626159667969,16.109241485595703,-7.70069694519043,11.378755569458008,-22.714876174926758,27.379785537719727,4.520833969116211,17.180267333984375,-25.15035629272461,32.06443405151367,-2.5839130878448486,-10.745691299438477,-34.80656433105469,-14.707073211669922,-27.95764923095703,8.761964797973633,11.082232475280762,-20.96004295349121,-40.08260726928711,-14.132647514343262,-10.092525482177734,3.379197120666504,15.343645095825195,30.621017456054688,-3.1055405139923096,-36.1635856628418,-14.073058128356934,35.75566864013672,14.092613220214844,2.1590397357940674,5.680087566375732,-7.307833194732666,-8.815364837646484,25.712190628051758,-19.7032527923584,-24.439414978027344,-8.733766555786133,31.334224700927734,0.8679363131523132,5.755210876464844,38.0749626159668,-1.8340777158737183,-31.36247444152832,-10.124361038208008,6.276810169219971,-28.63163185119629,13.869409561157227,-0.2752469480037689,4.597126007080078,5.267437934875488,8.787254333496094,15.674430847167969,29.894197463989258,-21.195274353027344,-0.19790156185626984,-5.790121555328369,13.314798355102539,-32.54194641113281,-15.686704635620117,-6.096549034118652,-5.1457839012146,-7.297532558441162,-28.02175521850586,-24.567340850830078,11.207703590393066,32.688026428222656,-8.30226993560791,3.772193431854248,36.10995864868164,-1.037321925163269,34.07965087890625,-14.36036491394043,-14.82480239868164,-7.585801124572754,9.606185913085938,-24.921316146850586,2.7211804389953613,-4.2137532234191895,23.00871467590332,3.3629074096679688,2.4608407020568848,17.64044952392578,24.525671005249023,21.705476760864258,-36.455501556396484,-33.84271240234375,-1.8677045106887817,-22.029605865478516,18.65621566772461,-8.124197006225586,-0.7289455533027649,-36.58427047729492,-1.4166629314422607,-32.22734069824219,8.571308135986328,20.60434341430664,-2.4862921237945557,-12.219755172729492,-16.331703186035156,6.033554553985596,9.85094928741455,-3.9151430130004883,-14.431208610534668,-3.7686915397644043,16.08577537536621,-4.361417770385742,21.652673721313477,30.674856185913086,-27.77934455871582,-8.86461067199707,-3.605722427368164,-5.863467216491699,15.529740333557129,-2.299527883529663,-15.282214164733887,24.95193862915039,-18.371410369873047,-9.914278030395508,-28.784395217895508,-13.194890975952148,32.34820556640625,1.881225824356079,11.430851936340332,-8.06116771697998,14.96503734588623,14.49100112915039,20.539592742919922,-13.856335639953613,-6.126377582550049,-5.549759387969971,16.951871871948242,5.834151268005371,20.965797424316406,-8.995027542114258,-23.41195297241211,11.48375129699707,-21.69729995727539,-9.260232925415039,-21.95973777770996,5.454169750213623,2.0656251907348633,19.201011657714844,30.70099449157715,-22.461654663085938,32.46981430053711,16.72055435180664,4.937743663787842,17.943584442138672,6.914531230926514,-22.244474411010742,-19.751028060913086,-2.7338383197784424,0.9936661720275879,-27.501827239990234,28.310901641845703,-36.521507263183594,7.029654502868652,-0.4729108512401581,20.87210464477539,-19.00033187866211,4.015404224395752,18.594017028808594,-8.731761932373047,13.842560768127441,25.29996681213379,-4.97572135925293,13.458984375,-2.7808475494384766,30.250965118408203,2.424246311187744,3.7133994102478027,-10.252045631408691,13.354031562805176,-25.409399032592773,-2.2487096786499023,24.311107635498047,41.263301849365234,3.5707457065582275,-26.466341018676758,-18.1351318359375,7.16214656829834,-17.238521575927734,-33.74553298950195,45.00151062011719,-15.293198585510254,9.658527374267578,7.0866851806640625,16.387100219726562,13.850481033325195,-19.465028762817383,20.843820571899414,0.9641475677490234,9.879321098327637,-18.21506690979004,2.6609110832214355,17.94838523864746,9.674654960632324,-0.6136693954467773,-9.910807609558105,10.336013793945312,14.442366600036621,2.0761733055114746,12.322864532470703,24.891841888427734,-17.833118438720703,-31.15909194946289,-3.5586655139923096,-5.779680252075195,5.780987739562988,4.7707438468933105,8.403470993041992,-4.112126350402832,0.979353129863739,15.12387466430664,-3.664064407348633,6.7213921546936035,9.949206352233887,9.736034393310547,-16.976030349731445,10.094792366027832,-20.9849853515625,8.466057777404785,8.370527267456055,-0.04562770575284958,-35.94044494628906,2.308349370956421,15.096546173095703,4.663331031799316,-15.555776596069336,-19.754335403442383,27.17360496520996,-49.84493637084961,-12.870034217834473,-24.425048828125,30.441001892089844,21.467662811279297,4.19874382019043,-1.0781259536743164,-12.4097318649292,-0.9728938341140747,41.13003158569336,20.075172424316406,-34.45269012451172,-21.758602142333984,-7.466006755828857,-12.443001747131348,11.780106544494629,-8.884976387023926,10.419063568115234,14.996993064880371,-30.905550003051758,1.3423761129379272,22.024616241455078,-23.299341201782227,-1.0625234842300415,12.750762939453125,1.5954596996307373,6.264164447784424,0.9636446833610535,10.26329231262207,-12.186041831970215,27.02880096435547,13.403175354003906,-4.733539581298828,-2.9994328022003174,12.575175285339355,24.481958389282227,-24.55904197692871,-8.35909366607666,16.888391494750977,8.238508224487305,-39.11349868774414,-2.9025373458862305,-18.070980072021484,-5.641903877258301,-2.5117976665496826,-10.49901294708252,18.88340187072754,7.140833854675293,28.345043182373047,26.898147583007812,20.472185134887695,7.702954292297363,13.90295696258545,-23.957792282104492,-32.46000671386719,-17.497955322265625,22.66729736328125,-29.2969970703125,-13.238085746765137,-13.066123962402344,12.837786674499512,-8.4152250289917,-24.477741241455078,25.778900146484375,0.2649717628955841,0.5085083246231079,-1.908919334411621,-50.64891815185547,-4.467010974884033,-34.17857360839844,-10.650010108947754,28.118066787719727,-12.225908279418945,34.22061538696289,10.169068336486816,12.975448608398438,-22.26460838317871,13.89428997039795,-27.956195831298828,0.3287069797515869,-6.773008346557617,-11.619555473327637,12.42448616027832,5.379195213317871,-3.928834915161133,-13.372272491455078,10.542825698852539,0.7180092334747314,15.97428035736084,7.627832412719727,-29.454483032226562,-6.376308917999268,7.6720685958862305,-8.495583534240723,-28.0627384185791,-1.5792869329452515,11.45428466796875,-13.098563194274902,19.51896858215332,3.480522632598877,10.573009490966797,-9.974628448486328,-20.375221252441406,-12.431388854980469,17.816240310668945,-20.811227798461914,-23.91703987121582,-16.94190216064453,11.667295455932617,-10.42562484741211,-5.0900468826293945,-4.568048000335693,9.590645790100098,23.933269500732422,48.47874450683594,-11.82135009765625,11.921868324279785,-20.84737777709961,22.282222747802734,-9.641525268554688,-17.543798446655273,25.7044620513916,-27.101911544799805,-13.7708740234375,-2.971808671951294,-15.249472618103027,-17.11704444885254,-22.686525344848633,20.027769088745117],\"type\":\"scatter3d\",\"textfont\":{\"size\":10}}],                        {\"template\":{\"data\":{\"histogram2dcontour\":[{\"type\":\"histogram2dcontour\",\"colorbar\":{\"outlinewidth\":0,\"ticks\":\"\"},\"colorscale\":[[0.0,\"#0d0887\"],[0.1111111111111111,\"#46039f\"],[0.2222222222222222,\"#7201a8\"],[0.3333333333333333,\"#9c179e\"],[0.4444444444444444,\"#bd3786\"],[0.5555555555555556,\"#d8576b\"],[0.6666666666666666,\"#ed7953\"],[0.7777777777777778,\"#fb9f3a\"],[0.8888888888888888,\"#fdca26\"],[1.0,\"#f0f921\"]]}],\"choropleth\":[{\"type\":\"choropleth\",\"colorbar\":{\"outlinewidth\":0,\"ticks\":\"\"}}],\"histogram2d\":[{\"type\":\"histogram2d\",\"colorbar\":{\"outlinewidth\":0,\"ticks\":\"\"},\"colorscale\":[[0.0,\"#0d0887\"],[0.1111111111111111,\"#46039f\"],[0.2222222222222222,\"#7201a8\"],[0.3333333333333333,\"#9c179e\"],[0.4444444444444444,\"#bd3786\"],[0.5555555555555556,\"#d8576b\"],[0.6666666666666666,\"#ed7953\"],[0.7777777777777778,\"#fb9f3a\"],[0.8888888888888888,\"#fdca26\"],[1.0,\"#f0f921\"]]}],\"heatmap\":[{\"type\":\"heatmap\",\"colorbar\":{\"outlinewidth\":0,\"ticks\":\"\"},\"colorscale\":[[0.0,\"#0d0887\"],[0.1111111111111111,\"#46039f\"],[0.2222222222222222,\"#7201a8\"],[0.3333333333333333,\"#9c179e\"],[0.4444444444444444,\"#bd3786\"],[0.5555555555555556,\"#d8576b\"],[0.6666666666666666,\"#ed7953\"],[0.7777777777777778,\"#fb9f3a\"],[0.8888888888888888,\"#fdca26\"],[1.0,\"#f0f921\"]]}],\"heatmapgl\":[{\"type\":\"heatmapgl\",\"colorbar\":{\"outlinewidth\":0,\"ticks\":\"\"},\"colorscale\":[[0.0,\"#0d0887\"],[0.1111111111111111,\"#46039f\"],[0.2222222222222222,\"#7201a8\"],[0.3333333333333333,\"#9c179e\"],[0.4444444444444444,\"#bd3786\"],[0.5555555555555556,\"#d8576b\"],[0.6666666666666666,\"#ed7953\"],[0.7777777777777778,\"#fb9f3a\"],[0.8888888888888888,\"#fdca26\"],[1.0,\"#f0f921\"]]}],\"contourcarpet\":[{\"type\":\"contourcarpet\",\"colorbar\":{\"outlinewidth\":0,\"ticks\":\"\"}}],\"contour\":[{\"type\":\"contour\",\"colorbar\":{\"outlinewidth\":0,\"ticks\":\"\"},\"colorscale\":[[0.0,\"#0d0887\"],[0.1111111111111111,\"#46039f\"],[0.2222222222222222,\"#7201a8\"],[0.3333333333333333,\"#9c179e\"],[0.4444444444444444,\"#bd3786\"],[0.5555555555555556,\"#d8576b\"],[0.6666666666666666,\"#ed7953\"],[0.7777777777777778,\"#fb9f3a\"],[0.8888888888888888,\"#fdca26\"],[1.0,\"#f0f921\"]]}],\"surface\":[{\"type\":\"surface\",\"colorbar\":{\"outlinewidth\":0,\"ticks\":\"\"},\"colorscale\":[[0.0,\"#0d0887\"],[0.1111111111111111,\"#46039f\"],[0.2222222222222222,\"#7201a8\"],[0.3333333333333333,\"#9c179e\"],[0.4444444444444444,\"#bd3786\"],[0.5555555555555556,\"#d8576b\"],[0.6666666666666666,\"#ed7953\"],[0.7777777777777778,\"#fb9f3a\"],[0.8888888888888888,\"#fdca26\"],[1.0,\"#f0f921\"]]}],\"mesh3d\":[{\"type\":\"mesh3d\",\"colorbar\":{\"outlinewidth\":0,\"ticks\":\"\"}}],\"scatter\":[{\"fillpattern\":{\"fillmode\":\"overlay\",\"size\":10,\"solidity\":0.2},\"type\":\"scatter\"}],\"parcoords\":[{\"type\":\"parcoords\",\"line\":{\"colorbar\":{\"outlinewidth\":0,\"ticks\":\"\"}}}],\"scatterpolargl\":[{\"type\":\"scatterpolargl\",\"marker\":{\"colorbar\":{\"outlinewidth\":0,\"ticks\":\"\"}}}],\"bar\":[{\"error_x\":{\"color\":\"#2a3f5f\"},\"error_y\":{\"color\":\"#2a3f5f\"},\"marker\":{\"line\":{\"color\":\"#E5ECF6\",\"width\":0.5},\"pattern\":{\"fillmode\":\"overlay\",\"size\":10,\"solidity\":0.2}},\"type\":\"bar\"}],\"scattergeo\":[{\"type\":\"scattergeo\",\"marker\":{\"colorbar\":{\"outlinewidth\":0,\"ticks\":\"\"}}}],\"scatterpolar\":[{\"type\":\"scatterpolar\",\"marker\":{\"colorbar\":{\"outlinewidth\":0,\"ticks\":\"\"}}}],\"histogram\":[{\"marker\":{\"pattern\":{\"fillmode\":\"overlay\",\"size\":10,\"solidity\":0.2}},\"type\":\"histogram\"}],\"scattergl\":[{\"type\":\"scattergl\",\"marker\":{\"colorbar\":{\"outlinewidth\":0,\"ticks\":\"\"}}}],\"scatter3d\":[{\"type\":\"scatter3d\",\"line\":{\"colorbar\":{\"outlinewidth\":0,\"ticks\":\"\"}},\"marker\":{\"colorbar\":{\"outlinewidth\":0,\"ticks\":\"\"}}}],\"scattermapbox\":[{\"type\":\"scattermapbox\",\"marker\":{\"colorbar\":{\"outlinewidth\":0,\"ticks\":\"\"}}}],\"scatterternary\":[{\"type\":\"scatterternary\",\"marker\":{\"colorbar\":{\"outlinewidth\":0,\"ticks\":\"\"}}}],\"scattercarpet\":[{\"type\":\"scattercarpet\",\"marker\":{\"colorbar\":{\"outlinewidth\":0,\"ticks\":\"\"}}}],\"carpet\":[{\"aaxis\":{\"endlinecolor\":\"#2a3f5f\",\"gridcolor\":\"white\",\"linecolor\":\"white\",\"minorgridcolor\":\"white\",\"startlinecolor\":\"#2a3f5f\"},\"baxis\":{\"endlinecolor\":\"#2a3f5f\",\"gridcolor\":\"white\",\"linecolor\":\"white\",\"minorgridcolor\":\"white\",\"startlinecolor\":\"#2a3f5f\"},\"type\":\"carpet\"}],\"table\":[{\"cells\":{\"fill\":{\"color\":\"#EBF0F8\"},\"line\":{\"color\":\"white\"}},\"header\":{\"fill\":{\"color\":\"#C8D4E3\"},\"line\":{\"color\":\"white\"}},\"type\":\"table\"}],\"barpolar\":[{\"marker\":{\"line\":{\"color\":\"#E5ECF6\",\"width\":0.5},\"pattern\":{\"fillmode\":\"overlay\",\"size\":10,\"solidity\":0.2}},\"type\":\"barpolar\"}],\"pie\":[{\"automargin\":true,\"type\":\"pie\"}]},\"layout\":{\"autotypenumbers\":\"strict\",\"colorway\":[\"#636efa\",\"#EF553B\",\"#00cc96\",\"#ab63fa\",\"#FFA15A\",\"#19d3f3\",\"#FF6692\",\"#B6E880\",\"#FF97FF\",\"#FECB52\"],\"font\":{\"color\":\"#2a3f5f\"},\"hovermode\":\"closest\",\"hoverlabel\":{\"align\":\"left\"},\"paper_bgcolor\":\"white\",\"plot_bgcolor\":\"#E5ECF6\",\"polar\":{\"bgcolor\":\"#E5ECF6\",\"angularaxis\":{\"gridcolor\":\"white\",\"linecolor\":\"white\",\"ticks\":\"\"},\"radialaxis\":{\"gridcolor\":\"white\",\"linecolor\":\"white\",\"ticks\":\"\"}},\"ternary\":{\"bgcolor\":\"#E5ECF6\",\"aaxis\":{\"gridcolor\":\"white\",\"linecolor\":\"white\",\"ticks\":\"\"},\"baxis\":{\"gridcolor\":\"white\",\"linecolor\":\"white\",\"ticks\":\"\"},\"caxis\":{\"gridcolor\":\"white\",\"linecolor\":\"white\",\"ticks\":\"\"}},\"coloraxis\":{\"colorbar\":{\"outlinewidth\":0,\"ticks\":\"\"}},\"colorscale\":{\"sequential\":[[0.0,\"#0d0887\"],[0.1111111111111111,\"#46039f\"],[0.2222222222222222,\"#7201a8\"],[0.3333333333333333,\"#9c179e\"],[0.4444444444444444,\"#bd3786\"],[0.5555555555555556,\"#d8576b\"],[0.6666666666666666,\"#ed7953\"],[0.7777777777777778,\"#fb9f3a\"],[0.8888888888888888,\"#fdca26\"],[1.0,\"#f0f921\"]],\"sequentialminus\":[[0.0,\"#0d0887\"],[0.1111111111111111,\"#46039f\"],[0.2222222222222222,\"#7201a8\"],[0.3333333333333333,\"#9c179e\"],[0.4444444444444444,\"#bd3786\"],[0.5555555555555556,\"#d8576b\"],[0.6666666666666666,\"#ed7953\"],[0.7777777777777778,\"#fb9f3a\"],[0.8888888888888888,\"#fdca26\"],[1.0,\"#f0f921\"]],\"diverging\":[[0,\"#8e0152\"],[0.1,\"#c51b7d\"],[0.2,\"#de77ae\"],[0.3,\"#f1b6da\"],[0.4,\"#fde0ef\"],[0.5,\"#f7f7f7\"],[0.6,\"#e6f5d0\"],[0.7,\"#b8e186\"],[0.8,\"#7fbc41\"],[0.9,\"#4d9221\"],[1,\"#276419\"]]},\"xaxis\":{\"gridcolor\":\"white\",\"linecolor\":\"white\",\"ticks\":\"\",\"title\":{\"standoff\":15},\"zerolinecolor\":\"white\",\"automargin\":true,\"zerolinewidth\":2},\"yaxis\":{\"gridcolor\":\"white\",\"linecolor\":\"white\",\"ticks\":\"\",\"title\":{\"standoff\":15},\"zerolinecolor\":\"white\",\"automargin\":true,\"zerolinewidth\":2},\"scene\":{\"xaxis\":{\"backgroundcolor\":\"#E5ECF6\",\"gridcolor\":\"white\",\"linecolor\":\"white\",\"showbackground\":true,\"ticks\":\"\",\"zerolinecolor\":\"white\",\"gridwidth\":2},\"yaxis\":{\"backgroundcolor\":\"#E5ECF6\",\"gridcolor\":\"white\",\"linecolor\":\"white\",\"showbackground\":true,\"ticks\":\"\",\"zerolinecolor\":\"white\",\"gridwidth\":2},\"zaxis\":{\"backgroundcolor\":\"#E5ECF6\",\"gridcolor\":\"white\",\"linecolor\":\"white\",\"showbackground\":true,\"ticks\":\"\",\"zerolinecolor\":\"white\",\"gridwidth\":2}},\"shapedefaults\":{\"line\":{\"color\":\"#2a3f5f\"}},\"annotationdefaults\":{\"arrowcolor\":\"#2a3f5f\",\"arrowhead\":0,\"arrowwidth\":1},\"geo\":{\"bgcolor\":\"white\",\"landcolor\":\"#E5ECF6\",\"subunitcolor\":\"white\",\"showland\":true,\"showlakes\":true,\"lakecolor\":\"white\"},\"title\":{\"x\":0.05},\"mapbox\":{\"style\":\"light\"}}},\"scene\":{\"domain\":{\"x\":[0.0,1.0],\"y\":[0.0,1.0]},\"xaxis\":{\"title\":{\"text\":\"x\"},\"range\":[-200,200]},\"yaxis\":{\"title\":{\"text\":\"y\"},\"range\":[-200,200]},\"zaxis\":{\"title\":{\"text\":\"z\"},\"range\":[-200,200]}},\"legend\":{\"tracegroupgap\":0},\"margin\":{\"t\":60}},                        {\"responsive\": true}                    ).then(function(){\n",
              "                            \n",
              "var gd = document.getElementById('8efcdd92-b3fa-4148-9070-cb2ef1dbb94a');\n",
              "var x = new MutationObserver(function (mutations, observer) {{\n",
              "        var display = window.getComputedStyle(gd).display;\n",
              "        if (!display || display === 'none') {{\n",
              "            console.log([gd, 'removed!']);\n",
              "            Plotly.purge(gd);\n",
              "            observer.disconnect();\n",
              "        }}\n",
              "}});\n",
              "\n",
              "// Listen for the removal of the full notebook cells\n",
              "var notebookContainer = gd.closest('#notebook-container');\n",
              "if (notebookContainer) {{\n",
              "    x.observe(notebookContainer, {childList: true});\n",
              "}}\n",
              "\n",
              "// Listen for the clearing of the current output cell\n",
              "var outputEl = gd.closest('.output');\n",
              "if (outputEl) {{\n",
              "    x.observe(outputEl, {childList: true});\n",
              "}}\n",
              "\n",
              "                        })                };                            </script>        </div>\n",
              "</body>\n",
              "</html>"
            ]
          },
          "metadata": {}
        }
      ],
      "source": [
        "import plotly.express as px\n",
        "\n",
        "r = (-200,200)\n",
        "fig = px.scatter_3d(x=x, y=y, z=z, range_x=r, range_y=r, range_z=r, text=colours + [None] * 500)\n",
        "fig.update_traces(marker=dict(size=3,line=dict(width=2)),textfont_size=10)\n",
        "fig.show()"
      ]
    },
    {
      "cell_type": "markdown",
      "metadata": {
        "id": "5xBPW2vnYHlM"
      },
      "source": [
        "Note: t-SNE is a stochastic algorithm, so run it a couple of times to see how the visualisation changes.\n",
        "\n",
        "Have a play around with the visualisation to see whether other sets of terms cluster together."
      ]
    },
    {
      "cell_type": "markdown",
      "metadata": {
        "id": "8UxQIRBLYHlM"
      },
      "source": [
        "## Loading Pre-trained Embedding\n",
        "\n",
        "Instead of learning your own word embeddings from a dataset, it is common to download and make use of pre-trained embeddings that have been learnt on very large corpora.\n",
        "- See this list of models available in gensim: https://github.com/RaRe-Technologies/gensim-data\n",
        "- Note how big some of the models are. A 300 dimensional Word2Vec model trained on Google News (word2vec-google-news-300) is almost 1.7GB!\n",
        "\n",
        "Let's downlaod a couple of the smaller models and have a look at them:\n",
        "- We'll download two GloVe (similar to Word2Vec) based models\n",
        "- each has dimension of 50, but the first has been trained on data from Twitter and the second on data from Wikipedia"
      ]
    },
    {
      "cell_type": "code",
      "execution_count": 21,
      "metadata": {
        "colab": {
          "base_uri": "https://localhost:8080/"
        },
        "id": "80lgMVCNYHlM",
        "outputId": "2d6a730a-1275-4317-fb0d-e700bae727b2"
      },
      "outputs": [
        {
          "output_type": "stream",
          "name": "stdout",
          "text": [
            "[==================================================] 100.0% 199.5/199.5MB downloaded\n",
            "[==================================================] 100.0% 66.0/66.0MB downloaded\n"
          ]
        }
      ],
      "source": [
        "import gensim.downloader as api\n",
        "\n",
        "model_twitter = api.load(\"glove-twitter-50\")\n",
        "model_wiki = api.load(\"glove-wiki-gigaword-50\")"
      ]
    },
    {
      "cell_type": "markdown",
      "metadata": {
        "id": "a6Bg80kKYHlM"
      },
      "source": [
        "How big are their vocabularies?"
      ]
    },
    {
      "cell_type": "code",
      "execution_count": 22,
      "metadata": {
        "colab": {
          "base_uri": "https://localhost:8080/"
        },
        "id": "e0CcjNmIYHlM",
        "outputId": "e11990e3-a472-4adf-d47e-bd71d6d27d30"
      },
      "outputs": [
        {
          "output_type": "stream",
          "name": "stdout",
          "text": [
            "Vocabulary size twitter model:   1193514\n",
            "Vocabulary size wikipedia model: 400000\n"
          ]
        }
      ],
      "source": [
        "print(f\"Vocabulary size twitter model:   {len(model_twitter)}\")\n",
        "print(f\"Vocabulary size wikipedia model: {len(model_wiki)}\")"
      ]
    },
    {
      "cell_type": "markdown",
      "metadata": {
        "id": "7zSEKFVjYHlM"
      },
      "source": [
        "Woah, they are big vocabularies!\n",
        "- The twitter one has over a million tokens!\n",
        "\n",
        "Let's have a look at the most similar terms to the word 'puppy' in Twitter embedding:"
      ]
    },
    {
      "cell_type": "code",
      "execution_count": 23,
      "metadata": {
        "colab": {
          "base_uri": "https://localhost:8080/"
        },
        "id": "czJartaDYHlM",
        "outputId": "34f0f729-8806-4449-82fb-c4fc057dc1e9"
      },
      "outputs": [
        {
          "output_type": "stream",
          "name": "stdout",
          "text": [
            "Twitter embedding, most similar words to: puppy\n"
          ]
        },
        {
          "output_type": "execute_result",
          "data": {
            "text/plain": [
              "[('kitten', 0.9134266972541809),\n",
              " ('dog', 0.8790459632873535),\n",
              " ('puppies', 0.8616614937782288),\n",
              " ('doggy', 0.8477217555046082),\n",
              " ('pug', 0.8410165905952454),\n",
              " ('bear', 0.8376337885856628),\n",
              " ('cat', 0.833551287651062),\n",
              " ('kitty', 0.8321102857589722),\n",
              " ('pup', 0.8269115686416626),\n",
              " ('husky', 0.8156434297561646)]"
            ]
          },
          "metadata": {},
          "execution_count": 23
        }
      ],
      "source": [
        "term = 'puppy'\n",
        "print(f'Twitter embedding, most similar words to: {term}')\n",
        "model_twitter.most_similar(term)"
      ]
    },
    {
      "cell_type": "markdown",
      "metadata": {
        "id": "D2Wb68G5RWpj"
      },
      "source": [
        "And in the Wikipedia embedding:"
      ]
    },
    {
      "cell_type": "code",
      "execution_count": 24,
      "metadata": {
        "colab": {
          "base_uri": "https://localhost:8080/"
        },
        "id": "G5srhaTuYHlM",
        "outputId": "36c19fae-d3f0-4869-e215-688e520542ee"
      },
      "outputs": [
        {
          "output_type": "stream",
          "name": "stdout",
          "text": [
            "Wikipedia embedding, most similar words to: puppy\n"
          ]
        },
        {
          "output_type": "execute_result",
          "data": {
            "text/plain": [
              "[('puppies', 0.8058912754058838),\n",
              " ('dog', 0.7754921913146973),\n",
              " ('goat', 0.7691047787666321),\n",
              " ('cat', 0.7625599503517151),\n",
              " ('kitten', 0.7443127036094666),\n",
              " ('retriever', 0.731249988079071),\n",
              " ('rottweiler', 0.724050760269165),\n",
              " ('rabbit', 0.7144317626953125),\n",
              " ('squirrel', 0.7086658477783203),\n",
              " ('bitch', 0.7056955695152283)]"
            ]
          },
          "metadata": {},
          "execution_count": 24
        }
      ],
      "source": [
        "print(f'Wikipedia embedding, most similar words to: {term}')\n",
        "model_wiki.most_similar(term)"
      ]
    },
    {
      "cell_type": "markdown",
      "metadata": {
        "id": "ez-9f7DLQpDw"
      },
      "source": [
        "Which embedding is better?\n",
        "\n",
        "Try some other words:"
      ]
    },
    {
      "cell_type": "code",
      "execution_count": 25,
      "metadata": {
        "colab": {
          "base_uri": "https://localhost:8080/"
        },
        "id": "gmwYaVSiYHlN",
        "outputId": "e52e9477-3a0a-4cd4-f28c-5bf889f5ac0a"
      },
      "outputs": [
        {
          "output_type": "stream",
          "name": "stdout",
          "text": [
            "Twitter embedding:   [('ecuador', 0.9539071917533875), ('chile', 0.9360629320144653), ('perú', 0.9274160265922546), ('argentina', 0.9179595112800598), ('paraguay', 0.9173375964164734), ('méxico', 0.9145565629005432), ('mexico', 0.9143576622009277), ('honduras', 0.9029414057731628), ('guatemala', 0.8889440298080444), ('bolivia', 0.8860374093055725)]\n",
            "Wikipedia embedding: [('peru', 0.8889381885528564), ('ecuador', 0.8852251768112183), ('venezuela', 0.8787891268730164), ('colombian', 0.8739718198776245), ('bolivia', 0.8555225729942322), ('mexico', 0.8490318059921265), ('guatemala', 0.8438811898231506), ('chile', 0.8151938915252686), ('angola', 0.8084266781806946), ('honduras', 0.8021085262298584)]\n"
          ]
        }
      ],
      "source": [
        "# term = 'apple'\n",
        "# term = 'politecnico'\n",
        "term = 'colombia'\n",
        "print(f'Twitter embedding:   {model_twitter.most_similar(term)}')\n",
        "print(f'Wikipedia embedding: {model_wiki.most_similar(term)}')"
      ]
    },
    {
      "cell_type": "markdown",
      "metadata": {
        "id": "iBDEnr-0YHlN"
      },
      "source": [
        "Embedding spaces have interesting geometric properties, where translation between different word vectors caries semantic meaning.\n",
        "- Let's try running the famous analogy: king + (woman - man) = ?\n",
        "- To do that, first generate the resulting word embedding:"
      ]
    },
    {
      "cell_type": "code",
      "execution_count": 26,
      "metadata": {
        "colab": {
          "base_uri": "https://localhost:8080/"
        },
        "id": "t5cMZiNgYHlN",
        "outputId": "41a8ea03-5f41-4f18-eeaf-30ed80a11994"
      },
      "outputs": [
        {
          "output_type": "execute_result",
          "data": {
            "text/plain": [
              "array([ 0.41736597,  0.90427005, -1.0050299 , -0.06202101,  0.4972599 ,\n",
              "        0.80667007, -0.14855   ,  0.80365   , -0.15654   , -0.66973996,\n",
              "        0.23435399,  0.62476003,  0.925871  , -0.97099996,  0.92566   ,\n",
              "        0.89915   , -1.54596   , -0.52625   ,  0.13695401,  0.66199005,\n",
              "        0.48716003,  0.37035006, -0.214214  ,  0.10100999,  0.71358   ,\n",
              "       -2.0874999 , -1.1362001 , -1.14961   , -0.53599   ,  0.27389997,\n",
              "        1.6723    ,  0.02931   , -0.77656007,  0.46056286,  0.34866   ,\n",
              "       -0.05741701,  0.19444   , -0.207748  , -0.73038995, -0.10752001,\n",
              "        0.23554398,  0.96423995, -0.46994   , -0.48727497, -0.25399995,\n",
              "        0.46212995, -0.66081   , -1.9451499 , -0.68797004, -0.49784002],\n",
              "      dtype=float32)"
            ]
          },
          "metadata": {},
          "execution_count": 26
        }
      ],
      "source": [
        "vec = model_wiki.get_vector('king') + (model_wiki.get_vector('woman') - model_wiki.get_vector('man'))\n",
        "vec"
      ]
    },
    {
      "cell_type": "markdown",
      "metadata": {
        "id": "4uYDSjJ7YHlN"
      },
      "source": [
        "- Then look for the most similar vectors to it:"
      ]
    },
    {
      "cell_type": "code",
      "execution_count": 27,
      "metadata": {
        "colab": {
          "base_uri": "https://localhost:8080/"
        },
        "id": "h5ZMdc5WYHlN",
        "outputId": "39bc8956-0bc1-4401-ea82-274f2da9eca6"
      },
      "outputs": [
        {
          "output_type": "execute_result",
          "data": {
            "text/plain": [
              "[('king', 0.8859834671020508),\n",
              " ('queen', 0.8609582185745239),\n",
              " ('daughter', 0.7684512734413147),\n",
              " ('prince', 0.7640699744224548),\n",
              " ('throne', 0.7634970545768738),\n",
              " ('princess', 0.7512727975845337),\n",
              " ('elizabeth', 0.7506489157676697),\n",
              " ('father', 0.7314497232437134),\n",
              " ('kingdom', 0.7296158671379089),\n",
              " ('mother', 0.728001058101654)]"
            ]
          },
          "metadata": {},
          "execution_count": 27
        }
      ],
      "source": [
        "model_wiki.similar_by_vector(vec)"
      ]
    },
    {
      "cell_type": "markdown",
      "metadata": {
        "id": "tipFzCPnYHlN"
      },
      "source": [
        "Did it work?\n",
        "- Well, yes if you remove 'king' as an option, then it did!\n",
        "- Note that the most similar vector to the word 'king' was not 'queen' but 'prince', so the analogy is indeed changing the order ..."
      ]
    },
    {
      "cell_type": "code",
      "execution_count": 28,
      "metadata": {
        "colab": {
          "base_uri": "https://localhost:8080/"
        },
        "id": "mDV5VRzAYHlN",
        "outputId": "8fe278ef-6db2-44ee-f3dd-2e11040f3a47"
      },
      "outputs": [
        {
          "output_type": "execute_result",
          "data": {
            "text/plain": [
              "[('prince', 0.8236179351806641),\n",
              " ('queen', 0.7839043140411377),\n",
              " ('ii', 0.7746230363845825),\n",
              " ('emperor', 0.7736247777938843),\n",
              " ('son', 0.766719400882721),\n",
              " ('uncle', 0.7627150416374207),\n",
              " ('kingdom', 0.7542160749435425),\n",
              " ('throne', 0.7539913654327393),\n",
              " ('brother', 0.7492411136627197),\n",
              " ('ruler', 0.7434253692626953)]"
            ]
          },
          "metadata": {},
          "execution_count": 28
        }
      ],
      "source": [
        "model_wiki.most_similar('king')"
      ]
    },
    {
      "cell_type": "markdown",
      "metadata": {
        "id": "_Io7Zm6EYHlN"
      },
      "source": [
        "Try it again but with the Twitter based model"
      ]
    },
    {
      "cell_type": "code",
      "execution_count": 29,
      "metadata": {
        "colab": {
          "base_uri": "https://localhost:8080/"
        },
        "id": "2m511hj-YHlO",
        "outputId": "fee1d36e-77d7-4de8-8948-c636944dae74"
      },
      "outputs": [
        {
          "output_type": "execute_result",
          "data": {
            "text/plain": [
              "[('stone', 0.7156722545623779),\n",
              " ('woman', 0.7105387449264526),\n",
              " ('meets', 0.7078651189804077),\n",
              " ('queen', 0.7035095691680908),\n",
              " ('king', 0.7032954692840576),\n",
              " ('royal', 0.7007310390472412),\n",
              " ('african', 0.6984354853630066),\n",
              " ('prince', 0.6961740851402283),\n",
              " ('virgin', 0.6757708787918091),\n",
              " ('american', 0.6597097516059875)]"
            ]
          },
          "metadata": {},
          "execution_count": 29
        }
      ],
      "source": [
        "model = model_twitter\n",
        "vec = model.get_vector('king') + (model.get_vector('woman') - model.get_vector('man'))\n",
        "model.similar_by_vector(vec)"
      ]
    },
    {
      "cell_type": "markdown",
      "metadata": {
        "id": "wtEO2LWIYHlO"
      },
      "source": [
        "Doesn't seem that the Twitter model is as good on that analogy.\n",
        "- If you think about the average quality of text on Twitter versus Wikipedia, then that's probably not suprising!\n",
        "\n",
        "Try some other analogies:\n",
        "- What happens to Rome if we subtract Italy and add France?"
      ]
    },
    {
      "cell_type": "code",
      "execution_count": 30,
      "metadata": {
        "colab": {
          "base_uri": "https://localhost:8080/"
        },
        "id": "NXzOPQy5YHlO",
        "outputId": "94ad43b1-5a96-4512-9595-17631184410b"
      },
      "outputs": [
        {
          "output_type": "execute_result",
          "data": {
            "text/plain": [
              "[('paris', 0.8583258390426636),\n",
              " ('france', 0.7889718413352966),\n",
              " ('rome', 0.7432292699813843),\n",
              " ('french', 0.733359158039093),\n",
              " ('prohertrib', 0.7260090112686157),\n",
              " ('vienna', 0.7018851637840271),\n",
              " ('saint', 0.6894371509552002),\n",
              " ('gaulle', 0.6854272484779358),\n",
              " ('geneva', 0.6759128570556641),\n",
              " ('berlin', 0.6560173034667969)]"
            ]
          },
          "metadata": {},
          "execution_count": 30
        }
      ],
      "source": [
        "A = 'rome'\n",
        "B = 'italy'\n",
        "C = 'france'\n",
        "# C = 'indonesia'\n",
        "model = model_wiki\n",
        "vec = model.get_vector(A) - model.get_vector(B) + model.get_vector(C)\n",
        "model.similar_by_vector(vec)"
      ]
    },
    {
      "cell_type": "markdown",
      "metadata": {
        "id": "QeUJZDSTYHlO"
      },
      "source": [
        "Now, **isn't that cool?** ;-)\n",
        "- Try some other countries ...\n",
        "\n",
        "Remember, we are only using the 'small' embeddings of 50 dimensions\n",
        "- you can download and try the bigger ones, some of them with 300 dimensions\n"
      ]
    },
    {
      "cell_type": "markdown",
      "metadata": {
        "id": "stWE8L9GYgRH"
      },
      "source": [
        "## Classifying Tweets with word embeddings\n",
        "\n",
        "Let's try to use the word embeddings as features for a text classifier.\n",
        "- In particular, we'll try the tweet sentiment analysis task from the second session.\n",
        "- First download the dataset:"
      ]
    },
    {
      "cell_type": "code",
      "execution_count": 31,
      "metadata": {
        "colab": {
          "base_uri": "https://localhost:8080/"
        },
        "id": "bckvn64GYqCZ",
        "outputId": "34128a8e-a0cf-4bbd-89b0-492f9517f1b4"
      },
      "outputs": [
        {
          "output_type": "stream",
          "name": "stderr",
          "text": [
            "[nltk_data] Downloading package twitter_samples to /root/nltk_data...\n",
            "[nltk_data]   Unzipping corpora/twitter_samples.zip.\n"
          ]
        },
        {
          "output_type": "execute_result",
          "data": {
            "text/plain": [
              "True"
            ]
          },
          "metadata": {},
          "execution_count": 31
        }
      ],
      "source": [
        "import nltk\n",
        "\n",
        "nltk.download('twitter_samples')"
      ]
    },
    {
      "cell_type": "markdown",
      "metadata": {
        "id": "d5nOSItcaEa9"
      },
      "source": [
        "Then prepare the dataset:\n",
        "- load the positive and negative tweets\n",
        "- remove emoticons from them\n",
        "- and merge them into a single dataset with class labels"
      ]
    },
    {
      "cell_type": "code",
      "execution_count": 32,
      "metadata": {
        "id": "VZBH76pnaTrB"
      },
      "outputs": [],
      "source": [
        "from nltk.corpus import twitter_samples\n",
        "\n",
        "positive_tweets = twitter_samples.strings('positive_tweets.json')\n",
        "negative_tweets = twitter_samples.strings('negative_tweets.json')\n",
        "\n",
        "import re\n",
        "\n",
        "emoticon_regex = '(\\:\\w+\\:|\\<[\\/\\\\]?3|[\\(\\)\\\\\\D|\\*\\$][\\-\\^]?[\\:\\;\\=]|[\\:\\;\\=B8][\\-\\^]?[3DOPp\\@\\$\\*\\\\\\)\\(\\/\\|])(?=\\s|[\\!\\.\\?]|$)'\n",
        "positive_tweets_noemoticons = [re.sub(emoticon_regex,'',tweet) for tweet in positive_tweets]\n",
        "negative_tweets_noemoticons = [re.sub(emoticon_regex,'',tweet) for tweet in negative_tweets]\n",
        "\n",
        "tweets_x = positive_tweets_noemoticons + negative_tweets_noemoticons\n",
        "tweets_y = ['positive']*len(positive_tweets) + ['negative']*len(negative_tweets)"
      ]
    },
    {
      "cell_type": "markdown",
      "metadata": {
        "id": "ik6TlpDFa3Pt"
      },
      "source": [
        "Divide the data into train, validation and test sets:"
      ]
    },
    {
      "cell_type": "code",
      "execution_count": 33,
      "metadata": {
        "id": "sTDd49KVbC_o"
      },
      "outputs": [],
      "source": [
        "from sklearn.model_selection import train_test_split\n",
        "\n",
        "temp_x, test_x, temp_y, test_y = train_test_split(tweets_x, tweets_y, test_size=0.2)\n",
        "train_x, valid_x, train_y, valid_y = train_test_split(temp_x, temp_y, test_size=0.2)"
      ]
    },
    {
      "cell_type": "markdown",
      "metadata": {
        "id": "r1aACZFHc_eg"
      },
      "source": [
        "Now we need to convert the tweets to an embedding representation.\n",
        "- We can do that by computing the sum (or average) of the embedding vectors of the words in the tweet.\n",
        "- To work out how to do that, let's have a look at the first tweet in the dataset, converting it to lowercase and tokenise it on whitespace:"
      ]
    },
    {
      "cell_type": "code",
      "execution_count": 34,
      "metadata": {
        "colab": {
          "base_uri": "https://localhost:8080/"
        },
        "id": "qVrlyZrqc_vz",
        "outputId": "4de0d494-f27a-42d7-fb80-586241873202"
      },
      "outputs": [
        {
          "output_type": "stream",
          "name": "stdout",
          "text": [
            "tweet: 'I care about Maggie but she is a psycho bitch I want to kill myself and take a two day vacation off twitter  wahhh'\n",
            "tokens:  ['i', 'care', 'about', 'maggie', 'but', 'she', 'is', 'a', 'psycho', 'bitch', 'i', 'want', 'to', 'kill', 'myself', 'and', 'take', 'a', 'two', 'day', 'vacation', 'off', 'twitter', 'wahhh']\n"
          ]
        }
      ],
      "source": [
        "import string\n",
        "import re\n",
        "regex = '[' + string.punctuation + ']'\n",
        "\n",
        "print('tweet: \\'' + train_x[10] + '\\'')\n",
        "tokens = re.sub(regex, '', train_x[10].lower()).split()\n",
        "print('tokens: ', tokens)"
      ]
    },
    {
      "cell_type": "markdown",
      "metadata": {
        "id": "H4eDTr_OkWUQ"
      },
      "source": [
        "- We can get the embedding vectors for the tokens present in the embedding vocabulary as follows:"
      ]
    },
    {
      "cell_type": "code",
      "execution_count": 35,
      "metadata": {
        "colab": {
          "base_uri": "https://localhost:8080/"
        },
        "id": "WxgUgjVmkW61",
        "outputId": "843c7820-df53-49f3-866e-0b9e12ab8c63"
      },
      "outputs": [
        {
          "output_type": "execute_result",
          "data": {
            "text/plain": [
              "[array([-0.043148,  0.50393 ,  0.27095 , -0.1198  , -0.58991 , -0.32774 ,\n",
              "         0.15549 , -0.5465  ,  0.4169  ,  1.5267  , -0.48707 , -0.095806,\n",
              "        -5.9675  ,  0.12915 , -0.48301 , -0.14715 ,  0.12052 , -0.19595 ,\n",
              "        -0.86387 , -0.17507 ,  0.4924  ,  0.38274 ,  0.2987  ,  0.13115 ,\n",
              "        -0.13744 , -0.20918 ,  0.10783 , -0.10709 ,  0.41345 ,  0.11004 ,\n",
              "        -0.44554 ,  0.2905  , -0.14988 ,  0.29897 , -0.050136,  0.46923 ,\n",
              "         0.15687 , -0.04682 , -0.11082 ,  0.87676 , -1.6183  ,  0.59109 ,\n",
              "         0.097853,  0.32855 , -0.2794  ,  0.074711,  1.0258  , -0.22383 ,\n",
              "        -0.66025 , -0.70649 ], dtype=float32),\n",
              " array([ 0.18681  ,  0.63227  , -0.80268  ,  0.68016  , -0.37399  ,\n",
              "         0.087229 ,  0.86197  ,  0.03864  ,  0.29961  ,  0.9847   ,\n",
              "        -0.41357  , -0.099212 , -4.1032   ,  0.065916 ,  0.60149  ,\n",
              "         0.7662   ,  0.0090627, -0.69746  , -0.23613  , -0.50775  ,\n",
              "         0.27918  ,  0.2504   , -0.49062  ,  1.0334   , -0.16871  ,\n",
              "         0.64619  ,  0.8029   ,  0.73286  ,  0.16386  , -0.049919 ,\n",
              "        -0.28013  , -0.55874  ,  0.078347 ,  0.39224  ,  0.11907  ,\n",
              "        -0.15197  , -0.19172  ,  0.87413  ,  0.26674  ,  0.057303 ,\n",
              "        -1.0898   ,  0.7598   ,  0.61588  , -0.30868  ,  0.2415   ,\n",
              "        -0.63477  ,  0.52059  ,  0.46429  , -0.30327  , -0.51658  ],\n",
              "       dtype=float32),\n",
              " array([ 0.59788 ,  0.64506 ,  0.22691 ,  0.26851 , -0.153   ,  0.4186  ,\n",
              "         0.81588 ,  0.17809 ,  0.10673 , -0.27545 ,  0.058446, -0.33995 ,\n",
              "        -5.8745  ,  0.068496, -0.73124 , -0.34783 ,  0.1331  , -0.46491 ,\n",
              "         0.11893 ,  0.14617 ,  0.25345 ,  0.08847 , -0.13842 ,  0.32097 ,\n",
              "        -0.38079 ,  0.73194 ,  0.58936 ,  0.34862 , -0.17544 , -0.44276 ,\n",
              "        -0.45076 ,  0.010941, -0.57503 ,  0.06049 ,  0.18433 ,  0.64507 ,\n",
              "        -0.48618 ,  0.18884 ,  0.55794 , -0.33898 , -0.92115 ,  0.14809 ,\n",
              "         0.53856 ,  0.018682,  0.06707 ,  0.11591 , -0.15153 ,  0.27891 ,\n",
              "        -0.45447 , -0.19943 ], dtype=float32),\n",
              " array([-0.71963  ,  0.33844  ,  0.49973  , -0.85601  , -0.86475  ,\n",
              "         0.0098407, -0.20031  ,  0.33102  , -0.14411  , -0.67171  ,\n",
              "         0.24003  , -0.47491  , -2.3225   , -0.20581  , -0.020902 ,\n",
              "         0.6534   ,  1.0071   , -0.43912  , -0.11189  ,  0.45521  ,\n",
              "        -0.13544  ,  0.005155 , -0.53145  , -0.043309 ,  0.029196 ,\n",
              "        -0.054175 ,  0.47687  ,  0.27475  ,  0.14222  , -1.0112   ,\n",
              "         0.0082095,  0.734    , -0.15901  ,  0.21878  , -1.874    ,\n",
              "         0.0067162,  0.55907  , -0.31547  ,  0.39071  , -0.28129  ,\n",
              "        -0.29389  , -0.79079  , -0.38771  ,  0.11375  ,  0.31469  ,\n",
              "         0.23775  , -0.014318 , -0.5936   ,  0.015408 , -0.66277  ],\n",
              "       dtype=float32),\n",
              " array([ 0.30888  , -0.080479 , -0.32072  ,  0.276    , -0.22733  ,\n",
              "         0.71776  ,  0.96259  ,  0.11263  ,  0.10916  ,  0.72498  ,\n",
              "         0.056321 , -0.44072  , -6.0455   , -0.0070845,  0.10185  ,\n",
              "         0.17447  ,  0.18207  , -0.54867  , -0.76432  , -0.51174  ,\n",
              "         0.145    , -0.056987 ,  0.39354  ,  0.49906  , -0.12191  ,\n",
              "         0.6292   ,  0.33627  , -0.14894  ,  0.1351   , -0.49151  ,\n",
              "        -0.027865 ,  0.55364  , -0.11845  , -0.1129   ,  0.15327  ,\n",
              "         0.53208  , -0.34177  , -0.1201   ,  0.22115  ,  0.14912  ,\n",
              "        -0.59042  ,  0.079874 ,  0.70642  ,  0.18522  , -0.35022  ,\n",
              "        -0.45828  ,  0.41708  ,  0.032112 , -0.030869 , -0.18049  ],\n",
              "       dtype=float32),\n",
              " array([-7.4669e-01,  5.9480e-01,  3.4598e-01,  1.1726e-01, -2.8817e-01,\n",
              "        -1.2011e-01,  8.8391e-01,  4.5025e-01,  9.4641e-02,  7.0398e-01,\n",
              "        -8.3936e-01,  1.3533e-01, -5.6559e+00, -6.6952e-01, -1.2978e-01,\n",
              "         2.4486e-03, -2.7223e-01, -4.5243e-01, -3.2968e-01, -4.7515e-01,\n",
              "         6.4819e-01,  1.7285e-01,  5.0227e-01,  9.7533e-01,  3.1356e-01,\n",
              "         6.1134e-01, -3.9624e-01, -1.4098e-01, -1.3310e-01, -2.2344e-01,\n",
              "        -8.7652e-01,  8.7551e-01, -1.7532e-01, -4.5813e-01, -5.9922e-01,\n",
              "         1.1503e+00,  5.7305e-02,  4.1458e-01,  2.1457e-01, -2.8868e-01,\n",
              "        -8.8155e-01,  1.1009e-01, -3.1207e-02,  5.3710e-01, -9.3064e-02,\n",
              "        -1.0171e+00,  1.0659e+00, -6.1916e-01, -4.4569e-01, -1.6908e-01],\n",
              "       dtype=float32),\n",
              " array([ 0.18667 ,  0.21368 ,  0.14993 , -0.43155 , -0.33975 ,  0.8475  ,\n",
              "         0.38977 , -0.13955 , -0.46976 , -0.54834 ,  0.44025 ,  0.069026,\n",
              "        -6.1569  , -0.5549  ,  0.062301, -0.55152 ,  0.41341 ,  0.62345 ,\n",
              "        -0.37125 ,  0.3274  ,  0.18377 ,  0.18605 , -0.26863 ,  0.96635 ,\n",
              "         1.1219  ,  0.7215  ,  0.09091 , -0.64006 , -0.19457 , -0.47882 ,\n",
              "        -0.32703 ,  0.43049 , -0.24094 , -1.2938  ,  0.77391 , -0.26059 ,\n",
              "        -0.42837 ,  0.21792 , -0.014106, -0.49876 , -1.117   , -0.89154 ,\n",
              "        -0.09197 ,  0.28358 , -0.02093 , -0.61461 ,  0.45838 , -0.11498 ,\n",
              "        -0.24608 , -0.19549 ], dtype=float32),\n",
              " array([-2.0100e-01,  1.4106e-01,  2.8319e-01,  7.7383e-01, -6.8151e-03,\n",
              "         6.5519e-02, -3.8463e-01, -1.6638e-01, -1.6882e-01, -6.3199e-01,\n",
              "        -3.3843e-01, -5.0949e-01, -4.9211e+00, -3.6689e-01,  3.6845e-01,\n",
              "         4.1609e-01, -1.5560e-01, -1.3483e-01, -1.3639e-01,  4.5338e-01,\n",
              "         3.3346e-01, -1.8676e-01,  2.3635e-01, -4.6834e-01, -4.2496e-01,\n",
              "        -1.9489e+00,  1.0193e-01, -1.3587e-01,  3.9331e-02,  9.2994e-01,\n",
              "         1.5333e-01, -4.5753e-02,  7.3281e-01, -2.9174e-01,  5.7937e-02,\n",
              "         1.5234e+00, -1.3793e-01, -1.2571e-01, -1.3213e+00,  5.4660e-01,\n",
              "        -2.5675e+00, -1.8451e-01,  1.4173e-01, -3.0547e-03,  9.1469e-01,\n",
              "         3.4391e-01,  1.8338e-01,  9.6793e-01,  2.0464e-01, -1.0736e+00],\n",
              "       dtype=float32),\n",
              " array([ 0.048205 ,  0.50037  , -0.61392  ,  0.38277  , -0.53674  ,\n",
              "         0.23591  ,  1.1848   ,  0.018059 , -0.30292  ,  0.55488  ,\n",
              "        -0.21159  ,  0.59131  , -2.4032   , -0.72287  ,  0.56124  ,\n",
              "        -0.3732   ,  0.31187  , -0.32892  , -0.041191 ,  0.56613  ,\n",
              "         0.037578 ,  0.25956  ,  0.10925  , -0.33326  , -0.063016 ,\n",
              "         0.44799  , -0.48274  , -0.14893  , -0.91913  ,  0.0090074,\n",
              "        -0.19789  , -0.78948  ,  0.37077  , -0.5286   , -1.2871   ,\n",
              "         0.31832  , -0.040273 , -0.40036  ,  0.099384 , -0.85083  ,\n",
              "        -0.10385  , -0.51901  ,  0.053673 ,  0.3483   ,  0.17981  ,\n",
              "         0.54837  ,  0.52846  ,  0.57754  , -0.18599  , -0.19274  ],\n",
              "       dtype=float32),\n",
              " array([ 2.6213e-01, -2.2979e-01, -4.4445e-01,  2.2707e-01,  1.0846e-01,\n",
              "        -1.9933e-01,  8.0178e-01,  6.2686e-01,  2.6763e-01,  1.3211e+00,\n",
              "        -4.4647e-01,  7.7743e-01, -4.6053e+00, -1.0829e+00, -2.6543e-01,\n",
              "        -5.6377e-02, -8.6678e-01, -3.3866e-01, -5.2878e-01, -4.9513e-02,\n",
              "        -4.2325e-02,  1.3272e-01,  8.9482e-01,  5.5631e-01,  7.1006e-01,\n",
              "        -7.8288e-02,  1.7680e-01, -4.6357e-01, -9.9864e-01, -2.5292e-01,\n",
              "        -1.0179e+00,  3.5847e-01, -2.8565e-01, -2.3588e-01, -1.0513e+00,\n",
              "         8.9526e-01, -1.9102e-02,  2.1503e-01, -3.8844e-01, -2.7368e-01,\n",
              "        -9.8561e-01, -1.2458e-01, -1.1259e-01, -2.4675e-01, -3.5710e-03,\n",
              "        -6.7057e-01,  1.1909e+00,  1.0376e+00,  1.2970e-01,  8.4714e-01],\n",
              "       dtype=float32),\n",
              " array([-0.043148,  0.50393 ,  0.27095 , -0.1198  , -0.58991 , -0.32774 ,\n",
              "         0.15549 , -0.5465  ,  0.4169  ,  1.5267  , -0.48707 , -0.095806,\n",
              "        -5.9675  ,  0.12915 , -0.48301 , -0.14715 ,  0.12052 , -0.19595 ,\n",
              "        -0.86387 , -0.17507 ,  0.4924  ,  0.38274 ,  0.2987  ,  0.13115 ,\n",
              "        -0.13744 , -0.20918 ,  0.10783 , -0.10709 ,  0.41345 ,  0.11004 ,\n",
              "        -0.44554 ,  0.2905  , -0.14988 ,  0.29897 , -0.050136,  0.46923 ,\n",
              "         0.15687 , -0.04682 , -0.11082 ,  0.87676 , -1.6183  ,  0.59109 ,\n",
              "         0.097853,  0.32855 , -0.2794  ,  0.074711,  1.0258  , -0.22383 ,\n",
              "        -0.66025 , -0.70649 ], dtype=float32),\n",
              " array([ 3.7413e-01,  7.1623e-01, -3.5810e-01,  7.7834e-02, -9.2033e-01,\n",
              "        -3.8558e-01,  5.3116e-01, -5.1657e-01,  1.2817e-01,  2.6236e-01,\n",
              "        -2.7895e-01,  2.5293e-01, -5.5937e+00, -5.7123e-01, -9.1184e-01,\n",
              "         1.3920e-01, -5.0184e-01, -1.3487e-01, -6.3133e-01,  1.4302e-01,\n",
              "         6.3659e-01,  2.1426e-01,  3.9087e-01,  8.3384e-01,  7.4350e-01,\n",
              "         3.7236e-01,  5.9994e-01,  2.7211e-01,  5.7034e-02, -1.3236e+00,\n",
              "         1.5121e-01,  4.6511e-01, -1.3622e-03,  3.6893e-02,  7.5773e-01,\n",
              "        -5.9615e-01,  8.3311e-02, -3.2657e-01, -1.1019e-02,  2.9374e-01,\n",
              "        -1.1935e+00, -3.9529e-01,  1.8498e-01, -6.4563e-01,  6.0677e-01,\n",
              "        -7.2177e-01,  7.4921e-01,  9.1771e-02, -9.6784e-02,  3.3105e-01],\n",
              "       dtype=float32),\n",
              " array([ 0.54964 ,  0.032752,  0.19354 , -0.51119 , -0.39483 , -0.17643 ,\n",
              "         0.49603 , -0.089685,  0.27531 , -1.0332  , -0.80488 , -0.57278 ,\n",
              "        -6.2888  , -0.15977 ,  0.21716 , -0.19869 , -0.27966 , -0.14035 ,\n",
              "        -0.58645 , -0.75832 ,  0.4009  ,  0.35394 , -0.27532 ,  0.37569 ,\n",
              "        -0.34936 , -0.28569 ,  0.49475 ,  0.79527 ,  0.84019 ,  0.29181 ,\n",
              "         1.0009  ,  0.36752 , -0.12441 , -0.22999 ,  0.37812 ,  0.2078  ,\n",
              "         0.28736 , -0.16952 , -0.88277 , -0.15059 , -1.8376  ,  0.71666 ,\n",
              "         0.22428 , -0.35486 ,  0.21687 , -0.26787 , -0.81521 ,  0.21378 ,\n",
              "         0.23067 ,  0.20011 ], dtype=float32),\n",
              " array([ 3.5578e-01,  1.2639e+00, -3.4407e-01, -2.5360e-01, -7.0710e-01,\n",
              "         1.0141e-01,  3.3343e-01,  3.8174e-01,  8.6053e-03,  6.8192e-01,\n",
              "         1.2955e-01,  3.0166e-01, -4.5832e+00, -1.9955e-01, -1.4178e-01,\n",
              "         1.1512e-01, -3.6389e-01, -4.4246e-01, -2.9081e-01, -2.7510e-02,\n",
              "        -3.2304e-01,  3.8186e-01,  2.3160e-01,  1.0926e-01,  6.9390e-01,\n",
              "         4.9565e-02,  8.6924e-02,  5.5621e-01, -1.1740e-01,  2.6899e-01,\n",
              "        -1.8892e-01,  2.0785e-01, -1.5135e-01,  1.7314e-01, -3.7996e-01,\n",
              "        -3.7192e-02, -2.2376e-01, -7.3980e-01, -2.3779e-01, -9.1644e-01,\n",
              "         3.4903e-02, -4.0152e-01,  4.1480e-04, -2.2318e-01,  2.0947e-01,\n",
              "        -2.5614e-01,  2.5272e-01,  8.6393e-01,  3.6042e-01,  9.5526e-01],\n",
              "       dtype=float32),\n",
              " array([-3.1820e-01,  3.9963e-01,  9.7863e-01,  3.9167e-01,  1.1117e-01,\n",
              "         3.9605e-01,  7.9199e-01, -3.3232e-01,  1.8196e-01,  6.5802e-01,\n",
              "         3.3339e-02, -2.4444e-01, -5.1170e+00, -5.2635e-01, -9.4876e-01,\n",
              "         8.3866e-01,  3.7995e-01, -8.3578e-01, -8.6646e-01, -2.7292e-01,\n",
              "        -7.1275e-02,  1.6421e-01,  8.0535e-02,  3.0463e-03, -2.3106e-01,\n",
              "         9.6876e-01,  6.2773e-01,  5.1442e-01,  3.5768e-01,  9.8121e-02,\n",
              "        -6.4770e-01, -3.3754e-01, -5.9085e-01,  5.6169e-02, -3.5368e-01,\n",
              "        -2.5426e-01, -2.0419e-02, -2.4086e-01,  1.2960e-01,  1.2795e-01,\n",
              "         1.8147e-01,  9.5925e-01,  6.8512e-01, -1.9130e-01,  7.5900e-01,\n",
              "         4.6666e-01,  2.6352e-01,  1.1673e+00, -1.4931e-01,  3.6697e-01],\n",
              "       dtype=float32),\n",
              " array([-0.43196  , -0.18965  , -0.028294 , -0.25903  , -0.4481   ,\n",
              "         0.53591  ,  0.94627  , -0.07806  , -0.54519  , -0.72878  ,\n",
              "        -0.030083 , -0.28677  , -6.464    , -0.31295  ,  0.12351  ,\n",
              "        -0.2463   ,  0.029458 , -0.83529  ,  0.19647  , -0.15722  ,\n",
              "        -0.5562   , -0.027029 , -0.23915  ,  0.18188  , -0.15156  ,\n",
              "         0.54768  ,  0.13767  ,  0.21828  ,  0.61069  , -0.3679   ,\n",
              "         0.023187 ,  0.33281  , -0.18062  , -0.0094163,  0.31861  ,\n",
              "        -0.19201  ,  0.35759  ,  0.50104  ,  0.55981  ,  0.20561  ,\n",
              "        -1.1167   , -0.3063   , -0.14224  ,  0.20285  ,  0.10245  ,\n",
              "        -0.39289  , -0.26724  , -0.37573  ,  0.16076  , -0.74501  ],\n",
              "       dtype=float32),\n",
              " array([-0.07013  ,  0.59141  ,  0.15792  , -0.036287 , -0.33624  ,\n",
              "        -0.022844 ,  1.2895   , -0.031347 , -0.0082273,  0.67025  ,\n",
              "        -0.23342  ,  0.23758  , -5.1099   ,  0.086622 , -0.21611  ,\n",
              "         0.31704  , -0.3505   , -0.34705  , -0.66081  , -0.40149  ,\n",
              "        -0.073964 , -0.087998 ,  0.15561  ,  0.38323  , -0.25996  ,\n",
              "         0.0095922,  0.78253  ,  0.64242  ,  0.20932  ,  0.08686  ,\n",
              "         0.32316  ,  0.10514  ,  0.15461  ,  0.38418  ,  0.36651  ,\n",
              "         0.54964  ,  0.078785 ,  0.22942  ,  0.3247   ,  0.39175  ,\n",
              "        -0.7352   ,  0.11758  ,  0.15965  , -0.39028  ,  0.90877  ,\n",
              "        -0.2845   , -0.127    ,  0.10477  ,  0.18499  ,  0.3879   ],\n",
              "       dtype=float32),\n",
              " array([-2.0100e-01,  1.4106e-01,  2.8319e-01,  7.7383e-01, -6.8151e-03,\n",
              "         6.5519e-02, -3.8463e-01, -1.6638e-01, -1.6882e-01, -6.3199e-01,\n",
              "        -3.3843e-01, -5.0949e-01, -4.9211e+00, -3.6689e-01,  3.6845e-01,\n",
              "         4.1609e-01, -1.5560e-01, -1.3483e-01, -1.3639e-01,  4.5338e-01,\n",
              "         3.3346e-01, -1.8676e-01,  2.3635e-01, -4.6834e-01, -4.2496e-01,\n",
              "        -1.9489e+00,  1.0193e-01, -1.3587e-01,  3.9331e-02,  9.2994e-01,\n",
              "         1.5333e-01, -4.5753e-02,  7.3281e-01, -2.9174e-01,  5.7937e-02,\n",
              "         1.5234e+00, -1.3793e-01, -1.2571e-01, -1.3213e+00,  5.4660e-01,\n",
              "        -2.5675e+00, -1.8451e-01,  1.4173e-01, -3.0547e-03,  9.1469e-01,\n",
              "         3.4391e-01,  1.8338e-01,  9.6793e-01,  2.0464e-01, -1.0736e+00],\n",
              "       dtype=float32),\n",
              " array([ 3.1437e-01,  3.1714e-01,  4.0171e-01,  4.5821e-01,  3.2934e-01,\n",
              "         8.9531e-02,  8.6351e-01,  1.1750e-02, -7.2566e-01, -5.2537e-01,\n",
              "         2.8603e-01, -3.2127e-01, -5.0155e+00,  5.3633e-01,  2.2017e-03,\n",
              "        -1.5188e-01,  5.9698e-02, -1.0043e+00, -4.0464e-01,  7.3391e-02,\n",
              "         9.5586e-02,  4.2741e-01,  5.2607e-01, -1.2284e+00, -2.8490e-01,\n",
              "         5.1826e-01, -8.7545e-01, -2.7460e-01,  4.3477e-01, -2.9267e-01,\n",
              "         4.2213e-01,  2.2778e-01,  9.5939e-02,  6.8396e-01,  3.6091e-01,\n",
              "         6.3801e-02, -1.7418e-01,  1.8924e-01,  9.1066e-02, -3.4561e-01,\n",
              "        -8.8173e-01,  2.7072e-01, -1.7074e-01,  1.6031e-01,  4.7747e-01,\n",
              "        -8.6717e-01, -9.5135e-02, -1.6896e-01,  1.0922e-01,  7.5500e-01],\n",
              "       dtype=float32),\n",
              " array([-0.023769, -0.11603 ,  0.036396, -0.56461 ,  0.25198 ,  0.16734 ,\n",
              "         1.2094  ,  0.14846 , -0.50951 , -0.27601 , -0.45884 , -0.55841 ,\n",
              "        -4.898   ,  0.93906 , -0.62257 ,  0.32134 , -0.51667 , -0.2758  ,\n",
              "        -1.1148  ,  0.26091 , -0.4425  ,  0.29604 , -0.48687 ,  0.35057 ,\n",
              "         0.66408 ,  0.75508 , -0.057016, -0.72358 ,  0.89502 , -0.013292,\n",
              "        -0.2776  , -0.20826 ,  0.2106  ,  0.29681 ,  0.36548 ,  0.30672 ,\n",
              "        -0.13076 ,  0.21129 ,  0.20262 ,  0.79409 , -1.865   , -0.13894 ,\n",
              "         0.45723 ,  0.25402 ,  0.23568 ,  0.45535 , -0.081599, -0.54011 ,\n",
              "        -0.34151 ,  0.34558 ], dtype=float32),\n",
              " array([-0.62337  , -0.063603 , -0.2625   , -0.49202  ,  0.0063648,\n",
              "        -0.10508  ,  1.5867   , -0.84603  ,  0.58896  , -0.62909  ,\n",
              "        -0.41927  , -0.44459  , -2.7233   ,  1.5827   ,  0.30045  ,\n",
              "         0.79423  , -0.48247  ,  0.34208  , -1.0891   ,  0.38749  ,\n",
              "         0.67516  , -0.93011  , -0.49288  ,  0.27218  ,  0.17298  ,\n",
              "         0.76573  , -0.12169  , -0.21472  ,  0.18616  , -0.92297  ,\n",
              "        -0.30147  , -0.26158  , -0.14522  , -0.11855  , -0.013814 ,\n",
              "        -0.06584  ,  0.3662   ,  0.81775  ,  0.35371  ,  0.05563  ,\n",
              "        -0.58255  ,  0.074998 ,  0.70395  , -0.3996   ,  0.95924  ,\n",
              "         0.41705  , -0.17657  ,  0.18839  , -0.69919  ,  1.6465   ],\n",
              "       dtype=float32),\n",
              " array([-0.072253, -0.5514  ,  0.20258 , -0.42996 , -0.11796 ,  0.44404 ,\n",
              "         0.64515 ,  0.44276 ,  0.16941 ,  0.26468 ,  0.40949 ,  0.1777  ,\n",
              "        -4.6422  , -0.099161, -0.49715 , -0.39413 , -0.16826 , -0.94082 ,\n",
              "        -1.1989  ,  0.11431 , -0.5634  , -0.7308  , -0.079329, -0.010887,\n",
              "        -0.53311 , -0.19041 ,  0.039833,  0.067411, -0.18676 ,  0.51897 ,\n",
              "        -0.71257 ,  0.54027 , -0.015003, -0.21072 ,  0.22656 ,  0.59157 ,\n",
              "        -0.26803 ,  0.29028 , -0.033617,  0.53496 , -1.0727  ,  0.45072 ,\n",
              "        -0.12893 ,  0.18385 ,  1.44    , -0.439   , -0.33177 ,  0.1075  ,\n",
              "         0.53775 ,  0.72072 ], dtype=float32),\n",
              " array([ 1.7184  ,  0.59313 , -1.0127  , -0.035134,  0.10128 , -0.094347,\n",
              "         0.80396 , -0.53534 ,  0.071382,  0.6096  , -0.19366 , -0.18072 ,\n",
              "        -3.3953  , -0.33915 , -1.059   , -0.2808  , -0.011903, -0.43239 ,\n",
              "        -0.21266 , -0.1419  ,  0.38848 , -0.19258 , -0.96679 ,  0.13206 ,\n",
              "        -1.0388  , -1.5223  ,  0.21438 , -0.96706 , -0.79219 ,  0.55983 ,\n",
              "        -1.3217  , -0.012846, -0.38424 , -0.87618 ,  0.45396 ,  0.13097 ,\n",
              "         0.25639 , -0.32567 , -1.1986  , -0.45258 , -2.0482  ,  0.13736 ,\n",
              "        -0.2627  ,  0.15429 ,  0.066163, -0.015472,  0.056789,  0.017841,\n",
              "        -0.37349 , -0.45217 ], dtype=float32)]"
            ]
          },
          "metadata": {},
          "execution_count": 35
        }
      ],
      "source": [
        "model = model_twitter\n",
        "embeddings = [model.get_vector(token) for token in tokens if token in model]\n",
        "embeddings"
      ]
    },
    {
      "cell_type": "markdown",
      "metadata": {
        "id": "p58DUnpNXenf"
      },
      "source": [
        "- the sum of the embeddings in the tweet is:"
      ]
    },
    {
      "cell_type": "code",
      "execution_count": 36,
      "metadata": {
        "colab": {
          "base_uri": "https://localhost:8080/"
        },
        "id": "N0uuM4q7sid9",
        "outputId": "8c902cb4-dd5d-4928-ed92-86ff41e24728"
      },
      "outputs": [
        {
          "output_type": "execute_result",
          "data": {
            "text/plain": [
              "array([ 1.4085970e+00,  6.8978395e+00,  1.1417210e-01,  3.1815276e-01,\n",
              "       -5.9931459e+00,  2.4229579e+00,  1.4739208e+01, -1.2544031e+00,\n",
              "        9.2350990e-02,  4.5379395e+00, -4.3276362e+00, -2.6313982e+00,\n",
              "       -1.1277509e+02, -2.6476014e+00, -3.8034792e+00,  2.0592616e+00,\n",
              "       -1.3586444e+00, -8.3553104e+00, -1.1124321e+01, -2.7286196e-01,\n",
              "        3.1874599e+00,  1.2993813e+00,  3.8520604e-01,  4.7029409e+00,\n",
              "       -2.5879979e-01,  1.3281641e+00,  3.9432511e+00,  2.1399087e-01,\n",
              "        1.4203758e+00, -1.9574533e+00, -5.2836785e+00,  3.5305791e+00,\n",
              "       -1.0713291e+00, -1.7570441e+00, -1.0850124e+00,  7.8254948e+00,\n",
              "       -2.4067301e-01,  1.1661099e+00, -2.2185819e+00,  1.0594330e+00,\n",
              "       -2.5471680e+01,  1.0703321e+00,  3.4812372e+00,  3.3266258e-01,\n",
              "        7.5877481e+00, -3.5618100e+00,  5.8615365e+00,  4.2213936e+00,\n",
              "       -2.5089555e+00, -3.1771046e-01], dtype=float32)"
            ]
          },
          "metadata": {},
          "execution_count": 36
        }
      ],
      "source": [
        "sum(embeddings)"
      ]
    },
    {
      "cell_type": "markdown",
      "metadata": {
        "id": "VpiF8tQCkZe5"
      },
      "source": [
        "- and the average of the embeddings is just:"
      ]
    },
    {
      "cell_type": "code",
      "execution_count": 37,
      "metadata": {
        "colab": {
          "base_uri": "https://localhost:8080/"
        },
        "id": "ld2gtl6ukZty",
        "outputId": "cb81dadb-a2d0-405a-94aa-9e262dcad5c6"
      },
      "outputs": [
        {
          "output_type": "execute_result",
          "data": {
            "text/plain": [
              "array([ 6.12433478e-02,  2.99906075e-01,  4.96400427e-03,  1.38327284e-02,\n",
              "       -2.60571569e-01,  1.05345994e-01,  6.40835166e-01, -5.45392670e-02,\n",
              "        4.01526038e-03,  1.97301716e-01, -1.88158095e-01, -1.14408620e-01,\n",
              "       -4.90326500e+00, -1.15113102e-01, -1.65368661e-01,  8.95331129e-02,\n",
              "       -5.90714924e-02, -3.63274366e-01, -4.83666122e-01, -1.18635632e-02,\n",
              "        1.38585210e-01,  5.64948358e-02,  1.67480893e-02,  2.04475686e-01,\n",
              "       -1.12521648e-02,  5.77462651e-02,  1.71445698e-01,  9.30395070e-03,\n",
              "        6.17554709e-02, -8.51066634e-02, -2.29725152e-01,  1.53503433e-01,\n",
              "       -4.65795286e-02, -7.63932243e-02, -4.71744537e-02,  3.40238899e-01,\n",
              "       -1.04640434e-02,  5.07004298e-02, -9.64600816e-02,  4.60623018e-02,\n",
              "       -1.10746431e+00,  4.65361774e-02,  1.51358142e-01,  1.44635905e-02,\n",
              "        3.29902083e-01, -1.54861301e-01,  2.54849404e-01,  1.83538854e-01,\n",
              "       -1.09085023e-01, -1.38134984e-02], dtype=float32)"
            ]
          },
          "metadata": {},
          "execution_count": 37
        }
      ],
      "source": [
        "import numpy as np\n",
        "\n",
        "np.mean(embeddings, axis=0)"
      ]
    },
    {
      "cell_type": "markdown",
      "metadata": {
        "id": "nCvTji3wlpGH"
      },
      "source": [
        "We will need to perform this vector transformation for all tweets in the training and also the test sets\n",
        "- We can define a procedure to do that for us"
      ]
    },
    {
      "cell_type": "code",
      "execution_count": 38,
      "metadata": {
        "id": "uopuAE26d7gH"
      },
      "outputs": [],
      "source": [
        "import numpy as np\n",
        "\n",
        "def vectorize(docs, embedding_model=model_twitter, useSum=True):\n",
        "    vectors = np.zeros((len(docs),50))\n",
        "    for i in range(len(docs)):\n",
        "        tokens = re.sub(regex, '', docs[i].lower()).split()\n",
        "        embeddings = [embedding_model.get_vector(token) for token in tokens if token in embedding_model]\n",
        "        if (len(embeddings) > 0):\n",
        "            if (useSum):\n",
        "                vectors[i] = sum(embeddings)\n",
        "            else:\n",
        "                vectors[i] = np.mean(embeddings, axis=0)\n",
        "    return vectors"
      ]
    },
    {
      "cell_type": "markdown",
      "metadata": {
        "id": "2WoMOcuFYcbM"
      },
      "source": [
        "Let's now vectorize the training set\n",
        "- and then print out one of the instances to check that the format is correct:"
      ]
    },
    {
      "cell_type": "code",
      "execution_count": 39,
      "metadata": {
        "colab": {
          "base_uri": "https://localhost:8080/"
        },
        "id": "iviol4QhenZx",
        "outputId": "3343a22f-3662-42e2-fdf1-bcd35698aa23"
      },
      "outputs": [
        {
          "output_type": "execute_result",
          "data": {
            "text/plain": [
              "array([[ 3.50410414e+00,  9.41638660e+00, -1.79675627e+00,\n",
              "        -2.40275979e-01,  2.98260307e+00, -1.78613222e+00,\n",
              "         1.36137094e+01, -1.93561006e+00,  3.11280131e-01,\n",
              "         1.95909798e+00, -2.07338595e+00,  1.40309465e+00,\n",
              "        -6.63480072e+01, -2.55779529e+00, -3.51114726e+00,\n",
              "        -1.76939988e+00, -6.63396001e-01, -4.23655367e+00,\n",
              "        -3.76146531e+00,  9.62243974e-01, -1.20646989e+00,\n",
              "        -1.11106408e+00, -2.11040115e+00,  8.02298009e-01,\n",
              "        -4.59815264e+00,  3.92930984e+00,  1.89953613e+00,\n",
              "         2.62164974e+00,  2.46763134e+00, -7.96672881e-01,\n",
              "        -3.01630497e+00,  3.37827969e+00, -1.54450715e+00,\n",
              "         3.00672722e+00,  6.75348997e+00,  6.57697737e-01,\n",
              "        -1.53590143e-01, -1.25976706e+00, -1.59950006e+00,\n",
              "         4.21397781e+00, -8.26350975e+00,  8.96598995e-01,\n",
              "         2.89637828e+00,  1.41234994e+00, -2.50075769e+00,\n",
              "        -4.70334768e+00,  4.52678013e+00, -3.72017884e+00,\n",
              "        -4.57889986e+00, -1.64922047e+00],\n",
              "       [ 1.85972190e+00,  2.07461715e+00,  5.06440938e-01,\n",
              "        -2.31595182e+00, -6.25979900e-01,  2.04915524e+00,\n",
              "         7.97251987e+00, -1.46954298e+00,  1.00475001e+00,\n",
              "         3.68625808e+00, -1.87991297e+00, -9.34740126e-01,\n",
              "        -4.82150993e+01,  1.55033088e+00, -2.40916896e+00,\n",
              "         1.87880099e+00,  9.91759062e-01, -1.53531396e+00,\n",
              "        -8.48970985e+00, -7.00510025e-01, -1.48342574e+00,\n",
              "         1.23337913e+00,  7.38720298e-02,  1.43101001e+00,\n",
              "         5.00474644e+00,  2.60729957e+00,  1.55543971e+00,\n",
              "        -2.18386507e+00,  1.45444012e+00, -2.38369322e+00,\n",
              "         7.27882981e-01,  4.53586292e+00, -1.96502709e+00,\n",
              "        -2.50682980e-01,  2.91440105e+00,  4.00918067e-01,\n",
              "        -3.02311993e+00,  2.88927007e+00, -1.96440011e-01,\n",
              "         4.41752005e+00, -8.48048973e+00,  2.07501793e+00,\n",
              "         2.01374054e+00,  2.70632505e+00,  1.38739908e+00,\n",
              "        -1.53653216e+00,  3.03352475e+00, -9.75979090e-01,\n",
              "        -2.31515718e+00,  1.59519994e+00],\n",
              "       [ 2.65240264e+00,  4.37993050e+00,  1.60212123e+00,\n",
              "        -2.80866504e+00, -5.65403748e+00,  2.28107023e+00,\n",
              "         1.35024290e+01, -5.12102187e-01, -4.00056887e+00,\n",
              "        -2.34717894e+00, -2.63936710e+00,  2.35942602e+00,\n",
              "        -8.98981628e+01, -3.58447599e+00, -4.56158829e+00,\n",
              "        -2.64886975e+00, -2.09539795e+00, -1.40021920e+00,\n",
              "        -7.29034805e+00,  7.08166063e-02,  2.68539000e+00,\n",
              "        -4.41121054e+00, -3.53062391e+00,  7.67539215e+00,\n",
              "        -9.24818516e-02,  8.62814045e+00,  6.34378147e+00,\n",
              "         1.27347302e+00,  5.45541954e+00, -4.65240288e+00,\n",
              "        -7.59700298e-01,  6.53785050e-01, -8.45826268e-01,\n",
              "        -5.41101575e-01,  8.15686321e+00, -4.89788175e-01,\n",
              "         1.27865577e+00,  5.52517748e+00,  5.85913897e-01,\n",
              "         4.99951267e+00, -1.40741320e+01, -1.48114204e+00,\n",
              "         4.60299969e+00,  4.11034393e+00,  2.47066021e-01,\n",
              "        -3.72937202e+00,  6.67811215e-01, -9.76016998e-01,\n",
              "         3.46286011e+00,  2.92716056e-01]])"
            ]
          },
          "metadata": {},
          "execution_count": 39
        }
      ],
      "source": [
        "train_x_vector = vectorize(train_x)\n",
        "train_x_vector[:3]"
      ]
    },
    {
      "cell_type": "markdown",
      "metadata": {
        "id": "z39a21KpdBHb"
      },
      "source": [
        "Now that we have the vectorized training data, we can go ahead and train the model!"
      ]
    },
    {
      "cell_type": "code",
      "execution_count": 40,
      "metadata": {
        "colab": {
          "base_uri": "https://localhost:8080/"
        },
        "id": "qCuF581vdBcp",
        "outputId": "2b698270-c44e-4c75-b541-97790aecd878"
      },
      "outputs": [
        {
          "output_type": "stream",
          "name": "stdout",
          "text": [
            "LogisticRegression(max_iter=1000)\n"
          ]
        }
      ],
      "source": [
        "from sklearn.linear_model import LogisticRegression\n",
        "\n",
        "lr_model = LogisticRegression(max_iter=1000).fit(train_x_vector, train_y)\n",
        "print(lr_model)"
      ]
    },
    {
      "cell_type": "markdown",
      "metadata": {
        "id": "yAQhGdw_Yyi1"
      },
      "source": [
        "Let's test the model on the example tweets from the second tutorial:"
      ]
    },
    {
      "cell_type": "code",
      "execution_count": 41,
      "metadata": {
        "colab": {
          "base_uri": "https://localhost:8080/"
        },
        "id": "OTb8hjCNkBf-",
        "outputId": "9ff2a13c-d362-4372-f84a-11e93e381106"
      },
      "outputs": [
        {
          "output_type": "stream",
          "name": "stdout",
          "text": [
            "tweet:      I can't believe how much fun I'm having learning to train a text classifier using word embeddings!\n",
            "prediction: negative\n",
            "confidence: [0.52549897 0.47450103]\n",
            "\n",
            "tweet:      I am really confused. I want my mommy.\n",
            "prediction: negative\n",
            "confidence: [0.84987862 0.15012138]\n",
            "\n",
            "tweet:      The internet connection has been pretty annoying today!\n",
            "prediction: negative\n",
            "confidence: [0.85138186 0.14861814]\n",
            "\n",
            "tweet:      They just played my favourite song on the radio.\n",
            "prediction: positive\n",
            "confidence: [0.39708173 0.60291827]\n",
            "\n",
            "tweet:      I don't like going to the dentist.\n",
            "prediction: negative\n",
            "confidence: [0.8854377 0.1145623]\n",
            "\n",
            "tweet:      Can't wait for my three hour math class tomorrow morning. Yay!\n",
            "prediction: negative\n",
            "confidence: [0.68170888 0.31829112]\n",
            "\n"
          ]
        }
      ],
      "source": [
        "tweets = []\n",
        "tweets.append('I can\\'t believe how much fun I\\'m having learning to train a text classifier using word embeddings!')\n",
        "tweets.append('I am really confused. I want my mommy.')\n",
        "tweets.append('The internet connection has been pretty annoying today!')\n",
        "tweets.append('They just played my favourite song on the radio.')\n",
        "tweets.append(\"I don't like going to the dentist.\")\n",
        "tweets.append(\"Can't wait for my three hour math class tomorrow morning. Yay!\")\n",
        "\n",
        "\n",
        "transformed_tweets = vectorize(tweets)\n",
        "predictions = lr_model.predict(transformed_tweets)\n",
        "predicted_probabilities = lr_model.predict_proba(transformed_tweets)\n",
        "\n",
        "for i in range(len(tweets)):\n",
        "  print(f'tweet:      {tweets[i]}')\n",
        "  print(f'prediction: {predictions[i]}')\n",
        "  print(f'confidence: {predicted_probabilities[i]}')\n",
        "  print()"
      ]
    },
    {
      "cell_type": "markdown",
      "metadata": {
        "id": "FLBJOO8cbVHP"
      },
      "source": [
        "We can have a look at the coefficients of the logistic regression classification model.\n",
        "- How many should there be?"
      ]
    },
    {
      "cell_type": "code",
      "execution_count": 42,
      "metadata": {
        "colab": {
          "base_uri": "https://localhost:8080/"
        },
        "id": "bPtPzQuLomrR",
        "outputId": "5b2058ed-1a95-49de-a92a-5b29aa85a75e"
      },
      "outputs": [
        {
          "output_type": "execute_result",
          "data": {
            "text/plain": [
              "array([[-1.20604571e-02, -3.23583996e-02,  2.79233534e-02,\n",
              "        -1.41943131e-03,  2.15297376e-01,  2.32485931e-01,\n",
              "         5.57564577e-02, -8.06764095e-02, -6.00671657e-02,\n",
              "         8.42437101e-03, -1.20372700e-01,  2.85532733e-01,\n",
              "         1.77623725e-02,  1.84789498e-03, -1.88375253e-01,\n",
              "         7.25476730e-02, -1.48192910e-02,  6.56069590e-03,\n",
              "         1.56382693e-01,  4.02372018e-02,  1.01829924e-02,\n",
              "        -7.31099092e-02, -8.20132461e-02, -4.89461210e-02,\n",
              "         7.45316799e-02,  5.99903108e-02,  9.98615296e-02,\n",
              "        -8.00526652e-02,  1.72503265e-01,  7.82487997e-02,\n",
              "         1.55585577e-01,  1.05832301e-01, -1.60149978e-02,\n",
              "         3.34470294e-02,  1.15198696e-01,  1.31385950e-01,\n",
              "         1.51639679e-01,  5.72031705e-02,  1.77020109e-04,\n",
              "        -3.82284431e-02, -3.11492043e-02, -3.39902157e-02,\n",
              "         6.23987064e-02,  1.54122241e-01, -2.22306891e-02,\n",
              "         1.00493083e-01,  2.47933777e-03, -9.41720431e-04,\n",
              "         2.10533991e-03, -6.92900235e-02]])"
            ]
          },
          "metadata": {},
          "execution_count": 42
        }
      ],
      "source": [
        "lr_model.coef_"
      ]
    },
    {
      "cell_type": "markdown",
      "metadata": {
        "id": "Eso1pS5Ybevo"
      },
      "source": [
        "Let's vectorize the validaton data and see how well the embeddings-based classifier performs on it:"
      ]
    },
    {
      "cell_type": "code",
      "execution_count": 43,
      "metadata": {
        "colab": {
          "base_uri": "https://localhost:8080/",
          "height": 466
        },
        "id": "DncyqQpinGHG",
        "outputId": "cd26a8c4-8e9e-4d35-e484-dc9db3707d84"
      },
      "outputs": [
        {
          "output_type": "stream",
          "name": "stdout",
          "text": [
            "Accuracy: 0.73625\n"
          ]
        },
        {
          "output_type": "display_data",
          "data": {
            "text/plain": [
              "<Figure size 640x480 with 2 Axes>"
            ],
            "image/png": "[encoded data removed]"
          },
          "metadata": {}
        }
      ],
      "source": [
        "valid_x_vector = vectorize(valid_x)\n",
        "pred_y = lr_model.predict(valid_x_vector)\n",
        "\n",
        "from sklearn.metrics import accuracy_score\n",
        "\n",
        "print(f'Accuracy: {accuracy_score(valid_y, pred_y)}')\n",
        "\n",
        "import matplotlib.pyplot as plt\n",
        "from sklearn.metrics import ConfusionMatrixDisplay\n",
        "\n",
        "ConfusionMatrixDisplay.from_estimator(lr_model, valid_x_vector, valid_y, values_format='d')\n",
        "plt.show()"
      ]
    },
    {
      "cell_type": "markdown",
      "metadata": {
        "id": "7z23krami3W0"
      },
      "source": [
        "So pretty much the same accuracy as the bag-of-words based classifier.\n",
        "- but this time with feature vectors of size 50\n",
        "- what happens to the accuracy if we:\n",
        "  - use a different embedding: model_wiki instead of model_twitter\n",
        "  - use a bigger (higher dimensional) embedding: download a larger one to see\n",
        "  - use the average rather than the sum to generate the feature vector?\n",
        "- try it out:"
      ]
    },
    {
      "cell_type": "code",
      "execution_count": 44,
      "metadata": {
        "id": "Ojy2UOofkQsE"
      },
      "outputs": [],
      "source": [
        "# TODO"
      ]
    },
    {
      "cell_type": "code",
      "execution_count": 45,
      "metadata": {
        "colab": {
          "base_uri": "https://localhost:8080/",
          "height": 466
        },
        "id": "7oAunD8foYwa",
        "outputId": "d2217b2e-2e7c-49cd-a6aa-18d8f01c1cbc"
      },
      "outputs": [
        {
          "output_type": "stream",
          "name": "stdout",
          "text": [
            "Accuracy: 0.678125\n"
          ]
        },
        {
          "output_type": "display_data",
          "data": {
            "text/plain": [
              "<Figure size 640x480 with 2 Axes>"
            ],
            "image/png": "[encoded data removed]"
          },
          "metadata": {}
        }
      ],
      "source": [
        "# Vecorise\n",
        "train_x_vector = vectorize(train_x, embedding_model=model_wiki)\n",
        "# Fit model\n",
        "lr_model = LogisticRegression(max_iter=1000).fit(train_x_vector, train_y)\n",
        "# Evaluate results\n",
        "valid_x_vector = vectorize(valid_x, embedding_model=model_wiki)\n",
        "pred_y = lr_model.predict(valid_x_vector)\n",
        "\n",
        "print(f'Accuracy: {accuracy_score(valid_y, pred_y)}')\n",
        "\n",
        "ConfusionMatrixDisplay.from_estimator(lr_model, valid_x_vector, valid_y, values_format='d')\n",
        "plt.show()"
      ]
    },
    {
      "cell_type": "code",
      "execution_count": 46,
      "metadata": {
        "colab": {
          "base_uri": "https://localhost:8080/",
          "height": 472
        },
        "id": "p84fr6EZoYwa",
        "outputId": "15fb132a-d99d-4829-f159-d6122b480e0d"
      },
      "outputs": [
        {
          "output_type": "stream",
          "name": "stdout",
          "text": [
            "Accuracy: 0.675625\n"
          ]
        },
        {
          "output_type": "display_data",
          "data": {
            "text/plain": [
              "<Figure size 640x480 with 2 Axes>"
            ],
            "image/png": "[encoded data removed]"
          },
          "metadata": {}
        }
      ],
      "source": [
        "# Vecorise\n",
        "train_x_vector = vectorize(train_x, embedding_model=model_wiki, useSum=False)\n",
        "# Fit model\n",
        "lr_model = LogisticRegression(max_iter=1000).fit(train_x_vector, train_y)\n",
        "# Evaluate results\n",
        "valid_x_vector = vectorize(valid_x, embedding_model=model_wiki, useSum=False)\n",
        "pred_y = lr_model.predict(valid_x_vector)\n",
        "\n",
        "print(f'Accuracy: {accuracy_score(valid_y, pred_y)}')\n",
        "\n",
        "ConfusionMatrixDisplay.from_estimator(lr_model, valid_x_vector, valid_y, values_format='d')\n",
        "plt.show()"
      ]
    },
    {
      "cell_type": "code",
      "execution_count": 47,
      "metadata": {
        "colab": {
          "base_uri": "https://localhost:8080/",
          "height": 466
        },
        "id": "XadxRPqWoYwb",
        "outputId": "b9671ab6-1a10-49d1-e069-2a3653c3c3f5"
      },
      "outputs": [
        {
          "output_type": "stream",
          "name": "stdout",
          "text": [
            "Accuracy: 0.735\n"
          ]
        },
        {
          "output_type": "display_data",
          "data": {
            "text/plain": [
              "<Figure size 640x480 with 2 Axes>"
            ],
            "image/png": "[encoded data removed]"
          },
          "metadata": {}
        }
      ],
      "source": [
        "# Vecorise\n",
        "train_x_vector = vectorize(train_x, useSum=False)\n",
        "# Fit model\n",
        "lr_model = LogisticRegression(max_iter=1000).fit(train_x_vector, train_y)\n",
        "# Evaluate results\n",
        "valid_x_vector = vectorize(valid_x, useSum=False)\n",
        "pred_y = lr_model.predict(valid_x_vector)\n",
        "\n",
        "print(f'Accuracy: {accuracy_score(valid_y, pred_y)}')\n",
        "\n",
        "ConfusionMatrixDisplay.from_estimator(lr_model, valid_x_vector, valid_y, values_format='d')\n",
        "plt.show()"
      ]
    },
    {
      "cell_type": "code",
      "execution_count": 47,
      "metadata": {
        "id": "xizR-8PJoYwc"
      },
      "outputs": [],
      "source": []
    },
    {
      "cell_type": "markdown",
      "metadata": {
        "id": "NvWLcBqGkTFO"
      },
      "source": [
        "Also worth trying is doc2vec rather than word2vec embeddings:\n",
        "- in theory they should give slightly better performance on sentence classification tasks\n",
        "- see here: https://radimrehurek.com/gensim/auto_examples/tutorials/run_doc2vec_lee.html"
      ]
    },
    {
      "cell_type": "markdown",
      "metadata": {
        "id": "kIvbxdRpYHlO"
      },
      "source": [
        "## Other uses for Word2Vec embeddings\n",
        "\n",
        "Have a look at this inventive post that learns Word2Vec embeddings for automobiles described in CSV file:\n",
        "- https://towardsdatascience.com/a-beginners-guide-to-word-embedding-with-gensim-word2vec-model-5970fa56cc92\n",
        "- The embeddings allow for similarity computations across  the vehicles.\n"
      ]
    },
    {
      "cell_type": "code",
      "execution_count": 48,
      "metadata": {
        "id": "_YWk4FnIYHlO"
      },
      "outputs": [],
      "source": [
        "# TODO"
      ]
    },
    {
      "cell_type": "markdown",
      "metadata": {
        "id": "6PifwcbdWqKz"
      },
      "source": [
        "## FastText (sub-word) embeddings\n",
        "\n",
        "Try training a fasttext model:\n",
        "\n",
        "https://pypi.org/project/fasttext/\n",
        "\n",
        "You can have a look at the API and documentation at this [link](https://fasttext.cc)."
      ]
    },
    {
      "cell_type": "markdown",
      "metadata": {
        "id": "jJn_r-pPHxim"
      },
      "source": [
        "Let's start by installing the fastText package.\n",
        "(Note that, alterantively, Genism has a specific API for fastText that wraps the package we are going to use)"
      ]
    },
    {
      "cell_type": "code",
      "execution_count": 49,
      "metadata": {
        "colab": {
          "base_uri": "https://localhost:8080/"
        },
        "id": "52qmtcvvKmXD",
        "outputId": "8fe004a1-b613-4f22-c85f-f6a6b7bf0c33"
      },
      "outputs": [
        {
          "output_type": "stream",
          "name": "stdout",
          "text": [
            "Collecting fasttext\n",
            "  Downloading fasttext-0.9.2.tar.gz (68 kB)\n",
            "\u001b[?25l     \u001b[90m━━━━━━━━━━━━━━━━━━━━━━━━━━━━━━━━━━━━━━━━\u001b[0m \u001b[32m0.0/68.8 kB\u001b[0m \u001b[31m?\u001b[0m eta \u001b[36m-:--:--\u001b[0m\r\u001b[2K     \u001b[90m━━━━━━━━━━━━━━━━━━━━━━━━━━━━━━━━━━━━━━━━\u001b[0m \u001b[32m68.8/68.8 kB\u001b[0m \u001b[31m2.3 MB/s\u001b[0m eta \u001b[36m0:00:00\u001b[0m\n",
            "\u001b[?25h  Preparing metadata (setup.py) ... \u001b[?25l\u001b[?25hdone\n",
            "Collecting pybind11>=2.2 (from fasttext)\n",
            "  Using cached pybind11-2.11.1-py3-none-any.whl (227 kB)\n",
            "Requirement already satisfied: setuptools>=0.7.0 in /usr/local/lib/python3.10/dist-packages (from fasttext) (67.7.2)\n",
            "Requirement already satisfied: numpy in /usr/local/lib/python3.10/dist-packages (from fasttext) (1.25.2)\n",
            "Building wheels for collected packages: fasttext\n",
            "  Building wheel for fasttext (setup.py) ... \u001b[?25l\u001b[?25hdone\n",
            "  Created wheel for fasttext: filename=fasttext-0.9.2-cp310-cp310-linux_x86_64.whl size=4199773 sha256=bf396c047036c6f4cf0c712ff6c45bcd771c100728db15cabaacdc9027f84fae\n",
            "  Stored in directory: /root/.cache/pip/wheels/a5/13/75/f811c84a8ab36eedbaef977a6a58a98990e8e0f1967f98f394\n",
            "Successfully built fasttext\n",
            "Installing collected packages: pybind11, fasttext\n",
            "Successfully installed fasttext-0.9.2 pybind11-2.11.1\n"
          ]
        }
      ],
      "source": [
        "!pip install fasttext"
      ]
    },
    {
      "cell_type": "markdown",
      "metadata": {
        "id": "x62UPMmPwTZN"
      },
      "source": [
        "Now that we have installed the package, we can download one of the pre-trained models (you can find [here](https://fasttext.cc/docs/en/crawl-vectors.html) the list of available models)"
      ]
    },
    {
      "cell_type": "code",
      "execution_count": 50,
      "metadata": {
        "colab": {
          "base_uri": "https://localhost:8080/"
        },
        "id": "w332B-YpwTjV",
        "outputId": "5b170d76-cff6-4d1f-da96-aec22c4ab1e5"
      },
      "outputs": [
        {
          "output_type": "stream",
          "name": "stdout",
          "text": [
            "--2024-03-27 18:24:50--  http://dl.fbaipublicfiles.com/fasttext/vectors-crawl/cc.en.300.bin.gz\n",
            "Resolving dl.fbaipublicfiles.com (dl.fbaipublicfiles.com)... 3.163.189.108, 3.163.189.96, 3.163.189.14, ...\n",
            "Connecting to dl.fbaipublicfiles.com (dl.fbaipublicfiles.com)|3.163.189.108|:80... connected.\n",
            "HTTP request sent, awaiting response... 200 OK\n",
            "Length: 4503593528 (4.2G) [application/octet-stream]\n",
            "Saving to: ‘cc.en.300.bin.gz’\n",
            "\n",
            "cc.en.300.bin.gz    100%[===================>]   4.19G  52.0MB/s    in 1m 42s  \n",
            "\n",
            "2024-03-27 18:26:32 (42.2 MB/s) - ‘cc.en.300.bin.gz’ saved [4503593528/4503593528]\n",
            "\n"
          ]
        }
      ],
      "source": [
        "# !wget https://dl.fbaipublicfiles.com/fasttext/vectors-wiki/wiki.en.zip\n",
        "!wget http://dl.fbaipublicfiles.com/fasttext/vectors-crawl/cc.en.300.bin.gz\n",
        "!gzip -d cc.en.300.bin.gz"
      ]
    },
    {
      "cell_type": "markdown",
      "metadata": {
        "id": "1tDcLNT9fKUl"
      },
      "source": [
        "Finally we can create a model istance:"
      ]
    },
    {
      "cell_type": "code",
      "execution_count": 51,
      "metadata": {
        "colab": {
          "base_uri": "https://localhost:8080/"
        },
        "id": "JrDxcw89fKgr",
        "outputId": "1f2f7402-c524-4acd-e9fc-bf0d215a5dae"
      },
      "outputs": [
        {
          "output_type": "stream",
          "name": "stderr",
          "text": [
            "Warning : `load_model` does not return WordVectorModel or SupervisedModel any more, but a `FastText` object which is very similar.\n"
          ]
        }
      ],
      "source": [
        "import fasttext\n",
        "\n",
        "ft_model = fasttext.load_model('./cc.en.300.bin')"
      ]
    },
    {
      "cell_type": "markdown",
      "metadata": {
        "id": "pnpPQ0j3mUiE"
      },
      "source": [
        "What is the size of the vocabulary?"
      ]
    },
    {
      "cell_type": "code",
      "execution_count": 52,
      "metadata": {
        "colab": {
          "base_uri": "https://localhost:8080/"
        },
        "id": "uhqskdAimTLa",
        "outputId": "28d4e37d-3af9-4630-aac2-73ff28f8f797"
      },
      "outputs": [
        {
          "output_type": "execute_result",
          "data": {
            "text/plain": [
              "2000000"
            ]
          },
          "metadata": {},
          "execution_count": 52
        }
      ],
      "source": [
        "len(ft_model.get_words())"
      ]
    },
    {
      "cell_type": "markdown",
      "metadata": {
        "id": "19fBomf5mVDU"
      },
      "source": [
        "What is the size of the embeddings?"
      ]
    },
    {
      "cell_type": "code",
      "execution_count": 53,
      "metadata": {
        "colab": {
          "base_uri": "https://localhost:8080/"
        },
        "id": "JK9X-b5XmTic",
        "outputId": "533fe697-4655-4d7b-e230-36b495fc3e3e"
      },
      "outputs": [
        {
          "output_type": "execute_result",
          "data": {
            "text/plain": [
              "300"
            ]
          },
          "metadata": {},
          "execution_count": 53
        }
      ],
      "source": [
        "ft_model.get_dimension()"
      ]
    },
    {
      "cell_type": "markdown",
      "metadata": {
        "id": "IIdTZm67oYws"
      },
      "source": [
        "How do we get the embedding of a word?"
      ]
    },
    {
      "cell_type": "code",
      "execution_count": 54,
      "metadata": {
        "colab": {
          "base_uri": "https://localhost:8080/"
        },
        "id": "iW1LFdmAoYws",
        "outputId": "ab13913c-039a-493c-c16a-491ecb95aa3b"
      },
      "outputs": [
        {
          "output_type": "execute_result",
          "data": {
            "text/plain": [
              "array([ 1.37498349e-01,  1.73652887e-01,  1.55173652e-02,  2.37601340e-01,\n",
              "       -2.04669774e-01,  1.87128603e-01,  2.91468382e-01,  3.73304449e-03,\n",
              "        4.89513204e-02,  2.60247648e-01, -8.31757560e-02, -1.56491295e-01,\n",
              "        8.69184956e-02, -4.78181392e-02, -1.18615523e-01,  1.54884279e-01,\n",
              "       -1.69153258e-01, -1.22394666e-01, -1.40723094e-01,  4.53762040e-02,\n",
              "       -3.81604545e-02, -1.46799475e-01,  1.36863321e-01, -1.50539711e-01,\n",
              "       -1.81618929e-02,  1.47275031e-02, -4.21417244e-02,  1.39445990e-01,\n",
              "        4.28556725e-02,  3.05333138e-01, -1.66591443e-02,  2.91614503e-01,\n",
              "       -3.32667604e-02, -4.68752086e-02,  2.67606732e-02,  8.71477500e-02,\n",
              "       -5.38966954e-02,  1.33774459e-01,  8.50976482e-02, -6.40801638e-02,\n",
              "       -1.03779674e-01, -1.81272849e-01, -1.10902652e-01,  1.66989714e-01,\n",
              "       -1.99763715e-01,  4.53899801e-03, -1.89182535e-02, -2.78699417e-02,\n",
              "       -2.93243110e-01, -5.81464916e-03,  1.75295904e-01,  1.08659819e-01,\n",
              "       -1.88145787e-02,  2.53145359e-02,  9.95914787e-02, -3.12647223e-02,\n",
              "        9.74955484e-02, -1.57494023e-01, -1.64722189e-01, -6.87088072e-02,\n",
              "        9.10460949e-05,  1.59804896e-02,  1.10373735e-01,  6.10446706e-02,\n",
              "        1.07483588e-01, -1.33552194e-01, -7.02596456e-02,  1.16452649e-01,\n",
              "        1.18472248e-01,  6.14816248e-02, -8.17625001e-02,  4.12990153e-03,\n",
              "        1.23452470e-02,  1.57015212e-02,  3.73466015e-02, -1.09414756e-02,\n",
              "       -8.77702013e-02,  2.94106871e-01, -1.09256595e-01, -7.45082274e-02,\n",
              "       -2.63583213e-01, -2.84229126e-02, -1.52215466e-01, -1.00488283e-01,\n",
              "        4.63331118e-02, -6.50667697e-02, -7.57237226e-02,  1.46466196e-02,\n",
              "       -3.01163793e-02, -6.27530664e-02,  7.32356012e-02, -3.39862436e-01,\n",
              "       -2.12151855e-02,  1.20418519e-01,  1.95152871e-02,  1.46374375e-01,\n",
              "        4.19964790e-02,  2.27189422e-01, -4.76691127e-02,  5.83246611e-02,\n",
              "       -1.18166231e-01,  1.94506012e-02,  1.29298002e-01, -8.22782367e-02,\n",
              "       -1.82408914e-01,  1.22837633e-01, -4.33400944e-02, -7.62889758e-02,\n",
              "       -1.49289474e-01,  1.32627741e-01,  2.07074419e-01, -2.40204573e-01,\n",
              "       -3.01707983e-02,  1.00110896e-01,  1.09480068e-01,  1.78128794e-01,\n",
              "        5.19588068e-02, -1.18714668e-01, -6.70131519e-02,  2.07650527e-01,\n",
              "       -3.13496441e-02,  2.84634590e-01, -8.52486044e-02, -2.01036707e-02,\n",
              "       -1.93305723e-02, -2.07597405e-01, -1.20448753e-01,  1.40477762e-01,\n",
              "        1.05674461e-01,  3.88197601e-03,  6.56490326e-02, -2.37631038e-01,\n",
              "       -3.56610008e-02, -8.02731290e-02, -2.24592313e-02, -1.23117693e-01,\n",
              "        1.51049644e-01,  2.43693039e-01,  1.88642144e-01,  3.11025791e-03,\n",
              "       -1.42823428e-01,  7.86538571e-02,  6.08236715e-03, -1.67422846e-01,\n",
              "       -8.55229050e-02,  7.95976892e-02, -3.45605433e-01,  5.82623780e-02,\n",
              "       -1.06225297e-01, -1.78768754e-01, -4.63169813e-02, -7.22998232e-02,\n",
              "        6.99614957e-02, -1.17765516e-02, -1.15494572e-01, -5.82705364e-02,\n",
              "        1.16676003e-01,  5.70290461e-02, -7.90311471e-02,  8.35967138e-02,\n",
              "        8.16148371e-02, -1.73566580e-01,  2.34466106e-01,  3.13998163e-02,\n",
              "       -2.83091217e-02, -3.13015580e-02,  1.57410666e-01, -1.23833120e-02,\n",
              "       -6.04008958e-02,  1.00380607e-01,  1.09081395e-01,  5.35128973e-02,\n",
              "       -1.12907238e-01, -2.18785390e-01, -2.26536058e-02, -2.15117663e-01,\n",
              "       -1.11640386e-01, -3.89714614e-02,  8.59435648e-02, -1.97914347e-01,\n",
              "       -4.17543389e-02, -1.15136296e-01,  4.49582487e-02, -1.30544692e-01,\n",
              "       -6.05523065e-02,  3.08122993e-01, -4.84386310e-02, -5.04352376e-02,\n",
              "        5.67938611e-02,  1.03469603e-01,  3.77609134e-02,  1.75252743e-03,\n",
              "        2.36129127e-02,  1.28008991e-01, -9.24589187e-02, -1.44171059e-01,\n",
              "        3.02452624e-01, -1.20941728e-01,  2.55626217e-02, -4.43983078e-02,\n",
              "        1.31773561e-01,  5.05378768e-02,  4.99319136e-02, -4.53851558e-02,\n",
              "       -1.25326589e-01,  1.03378303e-01,  9.02659371e-02,  8.87431204e-03,\n",
              "        1.90032590e-02,  6.09402731e-02,  8.95207599e-02, -9.70865861e-02,\n",
              "       -9.47063640e-02,  2.91972943e-02, -1.52865816e-02, -1.61617801e-01,\n",
              "        3.19432677e-03, -6.58987164e-02,  6.43858016e-02, -2.62204409e-02,\n",
              "        7.66740441e-02, -3.07367295e-02, -1.66517615e-01, -4.53550480e-02,\n",
              "        1.12862349e-01,  2.02228762e-02, -6.31066635e-02, -2.73563862e-01,\n",
              "       -8.24580714e-02, -7.55187646e-02,  2.45882347e-01,  7.84016699e-02,\n",
              "       -7.31700063e-02, -5.58071174e-02, -2.08459049e-02,  1.32113360e-02,\n",
              "       -1.15614533e-01, -1.28816754e-01, -7.76782110e-02,  1.39297172e-02,\n",
              "        7.68901408e-02,  3.53115499e-02, -7.35836700e-02, -1.48101956e-01,\n",
              "        1.57499254e-01,  2.79525697e-01, -7.00949654e-02, -1.30779624e-01,\n",
              "       -6.56079650e-02, -3.89638245e-02,  2.90693641e-02,  2.53306665e-02,\n",
              "       -1.87344216e-02,  8.13647956e-02,  1.52117580e-01,  5.24173714e-02,\n",
              "       -2.27155939e-01,  3.56054865e-02,  1.05434768e-02, -6.52607605e-02,\n",
              "        9.73352417e-02, -6.46137819e-02, -2.53503621e-02,  1.22090224e-02,\n",
              "       -1.39826387e-01, -7.75838494e-02, -2.07123429e-01, -7.15182126e-02,\n",
              "        8.69591534e-03,  1.41621977e-02, -1.93011254e-01,  2.27474242e-01,\n",
              "       -1.15029059e-01,  4.09493409e-02, -8.25189203e-02, -7.64346272e-02,\n",
              "       -9.39211100e-02,  4.57039848e-02,  2.61136368e-02, -3.34188640e-02,\n",
              "        4.32544090e-02, -1.03707597e-01, -1.41373813e-01, -1.44344121e-01,\n",
              "        1.59042463e-01,  9.89959389e-03,  2.83480138e-02, -2.38574252e-01,\n",
              "       -2.76446074e-01, -8.09888542e-02, -4.18215282e-02,  1.75330192e-02,\n",
              "       -1.65929049e-01,  1.04931220e-01, -1.10928323e-02,  9.20476243e-02,\n",
              "        6.67028055e-02,  2.07736552e-01,  8.53124261e-02, -1.40121192e-01],\n",
              "      dtype=float32)"
            ]
          },
          "metadata": {},
          "execution_count": 54
        }
      ],
      "source": [
        "ft_model.get_word_vector('car')"
      ]
    },
    {
      "cell_type": "markdown",
      "metadata": {
        "id": "pdmlMInLoYwt"
      },
      "source": [
        "Alterantively you can use it as a Python dictionary"
      ]
    },
    {
      "cell_type": "code",
      "execution_count": 55,
      "metadata": {
        "colab": {
          "base_uri": "https://localhost:8080/"
        },
        "id": "pwV_OHo1oYwt",
        "outputId": "9c5f3b1a-827d-4110-fe3a-f8f1ff77d5bf"
      },
      "outputs": [
        {
          "output_type": "execute_result",
          "data": {
            "text/plain": [
              "array([ 2.05102742e-01, -1.17439777e-01, -1.55425537e-02,  1.79349303e-01,\n",
              "       -2.28049219e-01, -1.24558017e-01,  1.23250902e-01,  5.38473055e-02,\n",
              "        4.11795303e-02, -5.67295495e-03, -8.39752406e-02,  1.84653439e-02,\n",
              "       -8.60689804e-02,  1.12930965e-02, -1.33117482e-01,  1.38373390e-01,\n",
              "       -1.25412792e-01, -3.86665910e-02, -1.22192718e-01,  1.07491598e-01,\n",
              "        7.44868889e-02,  1.43000856e-01, -2.68281717e-02,  7.85946473e-03,\n",
              "       -3.62306088e-02, -2.08035931e-02,  9.95780062e-03, -5.96441068e-02,\n",
              "        3.78727615e-02,  1.31439894e-01, -6.71993792e-02,  6.71701431e-02,\n",
              "        1.11701377e-01, -1.82819627e-02, -1.02341630e-01,  9.74911451e-03,\n",
              "        4.25241441e-02, -1.59083098e-01,  3.72390151e-02, -1.32961005e-01,\n",
              "       -6.62351400e-02,  1.17778786e-01, -3.11643854e-02, -4.58469465e-02,\n",
              "       -1.54904723e-01,  2.37882137e-03,  2.09096503e-02, -6.17710687e-03,\n",
              "       -2.41204053e-01,  8.73834118e-02,  6.91391528e-02,  1.11958645e-01,\n",
              "       -1.52415112e-02, -1.00177675e-01, -6.60216436e-02,  7.77632892e-02,\n",
              "        9.00297761e-02,  3.69252376e-02, -2.52914429e-02,  2.36923918e-02,\n",
              "       -1.53724262e-02,  3.27921212e-02, -1.39887005e-01,  1.09796673e-02,\n",
              "        7.74039626e-02, -7.29498342e-02,  3.66372019e-02,  6.94629326e-02,\n",
              "       -4.31373864e-02,  3.86431366e-02, -2.37832926e-02, -2.62797046e-02,\n",
              "       -8.52299929e-02, -1.24506094e-03, -1.66640848e-01, -7.69969672e-02,\n",
              "        1.00765273e-01,  3.93868051e-03,  1.25144869e-02,  1.72688425e-01,\n",
              "       -4.70201746e-02, -7.07887039e-02,  2.69618072e-02,  8.90153423e-02,\n",
              "       -8.63350183e-02,  5.59332669e-02,  6.88511878e-02, -1.81689560e-02,\n",
              "        1.49315774e-01, -2.06480175e-03, -4.99112904e-02,  9.12162587e-02,\n",
              "        6.12079501e-02,  3.40343006e-02, -1.59623727e-01,  9.91314650e-03,\n",
              "        1.47123680e-01,  7.51622468e-02,  1.25847980e-01,  7.28560686e-02,\n",
              "       -1.20911151e-01,  1.33074015e-01, -2.40076296e-02, -8.61709863e-02,\n",
              "       -1.79991545e-03,  3.91840525e-02, -3.06748301e-02, -1.10395163e-01,\n",
              "       -1.44113809e-01,  3.47533152e-02,  1.26442760e-01,  1.51098520e-01,\n",
              "       -1.47495106e-01,  9.89220962e-02,  1.07589796e-01,  9.38937441e-02,\n",
              "       -1.53009564e-01, -1.30068827e-02, -1.14716075e-01, -1.30422384e-01,\n",
              "        1.86000764e-02,  5.32120466e-05, -2.31985860e-02, -1.07203282e-01,\n",
              "       -3.31636667e-02,  4.47869375e-02,  2.25304645e-02,  1.85147613e-01,\n",
              "        5.13294712e-03, -1.23191781e-01,  8.12826157e-02, -8.51961747e-02,\n",
              "       -9.72918421e-02, -1.90278441e-02, -6.44630939e-02, -1.08691052e-01,\n",
              "        2.70893425e-02,  1.02976874e-01,  1.80976331e-01, -1.63971558e-02,\n",
              "       -7.17620775e-02, -7.96736404e-02, -9.61826518e-02, -1.91508874e-01,\n",
              "        2.70473287e-02,  1.24248281e-01, -3.49661916e-01, -1.33518144e-01,\n",
              "       -2.82961894e-02, -9.26014706e-02, -4.25025821e-04, -2.86594480e-02,\n",
              "       -3.91338617e-02, -9.90596265e-02, -4.65282984e-02, -8.72748494e-02,\n",
              "        1.51935905e-01, -1.91162080e-02,  9.13072601e-02,  1.89611129e-02,\n",
              "       -1.08969875e-01, -2.90214196e-02,  8.61809775e-02, -2.18289584e-01,\n",
              "       -1.40584171e-01, -2.89806034e-02,  8.69408399e-02,  1.18448846e-02,\n",
              "        9.80549902e-02,  5.18676490e-02, -3.34505178e-03,  8.01285952e-02,\n",
              "        6.87225088e-02,  1.70012593e-01,  3.26067172e-02,  1.63739957e-02,\n",
              "        3.87846790e-02, -1.26889497e-02, -3.26282345e-02,  9.15853605e-02,\n",
              "        5.58803044e-03,  1.06696427e-01, -4.73687798e-02, -1.07843116e-01,\n",
              "       -8.31641108e-02,  1.36591256e-01,  2.29387909e-01, -2.46172547e-02,\n",
              "        2.01673638e-02, -2.14638207e-02, -1.00305840e-01,  1.96577206e-01,\n",
              "        1.44458741e-01,  9.78642032e-02,  1.25113457e-01, -5.35797067e-02,\n",
              "       -6.95556924e-02, -1.35392934e-01,  3.14381532e-02,  1.78394511e-01,\n",
              "        5.15805036e-02,  3.73208970e-02,  1.08873099e-01,  5.15858382e-02,\n",
              "        3.36884856e-02,  9.44927931e-02,  9.98455137e-02, -5.56635223e-02,\n",
              "       -1.62284330e-01,  2.38388091e-01,  8.31078738e-03, -7.34476894e-02,\n",
              "       -1.08296201e-01,  6.40900210e-02, -1.30532300e-02,  1.64562717e-01,\n",
              "        5.02874181e-02, -1.77713811e-01, -4.69116122e-03, -2.90708076e-02,\n",
              "        1.00689061e-01,  1.28326267e-01, -1.63036004e-01,  1.28823876e-01,\n",
              "       -4.02787179e-02, -1.83677584e-01,  7.98890889e-02, -4.12471667e-02,\n",
              "       -3.48612294e-02, -6.26894534e-02, -1.59047395e-01,  1.87391803e-01,\n",
              "        3.71768177e-02,  2.79565807e-02,  1.63159668e-01,  3.75718437e-02,\n",
              "        7.86873326e-02, -2.44909581e-02, -6.72861934e-02, -3.14295776e-02,\n",
              "        1.51372068e-02, -5.56141920e-02,  4.48027030e-02, -1.93316251e-01,\n",
              "        2.06538424e-01, -8.87603462e-02, -9.88327265e-02,  2.40609385e-02,\n",
              "       -1.47456363e-01,  8.88570175e-02, -9.27246436e-02, -9.50970054e-02,\n",
              "        1.18448839e-01,  3.29303920e-01,  1.54580414e-01,  1.43435687e-01,\n",
              "       -1.28814936e-01,  7.68910497e-02,  3.72115988e-03,  1.75254852e-01,\n",
              "       -8.40665251e-02, -2.76442617e-02, -5.33436462e-02,  7.45012611e-02,\n",
              "       -5.63166961e-02, -9.66539606e-04,  1.13127068e-01,  2.83497237e-02,\n",
              "        5.91475405e-02, -7.03010559e-02, -4.37492207e-02,  5.44570349e-02,\n",
              "       -2.06605077e-01,  3.03150155e-02, -1.34049416e-01, -3.00040841e-02,\n",
              "       -2.13847756e-02,  5.49306124e-02, -1.04515314e-01, -4.16764542e-02,\n",
              "       -5.24726398e-02, -5.46058267e-02, -1.92172214e-01, -2.53393352e-01,\n",
              "        1.28208563e-01, -3.39920893e-02,  5.07736392e-02,  3.05913612e-02,\n",
              "       -9.96698514e-02, -5.63710779e-02,  4.16795760e-02,  8.36478733e-03,\n",
              "       -1.09555885e-01,  4.91313301e-02,  3.91997732e-02,  2.97623277e-02,\n",
              "       -5.84195256e-02,  2.64039308e-01,  1.03534430e-01,  2.85770763e-02],\n",
              "      dtype=float32)"
            ]
          },
          "metadata": {},
          "execution_count": 55
        }
      ],
      "source": [
        "ft_model['man']"
      ]
    },
    {
      "cell_type": "markdown",
      "metadata": {
        "id": "V7cqE-3XfAM9"
      },
      "source": [
        "Now we can test a bit the capabilities of fastText (examples are taken from [here](https://fasttext.cc/docs/en/unsupervised-tutorial.html))."
      ]
    },
    {
      "cell_type": "markdown",
      "metadata": {
        "id": "BdNL7kcTlIzH"
      },
      "source": [
        "A base functionality is to search for close vectors in the embedding space"
      ]
    },
    {
      "cell_type": "code",
      "execution_count": 56,
      "metadata": {
        "id": "85EKLO7FfAXA",
        "colab": {
          "base_uri": "https://localhost:8080/"
        },
        "outputId": "18b7c27a-f641-4df1-a5ab-e5c0016cc3b3"
      },
      "outputs": [
        {
          "output_type": "execute_result",
          "data": {
            "text/plain": [
              "[(0.7746413350105286, 'aspargus'),\n",
              " (0.7368614077568054, 'Asparagus'),\n",
              " (0.7233701944351196, 'broccoli'),\n",
              " (0.7113494873046875, 'broccolini'),\n",
              " (0.7106742262840271, 'leeks'),\n",
              " (0.7096290588378906, 'artichokes'),\n",
              " (0.7028921842575073, 'asparagas'),\n",
              " (0.6759673953056335, 'kohlrabi'),\n",
              " (0.6757089495658875, 'radishes'),\n",
              " (0.6669561862945557, 'spinach')]"
            ]
          },
          "metadata": {},
          "execution_count": 56
        }
      ],
      "source": [
        "word = 'asparagus'\n",
        "\n",
        "ft_model.get_nearest_neighbors(word)"
      ]
    },
    {
      "cell_type": "markdown",
      "metadata": {
        "id": "f285GDKooYww"
      },
      "source": [
        "The first search takes additional time because the model is doing some sort of indexing in the embedding space. fastText uses a tool called FAISS to speed up the search in the embedding space (https://github.com/facebookresearch/faiss)"
      ]
    },
    {
      "cell_type": "markdown",
      "metadata": {
        "id": "i8t5WUH-fJSQ"
      },
      "source": [
        "We can also solve analogies directly, without doing the computations by hand"
      ]
    },
    {
      "cell_type": "code",
      "execution_count": 57,
      "metadata": {
        "colab": {
          "base_uri": "https://localhost:8080/"
        },
        "id": "pXrLJK8jfJbN",
        "outputId": "0da2cf02-f4bd-411e-9442-4d666cd1129c"
      },
      "outputs": [
        {
          "output_type": "execute_result",
          "data": {
            "text/plain": [
              "[(0.6729540228843689, 'kings'),\n",
              " (0.6174856424331665, 'king-'),\n",
              " (0.6076122522354126, 'king.'),\n",
              " (0.5779222249984741, 'King'),\n",
              " (0.5720189213752747, 'king.The'),\n",
              " (0.5601366758346558, 'kingly'),\n",
              " (0.5598397254943848, 'prince'),\n",
              " (0.5453356504440308, 'king.But'),\n",
              " (0.5429127812385559, 'lord'),\n",
              " (0.5420817136764526, '-king')]"
            ]
          },
          "metadata": {},
          "execution_count": 57
        }
      ],
      "source": [
        "ft_model.get_analogies(\"man\", \"woman\", \"king\")\n",
        "# ft_model.get_analogies(\"psx\", \"sony\", \"nintendo\")"
      ]
    },
    {
      "cell_type": "markdown",
      "metadata": {
        "id": "YAEZQAPNmjTv"
      },
      "source": [
        "Note that we are dealing with a model using also subword n-grams, so we can get the representation and the similarity even of out of vocabulary words\n",
        "\n",
        "For example we can search for the word **confuzzling** (which is an actual real fake word https://en.wiktionary.org/wiki/confuzzling):"
      ]
    },
    {
      "cell_type": "code",
      "execution_count": 58,
      "metadata": {
        "colab": {
          "base_uri": "https://localhost:8080/"
        },
        "id": "WIkjsmJvn-Ce",
        "outputId": "8a2213a3-53cb-46cc-ca83-f4c82fc55618"
      },
      "outputs": [
        {
          "output_type": "stream",
          "name": "stdout",
          "text": [
            "Word confuzzling is in the fastText model vocabulary? False\n",
            "0.613641083240509: confuzzled\n",
            "0.550931990146637: Confuzzled\n",
            "0.4055270850658417: confuddled\n",
            "0.3816613256931305: confusing\n",
            "0.36328595876693726: confused\n",
            "0.36032891273498535: nondescriptive\n",
            "0.359388530254364: Wikipedia-Page-Suzannah-B-Troy-6-yrs-after-Misogynist-Cyber-Vandalism-Censorship-via-Deletion-on-a-page-about-Censorship-Wikipedia-Agrees-to-retur\n",
            "0.3525550067424774: muddly\n",
            "0.3524904251098633: official-like\n",
            "0.3516576588153839: unflattering.Coordinating\n"
          ]
        }
      ],
      "source": [
        "word = \"confuzzling\"\n",
        "print(f'Word {word} is in the fastText model vocabulary? {word in ft_model}')\n",
        "for s, w in ft_model.get_nearest_neighbors(word):\n",
        "    print(f'{s}: {w}')"
      ]
    },
    {
      "cell_type": "markdown",
      "metadata": {
        "id": "n2pV3BOHoAn4"
      },
      "source": [
        "This is why character n-grams are so important"
      ]
    },
    {
      "cell_type": "markdown",
      "metadata": {
        "id": "ASvYKmNzoYwz"
      },
      "source": [
        "We can also encode a sentence (sequence of tokens) into a single vector"
      ]
    },
    {
      "cell_type": "code",
      "execution_count": 59,
      "metadata": {
        "colab": {
          "base_uri": "https://localhost:8080/"
        },
        "id": "0LSvwRCqoYwz",
        "outputId": "e2a445f2-711b-4ec8-8c83-51c152109b10"
      },
      "outputs": [
        {
          "output_type": "execute_result",
          "data": {
            "text/plain": [
              "array([ 9.72567871e-03, -1.81693081e-02,  1.98467262e-02,  3.74992117e-02,\n",
              "       -3.59138474e-02, -4.57771569e-02, -2.72532683e-02,  1.52418101e-02,\n",
              "        3.52445617e-02, -7.53624178e-03,  9.12996754e-03, -2.10552160e-02,\n",
              "        1.56272377e-03, -9.82039783e-05, -8.77684914e-03,  3.65382321e-02,\n",
              "        3.64734158e-02, -7.05009839e-03, -2.33118087e-02,  6.08711829e-03,\n",
              "       -1.99545734e-02,  1.54522238e-02,  6.07244065e-03, -8.34608357e-03,\n",
              "       -3.15462463e-02, -9.89805069e-03, -5.55238919e-04, -6.88232016e-03,\n",
              "       -1.15120355e-02,  1.13332726e-01,  2.06005611e-02, -1.42829418e-02,\n",
              "       -4.10122750e-03, -1.72664113e-02,  3.63585819e-03, -1.34615647e-02,\n",
              "       -4.80954209e-03,  4.18015793e-02, -8.03579669e-03, -5.55655640e-03,\n",
              "       -3.50303599e-03,  5.23055904e-03, -2.29117647e-02,  2.92630084e-02,\n",
              "        2.04842985e-02,  3.14234160e-02,  2.69671367e-03,  4.90053743e-02,\n",
              "        1.12765245e-02,  4.62619215e-03,  5.81054529e-03, -1.93861313e-02,\n",
              "        2.83782464e-03, -1.67906247e-02, -2.73843724e-02, -1.90940611e-02,\n",
              "       -2.87314001e-02, -2.75015947e-03, -6.57397807e-02, -6.99969940e-03,\n",
              "        1.24857184e-02, -8.20487388e-04, -1.48562761e-02, -2.38044374e-02,\n",
              "       -1.55957444e-02,  6.65766560e-03,  1.01082725e-02, -2.63807271e-02,\n",
              "        5.37982397e-03, -1.97686311e-02, -1.71130747e-02, -1.01001766e-02,\n",
              "       -1.09787043e-02, -1.05317784e-02, -9.84023418e-03, -8.84000864e-03,\n",
              "        2.20294278e-02,  1.01807080e-02, -2.01867130e-02, -1.07014319e-02,\n",
              "       -2.30140449e-03, -1.70639548e-02, -6.14872994e-03,  3.77793796e-02,\n",
              "       -1.51983332e-02,  8.82430526e-04,  1.63081381e-02,  3.15420181e-02,\n",
              "        3.46342996e-02, -2.07642070e-03, -1.01455227e-02, -2.21963469e-02,\n",
              "        1.20085992e-01, -2.47170683e-02, -3.93651379e-03,  1.47843389e-02,\n",
              "       -2.19641663e-02,  3.33386399e-02,  6.30210200e-03, -5.31568774e-04,\n",
              "        9.85516049e-03,  1.57738347e-02,  2.45013870e-02, -5.04032895e-02,\n",
              "       -2.86772917e-03,  3.74312233e-03,  5.90666989e-03, -1.19731538e-02,\n",
              "       -9.51060839e-03,  3.18147354e-02, -4.23025386e-03, -2.50816215e-02,\n",
              "       -4.44951048e-03,  5.48362173e-02, -5.97885251e-03,  3.35490418e-04,\n",
              "        5.40257385e-03,  1.93157159e-02,  9.49823856e-03,  9.22990963e-03,\n",
              "       -6.44654315e-03,  1.84089541e-02,  6.97864406e-03, -9.98760853e-03,\n",
              "        2.60523483e-02,  3.91055793e-02, -1.44942291e-02, -3.06311846e-02,\n",
              "       -1.64818224e-02,  2.83545423e-02,  6.74407184e-03, -3.35399993e-02,\n",
              "        4.63601090e-02,  1.43400459e-02,  1.51103102e-02, -3.57168838e-02,\n",
              "       -7.21709505e-02,  9.89099871e-03,  1.72942702e-04,  1.05020022e-02,\n",
              "       -2.54397653e-02, -2.65723094e-03,  7.78966863e-03,  3.41638178e-03,\n",
              "        2.90719923e-02,  2.88213808e-02, -2.04293147e-01, -7.63232820e-03,\n",
              "        4.07393230e-03,  2.32063141e-03, -5.25560267e-02, -2.20788294e-03,\n",
              "        1.10511016e-02,  3.85448784e-02, -7.09905615e-03, -1.07400753e-02,\n",
              "        6.98973909e-02,  9.88921523e-03,  1.12778405e-02,  6.80889981e-03,\n",
              "       -4.44709882e-03,  1.29796355e-03, -1.72076363e-03, -5.56946965e-03,\n",
              "        5.87231293e-03,  6.33573765e-03,  2.31747981e-02, -7.90966395e-03,\n",
              "        1.42229358e-02,  1.28066996e-02,  6.79592090e-03,  2.46544043e-03,\n",
              "       -1.16840629e-02,  6.73506968e-03,  1.11606503e-02, -2.94231921e-02,\n",
              "       -4.80693625e-03, -3.77772190e-02,  2.07332522e-02, -1.08723072e-02,\n",
              "        1.20459739e-02,  2.76545398e-02, -7.18570314e-03,  2.37664431e-02,\n",
              "        1.52243748e-02,  1.62549820e-02, -5.45680337e-03, -1.56360455e-02,\n",
              "        1.35150431e-02, -1.02946321e-02, -3.60844545e-02, -5.81913395e-03,\n",
              "       -2.99452688e-04, -1.34269800e-02, -1.33235017e-02,  4.67933854e-03,\n",
              "       -5.23591042e-03, -7.61942146e-03,  1.55100925e-02,  4.34672050e-02,\n",
              "       -3.93452123e-02,  7.63231665e-02, -5.74396225e-03, -2.23684981e-02,\n",
              "       -9.29937419e-03,  1.39698514e-03, -2.73167957e-02, -3.16865183e-02,\n",
              "        9.01725609e-03, -1.52197666e-02,  2.87998165e-03, -6.78938907e-03,\n",
              "       -1.75043494e-02,  8.25327064e-04,  5.83430799e-03, -1.03405640e-02,\n",
              "        1.68033578e-02,  1.82143655e-02,  2.17762217e-02, -3.85117112e-03,\n",
              "        1.55988140e-02,  3.93333882e-02, -1.15634808e-02,  1.36978207e-02,\n",
              "       -1.20003102e-02, -3.80420797e-02,  1.70185268e-02, -1.69083364e-02,\n",
              "       -4.47914330e-03,  1.10276509e-03, -6.27888803e-05,  5.13450429e-03,\n",
              "       -2.36676801e-02,  1.75183604e-03, -5.80153009e-03, -4.86875996e-02,\n",
              "       -2.43026740e-03, -5.56256901e-03,  1.50256902e-02, -9.55843367e-03,\n",
              "        2.34674127e-03,  1.41580636e-02, -7.86390621e-03, -7.69271106e-02,\n",
              "        2.54464388e-01, -1.19995847e-02, -3.09936162e-02,  2.66964808e-02,\n",
              "        1.56647675e-02, -5.45657892e-03,  3.70361917e-02, -1.24057243e-03,\n",
              "       -1.31606916e-02, -3.42799649e-02, -3.24210990e-03, -7.40021467e-03,\n",
              "       -3.67991813e-03, -2.00018543e-03,  1.92347188e-02,  9.79715493e-03,\n",
              "        1.03291485e-03,  3.97863425e-02,  1.01542631e-02,  5.11851441e-03,\n",
              "       -1.80702619e-02, -4.18641046e-03,  1.49878440e-02,  5.19764423e-03,\n",
              "        9.14397370e-03, -6.96600154e-02, -7.67690083e-03, -3.66979875e-02,\n",
              "       -2.45904680e-02,  3.70250712e-03,  2.24400274e-02, -2.23757178e-02,\n",
              "        1.79715436e-02, -8.35847482e-03,  5.23335813e-03,  2.31429515e-03,\n",
              "       -1.48976902e-02, -1.14535531e-02, -1.33328527e-01, -2.64611933e-02,\n",
              "        1.99319292e-02, -7.68285769e-04,  9.32648126e-03, -7.84917027e-02,\n",
              "       -1.71542703e-03, -7.22914794e-03,  4.42805514e-02, -8.75132810e-06,\n",
              "       -8.98919031e-02,  9.89831518e-03, -2.02262457e-02, -1.59065821e-03,\n",
              "        2.72551887e-02,  1.09358311e-01, -3.25395651e-02, -3.00224405e-02],\n",
              "      dtype=float32)"
            ]
          },
          "metadata": {},
          "execution_count": 59
        }
      ],
      "source": [
        "sent = ft_model.get_sentence_vector(\"Hello, is it me you're looking for? I can see it in your eyes. I can see it in your smile.\")\n",
        "sent"
      ]
    },
    {
      "cell_type": "markdown",
      "metadata": {
        "id": "eJ3K6QBYoYw0"
      },
      "source": [
        "(Maybe this can be useful to train a classifier for the twitter sentiment analysis...)"
      ]
    },
    {
      "cell_type": "markdown",
      "metadata": {
        "id": "WUGI8Y61oYw1"
      },
      "source": [
        "What if we want to train a model on our own (maybe with smaller embeddings)?\n",
        "You can find a quick reference to the API [here](https://fasttext.cc/docs/en/python-module.html)\n",
        "\n",
        "To train a model we need to convert the data set into the appropriate format, a text file containing al the samples we have.\n",
        "We can start from the sentences we have from before"
      ]
    },
    {
      "cell_type": "code",
      "execution_count": 60,
      "metadata": {
        "id": "7YTjBgW0oYw2"
      },
      "outputs": [],
      "source": [
        "with open('./data.txt', 'w') as f:\n",
        "    f.write('\\n'.join(sentences))"
      ]
    },
    {
      "cell_type": "markdown",
      "metadata": {
        "id": "ALGDGDrYoYw3"
      },
      "source": [
        "We can even choose whether to use a Skipgram based approach:"
      ]
    },
    {
      "cell_type": "code",
      "execution_count": 61,
      "metadata": {
        "id": "b7uL4jdaoYw3"
      },
      "outputs": [],
      "source": [
        "ft_skip_model = fasttext.train_unsupervised('data.txt', model='skipgram', dim=30, minCount=5, ws=10)"
      ]
    },
    {
      "cell_type": "markdown",
      "metadata": {
        "id": "K6Axs7NIoYw4"
      },
      "source": [
        "Or a Continuos Bag-of-Words (CBoW) approach:"
      ]
    },
    {
      "cell_type": "code",
      "execution_count": null,
      "metadata": {
        "id": "rZw8GztnoYw5"
      },
      "outputs": [],
      "source": [
        "ft_cbow_model = fasttext.train_unsupervised('data.txt', model='cbow')"
      ]
    },
    {
      "cell_type": "markdown",
      "metadata": {
        "id": "-W6c6-e8oYw5"
      },
      "source": [
        "Try to do the same visualisation we tried before, see how the same words are placed in a downprojection of the representation space."
      ]
    },
    {
      "cell_type": "code",
      "execution_count": null,
      "metadata": {
        "id": "fQoYesVhoYw6"
      },
      "outputs": [],
      "source": [
        "# TODO"
      ]
    },
    {
      "cell_type": "code",
      "execution_count": null,
      "metadata": {
        "id": "7uJdDxGooYw6"
      },
      "outputs": [],
      "source": []
    }
  ],
  "metadata": {
    "colab": {
      "provenance": [],
      "include_colab_link": true
    },
    "kernelspec": {
      "display_name": "Python 3 (ipykernel)",
      "language": "python",
      "name": "python3"
    },
    "language_info": {
      "codemirror_mode": {
        "name": "ipython",
        "version": 3
      },
      "file_extension": ".py",
      "mimetype": "text/x-python",
      "name": "python",
      "nbconvert_exporter": "python",
      "pygments_lexer": "ipython3",
      "version": "3.7.13"
    }
  },
  "nbformat": 4,
  "nbformat_minor": 0
}